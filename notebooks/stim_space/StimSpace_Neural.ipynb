{
 "cells": [
  {
   "cell_type": "code",
   "execution_count": null,
   "metadata": {},
   "outputs": [],
   "source": [
    "# Compute Stimulus spectrograms\n",
    "\n",
    "from scipy.io import wavfile\n",
    "from scipy.signal import spectrogram\n",
    "stimname = 'I_scaled_burung'\n",
    "stimfile = '/home/brad/krista_stims/I_40k.wav'\n",
    "\n",
    "fs, stimdat = wavfile.read(stimfile)\n",
    "print(fs)\n",
    "\n",
    "winlen = 10 # ms\n",
    "winlen_samps = int(winlen*fs/1000.)\n",
    "#winlen_samps = 256\n",
    "winlen_samps = 128\n",
    "nfft = 128\n",
    "noverlap = int(winlen_samps/2)\n",
    "nt_win = 5\n",
    "ovr = np.round(winlen_samps*pcover, )\n",
    "f, t, Sxx = spectrogram(stimdat, fs, nperseg=winlen_samps, noverlap=ovr)\n",
    "\n",
    "def downsample_freq(dat):\n",
    "    return (dat[1::2, :] + dat[:-1:2, :])/2\n",
    "\n",
    "def downsample_t(dat):\n",
    "    if len(dat.shape) == 1:\n",
    "        return (dat[1::2] + dat[:-1:2])/2\n",
    "    return (dat[:, 1::2] + dat[:, :-1:2])/2\n",
    "\n",
    "avgSxx = downsample_freq(downsample_freq(downsample_freq(Sxx)))\n",
    "avgSxx = downsample_t(downsample_t(avgSxx))\n",
    "t = downsample_t(downsample_t(t))\n",
    "#t = t[::3]\n",
    "avgSxx = np.log10(avgSxx)\n",
    "avgSxx = avgSxx - np.tile(np.mean(avgSxx, axis=1)[:, np.newaxis], (1, avgSxx.shape[1]))\n",
    "avgSxx = np.divide(avgSxx, np.tile(np.std(avgSxx, axis=1)[:, np.newaxis], (1, avgSxx.shape[1])))\n",
    "stim = np.zeros((nt_win*avgSxx.shape[0], avgSxx.shape[1]))\n",
    "for win in range(nt_win, avgSxx.shape[1]):\n",
    "    stim[:, win] = np.reshape(avgSxx[:, win-nt_win:win], (nt_win*avgSxx.shape[0]))"
   ]
  },
  {
   "cell_type": "code",
   "execution_count": null,
   "metadata": {},
   "outputs": [],
   "source": [
    "# Extract relevant data\n",
    "from ephys import core, events\n",
    "\n",
    "bp = bps['B1056']\n",
    "\n",
    "spikes = core.load_spikes(bp)\n",
    "fs_spikes = core.load_fs(bp)\n",
    "trials = events.load_trials(bp)\n",
    "clusters = core.load_clusters(bp)\n",
    "\n",
    "# Extract trials from given stimulus\n",
    "stim_trials = trials[trials['stimulus'] == stimname]\n",
    "\n",
    "# get segment times for trial of interest\n",
    "trial = 0\n",
    "\n",
    "#\n",
    "trial_bounds = (stim_trials.iloc[trial]['time_samples'], stim_trials.iloc[trial]['stimulus_end'])\n",
    "clusters_to_use = clusters[clusters['quality'] == 'Good']\n",
    "clusters_list = clusters_to_use['cluster'].unique()\n",
    "spikes = spikes[spikes['cluster'].isin(list(clusters_list))]\n",
    "segment = tp2.get_segment((0, trial_bounds[1]-trial_bounds[0]), fs_spikes, [0,0])\n",
    "nclus = len(clusters_list)\n",
    "\n",
    "# convert time to samples:\n",
    "t_samp = t*fs_spikes"
   ]
  },
  {
   "cell_type": "code",
   "execution_count": null,
   "metadata": {},
   "outputs": [],
   "source": [
    "# get the population tensor\n",
    "poptens = tp2.build_poptens_given_windows(stim_trials, spikes, t_samp, clusters_list, segment)"
   ]
  }
 ],
 "metadata": {
  "kernelspec": {
   "display_name": "Python 3",
   "language": "python",
   "name": "python3"
  },
  "language_info": {
   "codemirror_mode": {
    "name": "ipython",
    "version": 3
   },
   "file_extension": ".py",
   "mimetype": "text/x-python",
   "name": "python",
   "nbconvert_exporter": "python",
   "pygments_lexer": "ipython3",
   "version": "3.6.2"
  }
 },
 "nbformat": 4,
 "nbformat_minor": 2
}
