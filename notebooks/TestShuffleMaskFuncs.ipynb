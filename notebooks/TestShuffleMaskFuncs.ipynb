{
 "cells": [
  {
   "cell_type": "code",
   "execution_count": 23,
   "metadata": {},
   "outputs": [
    {
     "data": {
      "text/plain": [
       "<module 'neuraltda.topology2' from '/home/brad/code/NeuralTDA/neuraltda/topology2.py'>"
      ]
     },
     "execution_count": 23,
     "metadata": {},
     "output_type": "execute_result"
    }
   ],
   "source": [
    "import numpy as np\n",
    "from neuraltda import topology2 as tp2\n",
    "from importlib import reload\n",
    "reload(tp2)"
   ]
  },
  {
   "cell_type": "code",
   "execution_count": 24,
   "metadata": {},
   "outputs": [],
   "source": [
    "# generate a poptens list\n",
    "npoptens = 4\n",
    "poptensshape = (3,5,1)\n",
    "test_poptens = np.random.randint(2, size=poptensshape)\n",
    "#poptens_list = [np.random.randint(2, size=poptensshape) for x in range(npoptens)]\n",
    "poptens_list = npoptens*[test_poptens]\n",
    "poptens_list_shuffled = tp2.shuffle_mask_within_stims(poptens_list, [np.arange(3)])\n",
    "poptens_list_shuffled2 = tp2.shuffle_mask_across_stims(poptens_list, [np.arange(3)])"
   ]
  },
  {
   "cell_type": "code",
   "execution_count": 25,
   "metadata": {},
   "outputs": [
    {
     "name": "stdout",
     "output_type": "stream",
     "text": [
      "[[0 1 0 1 0]\n",
      " [1 0 0 0 0]\n",
      " [1 1 0 0 1]]\n",
      "[[1. 1. 0. 0. 0.]\n",
      " [0. 0. 1. 0. 0.]\n",
      " [1. 1. 0. 1. 0.]]\n",
      "[[0. 1. 1. 0. 0.]\n",
      " [0. 0. 1. 0. 0.]\n",
      " [0. 1. 0. 1. 1.]]\n",
      " \n",
      "[[0 1 0 1 0]\n",
      " [1 0 0 0 0]\n",
      " [1 1 0 0 1]]\n",
      "[[1. 0. 1. 0. 0.]\n",
      " [0. 1. 0. 0. 0.]\n",
      " [0. 1. 0. 1. 1.]]\n",
      "[[0. 1. 1. 0. 0.]\n",
      " [0. 0. 1. 0. 0.]\n",
      " [0. 1. 0. 1. 1.]]\n",
      " \n",
      "[[0 1 0 1 0]\n",
      " [1 0 0 0 0]\n",
      " [1 1 0 0 1]]\n",
      "[[0. 1. 0. 0. 1.]\n",
      " [0. 1. 0. 0. 0.]\n",
      " [1. 1. 0. 0. 1.]]\n",
      "[[0. 1. 1. 0. 0.]\n",
      " [0. 0. 1. 0. 0.]\n",
      " [0. 1. 0. 1. 1.]]\n",
      " \n",
      "[[0 1 0 1 0]\n",
      " [1 0 0 0 0]\n",
      " [1 1 0 0 1]]\n",
      "[[0. 0. 1. 1. 0.]\n",
      " [0. 1. 0. 0. 0.]\n",
      " [1. 1. 0. 0. 1.]]\n",
      "[[0. 1. 1. 0. 0.]\n",
      " [0. 0. 1. 0. 0.]\n",
      " [0. 1. 0. 1. 1.]]\n",
      " \n"
     ]
    }
   ],
   "source": [
    "for x, y, z in zip(poptens_list, poptens_list_shuffled, poptens_list_shuffled2):\n",
    "    print(x[:, :, 0])\n",
    "    print(y[:, :, 0])\n",
    "    print(z[:, :, 0])\n",
    "    print(\" \")"
   ]
  },
  {
   "cell_type": "code",
   "execution_count": null,
   "metadata": {},
   "outputs": [],
   "source": []
  }
 ],
 "metadata": {
  "kernelspec": {
   "display_name": "Python 3",
   "language": "python",
   "name": "python3"
  },
  "language_info": {
   "codemirror_mode": {
    "name": "ipython",
    "version": 3
   },
   "file_extension": ".py",
   "mimetype": "text/x-python",
   "name": "python",
   "nbconvert_exporter": "python",
   "pygments_lexer": "ipython3",
   "version": "3.6.2"
  }
 },
 "nbformat": 4,
 "nbformat_minor": 2
}
