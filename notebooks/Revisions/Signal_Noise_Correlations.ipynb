{
 "cells": [
  {
   "cell_type": "code",
   "execution_count": 6,
   "metadata": {},
   "outputs": [
    {
     "name": "stdout",
     "output_type": "stream",
     "text": [
      "/home/brad/DailyLog/20200513/\n"
     ]
    }
   ],
   "source": [
    "import numpy as np\n",
    "import scipy as sp\n",
    "from importlib import reload\n",
    "import neuraltda.topology2 as tp2\n",
    "import neuraltda.plotting as tpplt\n",
    "import neuraltda.spikeutils as su\n",
    "import glob\n",
    "import os\n",
    "import matplotlib.pyplot as plt\n",
    "%matplotlib inline\n",
    "import datetime\n",
    "\n",
    "import h5py as h5\n",
    "\n",
    "# Setup figure save path\n",
    "daystr = datetime.datetime.now().strftime('%Y%m%d')\n",
    "figsavepth = '/home/brad/DailyLog/'+daystr+'/'\n",
    "print(figsavepth)"
   ]
  },
  {
   "cell_type": "code",
   "execution_count": 33,
   "metadata": {},
   "outputs": [],
   "source": [
    "def scatter_hist(x, y, ax, ax_histx, ax_histy):\n",
    "    # no labels\n",
    "    ax_histx.tick_params(axis=\"x\", labelbottom=False)\n",
    "    ax_histy.tick_params(axis=\"y\", labelleft=False)\n",
    "\n",
    "    # the scatter plot:\n",
    "    ax.scatter(x, y)\n",
    "\n",
    "    # now determine nice limits by hand:\n",
    "    binwidth = 0.25\n",
    "    xymax = max(np.max(np.abs(x)), np.max(np.abs(y)))\n",
    "    lim = (int(xymax/binwidth) + 1) * binwidth\n",
    "\n",
    "    bins = np.arange(0, lim + binwidth, binwidth)\n",
    "    ax_histx.hist(x, bins=bins)\n",
    "    ax_histy.hist(y, bins=bins, orientation='horizontal')"
   ]
  },
  {
   "cell_type": "code",
   "execution_count": 7,
   "metadata": {},
   "outputs": [],
   "source": [
    "# Set up birds and block_paths\n",
    "birds = ['B1083', 'B1056', 'B1235', 'B1075']\n",
    "bps = {'B1083': '/home/brad/krista/B1083/P03S03/', 'B1075': '/home/brad/krista/B1075/P01S03/',\n",
    "       'B1235': '/home/brad/krista/B1235/P02S01/', 'B1056': '/home/brad/krista/B1056/klusta/phy020516/Pen01_Lft_AP100_ML1300__Site03_Z2500__B1056_cat_P01_S03_1/',\n",
    "       'B1056': '/home/brad/krista/B1056/klusta/phy020516/Pen01_Lft_AP100_ML1300__Site03_Z2500__B1056_cat_P01_S03_1/'}\n",
    "\n",
    "# Binning Parameters\n",
    "windt = 10.0                      # milliseconds\n",
    "dtovr = 0                 # milliseconds\n",
    "segment_info = [0, 0]             # use full Trial\n",
    "cluster_group = ['Good']          # use just good clusters\n",
    "comment = 'SignalNoiseCorr'        # BootStrap Populations\n",
    "bdfs = {}                         # Dictionary to store bdf\n",
    "\n",
    "# Betti Parameters\n",
    "analysis_id = 'BC'                # Generic lable\n",
    "nperms = None                     # No permutation for each trial\n",
    "ncellsperm = 33                   # Subsample 33 neurons from the population\n",
    "dims = [0, 1, 2, 3]               # We want first four betti numbers\n",
    "thresh = 13.0                     # Activation threshold\n",
    "twin = np.linspace(0, 6000, 1000) # milliseconds"
   ]
  },
  {
   "cell_type": "code",
   "execution_count": 8,
   "metadata": {
    "scrolled": true
   },
   "outputs": [
    {
     "name": "stdout",
     "output_type": "stream",
     "text": [
      "Data Not already binned\n",
      "Nreps = 20\n",
      "skip = 200\n",
      "dur = 120000.0\n",
      "nwins = 600\n",
      "Nreps = 20\n",
      "skip = 200\n",
      "dur = 120000.0\n",
      "nwins = 600\n",
      "Nreps = 20\n",
      "skip = 200\n",
      "dur = 120000.0\n",
      "nwins = 600\n",
      "Nreps = 20\n",
      "skip = 200\n",
      "dur = 120000.0\n",
      "nwins = 600\n",
      "Nreps = 20\n",
      "skip = 200\n",
      "dur = 120000.0\n",
      "nwins = 600\n",
      "Nreps = 20\n",
      "skip = 200\n",
      "dur = 120000.0\n",
      "nwins = 600\n",
      "Nreps = 20\n",
      "skip = 200\n",
      "dur = 120000.0\n",
      "nwins = 600\n",
      "Nreps = 20\n",
      "skip = 200\n",
      "dur = 120000.0\n",
      "nwins = 600\n",
      "/home/brad/krista/B1083/P03S03/binned_data/win-10.0_dtovr-0_seg-0-0-SignalNoiseCorr/20200513T173138Z-10.0-0.binned\n",
      "Data Not already binned\n",
      "Nreps = 20\n",
      "skip = 312\n",
      "dur = 206722.0\n",
      "nwins = 663\n",
      "Nreps = 20\n",
      "skip = 312\n",
      "dur = 206723.0\n",
      "nwins = 663\n",
      "Nreps = 20\n",
      "skip = 312\n",
      "dur = 206719.0\n",
      "nwins = 663\n",
      "Nreps = 20\n",
      "skip = 312\n",
      "dur = 206719.0\n",
      "nwins = 663\n",
      "Nreps = 20\n",
      "skip = 312\n",
      "dur = 206722.0\n",
      "nwins = 663\n",
      "Nreps = 20\n",
      "skip = 312\n",
      "dur = 206719.0\n",
      "nwins = 663\n",
      "Nreps = 20\n",
      "skip = 312\n",
      "dur = 206718.0\n",
      "nwins = 663\n",
      "Nreps = 20\n",
      "skip = 312\n",
      "dur = 206719.0\n",
      "nwins = 663\n",
      "Nreps = 20\n",
      "skip = 312\n",
      "dur = 206719.0\n",
      "nwins = 663\n",
      "Nreps = 20\n",
      "skip = 312\n",
      "dur = 206722.0\n",
      "nwins = 663\n",
      "Nreps = 20\n",
      "skip = 312\n",
      "dur = 206719.0\n",
      "nwins = 663\n",
      "Nreps = 20\n",
      "skip = 312\n",
      "dur = 206718.0\n",
      "nwins = 663\n",
      "Nreps = 20\n",
      "skip = 312\n",
      "dur = 206719.0\n",
      "nwins = 663\n",
      "Nreps = 20\n",
      "skip = 312\n",
      "dur = 206719.0\n",
      "nwins = 663\n",
      "Nreps = 20\n",
      "skip = 312\n",
      "dur = 206723.0\n",
      "nwins = 663\n",
      "Nreps = 20\n",
      "skip = 312\n",
      "dur = 206718.0\n",
      "nwins = 663\n",
      "/home/brad/krista/B1056/klusta/phy020516/Pen01_Lft_AP100_ML1300__Site03_Z2500__B1056_cat_P01_S03_1/binned_data/win-10.0_dtovr-0_seg-0-0-SignalNoiseCorr/20200513T173146Z-10.0-0.binned\n",
      "Data Not already binned\n",
      "Nreps = 20\n",
      "skip = 312\n",
      "dur = 206723.0\n",
      "nwins = 663\n",
      "Nreps = 20\n",
      "skip = 312\n",
      "dur = 206719.0\n",
      "nwins = 663\n",
      "Nreps = 20\n",
      "skip = 312\n",
      "dur = 206719.0\n",
      "nwins = 663\n",
      "Nreps = 20\n",
      "skip = 312\n",
      "dur = 206718.0\n",
      "nwins = 663\n",
      "Nreps = 20\n",
      "skip = 312\n",
      "dur = 206719.0\n",
      "nwins = 663\n",
      "Nreps = 20\n",
      "skip = 312\n",
      "dur = 206719.0\n",
      "nwins = 663\n",
      "Nreps = 20\n",
      "skip = 312\n",
      "dur = 206722.0\n",
      "nwins = 663\n",
      "Nreps = 20\n",
      "skip = 312\n",
      "dur = 206723.0\n",
      "nwins = 663\n",
      "Nreps = 20\n",
      "skip = 312\n",
      "dur = 206719.0\n",
      "nwins = 663\n",
      "Nreps = 20\n",
      "skip = 312\n",
      "dur = 206722.0\n",
      "nwins = 663\n",
      "Nreps = 20\n",
      "skip = 312\n",
      "dur = 206719.0\n",
      "nwins = 663\n",
      "Nreps = 20\n",
      "skip = 312\n",
      "dur = 206719.0\n",
      "nwins = 663\n",
      "Nreps = 20\n",
      "skip = 312\n",
      "dur = 206719.0\n",
      "nwins = 663\n",
      "Nreps = 20\n",
      "skip = 312\n",
      "dur = 206722.0\n",
      "nwins = 663\n",
      "Nreps = 20\n",
      "skip = 312\n",
      "dur = 206719.0\n",
      "nwins = 663\n",
      "Nreps = 20\n",
      "skip = 312\n",
      "dur = 206719.0\n",
      "nwins = 663\n",
      "/home/brad/krista/B1235/P02S01/binned_data/win-10.0_dtovr-0_seg-0-0-SignalNoiseCorr/20200513T173158Z-10.0-0.binned\n",
      "Data Not already binned\n",
      "Nreps = 20\n",
      "skip = 200\n",
      "dur = 120000.0\n",
      "nwins = 600\n",
      "Nreps = 20\n",
      "skip = 200\n",
      "dur = 120002.0\n",
      "nwins = 600\n",
      "Nreps = 20\n",
      "skip = 200\n",
      "dur = 120000.0\n",
      "nwins = 600\n",
      "Nreps = 20\n",
      "skip = 200\n",
      "dur = 120000.0\n",
      "nwins = 600\n",
      "Nreps = 20\n",
      "skip = 200\n",
      "dur = 120003.0\n",
      "nwins = 600\n",
      "Nreps = 20\n",
      "skip = 200\n",
      "dur = 120000.0\n",
      "nwins = 600\n",
      "Nreps = 20\n",
      "skip = 200\n",
      "dur = 120003.0\n",
      "nwins = 600\n",
      "Nreps = 20\n",
      "skip = 200\n",
      "dur = 120000.0\n",
      "nwins = 600\n",
      "Nreps = 20\n",
      "skip = 200\n",
      "dur = 120000.0\n",
      "nwins = 600\n",
      "Nreps = 20\n",
      "skip = 200\n",
      "dur = 120000.0\n",
      "nwins = 600\n",
      "Nreps = 20\n",
      "skip = 200\n",
      "dur = 120000.0\n",
      "nwins = 600\n",
      "Nreps = 20\n",
      "skip = 200\n",
      "dur = 120000.0\n",
      "nwins = 600\n",
      "Nreps = 20\n",
      "skip = 200\n",
      "dur = 120002.0\n",
      "nwins = 600\n",
      "Nreps = 20\n",
      "skip = 200\n",
      "dur = 120000.0\n",
      "nwins = 600\n",
      "Nreps = 20\n",
      "skip = 200\n",
      "dur = 120000.0\n",
      "nwins = 600\n",
      "Nreps = 20\n",
      "skip = 200\n",
      "dur = 120002.0\n",
      "nwins = 600\n",
      "/home/brad/krista/B1075/P01S03/binned_data/win-10.0_dtovr-0_seg-0-0-SignalNoiseCorr/20200513T173206Z-10.0-0.binned\n"
     ]
    }
   ],
   "source": [
    "# Loop through each bird in our list and bin the data\n",
    "for bird in birds:\n",
    "    block_path = bps[bird]\n",
    "    bfdict = tp2.dag_bin(block_path, windt, segment_info, cluster_group=cluster_group, dt_overlap=dtovr, comment=comment)\n",
    "    bdf = glob.glob(os.path.join(bfdict['raw'], '*.binned'))[0]\n",
    "    print(bdf)\n",
    "    bdfs[bird] = bdf"
   ]
  },
  {
   "cell_type": "code",
   "execution_count": 9,
   "metadata": {},
   "outputs": [],
   "source": [
    "# Choose which bird we want to plot and pull paths to data and binned data\n",
    "bird = 'B1083'\n",
    "bdf = bdfs[bird]\n",
    "block_path = bps[bird]\n"
   ]
  },
  {
   "cell_type": "code",
   "execution_count": 53,
   "metadata": {},
   "outputs": [],
   "source": [
    "# noise correlations\n",
    "\n",
    "def get_firing_rates(pop_tens, cell):\n",
    "    \n",
    "    fr = np.sum(pop_tens[cell, :, :], axis=0) * (windt/1000.) / 6. \n",
    "    return np.squeeze(fr)\n",
    "\n",
    "def get_noise_corr_points(pop_tens, cell1, cell2):\n",
    "    \n",
    "    fr1 = get_firing_rates(pop_tens, cell1)\n",
    "    fr2 = get_firing_rates(pop_tens, cell2)\n",
    "    pair_points = np.vstack((fr1, fr2))\n",
    "    return pair_points\n",
    "\n",
    "def get_stimulus_avg_frs(pop_tens):\n",
    "    # returns an ncell length vector of average firing rates over all trials\n",
    "    fr = np.sum(pop_tens, axis=1) * (windt/1000.) / 6.\n",
    "    fr_avg = np.mean(fr, axis=1) #average firing rate over trials\n",
    "    return np.squeeze(fr_avg)"
   ]
  },
  {
   "cell_type": "code",
   "execution_count": 25,
   "metadata": {},
   "outputs": [],
   "source": [
    "noise_correlation_points = {}\n",
    "\n",
    "with h5.File(bdf, 'r') as f:\n",
    "    \n",
    "    for stim in f.keys():\n",
    "        pop_tens = np.array(f[stim]['pop_tens'])\n",
    "        stim_points = np.empty(shape=(2,0))\n",
    "        for n1 in range():\n",
    "            # sum firing rates over time\n",
    "            fr1 = get_firing_rates(pop_tens, n1)\n",
    "            for n2 in range(n1+1, 101):\n",
    "                fr2 = get_firing_rates(pop_tens, n2)\n",
    "                pair_points = np.vstack((fr1, fr2))\n",
    "                stim_points = np.hstack((stim_points, pair_points))\n",
    "        noise_correlation_points[stim] = stim_points\n",
    "                "
   ]
  },
  {
   "cell_type": "code",
   "execution_count": 54,
   "metadata": {},
   "outputs": [],
   "source": [
    "# stimulus correlations\n",
    "\n",
    "with h5.File(bdf, 'r') as f:\n",
    "    stim_avg_frs = np.empty(shape=[0, 101])\n",
    "    for stim in f.keys():\n",
    "        pop_tens = np.array(f[stim]['pop_tens'])\n",
    "        stim_frs = get_stimulus_avg_frs(pop_tens)\n",
    "        stim_avg_frs = np.vstack((stim_avg_frs, stim_frs))"
   ]
  },
  {
   "cell_type": "code",
   "execution_count": 59,
   "metadata": {},
   "outputs": [
    {
     "data": {
      "image/png": "[encoded data removed]",
      "text/plain": [
       "<Figure size 576x576 with 3 Axes>"
      ]
     },
     "metadata": {
      "needs_background": "light"
     },
     "output_type": "display_data"
    }
   ],
   "source": [
    "# definitions for the axes\n",
    "left, width = 0.1, 0.65\n",
    "bottom, height = 0.1, 0.65\n",
    "spacing = 0.005\n",
    "\n",
    "\n",
    "rect_scatter = [left, bottom, width, height]\n",
    "rect_histx = [left, bottom + height + spacing, width, 0.2]\n",
    "rect_histy = [left + width + spacing, bottom, 0.2, height]\n",
    "\n",
    "# start with a square Figure\n",
    "fig = plt.figure(figsize=(8, 8))\n",
    "\n",
    "ax = fig.add_axes(rect_scatter)\n",
    "ax_histx = fig.add_axes(rect_histx, sharex=ax)\n",
    "ax_histy = fig.add_axes(rect_histy, sharey=ax)\n",
    "\n",
    "# use the previously defined function\n",
    "test = get_noise_corr_points(pop_tens, 23, 26)\n",
    "x = test[0, :]\n",
    "y = test[1, :]\n",
    "\n",
    "# test_stim = 'J_40k'\n",
    "# x = noise_correlation_points[test_stim][0, :]\n",
    "# y = noise_correlation_points[test_stim][1, :]\n",
    "\n",
    "scatter_hist(x, y, ax, ax_histx, ax_histy)\n",
    "\n",
    "plt.show()"
   ]
  },
  {
   "cell_type": "code",
   "execution_count": 64,
   "metadata": {},
   "outputs": [
    {
     "data": {
      "image/png": "[encoded data removed]",
      "text/plain": [
       "<Figure size 576x576 with 3 Axes>"
      ]
     },
     "metadata": {
      "needs_background": "light"
     },
     "output_type": "display_data"
    }
   ],
   "source": [
    "# definitions for the axes\n",
    "left, width = 0.1, 0.65\n",
    "bottom, height = 0.1, 0.65\n",
    "spacing = 0.005\n",
    "\n",
    "\n",
    "rect_scatter = [left, bottom, width, height]\n",
    "rect_histx = [left, bottom + height + spacing, width, 0.2]\n",
    "rect_histy = [left + width + spacing, bottom, 0.2, height]\n",
    "\n",
    "# start with a square Figure\n",
    "fig = plt.figure(figsize=(8, 8))\n",
    "\n",
    "ax = fig.add_axes(rect_scatter)\n",
    "ax_histx = fig.add_axes(rect_histx, sharex=ax)\n",
    "ax_histy = fig.add_axes(rect_histy, sharey=ax)\n",
    "\n",
    "n1 = 23\n",
    "n2 = 26\n",
    "x = stim_avg_frs[:, n1]\n",
    "y = stim_avg_frs[:, n2]\n",
    "\n",
    "scatter_hist(x, y, ax, ax_histx, ax_histy)\n",
    "\n",
    "# for n1 in range(23, 30):\n",
    "#     for n2 in range(n1+1, 30):\n",
    "#         x = stim_avg_frs[:, n1]\n",
    "#         y = stim_avg_frs[:, n2]\n",
    "#         scatter_hist(x, y, ax, ax_histx, ax_histy)\n",
    "\n",
    "plt.show()"
   ]
  },
  {
   "cell_type": "code",
   "execution_count": 40,
   "metadata": {},
   "outputs": [
    {
     "data": {
      "text/plain": [
       "array([0.33333333, 0.        , 0.16666667, 0.33333333, 0.83333333,\n",
       "       5.83333333, 4.33333333, 5.        , 5.5       , 6.        ,\n",
       "       0.5       , 0.5       , 0.        , 0.        , 0.        ,\n",
       "       0.        , 0.        , 0.        , 0.        , 0.        ])"
      ]
     },
     "execution_count": 40,
     "metadata": {},
     "output_type": "execute_result"
    }
   ],
   "source": [
    "get_firing_rates(pop_tens, 23)"
   ]
  },
  {
   "cell_type": "code",
   "execution_count": 41,
   "metadata": {},
   "outputs": [
    {
     "data": {
      "text/plain": [
       "array([0.33333333, 0.        , 0.16666667, 0.33333333, 0.83333333,\n",
       "       5.83333333, 4.33333333, 5.        , 5.5       , 6.        ,\n",
       "       0.5       , 0.5       , 0.        , 0.        , 0.        ,\n",
       "       0.        , 0.        , 0.        , 0.        , 0.        ])"
      ]
     },
     "execution_count": 41,
     "metadata": {},
     "output_type": "execute_result"
    }
   ],
   "source": [
    "test[0, :]"
   ]
  },
  {
   "cell_type": "code",
   "execution_count": 48,
   "metadata": {},
   "outputs": [
    {
     "data": {
      "text/plain": [
       "5.833333333333333"
      ]
     },
     "execution_count": 48,
     "metadata": {},
     "output_type": "execute_result"
    }
   ],
   "source": [
    "sum(pop_tens[23, :, 5] / 100) / 6"
   ]
  },
  {
   "cell_type": "code",
   "execution_count": null,
   "metadata": {},
   "outputs": [],
   "source": []
  }
 ],
 "metadata": {
  "kernelspec": {
   "display_name": "Python 3",
   "language": "python",
   "name": "python3"
  },
  "language_info": {
   "codemirror_mode": {
    "name": "ipython",
    "version": 3
   },
   "file_extension": ".py",
   "mimetype": "text/x-python",
   "name": "python",
   "nbconvert_exporter": "python",
   "pygments_lexer": "ipython3",
   "version": "3.6.10"
  }
 },
 "nbformat": 4,
 "nbformat_minor": 4
}
