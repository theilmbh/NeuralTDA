{
 "cells": [
  {
   "cell_type": "code",
   "execution_count": 6,
   "metadata": {},
   "outputs": [],
   "source": [
    "from ephys import core, events\n",
    "import numpy as np\n",
    "from scipy.stats import pearsonr\n",
    "import matplotlib.pyplot as plt\n",
    "from itertools import combinations\n",
    "%matplotlib inline"
   ]
  },
  {
   "cell_type": "code",
   "execution_count": 7,
   "metadata": {},
   "outputs": [],
   "source": [
    "# Set up birds and block_paths\n",
    "birds = ['B1083', 'B1056', 'B1235', 'B1075']\n",
    "bps = {'B1083': '/home/brad/krista/B1083/P03S03/', 'B1075': '/home/brad/krista/B1075/P01S03/',\n",
    "       'B1235': '/home/brad/krista/B1235/P02S01/', 'B1056': '/home/brad/krista/B1056/klusta/phy020516/Pen01_Lft_AP100_ML1300__Site03_Z2500__B1056_cat_P01_S03_1/',\n",
    "       'B1056': '/home/brad/krista/B1056/klusta/phy020516/Pen01_Lft_AP100_ML1300__Site03_Z2500__B1056_cat_P01_S03_1/'}\n",
    "\n",
    "bird = 'B1235'\n",
    "block_path = bps[bird]\n",
    "\n",
    "# load spikes, stimuli, clusters\n",
    "spikes = core.load_spikes(block_path)\n",
    "clusters = core.load_clusters(block_path)\n",
    "trials = events.load_trials(block_path)"
   ]
  },
  {
   "cell_type": "code",
   "execution_count": 8,
   "metadata": {},
   "outputs": [],
   "source": [
    "def get_average_firing_rate(spikes, cluster_id, t_start, t_end, fs):\n",
    "    '''\n",
    "    Compute the average firing rate of the cluster <cluster_id> during the time interval [t_start, t_end]\n",
    "    Average firing rate is (# of spikes in interval) / (duration of interval)\n",
    "    '''\n",
    "    cluster_spikes_in_interval = spikes[(spikes['cluster'] == cluster_id) &\n",
    "                            (spikes['time_samples'] < t_end) & \n",
    "                            (spikes['time_samples'] > t_start)\n",
    "    ]\n",
    "    n_spikes = cluster_spikes_in_interval.size\n",
    "    dt = (t_end - t_start) / fs\n",
    "    return n_spikes / dt\n",
    "\n",
    "def get_stimulus_average_firing_rate(spikes, trials, cluster_id, stimulus_id, fs):\n",
    "    '''\n",
    "    Return the average firing rate of a neuron over all trials from a given stimulus\n",
    "    '''\n",
    "    stim_trials = trials[trials['stimulus'] == stimulus_id]\n",
    "    stim_starts = np.array(stim_trials['time_samples'])\n",
    "    stim_ends = np.array(stim_trials['stimulus_end'])\n",
    "    \n",
    "    avg_fr = 0\n",
    "    for (s_start, s_end) in zip(stim_starts, stim_ends):\n",
    "        avg_fr += get_average_firing_rate(spikes , cluster_id, s_start, s_end, fs)\n",
    "    return avg_fr / stim_trials.size\n",
    "\n",
    "def get_stimulus_avg_sd_firing_rate(spikes, trials, cluster_id, stimulus_id, fs, interval=[0,1]):\n",
    "    '''\n",
    "    Return the mean and standard deviation firing rate of a neuron over all trials from a given stimulus\n",
    "    '''\n",
    "    stim_trials = trials[trials['stimulus'] == stimulus_id]\n",
    "    stim_starts = np.array(stim_trials['time_samples'])\n",
    "    stim_ends = np.array(stim_trials['stimulus_end'])\n",
    "    \n",
    "    fr_list=[]\n",
    "    for (s_start, s_end) in zip(stim_starts, stim_ends):\n",
    "        int_start = int(s_start + (s_end - s_start)*interval[0])\n",
    "        int_end = int(s_start + (s_end - s_start)*interval[1])\n",
    "        fr_list.append(get_average_firing_rate(spikes , cluster_id, int_start, int_end, fs))\n",
    "        \n",
    "    return (np.mean(fr_list), np.std(fr_list))\n",
    "\n",
    "    \n",
    "def get_pair_stimulus_average_responses(spikes, trials, cluster_a, cluster_b, fs):\n",
    "    '''\n",
    "    Get the average responses from all stimuli for a pair of cells\n",
    "    '''\n",
    "    \n",
    "    stimuli = sorted(trials['stimulus'].unique())\n",
    "    ret = []\n",
    "    for stim in stimuli:\n",
    "        cluster_a_avg_response = get_stimulus_average_firing_rate(spikes, trials, cluster_a, stim, fs)\n",
    "        cluster_b_avg_response = get_stimulus_average_firing_rate(spikes, trials, cluster_b, stim, fs)\n",
    "        ret.append([cluster_a_avg_response, cluster_b_avg_response])\n",
    "    return np.array(ret)\n",
    "\n",
    "\n",
    "### Noise correlation funcs\n",
    "def get_zscore_responses(spikes, trials, cluster_id, stimulus_id, fs, interval=[0, 1]):\n",
    "    ''' Return an array of the z-scored responses from each trial for a given stim and cell'''\n",
    "    \n",
    "    # get mean and standard deviation response\n",
    "    degenerate = False\n",
    "    mu, sig = get_stimulus_avg_sd_firing_rate(spikes, trials, cluster_id, stimulus_id, fs, interval=interval)\n",
    "    if (sig < 1e-12):\n",
    "        print(\"Uh Oh... standard deviation very small\")\n",
    "        print(\"Cluster: {} Stimulus: {} mu: {} sigma: {}\".format(cluster_id, stimulus_id, mu, sig))\n",
    "        degenerate = True\n",
    "    \n",
    "    # for each trial compute z-score\n",
    "    stim_trials = trials[trials['stimulus'] == stimulus_id]\n",
    "    stim_starts = np.array(stim_trials['time_samples'])\n",
    "    stim_ends = np.array(stim_trials['stimulus_end'])\n",
    "    \n",
    "    stim_clu_zscores = []\n",
    "    for (s_start, s_end) in zip(stim_starts, stim_ends):\n",
    "        int_start = int(s_start + (s_end - s_start)*interval[0])\n",
    "        int_end = int(s_start + (s_end - s_start)*interval[1])\n",
    "        if degenerate:\n",
    "            stim_clu_zscores.append(0.0)\n",
    "        else:\n",
    "            trial_fr = get_average_firing_rate(spikes, cluster_id, int_start, int_end, fs)\n",
    "            zscore = (trial_fr - mu)/sig\n",
    "            stim_clu_zscores.append(zscore)\n",
    "    return np.array(stim_clu_zscores)\n",
    "    \n",
    "def get_stim_zscores(spikes, trials, clusters, stimulus_id, fs, interval=[0, 1]):\n",
    "    ''' Get an ncell x ntrial array of zscores for a given stim'''\n",
    "    \n",
    "    stimulus_zscores = []\n",
    "    for cluster in clusters:\n",
    "        stimulus_zscores.append(get_zscore_responses(spikes, trials, cluster, stimulus_id, fs, interval=interval))\n",
    "    return np.vstack(stimulus_zscores)\n",
    "\n",
    "def get_all_stim_zscores(spikes, trials, clusters, fs, interval=[0, 1]):\n",
    "    ''' Return an ncell x ntrial x nstim array of zscores'''\n",
    "    \n",
    "    stimuli = sorted(trials['stimulus'].unique())\n",
    "    all_stim_zscores = []\n",
    "    for stim in stimuli:\n",
    "        all_stim_zscores.append(get_stim_zscores(spikes, trials, clusters, stim, fs, interval=interval))\n",
    "    return np.dstack(all_stim_zscores)\n",
    "    \n",
    "def get_pair_noise_correlation(stim_zscores, cluster_a, cluster_b):\n",
    "    '''\n",
    "    given an ncell x ntrial array of z-scores, compute the noise correlation between cells index a and index b\n",
    "    cluster_a is the *index* of the cell, not its id\n",
    "    '''\n",
    "\n",
    "    z_a = stim_zscores[cluster_a, :]\n",
    "    z_b = stim_zscores[cluster_b, :]\n",
    "    return pearsonr(z_a, z_b)[0]\n",
    "\n",
    "def get_pair_stim_avg_noise_correlation(all_stim_zscores, cluster_a, cluster_b):\n",
    "    '''\n",
    "    For a pair of cells given by *index* cluster_a, cluster_b, compute the noise correlation averaged over all stimuli\n",
    "    \n",
    "    '''\n",
    "    \n",
    "    nstim = all_stim_zscores.shape[2]\n",
    "    corrs = []\n",
    "    for stimnum in range(nstim):\n",
    "        corrs.append(get_pair_noise_correlation(all_stim_zscores[:, :, stimnum], cluster_a, cluster_b))\n",
    "    return np.mean(corrs)\n",
    "\n",
    "def get_all_stim_avg_noise_correlation(all_stim_zscores, clusters):\n",
    "    ''' Compute the stimulus averaged noise correlation from all pairs of cells\n",
    "    all_stim_zscores is an ncell x ntrial x nstim array\n",
    "    \n",
    "    '''\n",
    "    \n",
    "    all_noise_corrs = []\n",
    "    for pair in tqdm(combinations(range(len(clusters)),2)):\n",
    "        all_noise_corrs.append(get_pair_stim_avg_noise_correlation(all_stim_zscores, pair[0], pair[1]))\n",
    "    return np.array(all_noise_corrs)\n",
    "    \n",
    "###################################   \n",
    "## Signal correlations\n",
    "def get_signal_correlation(spikes, trials, cluster_a, cluster_b, fs):\n",
    "    ''' Compute the signal correlation for a pair of cells\n",
    "    \n",
    "    spikes - spikes dataframe\n",
    "    trials - trials dataframe containing all the trials for which you wish to compute signal correlations\n",
    "                (e.g. all the trials from a particular class of stimuli)\n",
    "    cluster_a - the *cluster id* of the first cell in the pair\n",
    "    cluster_b - the *cluster id* of the second cell in the pair\n",
    "    fs - sampling rate\n",
    "    '''\n",
    "    \n",
    "    stim_responses = get_pair_stimulus_average_responses(spikes, trials, cluster_a, cluster_b, fs)\n",
    "    stim_correlation = pearsonr(stim_responses[:, 0], stim_responses[:, 1])[0]\n",
    "    return stim_correlation\n",
    "\n",
    "def get_all_average_responses(spikes, trials, clusters, fs):\n",
    "    ''' Return an ncell x nstim matrix of trial-averaged firing rate responses \n",
    "        spikes - spikes dataframe\n",
    "        trials - trials dataframe containing all the trials for which you wish to compute signal correlations\n",
    "                (e.g. all the trials from a particular class of stimuli)\n",
    "        clusters - list of *cluster ids* for which you wish to compute average responses\n",
    "                    the output array will have clusters indexed in this order\n",
    "    '''\n",
    "    \n",
    "    stimuli = sorted(trials['stimulus'].unique())\n",
    "    responses = np.zeros((len(clusters), len(stimuli)))\n",
    "    for i in tqdm(range(len(clusters))):\n",
    "        for j in range(len(stimuli)):\n",
    "            responses[i, j] = get_stimulus_average_firing_rate(spikes, trials, clusters[i], stimuli[j], fs)\n",
    "    return responses\n",
    "\n",
    "from tqdm import tqdm\n",
    "def get_all_signal_correlations(responses, clusters):\n",
    "    ''' given an ncell x nstim matrix of trial averaged firing rate responses, \n",
    "    compute the signal correlations for every pair.\n",
    "    \n",
    "    responses - an ncell x nstim matrix of trial averaged firing rate responses\n",
    "    clusters - array of *cluster ids* corresponding to the order of the rows in the response matrix\n",
    "    '''\n",
    "    all_pairs_signal_correlations = []\n",
    "    for pair in tqdm(combinations(range(len(clusters)), 2)):\n",
    "        response_a = responses[pair[0], :]\n",
    "        response_b = responses[pair[1], :]\n",
    "        pair_sig_corr = pearsonr(response_a, response_b)[0]\n",
    "        all_pairs_signal_correlations.append(pair_sig_corr)\n",
    "    return np.array(all_pairs_signal_correlations)"
   ]
  },
  {
   "cell_type": "code",
   "execution_count": 9,
   "metadata": {},
   "outputs": [
    {
     "name": "stderr",
     "output_type": "stream",
     "text": [
      "100%|██████████| 40/40 [00:18<00:00,  2.17it/s]\n",
      "780it [00:00, 17852.97it/s]\n",
      "780it [00:00, 1160.66it/s]\n"
     ]
    }
   ],
   "source": [
    "good_clusters = clusters[clusters['quality'] == 'Good']['cluster'].unique()\n",
    "fs = 30000\n",
    "\n",
    "responses = get_all_average_responses(spikes, trials, good_clusters, fs)\n",
    "signal_corrs = get_all_signal_correlations(responses, good_clusters)\n",
    "\n",
    "zscores = get_all_stim_zscores(spikes, trials, good_clusters, fs)\n",
    "noise_corrs = get_all_stim_avg_noise_correlation(zscores, good_clusters)"
   ]
  },
  {
   "cell_type": "code",
   "execution_count": 10,
   "metadata": {},
   "outputs": [
    {
     "data": {
      "text/plain": [
       "(array([ 1.,  1.,  3.,  3.,  1.,  2.,  7.,  3.,  5.,  6., 13., 14., 25.,\n",
       "        19., 35., 43., 43., 38., 46., 45., 42., 58., 44., 41., 40., 27.,\n",
       "        24., 39., 16., 22., 26., 18., 12., 10.,  8.]),\n",
       " array([-0.62816849, -0.5843919 , -0.5406153 , -0.49683871, -0.45306212,\n",
       "        -0.40928553, -0.36550894, -0.32173234, -0.27795575, -0.23417916,\n",
       "        -0.19040257, -0.14662598, -0.10284938, -0.05907279, -0.0152962 ,\n",
       "         0.02848039,  0.07225698,  0.11603357,  0.15981017,  0.20358676,\n",
       "         0.24736335,  0.29113994,  0.33491653,  0.37869313,  0.42246972,\n",
       "         0.46624631,  0.5100229 ,  0.55379949,  0.59757609,  0.64135268,\n",
       "         0.68512927,  0.72890586,  0.77268245,  0.81645905,  0.86023564,\n",
       "         0.90401223]),\n",
       " <a list of 35 Patch objects>)"
      ]
     },
     "execution_count": 10,
     "metadata": {},
     "output_type": "execute_result"
    },
    {
     "data": {
      "image/png": "[encoded data removed]",
      "text/plain": [
       "<Figure size 432x288 with 1 Axes>"
      ]
     },
     "metadata": {
      "needs_background": "light"
     },
     "output_type": "display_data"
    }
   ],
   "source": [
    "plt.hist(signal_corrs, bins=35)"
   ]
  },
  {
   "cell_type": "code",
   "execution_count": 11,
   "metadata": {},
   "outputs": [
    {
     "data": {
      "text/plain": [
       "(array([ 3.,  3.,  4.,  8., 15., 28., 34., 43., 51., 60., 43., 58., 59.,\n",
       "        44., 55., 46., 43., 32., 28., 18., 20., 19., 18., 12.,  6.,  7.,\n",
       "         6.,  3.,  3.,  2.,  1.,  3.,  2.,  1.,  2.]),\n",
       " array([-0.12175141, -0.10288256, -0.08401371, -0.06514485, -0.046276  ,\n",
       "        -0.02740715, -0.00853829,  0.01033056,  0.02919941,  0.04806827,\n",
       "         0.06693712,  0.08580597,  0.10467483,  0.12354368,  0.14241253,\n",
       "         0.16128138,  0.18015024,  0.19901909,  0.21788794,  0.2367568 ,\n",
       "         0.25562565,  0.2744945 ,  0.29336336,  0.31223221,  0.33110106,\n",
       "         0.34996992,  0.36883877,  0.38770762,  0.40657648,  0.42544533,\n",
       "         0.44431418,  0.46318304,  0.48205189,  0.50092074,  0.51978959,\n",
       "         0.53865845]),\n",
       " <a list of 35 Patch objects>)"
      ]
     },
     "execution_count": 11,
     "metadata": {},
     "output_type": "execute_result"
    },
    {
     "data": {
      "image/png": "[encoded data removed]",
      "text/plain": [
       "<Figure size 432x288 with 1 Axes>"
      ]
     },
     "metadata": {
      "needs_background": "light"
     },
     "output_type": "display_data"
    }
   ],
   "source": [
    "plt.hist(noise_corrs, bins=35)"
   ]
  },
  {
   "cell_type": "code",
   "execution_count": 12,
   "metadata": {},
   "outputs": [
    {
     "data": {
      "text/plain": [
       "[<matplotlib.lines.Line2D at 0x7f2f1b87fcc0>]"
      ]
     },
     "execution_count": 12,
     "metadata": {},
     "output_type": "execute_result"
    },
    {
     "data": {
      "image/png": "[encoded data removed]",
      "text/plain": [
       "<Figure size 432x288 with 1 Axes>"
      ]
     },
     "metadata": {
      "needs_background": "light"
     },
     "output_type": "display_data"
    }
   ],
   "source": [
    "plt.plot(signal_corrs, noise_corrs, '.')"
   ]
  },
  {
   "cell_type": "code",
   "execution_count": 13,
   "metadata": {},
   "outputs": [
    {
     "name": "stdout",
     "output_type": "stream",
     "text": [
      "(0.22000638249128668, 5.270114853552006e-10)\n"
     ]
    }
   ],
   "source": [
    "nas = np.logical_or(np.isnan(signal_corrs), np.isnan(noise_corrs))\n",
    "print(pearsonr(signal_corrs[~nas], noise_corrs[~nas]))"
   ]
  },
  {
   "cell_type": "code",
   "execution_count": null,
   "metadata": {},
   "outputs": [],
   "source": [
    "np.isnan(noise_corrs[nas]).any()"
   ]
  },
  {
   "cell_type": "code",
   "execution_count": 14,
   "metadata": {},
   "outputs": [
    {
     "data": {
      "text/plain": [
       "0.13047003382751018"
      ]
     },
     "execution_count": 14,
     "metadata": {},
     "output_type": "execute_result"
    }
   ],
   "source": [
    "np.nanmean(noise_corrs)"
   ]
  },
  {
   "cell_type": "code",
   "execution_count": 86,
   "metadata": {},
   "outputs": [
    {
     "name": "stdout",
     "output_type": "stream",
     "text": [
      "['A_scaled_burung', 'B_scaled_burung', 'C_scaled_burung', 'D_scaled_burung', 'E_scaled_burung', 'F_scaled_burung', 'G_scaled_burung', 'H_scaled_burung', 'I_scaled_burung', 'J_scaled_burung', 'K_scaled_burung', 'L_scaled_burung', 'M_scaled_burung', 'N_scaled_burung', 'O_scaled_burung', 'P_scaled_burung']\n"
     ]
    }
   ],
   "source": [
    "stimuli = sorted(trials['stimulus'].unique())\n",
    "print(stimuli)"
   ]
  },
  {
   "cell_type": "code",
   "execution_count": 85,
   "metadata": {},
   "outputs": [],
   "source": [
    "fam_stim = ['E_scaled_burung', 'F_scaled_burung', 'G_scaled_burung', 'H_scaled_burung']\n",
    "all_unfam_stim = ['A_scaled_burung', 'B_scaled_burung', 'C_scaled_burung', 'D_scaled_burung','I_scaled_burung', 'J_scaled_burung', 'K_scaled_burung', 'L_scaled_burung', 'M_scaled_burung', 'N_scaled_burung', 'O_scaled_burung', 'P_scaled_burung']\n",
    "# unfam_stim = ['A_scaled_burung', 'B_scaled_burung', 'C_scaled_burung', 'D_scaled_burung']\n",
    "# unfam_stim = ['I_scaled_burung', 'J_scaled_burung', 'K_scaled_burung', 'L_scaled_burung',]\n",
    "# unfam_stim = ['M_scaled_burung', 'N_scaled_burung', 'O_scaled_burung', 'P_scaled_burung']\n",
    "\n",
    "#unfam_stim = np.random.choice(all_unfam_stim, size=4, replace=False)\n",
    "unfam_stim = all_unfam_stim\n",
    "\n",
    "fam_trials = trials[trials['stimulus'].isin(fam_stim)]\n",
    "unfam_trials = trials[trials['stimulus'].isin(unfam_stim)]"
   ]
  },
  {
   "cell_type": "code",
   "execution_count": 73,
   "metadata": {
    "scrolled": true
   },
   "outputs": [
    {
     "name": "stderr",
     "output_type": "stream",
     "text": [
      "100%|██████████| 40/40 [00:04<00:00,  8.59it/s]\n",
      "100%|██████████| 40/40 [00:13<00:00,  2.90it/s]\n",
      "780it [00:00, 19932.11it/s]\n",
      "780it [00:00, 21818.38it/s]\n",
      "780it [00:00, 4196.43it/s]\n",
      "780it [00:00, 1510.81it/s]\n"
     ]
    }
   ],
   "source": [
    "fam_responses = get_all_average_responses(spikes, fam_trials, good_clusters, fs)\n",
    "unfam_responses = get_all_average_responses(spikes, unfam_trials, good_clusters, fs)\n",
    "fam_signal_corrs = get_all_signal_correlations(fam_responses, good_clusters)\n",
    "unfam_signal_corrs = get_all_signal_correlations(unfam_responses, good_clusters)\n",
    "\n",
    "fam_zscores = get_all_stim_zscores(spikes, fam_trials, good_clusters, fs)\n",
    "fam_noise_corrs = get_all_stim_avg_noise_correlation(fam_zscores, good_clusters)\n",
    "unfam_zscores = get_all_stim_zscores(spikes, unfam_trials, good_clusters, fs)\n",
    "unfam_noise_corrs = get_all_stim_avg_noise_correlation(unfam_zscores, good_clusters)"
   ]
  },
  {
   "cell_type": "code",
   "execution_count": 74,
   "metadata": {},
   "outputs": [
    {
     "data": {
      "text/plain": [
       "[<matplotlib.lines.Line2D at 0x7f2f1806b6d8>]"
      ]
     },
     "execution_count": 74,
     "metadata": {},
     "output_type": "execute_result"
    },
    {
     "data": {
      "image/png": "[encoded data removed]",
      "text/plain": [
       "<Figure size 432x288 with 1 Axes>"
      ]
     },
     "metadata": {
      "needs_background": "light"
     },
     "output_type": "display_data"
    }
   ],
   "source": [
    "plt.plot(fam_signal_corrs, fam_noise_corrs, '.')"
   ]
  },
  {
   "cell_type": "code",
   "execution_count": 75,
   "metadata": {},
   "outputs": [
    {
     "data": {
      "text/plain": [
       "[<matplotlib.lines.Line2D at 0x7f2f18049f60>]"
      ]
     },
     "execution_count": 75,
     "metadata": {},
     "output_type": "execute_result"
    },
    {
     "data": {
      "image/png": "[encoded data removed]",
      "text/plain": [
       "<Figure size 432x288 with 1 Axes>"
      ]
     },
     "metadata": {
      "needs_background": "light"
     },
     "output_type": "display_data"
    }
   ],
   "source": [
    "plt.plot(unfam_signal_corrs, unfam_noise_corrs, '.')"
   ]
  },
  {
   "cell_type": "code",
   "execution_count": 76,
   "metadata": {},
   "outputs": [
    {
     "name": "stdout",
     "output_type": "stream",
     "text": [
      "(0.1067753569895677, 0.0028280918981679463)\n"
     ]
    }
   ],
   "source": [
    "nas = np.logical_or(np.isnan(fam_signal_corrs), np.isnan(fam_noise_corrs))\n",
    "print(pearsonr(fam_signal_corrs[~nas], fam_noise_corrs[~nas]))"
   ]
  },
  {
   "cell_type": "code",
   "execution_count": 77,
   "metadata": {},
   "outputs": [
    {
     "name": "stdout",
     "output_type": "stream",
     "text": [
      "(0.1412010383998773, 7.58817932889914e-05)\n"
     ]
    }
   ],
   "source": [
    "nas = np.logical_or(np.isnan(unfam_signal_corrs), np.isnan(unfam_noise_corrs))\n",
    "print(pearsonr(unfam_signal_corrs[~nas], unfam_noise_corrs[~nas]))"
   ]
  },
  {
   "cell_type": "code",
   "execution_count": 78,
   "metadata": {},
   "outputs": [
    {
     "data": {
      "text/plain": [
       "(array([21., 28., 24., 17., 22., 17., 22., 12., 14., 23., 22., 18., 16.,\n",
       "        12., 17., 21., 21., 18., 16., 27., 19., 17., 24., 18., 17., 20.,\n",
       "        26., 19., 22., 36., 27., 32., 36., 35., 44.]),\n",
       " array([-0.99940962, -0.94230345, -0.88519728, -0.82809111, -0.77098495,\n",
       "        -0.71387878, -0.65677261, -0.59966644, -0.54256027, -0.4854541 ,\n",
       "        -0.42834793, -0.37124176, -0.31413559, -0.25702942, -0.19992325,\n",
       "        -0.14281709, -0.08571092, -0.02860475,  0.02850142,  0.08560759,\n",
       "         0.14271376,  0.19981993,  0.2569261 ,  0.31403227,  0.37113844,\n",
       "         0.42824461,  0.48535077,  0.54245694,  0.59956311,  0.65666928,\n",
       "         0.71377545,  0.77088162,  0.82798779,  0.88509396,  0.94220013,\n",
       "         0.9993063 ]),\n",
       " <a list of 35 Patch objects>)"
      ]
     },
     "execution_count": 78,
     "metadata": {},
     "output_type": "execute_result"
    },
    {
     "data": {
      "image/png": "[encoded data removed]",
      "text/plain": [
       "<Figure size 432x288 with 1 Axes>"
      ]
     },
     "metadata": {
      "needs_background": "light"
     },
     "output_type": "display_data"
    }
   ],
   "source": [
    "plt.hist(fam_signal_corrs, bins=35)"
   ]
  },
  {
   "cell_type": "code",
   "execution_count": 79,
   "metadata": {},
   "outputs": [
    {
     "data": {
      "text/plain": [
       "(array([ 1.,  2.,  1.,  1.,  3.,  8.,  4.,  6.,  2.,  7., 13., 19., 19.,\n",
       "        28., 29., 24., 32., 47., 54., 46., 46., 52., 48., 35., 33., 39.,\n",
       "        39., 36., 30., 24., 22., 17.,  7.,  5.,  1.]),\n",
       " array([-0.74982557, -0.7005785 , -0.65133143, -0.60208437, -0.5528373 ,\n",
       "        -0.50359023, -0.45434316, -0.40509609, -0.35584903, -0.30660196,\n",
       "        -0.25735489, -0.20810782, -0.15886076, -0.10961369, -0.06036662,\n",
       "        -0.01111955,  0.03812751,  0.08737458,  0.13662165,  0.18586872,\n",
       "         0.23511578,  0.28436285,  0.33360992,  0.38285699,  0.43210405,\n",
       "         0.48135112,  0.53059819,  0.57984526,  0.62909233,  0.67833939,\n",
       "         0.72758646,  0.77683353,  0.8260806 ,  0.87532766,  0.92457473,\n",
       "         0.9738218 ]),\n",
       " <a list of 35 Patch objects>)"
      ]
     },
     "execution_count": 79,
     "metadata": {},
     "output_type": "execute_result"
    },
    {
     "data": {
      "image/png": "[encoded data removed]",
      "text/plain": [
       "<Figure size 432x288 with 1 Axes>"
      ]
     },
     "metadata": {
      "needs_background": "light"
     },
     "output_type": "display_data"
    }
   ],
   "source": [
    "plt.hist(unfam_signal_corrs, bins=35)"
   ]
  },
  {
   "cell_type": "code",
   "execution_count": 80,
   "metadata": {},
   "outputs": [
    {
     "data": {
      "text/plain": [
       "(array([ 1.,  1.,  1.,  0.,  2.,  4.,  3.,  6.,  6., 13., 13., 23., 31.,\n",
       "        20., 45., 54., 55., 49., 75., 51., 53., 52., 50., 46., 19., 29.,\n",
       "        19., 19.,  7., 12.,  6., 11.,  0.,  2.,  2.]),\n",
       " array([-0.42734894, -0.39857571, -0.36980248, -0.34102925, -0.31225601,\n",
       "        -0.28348278, -0.25470955, -0.22593632, -0.19716309, -0.16838986,\n",
       "        -0.13961663, -0.11084339, -0.08207016, -0.05329693, -0.0245237 ,\n",
       "         0.00424953,  0.03302276,  0.06179599,  0.09056922,  0.11934246,\n",
       "         0.14811569,  0.17688892,  0.20566215,  0.23443538,  0.26320861,\n",
       "         0.29198184,  0.32075508,  0.34952831,  0.37830154,  0.40707477,\n",
       "         0.435848  ,  0.46462123,  0.49339446,  0.52216769,  0.55094093,\n",
       "         0.57971416]),\n",
       " <a list of 35 Patch objects>)"
      ]
     },
     "execution_count": 80,
     "metadata": {},
     "output_type": "execute_result"
    },
    {
     "data": {
      "image/png": "[encoded data removed]",
      "text/plain": [
       "<Figure size 432x288 with 1 Axes>"
      ]
     },
     "metadata": {
      "needs_background": "light"
     },
     "output_type": "display_data"
    }
   ],
   "source": [
    "plt.hist(fam_noise_corrs, bins=35)"
   ]
  },
  {
   "cell_type": "code",
   "execution_count": 81,
   "metadata": {},
   "outputs": [
    {
     "data": {
      "text/plain": [
       "(array([ 3.,  1., 11., 11., 14., 17., 19., 27., 37., 49., 56., 54., 50.,\n",
       "        57., 50., 55., 44., 38., 35., 34., 23., 19., 18.,  9., 13.,  5.,\n",
       "         8.,  7.,  2.,  2.,  3.,  5.,  1.,  0.,  3.]),\n",
       " array([-0.14215689, -0.12269051, -0.10322412, -0.08375774, -0.06429136,\n",
       "        -0.04482498, -0.0253586 , -0.00589221,  0.01357417,  0.03304055,\n",
       "         0.05250693,  0.07197331,  0.0914397 ,  0.11090608,  0.13037246,\n",
       "         0.14983884,  0.16930523,  0.18877161,  0.20823799,  0.22770437,\n",
       "         0.24717075,  0.26663714,  0.28610352,  0.3055699 ,  0.32503628,\n",
       "         0.34450266,  0.36396905,  0.38343543,  0.40290181,  0.42236819,\n",
       "         0.44183457,  0.46130096,  0.48076734,  0.50023372,  0.5197001 ,\n",
       "         0.53916648]),\n",
       " <a list of 35 Patch objects>)"
      ]
     },
     "execution_count": 81,
     "metadata": {},
     "output_type": "execute_result"
    },
    {
     "data": {
      "image/png": "[encoded data removed]",
      "text/plain": [
       "<Figure size 432x288 with 1 Axes>"
      ]
     },
     "metadata": {
      "needs_background": "light"
     },
     "output_type": "display_data"
    }
   ],
   "source": [
    "plt.hist(unfam_noise_corrs, bins=35)"
   ]
  },
  {
   "cell_type": "code",
   "execution_count": 82,
   "metadata": {},
   "outputs": [
    {
     "data": {
      "text/plain": [
       "0.12011332544627046"
      ]
     },
     "execution_count": 82,
     "metadata": {},
     "output_type": "execute_result"
    }
   ],
   "source": [
    "np.nanmean(fam_noise_corrs)"
   ]
  },
  {
   "cell_type": "code",
   "execution_count": 83,
   "metadata": {},
   "outputs": [
    {
     "data": {
      "text/plain": [
       "0.1339222699545901"
      ]
     },
     "execution_count": 83,
     "metadata": {},
     "output_type": "execute_result"
    }
   ],
   "source": [
    "np.nanmean(unfam_noise_corrs)"
   ]
  },
  {
   "cell_type": "code",
   "execution_count": 84,
   "metadata": {},
   "outputs": [
    {
     "data": {
      "text/plain": [
       "[<matplotlib.lines.Line2D at 0x7f2f13cfd5f8>]"
      ]
     },
     "execution_count": 84,
     "metadata": {},
     "output_type": "execute_result"
    },
    {
     "data": {
      "image/png": "[encoded data removed]",
      "text/plain": [
       "<Figure size 432x288 with 1 Axes>"
      ]
     },
     "metadata": {
      "needs_background": "light"
     },
     "output_type": "display_data"
    }
   ],
   "source": [
    "plt.plot(fam_noise_corrs, unfam_noise_corrs, '.')"
   ]
  },
  {
   "cell_type": "code",
   "execution_count": null,
   "metadata": {},
   "outputs": [],
   "source": [
    "test = get_stim_zscores(spikes, trials, good_clusters, 'P_40k', fs)"
   ]
  },
  {
   "cell_type": "code",
   "execution_count": null,
   "metadata": {},
   "outputs": [],
   "source": [
    "test.shape"
   ]
  },
  {
   "cell_type": "code",
   "execution_count": null,
   "metadata": {
    "scrolled": true
   },
   "outputs": [],
   "source": [
    "stim_subintervals = np.linspace(0, 1, 7)\n",
    "subint_noisecorrs = []\n",
    "for (a, b) in tqdm(zip(stim_subintervals[:-1], stim_subintervals[1:])):\n",
    "    subint_zscores = get_all_stim_zscores(spikes, trials, good_clusters, fs, interval=[a,b])\n",
    "    subint_noisecorrs.append(get_all_stim_avg_noise_correlation(subint_zscores, good_clusters))"
   ]
  },
  {
   "cell_type": "code",
   "execution_count": null,
   "metadata": {},
   "outputs": [],
   "source": [
    "subint_noisecorrs[0].shape"
   ]
  },
  {
   "cell_type": "code",
   "execution_count": null,
   "metadata": {},
   "outputs": [],
   "source": [
    "nc_v_time = np.array([(i, x) for i, y in enumerate(subint_noisecorrs) for x in y ])\n",
    "mean_nc_v_time = np.array([(i, np.nanmean(x)) for i, x in enumerate(subint_noisecorrs)])\n",
    "std_nc_v_time = np.array([(i, np.nanstd(x)) for i, x in enumerate(subint_noisecorrs)])"
   ]
  },
  {
   "cell_type": "code",
   "execution_count": null,
   "metadata": {},
   "outputs": [],
   "source": [
    "plt.plot(nc_v_time[:, 0],  nc_v_time[:, 1], '.')"
   ]
  },
  {
   "cell_type": "code",
   "execution_count": null,
   "metadata": {},
   "outputs": [],
   "source": [
    "plt.plot(mean_nc_v_time[:, 0], mean_nc_v_time[:, 1])"
   ]
  },
  {
   "cell_type": "code",
   "execution_count": null,
   "metadata": {},
   "outputs": [],
   "source": []
  }
 ],
 "metadata": {
  "kernelspec": {
   "display_name": "Python 3",
   "language": "python",
   "name": "python3"
  },
  "language_info": {
   "codemirror_mode": {
    "name": "ipython",
    "version": 3
   },
   "file_extension": ".py",
   "mimetype": "text/x-python",
   "name": "python",
   "nbconvert_exporter": "python",
   "pygments_lexer": "ipython3",
   "version": "3.6.10"
  }
 },
 "nbformat": 4,
 "nbformat_minor": 4
}
