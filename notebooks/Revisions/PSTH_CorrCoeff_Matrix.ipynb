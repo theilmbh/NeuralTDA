{
 "cells": [
  {
   "cell_type": "code",
   "execution_count": 1,
   "metadata": {
    "scrolled": true
   },
   "outputs": [
    {
     "name": "stderr",
     "output_type": "stream",
     "text": [
      "/home/brad/.conda/envs/neuraltda-4/lib/python3.6/site-packages/h5py/__init__.py:36: FutureWarning: Conversion of the second argument of issubdtype from `float` to `np.floating` is deprecated. In future, it will be treated as `np.float64 == np.dtype(float).type`.\n",
      "  from ._conv import register_converters as _register_converters\n",
      "\n",
      "Bad key \"nbagg.transparent\" on line 426 in\n",
      "/home/brad/.conda/envs/neuraltda-4/lib/python3.6/site-packages/matplotlib/mpl-data/stylelib/_classic_test.mplstyle.\n",
      "You probably need to get an updated matplotlibrc file from\n",
      "https://github.com/matplotlib/matplotlib/blob/v3.2.1/matplotlibrc.template\n",
      "or from the matplotlib source distribution\n",
      "\n",
      "Bad key \"animation.mencoder_path\" on line 509 in\n",
      "/home/brad/.conda/envs/neuraltda-4/lib/python3.6/site-packages/matplotlib/mpl-data/stylelib/_classic_test.mplstyle.\n",
      "You probably need to get an updated matplotlibrc file from\n",
      "https://github.com/matplotlib/matplotlib/blob/v3.2.1/matplotlibrc.template\n",
      "or from the matplotlib source distribution\n",
      "\n",
      "Bad key \"animation.mencoder_args\" on line 512 in\n",
      "/home/brad/.conda/envs/neuraltda-4/lib/python3.6/site-packages/matplotlib/mpl-data/stylelib/_classic_test.mplstyle.\n",
      "You probably need to get an updated matplotlibrc file from\n",
      "https://github.com/matplotlib/matplotlib/blob/v3.2.1/matplotlibrc.template\n",
      "or from the matplotlib source distribution\n",
      "In /home/brad/.conda/envs/neuraltda-4/lib/python3.6/site-packages/matplotlib/mpl-data/stylelib/_classic_test.mplstyle: \n",
      "The text.latex.unicode rcparam was deprecated in Matplotlib 3.0 and will be removed in 3.2.\n",
      "In /home/brad/.conda/envs/neuraltda-4/lib/python3.6/site-packages/matplotlib/mpl-data/stylelib/_classic_test.mplstyle: \n",
      "The savefig.frameon rcparam was deprecated in Matplotlib 3.1 and will be removed in 3.3.\n",
      "In /home/brad/.conda/envs/neuraltda-4/lib/python3.6/site-packages/matplotlib/mpl-data/stylelib/_classic_test.mplstyle: \n",
      "The pgf.debug rcparam was deprecated in Matplotlib 3.0 and will be removed in 3.2.\n",
      "In /home/brad/.conda/envs/neuraltda-4/lib/python3.6/site-packages/matplotlib/mpl-data/stylelib/_classic_test.mplstyle: \n",
      "The verbose.level rcparam was deprecated in Matplotlib 3.1 and will be removed in 3.3.\n",
      "In /home/brad/.conda/envs/neuraltda-4/lib/python3.6/site-packages/matplotlib/mpl-data/stylelib/_classic_test.mplstyle: \n",
      "The verbose.fileo rcparam was deprecated in Matplotlib 3.1 and will be removed in 3.3.\n"
     ]
    },
    {
     "name": "stdout",
     "output_type": "stream",
     "text": [
      "/home/brad/DailyLog/20200602/\n"
     ]
    }
   ],
   "source": [
    "import numpy as np\n",
    "import scipy as sp\n",
    "from importlib import reload\n",
    "import neuraltda.topology2 as tp2\n",
    "import neuraltda.plotting as tpplt\n",
    "import neuraltda.spikeutils as su\n",
    "import glob\n",
    "import os\n",
    "import matplotlib.pyplot as plt\n",
    "%matplotlib inline\n",
    "import datetime\n",
    "\n",
    "# Setup figure save path\n",
    "daystr = datetime.datetime.now().strftime('%Y%m%d')\n",
    "figsavepth = '/home/brad/DailyLog/'+daystr+'/'\n",
    "print(figsavepth)"
   ]
  },
  {
   "cell_type": "code",
   "execution_count": 2,
   "metadata": {},
   "outputs": [],
   "source": [
    "# Set up birds and block_paths\n",
    "birds = ['B1083', 'B1083-2', 'B1056', 'B1235', 'B1075']\n",
    "bps = {'B1083': '/home/brad/krista/B1083/P03S03/', 'B1075': '/home/brad/krista/B1075/P01S03/',\n",
    "       'B1235': '/home/brad/krista/B1235/P02S01/', 'B1056': '/home/brad/krista/B1056/klusta/phy020516/Pen01_Lft_AP100_ML1300__Site03_Z2500__B1056_cat_P01_S03_1/',\n",
    "       'B1056': '/home/brad/krista/B1056/klusta/phy020516/Pen01_Lft_AP100_ML1300__Site03_Z2500__B1056_cat_P01_S03_1/',\n",
    "       'B1083-2': '/home/brad/krista/B1083/P03S05/'}\n",
    "\n",
    "# Binning Parameters\n",
    "windt = 10                      # milliseconds\n",
    "dtovr = 0.0*windt                 # milliseconds\n",
    "segment_info = [0, 0]             # use full Trial\n",
    "cluster_group = ['Good']          # use just good clusters\n",
    "comment = 'PSTHCORRCOEFF'        # BootStrap Populations\n",
    "bdfs = {}                         # Dictionary to store bdf\n",
    "\n"
   ]
  },
  {
   "cell_type": "code",
   "execution_count": 3,
   "metadata": {},
   "outputs": [
    {
     "name": "stdout",
     "output_type": "stream",
     "text": [
      "Data Not already binned\n",
      "Nreps = 20\n",
      "skip = 200\n",
      "dur = 120000.0\n",
      "nwins = 600\n",
      "Nreps = 20\n",
      "skip = 200\n",
      "dur = 120000.0\n",
      "nwins = 600\n",
      "Nreps = 20\n",
      "skip = 200\n",
      "dur = 120000.0\n",
      "nwins = 600\n",
      "Nreps = 20\n",
      "skip = 200\n",
      "dur = 120000.0\n",
      "nwins = 600\n",
      "Nreps = 20\n",
      "skip = 200\n",
      "dur = 120000.0\n",
      "nwins = 600\n",
      "Nreps = 20\n",
      "skip = 200\n",
      "dur = 120000.0\n",
      "nwins = 600\n",
      "Nreps = 20\n",
      "skip = 200\n",
      "dur = 120000.0\n",
      "nwins = 600\n",
      "Nreps = 20\n",
      "skip = 200\n",
      "dur = 120000.0\n",
      "nwins = 600\n",
      "/home/brad/krista/B1083/P03S03/binned_data/win-10_dtovr-0.0_seg-0-0-PSTHCORRCOEFF/20200602T174022Z-10-0.0.binned\n",
      "Data Not already binned\n",
      "Nreps = 20\n",
      "skip = 200\n",
      "dur = 120000.0\n",
      "nwins = 600\n",
      "Nreps = 20\n",
      "skip = 200\n",
      "dur = 120000.0\n",
      "nwins = 600\n",
      "Nreps = 20\n",
      "skip = 200\n",
      "dur = 120000.0\n",
      "nwins = 600\n",
      "Nreps = 20\n",
      "skip = 200\n",
      "dur = 120000.0\n",
      "nwins = 600\n",
      "Nreps = 20\n",
      "skip = 200\n",
      "dur = 120000.0\n",
      "nwins = 600\n",
      "Nreps = 20\n",
      "skip = 200\n",
      "dur = 120000.0\n",
      "nwins = 600\n",
      "Nreps = 20\n",
      "skip = 200\n",
      "dur = 120000.0\n",
      "nwins = 600\n",
      "Nreps = 20\n",
      "skip = 200\n",
      "dur = 120000.0\n",
      "nwins = 600\n",
      "/home/brad/krista/B1083/P03S05/binned_data/win-10_dtovr-0.0_seg-0-0-PSTHCORRCOEFF/20200602T174029Z-10-0.0.binned\n",
      "Data Not already binned\n",
      "Nreps = 20\n",
      "skip = 312\n",
      "dur = 206722.0\n",
      "nwins = 663\n",
      "Nreps = 20\n",
      "skip = 312\n",
      "dur = 206723.0\n",
      "nwins = 663\n",
      "Nreps = 20\n",
      "skip = 312\n",
      "dur = 206719.0\n",
      "nwins = 663\n",
      "Nreps = 20\n",
      "skip = 312\n",
      "dur = 206719.0\n",
      "nwins = 663\n",
      "Nreps = 20\n",
      "skip = 312\n",
      "dur = 206722.0\n",
      "nwins = 663\n",
      "Nreps = 20\n",
      "skip = 312\n",
      "dur = 206719.0\n",
      "nwins = 663\n",
      "Nreps = 20\n",
      "skip = 312\n",
      "dur = 206718.0\n",
      "nwins = 663\n",
      "Nreps = 20\n",
      "skip = 312\n",
      "dur = 206719.0\n",
      "nwins = 663\n",
      "Nreps = 20\n",
      "skip = 312\n",
      "dur = 206719.0\n",
      "nwins = 663\n",
      "Nreps = 20\n",
      "skip = 312\n",
      "dur = 206722.0\n",
      "nwins = 663\n",
      "Nreps = 20\n",
      "skip = 312\n",
      "dur = 206719.0\n",
      "nwins = 663\n",
      "Nreps = 20\n",
      "skip = 312\n",
      "dur = 206718.0\n",
      "nwins = 663\n",
      "Nreps = 20\n",
      "skip = 312\n",
      "dur = 206719.0\n",
      "nwins = 663\n",
      "Nreps = 20\n",
      "skip = 312\n",
      "dur = 206719.0\n",
      "nwins = 663\n",
      "Nreps = 20\n",
      "skip = 312\n",
      "dur = 206723.0\n",
      "nwins = 663\n",
      "Nreps = 20\n",
      "skip = 312\n",
      "dur = 206718.0\n",
      "nwins = 663\n",
      "/home/brad/krista/B1056/klusta/phy020516/Pen01_Lft_AP100_ML1300__Site03_Z2500__B1056_cat_P01_S03_1/binned_data/win-10_dtovr-0.0_seg-0-0-PSTHCORRCOEFF/20200602T174037Z-10-0.0.binned\n",
      "Data Not already binned\n",
      "Nreps = 20\n",
      "skip = 312\n",
      "dur = 206723.0\n",
      "nwins = 663\n",
      "Nreps = 20\n",
      "skip = 312\n",
      "dur = 206719.0\n",
      "nwins = 663\n",
      "Nreps = 20\n",
      "skip = 312\n",
      "dur = 206719.0\n",
      "nwins = 663\n",
      "Nreps = 20\n",
      "skip = 312\n",
      "dur = 206718.0\n",
      "nwins = 663\n",
      "Nreps = 20\n",
      "skip = 312\n",
      "dur = 206719.0\n",
      "nwins = 663\n",
      "Nreps = 20\n",
      "skip = 312\n",
      "dur = 206719.0\n",
      "nwins = 663\n",
      "Nreps = 20\n",
      "skip = 312\n",
      "dur = 206722.0\n",
      "nwins = 663\n",
      "Nreps = 20\n",
      "skip = 312\n",
      "dur = 206723.0\n",
      "nwins = 663\n",
      "Nreps = 20\n",
      "skip = 312\n",
      "dur = 206719.0\n",
      "nwins = 663\n",
      "Nreps = 20\n",
      "skip = 312\n",
      "dur = 206722.0\n",
      "nwins = 663\n",
      "Nreps = 20\n",
      "skip = 312\n",
      "dur = 206719.0\n",
      "nwins = 663\n",
      "Nreps = 20\n",
      "skip = 312\n",
      "dur = 206719.0\n",
      "nwins = 663\n",
      "Nreps = 20\n",
      "skip = 312\n",
      "dur = 206719.0\n",
      "nwins = 663\n",
      "Nreps = 20\n",
      "skip = 312\n",
      "dur = 206722.0\n",
      "nwins = 663\n",
      "Nreps = 20\n",
      "skip = 312\n",
      "dur = 206719.0\n",
      "nwins = 663\n",
      "Nreps = 20\n",
      "skip = 312\n",
      "dur = 206719.0\n",
      "nwins = 663\n",
      "/home/brad/krista/B1235/P02S01/binned_data/win-10_dtovr-0.0_seg-0-0-PSTHCORRCOEFF/20200602T174050Z-10-0.0.binned\n",
      "Data Not already binned\n",
      "Nreps = 20\n",
      "skip = 200\n",
      "dur = 120000.0\n",
      "nwins = 600\n",
      "Nreps = 20\n",
      "skip = 200\n",
      "dur = 120002.0\n",
      "nwins = 600\n",
      "Nreps = 20\n",
      "skip = 200\n",
      "dur = 120000.0\n",
      "nwins = 600\n",
      "Nreps = 20\n",
      "skip = 200\n",
      "dur = 120000.0\n",
      "nwins = 600\n",
      "Nreps = 20\n",
      "skip = 200\n",
      "dur = 120003.0\n",
      "nwins = 600\n",
      "Nreps = 20\n",
      "skip = 200\n",
      "dur = 120000.0\n",
      "nwins = 600\n",
      "Nreps = 20\n",
      "skip = 200\n",
      "dur = 120003.0\n",
      "nwins = 600\n",
      "Nreps = 20\n",
      "skip = 200\n",
      "dur = 120000.0\n",
      "nwins = 600\n",
      "Nreps = 20\n",
      "skip = 200\n",
      "dur = 120000.0\n",
      "nwins = 600\n",
      "Nreps = 20\n",
      "skip = 200\n",
      "dur = 120000.0\n",
      "nwins = 600\n",
      "Nreps = 20\n",
      "skip = 200\n",
      "dur = 120000.0\n",
      "nwins = 600\n",
      "Nreps = 20\n",
      "skip = 200\n",
      "dur = 120000.0\n",
      "nwins = 600\n",
      "Nreps = 20\n",
      "skip = 200\n",
      "dur = 120002.0\n",
      "nwins = 600\n",
      "Nreps = 20\n",
      "skip = 200\n",
      "dur = 120000.0\n",
      "nwins = 600\n",
      "Nreps = 20\n",
      "skip = 200\n",
      "dur = 120000.0\n",
      "nwins = 600\n",
      "Nreps = 20\n",
      "skip = 200\n",
      "dur = 120002.0\n",
      "nwins = 600\n",
      "/home/brad/krista/B1075/P01S03/binned_data/win-10_dtovr-0.0_seg-0-0-PSTHCORRCOEFF/20200602T174059Z-10-0.0.binned\n"
     ]
    }
   ],
   "source": [
    "# Loop through each bird in our list and bin the data\n",
    "for bird in birds:\n",
    "    block_path = bps[bird]\n",
    "    bfdict = tp2.dag_bin(block_path, windt, segment_info, cluster_group=cluster_group, dt_overlap=dtovr, comment=comment)\n",
    "    bdf = glob.glob(os.path.join(bfdict['raw'], '*.binned'))[0]\n",
    "    print(bdf)\n",
    "    bdfs[bird] = bdf"
   ]
  },
  {
   "cell_type": "code",
   "execution_count": 23,
   "metadata": {},
   "outputs": [
    {
     "name": "stdout",
     "output_type": "stream",
     "text": [
      "(663, 40, 16, 20)\n"
     ]
    },
    {
     "data": {
      "text/plain": [
       "(663, 12800)"
      ]
     },
     "execution_count": 23,
     "metadata": {},
     "output_type": "execute_result"
    }
   ],
   "source": [
    "import h5py as h5\n",
    "bdf = bdfs['B1235']\n",
    "with h5.File(bdf, 'r') as f:\n",
    "    stims = f.keys()\n",
    "    pop_tensors = []\n",
    "    for stim in stims:\n",
    "        pop_tensors.append(np.array(f[stim]['pop_tens']))\n",
    "    all_pop_tens = np.stack(pop_tensors, axis=0)\n",
    "    all_pop_tens = np.transpose(all_pop_tens, [2, 1,0,3])\n",
    "    print(all_pop_tens.shape)\n",
    "    all_pop_tens = np.reshape(all_pop_tens, [all_pop_tens.shape[0], -1], order='C')\n",
    "all_pop_tens.shape"
   ]
  },
  {
   "cell_type": "code",
   "execution_count": 24,
   "metadata": {},
   "outputs": [],
   "source": [
    "corr_mtx = np.corrcoef(all_pop_tens, rowvar=False)"
   ]
  },
  {
   "cell_type": "code",
   "execution_count": 27,
   "metadata": {},
   "outputs": [
    {
     "data": {
      "text/plain": [
       "<matplotlib.image.AxesImage at 0x7fa8868866a0>"
      ]
     },
     "execution_count": 27,
     "metadata": {},
     "output_type": "execute_result"
    },
    {
     "data": {
      "image/png": "[encoded data removed]",
      "text/plain": [
       "<Figure size 432x288 with 1 Axes>"
      ]
     },
     "metadata": {
      "needs_background": "light"
     },
     "output_type": "display_data"
    }
   ],
   "source": [
    "plt.imshow(corr_mtx[0:40, 0:40])"
   ]
  },
  {
   "cell_type": "code",
   "execution_count": 30,
   "metadata": {},
   "outputs": [],
   "source": [
    "y = corr_mtx.reshape(corr_mtx.shape[0]//20, 20, corr_mtx.shape[1]//20, 20)"
   ]
  },
  {
   "cell_type": "code",
   "execution_count": 36,
   "metadata": {},
   "outputs": [
    {
     "data": {
      "text/plain": [
       "(640, 640)"
      ]
     },
     "execution_count": 36,
     "metadata": {},
     "output_type": "execute_result"
    }
   ],
   "source": [
    "avg = np.nanmean(y, axis=(1,3))\n",
    "avg.shape"
   ]
  },
  {
   "cell_type": "code",
   "execution_count": 37,
   "metadata": {},
   "outputs": [
    {
     "data": {
      "text/plain": [
       "<matplotlib.image.AxesImage at 0x7fa8867620b8>"
      ]
     },
     "execution_count": 37,
     "metadata": {},
     "output_type": "execute_result"
    },
    {
     "data": {
      "image/png": "[encoded data removed]",
      "text/plain": [
       "<Figure size 432x288 with 1 Axes>"
      ]
     },
     "metadata": {
      "needs_background": "light"
     },
     "output_type": "display_data"
    }
   ],
   "source": [
    "plt.imshow(avg)"
   ]
  },
  {
   "cell_type": "code",
   "execution_count": null,
   "metadata": {},
   "outputs": [],
   "source": []
  }
 ],
 "metadata": {
  "kernelspec": {
   "display_name": "Python 3",
   "language": "python",
   "name": "python3"
  },
  "language_info": {
   "codemirror_mode": {
    "name": "ipython",
    "version": 3
   },
   "file_extension": ".py",
   "mimetype": "text/x-python",
   "name": "python",
   "nbconvert_exporter": "python",
   "pygments_lexer": "ipython3",
   "version": "3.6.10"
  }
 },
 "nbformat": 4,
 "nbformat_minor": 4
}
