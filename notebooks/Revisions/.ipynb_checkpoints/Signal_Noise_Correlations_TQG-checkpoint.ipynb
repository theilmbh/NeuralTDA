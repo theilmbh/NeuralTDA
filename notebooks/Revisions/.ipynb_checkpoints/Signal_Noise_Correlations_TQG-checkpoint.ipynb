{
 "cells": [
  {
   "cell_type": "code",
   "execution_count": 43,
   "metadata": {},
   "outputs": [],
   "source": [
    "from ephys import core, events\n",
    "import numpy as np\n",
    "from scipy.stats import pearsonr\n",
    "import matplotlib.pyplot as plt\n",
    "%matplotlib inline"
   ]
  },
  {
   "cell_type": "code",
   "execution_count": 2,
   "metadata": {},
   "outputs": [],
   "source": [
    "# set up block path\n",
    "block_path = '/home/brad/krista/B1083/P03S03/'\n",
    "\n",
    "# load spikes, stimuli, clusters\n",
    "spikes = core.load_spikes(block_path)\n",
    "clusters = core.load_clusters(block_path)\n",
    "trials = events.load_trials(block_path)"
   ]
  },
  {
   "cell_type": "code",
   "execution_count": 113,
   "metadata": {},
   "outputs": [],
   "source": [
    "def get_average_firing_rate(spikes, cluster_id, t_start, t_end, fs):\n",
    "    '''\n",
    "    Compute the average firing rate of the cluster <cluster_id> during the time interval [t_start, t_end]\n",
    "    Average firing rate is (# of spikes in interval) / (duration of interval)\n",
    "    '''\n",
    "    cluster_spikes_in_interval = spikes[(spikes['cluster'] == cluster_id) &\n",
    "                            (spikes['time_samples'] < t_end) & \n",
    "                            (spikes['time_samples'] > t_start)\n",
    "    ]\n",
    "    n_spikes = cluster_spikes_in_interval.size\n",
    "    dt = (t_end - t_start) / fs\n",
    "    return n_spikes / dt\n",
    "\n",
    "def get_stimulus_average_firing_rate(spikes, trials, cluster_id, stimulus_id, fs):\n",
    "    '''\n",
    "    Return the average firing rate of a neuron over all trials from a given stimulus\n",
    "    '''\n",
    "    stim_trials = trials[trials['stimulus'] == stimulus_id]\n",
    "    stim_starts = np.array(stim_trials['time_samples'])\n",
    "    stim_ends = np.array(stim_trials['stimulus_end'])\n",
    "    \n",
    "    avg_fr = 0\n",
    "    for (s_start, s_end) in zip(stim_starts, stim_ends):\n",
    "        avg_fr += get_average_firing_rate(spikes , cluster_id, s_start, s_end, fs)\n",
    "    return avg_fr / stim_trials.size\n",
    "\n",
    "def get_stimulus_avg_sd_firing_rate(spikes, trials, cluster_id, stimulus_id, fs):\n",
    "    '''\n",
    "    Return the mean and standard deviation firing rate of a neuron over all trials from a given stimulus\n",
    "    '''\n",
    "    stim_trials = trials[trials['stimulus'] == stimulus_id]\n",
    "    stim_starts = np.array(stim_trials['time_samples'])\n",
    "    stim_ends = np.array(stim_trials['stimulus_end'])\n",
    "    \n",
    "    fr_list=[]\n",
    "    for (s_start, s_end) in zip(stim_starts, stim_ends):\n",
    "        fr_list.append(get_average_firing_rate(spikes , cluster_id, s_start, s_end, fs))\n",
    "        \n",
    "    return (np.mean(fr_list), np.std(fr_list))\n",
    "\n",
    "    \n",
    "def get_pair_stimulus_average_responses(spikes, trials, cluster_a, cluster_b, fs):\n",
    "    '''\n",
    "    Get the average responses from all stimuli for a pair of cells\n",
    "    '''\n",
    "    \n",
    "    stimuli = sorted(trials['stimulus'].unique())\n",
    "    ret = []\n",
    "    for stim in stimuli:\n",
    "        cluster_a_avg_response = get_stimulus_average_firing_rate(spikes, trials, cluster_a, stim, fs)\n",
    "        cluster_b_avg_response = get_stimulus_average_firing_rate(spikes, trials, cluster_b, stim, fs)\n",
    "        ret.append([cluster_a_avg_response, cluster_b_avg_response])\n",
    "    return np.array(ret)\n",
    "\n",
    "\n",
    "### Noise correlation funcs\n",
    "def get_zscore_responses(spikes, trials, cluster_id, stimulus_id, fs):\n",
    "    ''' Return an array of the z-scored responses from each trial for a given stim and cell'''\n",
    "    \n",
    "    # get mean and standard deviation response\n",
    "    degenerate = False\n",
    "    mu, sig = get_stimulus_avg_sd_firing_rate(spikes, trials, cluster_id, stimulus_id, fs)\n",
    "    if (sig < 1e-12):\n",
    "        print(\"Uh Oh... standard deviation very small\")\n",
    "        print(\"Cluster: {} Stimulus: {} mu: {} sigma: {}\".format(cluster_id, stimulus_id, mu, sig))\n",
    "        degenerate = True\n",
    "    \n",
    "    # for each trial compute z-score\n",
    "    stim_trials = trials[trials['stimulus'] == stimulus_id]\n",
    "    stim_starts = np.array(stim_trials['time_samples'])\n",
    "    stim_ends = np.array(stim_trials['stimulus_end'])\n",
    "    \n",
    "    stim_clu_zscores = []\n",
    "    for (s_start, s_end) in zip(stim_starts, stim_ends):\n",
    "        if degenerate:\n",
    "            stim_clu_zscores.append(0.0)\n",
    "        else:\n",
    "            trial_fr = get_average_firing_rate(spikes, cluster_id, s_start, s_end, fs)\n",
    "            zscore = (trial_fr - mu)/sig\n",
    "            stim_clu_zscores.append(zscore)\n",
    "    return np.array(stim_clu_zscores)\n",
    "    \n",
    "def get_stim_zscores(spikes, trials, clusters, stimulus_id, fs):\n",
    "    ''' Get an ncell x ntrial array of zscores for a given stim'''\n",
    "    \n",
    "    stimulus_zscores = []\n",
    "    for cluster in clusters:\n",
    "        stimulus_zscores.append(get_zscore_responses(spikes, trials, cluster, stimulus_id, fs))\n",
    "    return np.vstack(stimulus_zscores)\n",
    "\n",
    "def get_all_stim_zscores(spikes, trials, clusters, fs):\n",
    "    ''' Return an nstim x ncell x ntrial array of zscores'''\n",
    "    \n",
    "    stimuli = sorted(trials['stimulus'].unique())\n",
    "    all_stim_zscores = []\n",
    "    for stim in stimuli:\n",
    "        all_stim_zscores.append(get_stim_zscores(spikes, trials, clusters, stim, fs))\n",
    "    return np.dstack(all_stim_zscores)\n",
    "    \n",
    "def get_pair_noise_correlation(stim_zscores, cluster_a, cluster_b):\n",
    "\n",
    "    z_a = stim_zscores[cluster_a, :]\n",
    "    z_b = stim_zscores[cluster_b, :]\n",
    "    return pearsonr(z_a, z_b)[0]\n",
    "\n",
    "def get_pair_stim_avg_noise_correlation(all_stim_zscores, cluster_a, cluster_b):\n",
    "    \n",
    "    nstim = all_stim_zscores.shape[2]\n",
    "    corrs = []\n",
    "    for stimnum in range(nstim):\n",
    "        corrs.append(get_pair_noise_correlation(all_stim_zscores[:, :, stimnum], cluster_a, cluster_b))\n",
    "    return np.mean(corrs)\n",
    "\n",
    "def get_all_stim_avg_noise_correlation(all_stim_zscores, clusters):\n",
    "    \n",
    "    all_noise_corrs = []\n",
    "    for pair in tqdm(combinations(range(len(clusters)),2)):\n",
    "        all_noise_corrs.append(get_pair_stim_avg_noise_correlation(all_stim_zscores, pair[0], pair[1]))\n",
    "    return np.array(all_noise_corrs)\n",
    "    \n",
    "###################################   \n",
    "## Signal correlations\n",
    "def get_signal_correlation(spikes, trials, cluster_a, cluster_b, fs):\n",
    "    ''' Compute the signal correlation for a pair of cells\n",
    "    '''\n",
    "    \n",
    "    stim_responses = get_pair_stimulus_average_responses(spikes, trials, cluster_a, cluster_b, fs)\n",
    "    stim_correlation = pearsonr(stim_responses[:, 0], stim_responses[:, 1])[0]\n",
    "    return stim_correlation\n",
    "\n",
    "def get_all_average_responses(spikes, trials, clusters, fs):\n",
    "    ''' Return an ncell x nstim matrix of trial-averaged firing rate responses \n",
    "    '''\n",
    "    \n",
    "    stimuli = sorted(trials['stimulus'].unique())\n",
    "    responses = np.zeros((len(clusters), len(stimuli)))\n",
    "    for i in tqdm(range(len(clusters))):\n",
    "        for j in range(len(stimuli)):\n",
    "            responses[i, j] = get_stimulus_average_firing_rate(spikes, trials, clusters[i], stimuli[j], fs)\n",
    "    return responses\n",
    "\n",
    "from tqdm import tqdm\n",
    "def get_all_signal_correlations(responses, clusters):\n",
    "    ''' given an ncell x nstim matrix of trial averaged firing rate responses, \n",
    "    compute the signal correlations for every pair.\n",
    "    '''\n",
    "    all_pairs_signal_correlations = []\n",
    "    for pair in tqdm(combinations(range(len(clusters)), 2)):\n",
    "        response_a = responses[pair[0], :]\n",
    "        response_b = responses[pair[1], :]\n",
    "        pair_sig_corr = pearsonr(response_a, response_b)[0]\n",
    "        all_pairs_signal_correlations.append(pair_sig_corr)\n",
    "    return np.array(all_pairs_signal_correlations)"
   ]
  },
  {
   "cell_type": "code",
   "execution_count": null,
   "metadata": {},
   "outputs": [],
   "source": [
    "good_clusters = clusters[clusters['quality'] == 'Good']['cluster'].unique()\n",
    "fs = 30000\n",
    "\n",
    "responses = get_all_average_responses(spikes, trials, good_clusters, fs)"
   ]
  },
  {
   "cell_type": "code",
   "execution_count": 120,
   "metadata": {},
   "outputs": [
    {
     "name": "stderr",
     "output_type": "stream",
     "text": [
      "5050it [00:00, 18870.34it/s]\n"
     ]
    }
   ],
   "source": [
    "signal_corrs = get_all_signal_correlations(responses, good_clusters)"
   ]
  },
  {
   "cell_type": "code",
   "execution_count": 121,
   "metadata": {},
   "outputs": [
    {
     "data": {
      "text/plain": [
       "(array([  1.,   6.,  14.,  28.,  33.,  51.,  71.,  86., 107., 139., 154.,\n",
       "        185., 180., 229., 233., 231., 238., 232., 214., 227., 235., 244.,\n",
       "        237., 195., 222., 214., 188., 186., 176., 146., 124.,  84.,  68.,\n",
       "         48.,  24.]),\n",
       " array([-0.95349373, -0.89802506, -0.84255639, -0.78708772, -0.73161905,\n",
       "        -0.67615038, -0.62068171, -0.56521304, -0.50974437, -0.4542757 ,\n",
       "        -0.39880703, -0.34333835, -0.28786968, -0.23240101, -0.17693234,\n",
       "        -0.12146367, -0.065995  , -0.01052633,  0.04494234,  0.10041101,\n",
       "         0.15587968,  0.21134835,  0.26681702,  0.32228569,  0.37775436,\n",
       "         0.43322304,  0.48869171,  0.54416038,  0.59962905,  0.65509772,\n",
       "         0.71056639,  0.76603506,  0.82150373,  0.8769724 ,  0.93244107,\n",
       "         0.98790974]),\n",
       " <a list of 35 Patch objects>)"
      ]
     },
     "execution_count": 121,
     "metadata": {},
     "output_type": "execute_result"
    },
    {
     "data": {
      "image/png": "[encoded data removed]",
      "text/plain": [
       "<Figure size 432x288 with 1 Axes>"
      ]
     },
     "metadata": {
      "needs_background": "light"
     },
     "output_type": "display_data"
    }
   ],
   "source": [
    "plt.hist(signal_corrs, bins=35)"
   ]
  },
  {
   "cell_type": "code",
   "execution_count": 39,
   "metadata": {},
   "outputs": [
    {
     "data": {
      "text/plain": [
       "[<matplotlib.lines.Line2D at 0x7f372913db38>]"
      ]
     },
     "execution_count": 39,
     "metadata": {},
     "output_type": "execute_result"
    },
    {
     "data": {
      "image/png": "[encoded data removed]",
      "text/plain": [
       "<Figure size 432x288 with 1 Axes>"
      ]
     },
     "metadata": {
      "needs_background": "light"
     },
     "output_type": "display_data"
    }
   ],
   "source": [
    "test = get_pair_stimulus_average_responses(spikes, trials, 38, 49, 30000)\n",
    "plt.plot(test[:, 0], test[:, 1], '.')"
   ]
  },
  {
   "cell_type": "code",
   "execution_count": 54,
   "metadata": {},
   "outputs": [
    {
     "data": {
      "text/plain": [
       "array([  2,   3,   4,   5,   6,   7,   8,   9,  11,  13,  14,  15,  16,\n",
       "        17,  18,  19,  20,  22,  23,  24,  26,  27,  28,  29,  30,  31,\n",
       "        33,  34,  35,  36,  38,  39,  41,  42,  43,  44,  45,  46,  47,\n",
       "        49,  50,  51,  52,  53,  54,  55,  56,  57,  59,  60,  61,  62,\n",
       "        64,  66,  67,  68,  70,  71,  72,  73,  74,  75,  76,  77,  78,\n",
       "        79,  80,  82,  83,  84,  85,  86,  88,  89,  90,  91,  92,  94,\n",
       "        95,  97,  98,  99, 101, 102, 103, 106, 111, 112, 113, 114, 118,\n",
       "       119, 120, 121, 122, 123, 124, 125, 126, 132, 133], dtype=int32)"
      ]
     },
     "execution_count": 54,
     "metadata": {},
     "output_type": "execute_result"
    }
   ],
   "source": [
    "clusters[clusters['quality'] == 'Good']['cluster'].unique()"
   ]
  },
  {
   "cell_type": "code",
   "execution_count": 66,
   "metadata": {},
   "outputs": [
    {
     "data": {
      "text/plain": [
       "5050"
      ]
     },
     "execution_count": 66,
     "metadata": {},
     "output_type": "execute_result"
    }
   ],
   "source": [
    "from itertools import combinations\n",
    "len(list(combinations(np.arange(101), 2)))"
   ]
  },
  {
   "cell_type": "code",
   "execution_count": 109,
   "metadata": {},
   "outputs": [
    {
     "name": "stdout",
     "output_type": "stream",
     "text": [
      "Uh Oh... standard deviation very small\n",
      "Cluster: 42 Stimulus: I_40k mu: 0.0 sigma: 0.0\n",
      "Uh Oh... standard deviation very small\n",
      "Cluster: 60 Stimulus: I_40k mu: 0.0 sigma: 0.0\n",
      "Uh Oh... standard deviation very small\n",
      "Cluster: 60 Stimulus: J_40k mu: 0.0 sigma: 0.0\n",
      "Uh Oh... standard deviation very small\n",
      "Cluster: 95 Stimulus: J_40k mu: 0.0 sigma: 0.0\n",
      "Uh Oh... standard deviation very small\n",
      "Cluster: 126 Stimulus: J_40k mu: 0.0 sigma: 0.0\n",
      "Uh Oh... standard deviation very small\n",
      "Cluster: 83 Stimulus: K_40k mu: 0.0 sigma: 0.0\n",
      "Uh Oh... standard deviation very small\n",
      "Cluster: 42 Stimulus: L_40k mu: 0.0 sigma: 0.0\n",
      "Uh Oh... standard deviation very small\n",
      "Cluster: 126 Stimulus: L_40k mu: 0.0 sigma: 0.0\n",
      "Uh Oh... standard deviation very small\n",
      "Cluster: 60 Stimulus: M_40k mu: 0.0 sigma: 0.0\n",
      "Uh Oh... standard deviation very small\n",
      "Cluster: 92 Stimulus: M_40k mu: 0.0 sigma: 0.0\n",
      "Uh Oh... standard deviation very small\n",
      "Cluster: 103 Stimulus: M_40k mu: 0.0 sigma: 0.0\n",
      "Uh Oh... standard deviation very small\n",
      "Cluster: 36 Stimulus: N_40k mu: 0.0 sigma: 0.0\n",
      "Uh Oh... standard deviation very small\n",
      "Cluster: 42 Stimulus: N_40k mu: 0.0 sigma: 0.0\n",
      "Uh Oh... standard deviation very small\n",
      "Cluster: 83 Stimulus: O_40k mu: 0.0 sigma: 0.0\n",
      "Uh Oh... standard deviation very small\n",
      "Cluster: 126 Stimulus: O_40k mu: 0.0 sigma: 0.0\n"
     ]
    }
   ],
   "source": [
    "test=get_all_stim_zscores(spikes, trials, good_clusters, fs)"
   ]
  },
  {
   "cell_type": "code",
   "execution_count": 117,
   "metadata": {},
   "outputs": [
    {
     "name": "stderr",
     "output_type": "stream",
     "text": [
      "5050it [00:02, 2178.69it/s]\n"
     ]
    }
   ],
   "source": [
    "noise_corrs = get_all_stim_avg_noise_correlation(test, good_clusters)"
   ]
  },
  {
   "cell_type": "code",
   "execution_count": 118,
   "metadata": {},
   "outputs": [
    {
     "data": {
      "text/plain": [
       "(array([  3.,   1.,   4.,   6.,  10.,  12.,  24.,  20.,  30.,  56.,  44.,\n",
       "         84., 113., 161., 261., 364., 480., 512., 523., 432., 336., 246.,\n",
       "        139., 107., 102.,  60.,  40.,  32.,  26.,  21.,  14.,   6.,   4.,\n",
       "          3.,   2.]),\n",
       " array([-0.84226617, -0.79402774, -0.74578932, -0.69755089, -0.64931247,\n",
       "        -0.60107404, -0.55283562, -0.50459719, -0.45635876, -0.40812034,\n",
       "        -0.35988191, -0.31164349, -0.26340506, -0.21516663, -0.16692821,\n",
       "        -0.11868978, -0.07045136, -0.02221293,  0.02602549,  0.07426392,\n",
       "         0.12250235,  0.17074077,  0.2189792 ,  0.26721762,  0.31545605,\n",
       "         0.36369447,  0.4119329 ,  0.46017133,  0.50840975,  0.55664818,\n",
       "         0.6048866 ,  0.65312503,  0.70136345,  0.74960188,  0.79784031,\n",
       "         0.84607873]),\n",
       " <a list of 35 Patch objects>)"
      ]
     },
     "execution_count": 118,
     "metadata": {},
     "output_type": "execute_result"
    },
    {
     "data": {
      "image/png": "[encoded data removed]",
      "text/plain": [
       "<Figure size 432x288 with 1 Axes>"
      ]
     },
     "metadata": {
      "needs_background": "light"
     },
     "output_type": "display_data"
    }
   ],
   "source": [
    "plt.hist(noise_corrs, bins=35)"
   ]
  },
  {
   "cell_type": "code",
   "execution_count": 123,
   "metadata": {},
   "outputs": [
    {
     "data": {
      "text/plain": [
       "[<matplotlib.lines.Line2D at 0x7f37257646d8>]"
      ]
     },
     "execution_count": 123,
     "metadata": {},
     "output_type": "execute_result"
    },
    {
     "data": {
      "image/png": "[encoded data removed]",
      "text/plain": [
       "<Figure size 432x288 with 1 Axes>"
      ]
     },
     "metadata": {
      "needs_background": "light"
     },
     "output_type": "display_data"
    }
   ],
   "source": [
    "plt.plot(signal_corrs, noise_corrs, '.')"
   ]
  },
  {
   "cell_type": "code",
   "execution_count": 124,
   "metadata": {},
   "outputs": [
    {
     "ename": "ValueError",
     "evalue": "array must not contain infs or NaNs",
     "output_type": "error",
     "traceback": [
      "\u001b[0;31m---------------------------------------------------------------------------\u001b[0m",
      "\u001b[0;31mValueError\u001b[0m                                Traceback (most recent call last)",
      "\u001b[0;32m<ipython-input-124-d8c0106e9fad>\u001b[0m in \u001b[0;36m<module>\u001b[0;34m\u001b[0m\n\u001b[0;32m----> 1\u001b[0;31m \u001b[0mpearsonr\u001b[0m\u001b[0;34m(\u001b[0m\u001b[0msignal_corrs\u001b[0m\u001b[0;34m,\u001b[0m \u001b[0mnoise_corrs\u001b[0m\u001b[0;34m)\u001b[0m\u001b[0;34m\u001b[0m\u001b[0;34m\u001b[0m\u001b[0m\n\u001b[0m",
      "\u001b[0;32m~/.conda/envs/neuraltda-4/lib/python3.6/site-packages/scipy/stats/stats.py\u001b[0m in \u001b[0;36mpearsonr\u001b[0;34m(x, y)\u001b[0m\n\u001b[1;32m   3529\u001b[0m     \u001b[0;31m# [-5e210, 5e210, 3e200, -3e200]\u001b[0m\u001b[0;34m\u001b[0m\u001b[0;34m\u001b[0m\u001b[0;34m\u001b[0m\u001b[0m\n\u001b[1;32m   3530\u001b[0m     \u001b[0mnormxm\u001b[0m \u001b[0;34m=\u001b[0m \u001b[0mlinalg\u001b[0m\u001b[0;34m.\u001b[0m\u001b[0mnorm\u001b[0m\u001b[0;34m(\u001b[0m\u001b[0mxm\u001b[0m\u001b[0;34m)\u001b[0m\u001b[0;34m\u001b[0m\u001b[0;34m\u001b[0m\u001b[0m\n\u001b[0;32m-> 3531\u001b[0;31m     \u001b[0mnormym\u001b[0m \u001b[0;34m=\u001b[0m \u001b[0mlinalg\u001b[0m\u001b[0;34m.\u001b[0m\u001b[0mnorm\u001b[0m\u001b[0;34m(\u001b[0m\u001b[0mym\u001b[0m\u001b[0;34m)\u001b[0m\u001b[0;34m\u001b[0m\u001b[0;34m\u001b[0m\u001b[0m\n\u001b[0m\u001b[1;32m   3532\u001b[0m \u001b[0;34m\u001b[0m\u001b[0m\n\u001b[1;32m   3533\u001b[0m     \u001b[0mthreshold\u001b[0m \u001b[0;34m=\u001b[0m \u001b[0;36m1e-13\u001b[0m\u001b[0;34m\u001b[0m\u001b[0;34m\u001b[0m\u001b[0m\n",
      "\u001b[0;32m~/.conda/envs/neuraltda-4/lib/python3.6/site-packages/scipy/linalg/misc.py\u001b[0m in \u001b[0;36mnorm\u001b[0;34m(a, ord, axis, keepdims, check_finite)\u001b[0m\n\u001b[1;32m    140\u001b[0m     \u001b[0;31m# Differs from numpy only in non-finite handling and the use of blas.\u001b[0m\u001b[0;34m\u001b[0m\u001b[0;34m\u001b[0m\u001b[0;34m\u001b[0m\u001b[0m\n\u001b[1;32m    141\u001b[0m     \u001b[0;32mif\u001b[0m \u001b[0mcheck_finite\u001b[0m\u001b[0;34m:\u001b[0m\u001b[0;34m\u001b[0m\u001b[0;34m\u001b[0m\u001b[0m\n\u001b[0;32m--> 142\u001b[0;31m         \u001b[0ma\u001b[0m \u001b[0;34m=\u001b[0m \u001b[0mnp\u001b[0m\u001b[0;34m.\u001b[0m\u001b[0masarray_chkfinite\u001b[0m\u001b[0;34m(\u001b[0m\u001b[0ma\u001b[0m\u001b[0;34m)\u001b[0m\u001b[0;34m\u001b[0m\u001b[0;34m\u001b[0m\u001b[0m\n\u001b[0m\u001b[1;32m    143\u001b[0m     \u001b[0;32melse\u001b[0m\u001b[0;34m:\u001b[0m\u001b[0;34m\u001b[0m\u001b[0;34m\u001b[0m\u001b[0m\n\u001b[1;32m    144\u001b[0m         \u001b[0ma\u001b[0m \u001b[0;34m=\u001b[0m \u001b[0mnp\u001b[0m\u001b[0;34m.\u001b[0m\u001b[0masarray\u001b[0m\u001b[0;34m(\u001b[0m\u001b[0ma\u001b[0m\u001b[0;34m)\u001b[0m\u001b[0;34m\u001b[0m\u001b[0;34m\u001b[0m\u001b[0m\n",
      "\u001b[0;32m~/.conda/envs/neuraltda-4/lib/python3.6/site-packages/numpy/lib/function_base.py\u001b[0m in \u001b[0;36masarray_chkfinite\u001b[0;34m(a, dtype, order)\u001b[0m\n\u001b[1;32m    497\u001b[0m     \u001b[0;32mif\u001b[0m \u001b[0ma\u001b[0m\u001b[0;34m.\u001b[0m\u001b[0mdtype\u001b[0m\u001b[0;34m.\u001b[0m\u001b[0mchar\u001b[0m \u001b[0;32min\u001b[0m \u001b[0mtypecodes\u001b[0m\u001b[0;34m[\u001b[0m\u001b[0;34m'AllFloat'\u001b[0m\u001b[0;34m]\u001b[0m \u001b[0;32mand\u001b[0m \u001b[0;32mnot\u001b[0m \u001b[0mnp\u001b[0m\u001b[0;34m.\u001b[0m\u001b[0misfinite\u001b[0m\u001b[0;34m(\u001b[0m\u001b[0ma\u001b[0m\u001b[0;34m)\u001b[0m\u001b[0;34m.\u001b[0m\u001b[0mall\u001b[0m\u001b[0;34m(\u001b[0m\u001b[0;34m)\u001b[0m\u001b[0;34m:\u001b[0m\u001b[0;34m\u001b[0m\u001b[0;34m\u001b[0m\u001b[0m\n\u001b[1;32m    498\u001b[0m         raise ValueError(\n\u001b[0;32m--> 499\u001b[0;31m             \"array must not contain infs or NaNs\")\n\u001b[0m\u001b[1;32m    500\u001b[0m     \u001b[0;32mreturn\u001b[0m \u001b[0ma\u001b[0m\u001b[0;34m\u001b[0m\u001b[0;34m\u001b[0m\u001b[0m\n\u001b[1;32m    501\u001b[0m \u001b[0;34m\u001b[0m\u001b[0m\n",
      "\u001b[0;31mValueError\u001b[0m: array must not contain infs or NaNs"
     ]
    }
   ],
   "source": []
  },
  {
   "cell_type": "code",
   "execution_count": 125,
   "metadata": {},
   "outputs": [
    {
     "data": {
      "text/plain": [
       "0.023375862159474507"
      ]
     },
     "execution_count": 125,
     "metadata": {},
     "output_type": "execute_result"
    }
   ],
   "source": [
    "np.nanmean(noise_corrs)"
   ]
  },
  {
   "cell_type": "code",
   "execution_count": 126,
   "metadata": {},
   "outputs": [
    {
     "data": {
      "text/plain": [
       "0.119419489060841"
      ]
     },
     "execution_count": 126,
     "metadata": {},
     "output_type": "execute_result"
    }
   ],
   "source": [
    "np.nanmean(signal_corrs)"
   ]
  },
  {
   "cell_type": "code",
   "execution_count": null,
   "metadata": {},
   "outputs": [],
   "source": []
  }
 ],
 "metadata": {
  "kernelspec": {
   "display_name": "Python 3",
   "language": "python",
   "name": "python3"
  },
  "language_info": {
   "codemirror_mode": {
    "name": "ipython",
    "version": 3
   },
   "file_extension": ".py",
   "mimetype": "text/x-python",
   "name": "python",
   "nbconvert_exporter": "python",
   "pygments_lexer": "ipython3",
   "version": "3.6.10"
  }
 },
 "nbformat": 4,
 "nbformat_minor": 4
}
