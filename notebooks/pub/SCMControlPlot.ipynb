{
 "cells": [
  {
   "cell_type": "code",
   "execution_count": 2,
   "metadata": {},
   "outputs": [
    {
     "name": "stdout",
     "output_type": "stream",
     "text": [
      "/home/brad/DailyLog/20180613/\n"
     ]
    }
   ],
   "source": [
    "import subprocess as sp\n",
    "import networkx as nx\n",
    "import matplotlib.pyplot as plt\n",
    "\n",
    "\n",
    "import neuraltda.topology2 as tp2\n",
    "import neuraltda.spectralAnalysis as sa\n",
    "import neuraltda.simpComp as sc\n",
    "import numpy as np\n",
    "import tempfile\n",
    "import h5py as h5\n",
    "import glob\n",
    "import os\n",
    "from importlib import reload\n",
    "import tqdm\n",
    "import pickle\n",
    "%matplotlib inline\n",
    "\n",
    "\n",
    "import datetime\n",
    "daystr = datetime.datetime.now().strftime('%Y%m%d')\n",
    "figsavepth = '/home/brad/DailyLog/'+daystr+'/'\n",
    "print(figsavepth)"
   ]
  },
  {
   "cell_type": "code",
   "execution_count": 32,
   "metadata": {},
   "outputs": [],
   "source": [
    "# Set up birds and block_paths\n",
    "birds = ['B1083', 'B1056', 'B1235', 'B1075']\n",
    "bps = {'B1083': '/home/brad/krista/B1083/P03S03/', 'B1075': '/home/brad/krista/B1075/P01S03/',\n",
    "       'B1235': '/home/brad/krista/B1235/P02S01/', 'B1056': '/home/brad/krista/B1056/klusta/phy020516/Pen01_Lft_AP100_ML1300__Site03_Z2500__B1056_cat_P01_S03_1/',\n",
    "       'B1056': '/home/brad/krista/B1056/klusta/phy020516/Pen01_Lft_AP100_ML1300__Site03_Z2500__B1056_cat_P01_S03_1/'}\n",
    "\n",
    "bird = 'B1235'\n",
    "block_path = bps[bird]\n",
    "\n",
    "# Parameters for binning\n",
    "windt = 10.0               # binning window size in milliseconds\n",
    "dtovr = windt*0.5          # window overlap in milliseconds\n",
    "comment = 'ForSCM' # We're plotting betti curves\n",
    "segment_info = [0,0]       # We want the whole stimulus and just the stimulus\n",
    "\n",
    "# Parameters for Betti curve computation\n",
    "thresh = 13.0                            # Activation threshold\n",
    "nperms = None                            # No permutations of the population - use full pop\n",
    "ncellsperm = 20                          # Number of cells to subsample for each permuation\n",
    "dims = [0,1,2,3,4]                        # Compute first five betti numbers\n",
    "Ntimes = 1000                            # Number of interpolation points\n",
    "stimlen = 6000                           # Stimulus length in milliseconds\n",
    "twin = np.linspace(0, stimlen, Ntimes)   # Vector of interpolation time points\n",
    "\n",
    "stim_dict = {}\n",
    "stim_shuffled_dict = {}\n",
    "stim_scm_dict = {}\n",
    "stim_betticurve_dict = {}\n",
    "stim_shuffled_betticurve_dict = {}"
   ]
  },
  {
   "cell_type": "code",
   "execution_count": 33,
   "metadata": {},
   "outputs": [
    {
     "name": "stdout",
     "output_type": "stream",
     "text": [
      "/home/brad/krista/B1235/P02S01/binned_data/win-10.0_dtovr-5.0_seg-0-0-ForSCM/20180612T220619Z-10.0-5.0.binned\n",
      "Computing trial average\n"
     ]
    }
   ],
   "source": [
    "# Bin data\n",
    "bfdict = tp2.dag_bin(block_path, windt, segment_info, cluster_group=['Good'], dt_overlap=dtovr, comment='ForSCM')\n",
    "bdf = glob.glob(os.path.join(bfdict['raw'], '*.binned'))[0]\n",
    "print(bdf)\n",
    "\n",
    "reload(tp2)\n",
    "# compute real and shuffled betti curves - TrialAverage\n",
    "print('Computing trial average')\n",
    "(bc_tavg, t, tms) = tp2.compute_trialaverage_betti_curves('ForSCMControl', block_path, bdf, thresh, nperms, ncellsperm, dims, twin, windt, dtovr)\n",
    "(bc_tavg_shuff, t, tms) = tp2.compute_trialaverage_betti_curves('ForSCMControl-Shuffle', block_path, bdf, thresh, nperms, ncellsperm, dims, twin, windt, dtovr, shuffle=True)"
   ]
  },
  {
   "cell_type": "code",
   "execution_count": 34,
   "metadata": {},
   "outputs": [],
   "source": [
    "def plot_scm_distribution(scm_bettis, trial, bettinum, maxbin=200, ax=None, **kwargs):\n",
    "    nmaxtot = 0\n",
    "    scm_trial_bettis = scm_bettis[trial]\n",
    "    bettivals = []\n",
    "    try:\n",
    "        for x in scm_trial_bettis:\n",
    "            try:\n",
    "                bettivals.append(x[0][bettinum])\n",
    "            except IndexError:\n",
    "                bettivals.append(0)\n",
    "    except IndexError:\n",
    "        bettivals = [x[bettinum] for x in scm_trial_bettis]\n",
    "    bettivals2 = []\n",
    "    for x in bettivals:\n",
    "        if type(x) is not list:\n",
    "            bettivals2.append(x)\n",
    "        else:\n",
    "            bettivals2.append(x[0])\n",
    "    #print(bettivals)\n",
    "    maxbettival = np.amax(bettivals2)\n",
    "    maxbin = round(1.5*maxbettival)\n",
    "    print(maxbin)\n",
    "    bins = np.arange(maxbin)\n",
    "    (n, bins2, ptaches) = ax.hist(bettivals2, bins, normed=True, stacked=True, **kwargs)\n",
    "    #print(n)\n",
    "    nmax = np.amax(n)\n",
    "    nmaxtot = np.amax([nmax, nmaxtot])\n",
    "    nmaxx = np.amax(bins)\n",
    "    return (nmaxtot, nmaxx)\n",
    "\n",
    "def plot_scm_distrib(scm_bettis, bettinum, maxbin=200, ax=None, **kwargs):\n",
    "    \n",
    "    nmaxtot = 0\n",
    "    \n",
    "    bettis = scm_bettis[:, 0, bettinum]\n",
    "    bettis = bettis[bettis >=0]\n",
    "    #print(bettis)\n",
    "    maxbettival = np.amax(bettis)\n",
    "    maxbin = round(1.5*(maxbettival+1))\n",
    "    bins = np.arange(maxbin)\n",
    "    (n, bins2, ptaches) = ax.hist(bettis, bins, normed=True, stacked=True, **kwargs)\n",
    "    #print(n)\n",
    "    nmax = np.amax(n)\n",
    "    nmaxtot = np.amax([nmax, nmaxtot])\n",
    "    nmaxx = np.amax(bins)\n",
    "    return (nmaxtot, nmaxx)"
   ]
  },
  {
   "cell_type": "code",
   "execution_count": 35,
   "metadata": {},
   "outputs": [],
   "source": [
    "import pickle\n",
    "scm_path = '/home/brad/DailyLog/20180612/'\n",
    "with open(os.path.join(scm_path,'scm_control_save_trialvg_{}.pkl'.format(bird)), 'rb') as f:\n",
    "    stim_scm_dict = pickle.load(f)\n"
   ]
  },
  {
   "cell_type": "code",
   "execution_count": 36,
   "metadata": {},
   "outputs": [
    {
     "name": "stdout",
     "output_type": "stream",
     "text": [
      "66.0\n",
      "[ 1. 23.  6.  0.  0.]\n",
      "68.0\n",
      "[ 1. 23.  4.  0.  0.]\n",
      "38.0\n",
      "[ 1. 20. 12.  0.  0.]\n",
      "60.0\n",
      "[ 1. 37.  5.  1.  0.]\n",
      "39.0\n",
      "[ 1. 21. 11.  0.  0.]\n",
      "38.0\n",
      "[ 1. 21. 10.  6.  0.]\n",
      "48.0\n",
      "[ 1. 15.  2.  0.  0.]\n",
      "39.0\n",
      "[ 1. 18. 12.  0.  0.]\n",
      "24.0\n",
      "[ 1. 23.  6.  0.  0.]\n",
      "24.0\n",
      "[ 1. 23.  4.  0.  0.]\n",
      "64.0\n",
      "[ 1. 20. 12.  0.  0.]\n",
      "75.0\n",
      "[ 1. 37.  5.  1.  0.]\n",
      "74.0\n",
      "[ 1. 21. 11.  0.  0.]\n",
      "104.0\n",
      "[ 1. 21. 10.  6.  0.]\n",
      "34.0\n",
      "[ 1. 15.  2.  0.  0.]\n",
      "96.0\n",
      "[ 1. 18. 12.  0.  0.]\n"
     ]
    },
    {
     "data": {
      "image/png": "[encoded data removed]",
      "text/plain": [
       "<matplotlib.figure.Figure at 0x7fcad67028d0>"
      ]
     },
     "metadata": {},
     "output_type": "display_data"
    }
   ],
   "source": [
    "plt.style.use('/home/brad/code/NeuralTDA/gentnerlab.mplstyle')\n",
    "f, axs = plt.subplots(2, 8,figsize=(20, 4), sharey=True, sharex=False)\n",
    "betti_num = 3\n",
    "bettis = [1,2]\n",
    "stims = list(bc_tavg.keys())[0:8]\n",
    "my = 0\n",
    "for ind, betti_num in enumerate(bettis):\n",
    "    nmaxyt = 0\n",
    "    nmaxxt = 0\n",
    "    for stimind, stim in enumerate(stims):\n",
    "        final_bettis = bc_tavg[stim][:, -1, 0]\n",
    "        ax = axs[ind, stimind]\n",
    "        #final_bettis = stim_betticurve_dict[stim][-1]\n",
    "        b = final_bettis[betti_num]\n",
    "        ax.plot([b, b], [0, 100], 'k--', linewidth=2)\n",
    "        (nmaxy, nmaxx) = plot_scm_distribution([stim_scm_dict[stim]], 0, betti_num, ax=ax, align='left', histtype='stepfilled')\n",
    "        nmaxyt = np.amax([nmaxy, nmaxyt])\n",
    "        nmaxxt = np.amax([nmaxx, nmaxxt])\n",
    "        print(final_bettis)\n",
    "\n",
    "        if ind > 0:\n",
    "            xmax = 250\n",
    "            \n",
    "            ax.set_xticks(np.arange(0, 300, 100))\n",
    "        else:\n",
    "            xmax = 100\n",
    "    \n",
    "        ax.set_xlim([-0.1, xmax])\n",
    "        ax.set_ylim([0, 0.12])\n",
    "        ax.tick_params(labelsize=12)\n",
    "        for i in ax.get_xticklabels():\n",
    "            i.set_fontname('helvetica')\n",
    "        for i in ax.get_yticklabels():\n",
    "            i.set_fontname('helvetica')\n",
    "        for axis in ['top', 'bottom', 'left', 'right']:\n",
    "            ax.spines[axis].set_linewidth(2)\n",
    "            \n",
    "        \n",
    "        #ax.set_title(stim)\n",
    "plt.savefig(os.path.join(figsavepth, 'SCMControl{}_bettiAll_8stims.eps'.format(bird)))"
   ]
  },
  {
   "cell_type": "code",
   "execution_count": null,
   "metadata": {},
   "outputs": [],
   "source": []
  }
 ],
 "metadata": {
  "kernelspec": {
   "display_name": "Python 3",
   "language": "python",
   "name": "python3"
  },
  "language_info": {
   "codemirror_mode": {
    "name": "ipython",
    "version": 3
   },
   "file_extension": ".py",
   "mimetype": "text/x-python",
   "name": "python",
   "nbconvert_exporter": "python",
   "pygments_lexer": "ipython3",
   "version": "3.6.2"
  }
 },
 "nbformat": 4,
 "nbformat_minor": 2
}
