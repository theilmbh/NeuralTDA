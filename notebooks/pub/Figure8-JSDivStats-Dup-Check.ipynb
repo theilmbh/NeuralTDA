{
 "cells": [
  {
   "cell_type": "code",
   "execution_count": 8,
   "metadata": {},
   "outputs": [
    {
     "name": "stdout",
     "output_type": "stream",
     "text": [
      "/home/brad/DailyLog/20191216/\n"
     ]
    }
   ],
   "source": [
    "import numpy as np\n",
    "import pickle\n",
    "import matplotlib.pyplot as plt\n",
    "import os\n",
    "import datetime\n",
    "import glob\n",
    "import pandas as pd\n",
    "from sklearn.linear_model import LogisticRegression\n",
    "%matplotlib inline\n",
    "\n",
    "daystr = datetime.datetime.now().strftime('%Y%m%d')\n",
    "figsavepth = '/home/brad/DailyLog/'+daystr+'/'\n",
    "print(figsavepth)\n",
    "plt.style.use('/home/brad/code/NeuralTDA/gentnerlab.mplstyle')"
   ]
  },
  {
   "cell_type": "code",
   "execution_count": 21,
   "metadata": {},
   "outputs": [],
   "source": [
    "## This notebook is to serve as a check against different versions of the new2 shuffled data. \n",
    "\n",
    "# # JS Div matrices\n",
    "# f_pop1_familiar = '/home/brad/tmpdata/JSpop_fast_B1083-1--1.0-10_LvsR-2.pkl'\n",
    "# f_pop2_familiar = '/home/brad/tmpdata/JSpop_fast_B1083-5-1--1.0-10_LvsR-2.pkl'\n",
    "\n",
    "# f_pop1_familiar_shuffled = '/home/brad/tmpdata/JSpop_B1083-1--1.0-10_LvsR-2-shuffled.pkl'\n",
    "# f_pop2_familiar_shuffled = '/home/brad/tmpdata/JSpop_B1083-5-1--1.0-10_LvsR-2-shuffled.pkl'\n",
    "\n",
    "# f_pop1_unfamiliar = '/home/brad/tmpdata/JSpop_B1083-1--1.0-10_LvsR-2-unfamiliar.pkl'\n",
    "# f_pop2_unfamiliar = '/home/brad/tmpdata/JSpop_B1083-5-1--1.0-10_LvsR-2-unfamiliar.pkl'\n",
    "\n",
    "# f_pop1_unfamiliar_shuffled = '/home/brad/tmpdata/JSpop_B1083-1--1.0-10_LvsR-2-unfamiliar-shuffled.pkl'\n",
    "# f_pop2_unfamiliar_shuffled = '/home/brad/tmpdata/JSpop_B1083-5-1--1.0-10_LvsR-2-unfamiliar-shuffled.pkl'\n",
    "\n",
    "# c_pop1_familiar = '/home/brad/tmpdata/Correl_B1083_fam_orig.pkl'\n",
    "# c_pop2_familiar = '/home/brad/tmpdata/Correl_B1083-5_fam_orig.pkl'\n",
    "\n",
    "# c_pop1_familiar_shuffled = '/home/brad/tmpdata/Correl_B1083_fam_shuff.pkl'\n",
    "# c_pop2_familiar_shuffled = '/home/brad/tmpdata/Correl_B1083-5_fam_shuffle.pkl'\n",
    "\n",
    "# c_pop1_unfamiliar = '/home/brad/tmpdata/Correl_B1083_unfam_orig.pkl'\n",
    "# c_pop2_unfamiliar = '/home/brad/tmpdata/Correl_B1083-5_unfam_orig.pkl'\n",
    "\n",
    "# c_pop1_unfamiliar_shuffled = '/home/brad/tmpdata/Correl_B1083_unfam_shuff.pkl'\n",
    "# c_pop2_unfamiliar_shuffled = '/home/brad/tmpdata/Correl_B1083-5_unfam_shuffle.pkl'\n",
    "\n",
    "\n",
    "\n",
    "\n",
    "f_pop1_familiar = '/home/brad/DailyLog/20200105/JSpop_fast_B1083-1-1-20_LvsR-familiar-original.pkl'\n",
    "f_pop2_familiar = '/home/brad/DailyLog/20200105/JSpop_fast_B1083_5-1-1-20_LvsR-familiar-original.pkl'\n",
    "\n",
    "\n",
    "f_pop1_familiar_shuffled = '/home/brad/DailyLog/20200105/JSpop_fast_B1083-1-1-20_LvsR-familiar-shuffled.pkl'\n",
    "f_pop2_familiar_shuffled = '/home/brad/DailyLog/20200105/JSpop_fast_B1083_5-1-1-20_LvsR-familiar-shuffled.pkl'\n",
    "\n",
    "\n",
    "f_pop1_unfamiliar = '/home/brad/DailyLog/20200105/JSpop_fast_B1083-1-1-20_LvsR-unfamiliar-original.pkl'\n",
    "f_pop2_unfamiliar = '/home/brad/DailyLog/20200105/JSpop_fast_B1083_5-1-1-20_LvsR-unfamiliar-original.pkl'\n",
    "\n",
    "\n",
    "f_pop1_unfamiliar_shuffled = '/home/brad/DailyLog/20200105/JSpop_fast_B1083-1-1-20_LvsR-unfamiliar-shuffled.pkl'\n",
    "f_pop2_unfamiliar_shuffled = '/home/brad/DailyLog/20200105/JSpop_fast_B1083_5-1-1-20_LvsR-unfamiliar-shuffled.pkl'\n",
    "\n",
    "\n",
    "# f_pop1_familiar = '/home/brad/tmpdata/B1083_familiar_original.pkl'\n",
    "# f_pop2_familiar = '/home/brad/tmpdata/B1083-2_familiar_original.pkl'\n",
    "# f_familiar_originals = glob.glob('/home/brad/tmpdata/*_familiar_original.pkl')\n",
    "\n",
    "# f_pop1_familiar_shuffled = '/home/brad/tmpdata/B1083_familiar_shuffled.pkl'\n",
    "# f_pop2_familiar_shuffled = '/home/brad/tmpdata/B1083-2_familiar_shuffled.pkl'\n",
    "# f_familiar_shuffleds = glob.glob('/home/brad/tmpdata/*_familiar_shuffled.pkl')\n",
    "\n",
    "# f_pop1_unfamiliar = '/home/brad/tmpdata/B1083_unfamiliar_original.pkl'\n",
    "# f_pop2_unfamiliar = '/home/brad/tmpdata/B1083-2_unfamiliar_original.pkl'\n",
    "# f_unfamiliar_originals = glob.glob('/home/brad/tmpdata/*_unfamiliar_original.pkl')\n",
    "\n",
    "# f_pop1_unfamiliar_shuffled = '/home/brad/tmpdata/B1083_unfamiliar_shuffled.pkl'\n",
    "# f_pop2_unfamiliar_shuffled = '/home/brad/tmpdata/B1083-2_unfamiliar_shuffled.pkl'\n",
    "# f_unfamiliar_shuffleds = glob.glob('/home/brad/tmpdata/*_unfamiliar_shuffled.pkl')\n",
    "\n",
    "c_pop1_familiar = '/home/brad/DailyLog/20191204/new2_Correl_B1083_fam_orig.pkl'\n",
    "c_pop2_familiar = '/home/brad/DailyLog/20191204/new2_Correl_B1083-5_fam_orig.pkl'\n",
    "c_familiar_original = glob.glob('/home/brad/DailyLog/20191204/new2_Correl_*_fam_orig.pkl')\n",
    "\n",
    "c_pop1_familiar_shuffled = '/home/brad/DailyLog/20191204/new2_Correl_B1083_fam_shuf.pkl'\n",
    "c_pop2_familiar_shuffled = '/home/brad/DailyLog/20191204/new2_Correl_B1083-5_fam_shuf.pkl'\n",
    "c_familiar_shuffled = glob.glob('/home/brad/DailyLog/20191204/new2_Correl_*_fam_shuf.pkl')\n",
    "\n",
    "c_pop1_unfamiliar = '/home/brad/DailyLog/20191204/new2_Correl_B1083_unfam_orig.pkl'\n",
    "c_pop2_unfamiliar = '/home/brad/DailyLog/20191204/new2_Correl_B1083-5_unfam_orig.pkl'\n",
    "c_unfamiliar_original = glob.glob('/home/brad/DailyLog/20191204/new2_Correl_*_unfam_orig.pkl')\n",
    "\n",
    "c_pop1_unfamiliar_shuffled = '/home/brad/DailyLog/20191204/new2_Correl_B1083_unfam_shuf.pkl'\n",
    "c_pop2_unfamiliar_shuffled = '/home/brad/DailyLog/20191204/new2_Correl_B1083-5_unfam_shuf.pkl'\n",
    "c_familiar_shuffled = glob.glob('/home/brad/DailyLog/20191204/new2_Correl_*_unfam_shuf.pkl')\n",
    "\n",
    "\n",
    "data_files = [f_pop1_familiar, f_pop2_familiar,\n",
    "              f_pop1_familiar_shuffled, f_pop2_familiar_shuffled,\n",
    "              f_pop1_unfamiliar, f_pop2_unfamiliar,\n",
    "              f_pop1_unfamiliar_shuffled, f_pop2_unfamiliar_shuffled]\n",
    "plot_titles = ('B1083 Population 1 Familiar', 'B1083 Population 2 Familiar',\n",
    "               'B1083 Population 1 Familiar Shuffled', 'B1083 Population 2 Familiar Shuffled',\n",
    "               'B1083 Population 1 Unfamiliar', 'B1083 Population 2 Unfamiliar',\n",
    "               'B1083 Population 1 Unfamiliar Shuffled', 'B1083 Population 2 Unfamiliar Shuffled')"
   ]
  },
  {
   "cell_type": "code",
   "execution_count": 22,
   "metadata": {},
   "outputs": [],
   "source": [
    "# cond: -1 = different, 1 = same class\n",
    "def build_lmm_dataset(div_matrix):\n",
    "    n, _ = np.shape(div_matrix)\n",
    "    h = int(n/4)\n",
    "    \n",
    "    LR_mask = np.zeros((n, n))\n",
    "    LR_mask[0:h, 3*h:n] = 1\n",
    "    LR_mask[h:2*h, 2*h:3*h] = 1\n",
    "    LR_inds = np.nonzero(LR_mask)\n",
    "    LR_data = div_matrix[LR_inds]\n",
    "    print(LR_data.shape)\n",
    "    LR_condition = len(LR_inds[0])*['different']\n",
    "\n",
    "    \n",
    "    LL_data = div_matrix[0:h, h:2*h].flatten()\n",
    "    LL_condition = len(LL_data)*['same']\n",
    "\n",
    "    \n",
    "    RR_data = div_matrix[2*h:3*h, 3*h:n].flatten()\n",
    "\n",
    "    RR_condition = len(RR_data)*['same']\n",
    "\n",
    "    \n",
    "    dat_cat = np.concatenate((LL_data, LR_data.flatten(), RR_data))\n",
    "\n",
    "    cond_cat = np.concatenate((LL_condition, LR_condition, RR_condition))\n",
    "    \n",
    "    df_out = pd.DataFrame(data={'JS': dat_cat,'cond': cond_cat})\n",
    "    return df_out\n",
    "\n",
    "\n",
    "def build_LRpredict_dataset(div_matrix):\n",
    "    n, _ = div_matrix.shape\n",
    "    print(n)\n",
    "    LR_classes = np.concatenate([int(n/2)*['L'], int(n/2)*['R']])\n",
    "    featmat = np.zeros((n, n-1))\n",
    "    for trial in range(n):\n",
    "        trialdat = div_matrix[trial, :]\n",
    "        trialdat = np.concatenate([trialdat[0:trial], trialdat[trial+1:]])\n",
    "        featmat[trial, :] = trialdat\n",
    "    return (LR_classes, featmat)\n",
    "    \n",
    "    \n",
    "def grouped_boxplot_with_scatter(data, order, ngroups=1, group_spacing=2, fig_path=None, colors=None, alphas=None, labels=None, positions=None, scatter_style=None, marker_size = 1, figsize=(5,4)):\n",
    "    ''' From Zeke \n",
    "        Plot grouped boxplots\n",
    "        data is in the form of a list of arrays, Ngroups*nboxes/group\n",
    "    \n",
    "    '''\n",
    "    #colors = np.array(['pink', 'lightblue', 'lightgreen', 'pink', 'lightblue', 'lightgreen'])\n",
    "    #alphas = np.array([0.25, 0.25, 0.25, 0.75, 0.75, 0.75])\n",
    "    #labels = np.array(['CON/BOS', 'CON/Mot-wise', 'CON/Pc-wise', 'BOS/BOS', 'BOS/Mot-wise', 'BOS/Pc-wise'])\n",
    "   \n",
    "    nboxes = len(data)\n",
    "    if alphas is None:\n",
    "        alphas = np.array(nboxes*[1.0])\n",
    "        \n",
    "    dat_plot = [data[i] for i in order]\n",
    "    \n",
    "    # compute positions\n",
    "    nboxes_per_group = int(int(len(data)) / int(ngroups))\n",
    "    positions = np.arange(nboxes_per_group) +1\n",
    "    for group in range(1, ngroups):\n",
    "        positions = np.concatenate([positions, np.arange(max(positions)+group_spacing, max(positions)+group_spacing+nboxes_per_group)])\n",
    "        \n",
    "    \n",
    "    box_plot_fig = plt.figure(figsize=figsize)\n",
    "    ax = box_plot_fig.add_subplot(111)\n",
    "    \n",
    "    medianprops = dict(color='black')\n",
    "    if positions is not None:\n",
    "        box_plot = ax.boxplot(dat_plot, 0, '', positions=positions, patch_artist=False, whis='range', widths=1,\n",
    "                              medianprops=medianprops)\n",
    "        xlim1 = max(positions)+1\n",
    "    else:\n",
    "        box_plot = ax.boxplot(dat_plot, 0, '', patch_artist=False, whis='range', widths=1, medianprops=medianprops)\n",
    "        xlim1 = max(order)+1\n",
    "\n",
    "        \n",
    "    # Do scatter\n",
    "    scatter_plots = []\n",
    "    \n",
    "    for i in order:\n",
    "        xs = np.array(len(data[i])*[positions[i]])+0.1*np.random.randn(len(data[i]))\n",
    "        if scatter_style is None:\n",
    "            scatter_plot = ax.scatter(xs, data[i], s=marker_size, alpha=1) \n",
    "        else:\n",
    "            scatter_plot = ax.scatter(xs, data[i], s=marker_size, alpha=1, marker=scatter_style[i])\n",
    "        scatter_plots.append(scatter_plot)\n",
    "        \n",
    "    # Compute group label positions\n",
    "    labelpos =[]\n",
    "    for group in range(ngroups):\n",
    "        pos = positions[group*(nboxes_per_group):group*(nboxes_per_group)+nboxes_per_group]\n",
    "        labelpos.append(np.mean(pos))\n",
    "    \n",
    "    plt.xticks(labelpos, labels, rotation=0)\n",
    "    plt.grid(False)\n",
    "    plt.ylim(0.0, 1)\n",
    "    plt.xlim(0.0, xlim1)\n",
    "    ax.tick_params(axis='both', labelsize=18)\n",
    "    if colors is not None:\n",
    "        for patch, color, alpha in zip(scatter_plots, colors[order], alphas[order]):\n",
    "                patch.set_facecolor(color)\n",
    "                #patch.set_alpha(0.0)\n",
    "    \n",
    "    #label_diff(1, 2, '**', dat_plot[0], dat_plot[1], ax)\n",
    "    #plt.savefig(fig_path)\n",
    "    return (box_plot_fig, positions)\n",
    "\n",
    "def label_diff(i,j,text,X,Y, ax):\n",
    "    x = (X[i]+X[j])/2.0\n",
    "    y = 1.01*max(max(Y[i]), max(Y[j]))\n",
    "    dx = abs(X[i]-X[j])\n",
    "    print(x, y, dx)\n",
    "    props = {'connectionstyle':'bar','arrowstyle':'-',\\\n",
    "                 'shrinkA':50,'shrinkB':50,'linewidth':1}\n",
    "    #props = {'connectionstyle':'bar','arrowstyle':'-','linewidth':1}\n",
    "    ax.annotate(text, xy=(X[i], y), zorder=10)\n",
    "    ax.annotate('', xy=(X[i],y), xytext=(X[j],y), arrowprops=props)\n",
    "    print(X[j], y)\n",
    "    \n",
    "from matplotlib.markers import TICKDOWN\n",
    "def significance_bar(start,end,height,displaystring, stringheightfactor=1.0075, linewidth = 1.2,markersize = 8,boxpad  =0.3,fontsize = 15,color = 'k'):\n",
    "    # draw a line with downticks at the ends\n",
    "    plt.plot([start,end],[height]*2,'-',color = color,lw=linewidth,marker = TICKDOWN,markeredgewidth=linewidth,markersize = markersize)\n",
    "    # draw the text with a bounding box covering up the line\n",
    "    plt.text(0.5*(start+end),stringheightfactor*height,displaystring,ha = 'center',va='center',size = fontsize)\n",
    "    #bbox=dict(facecolor='1.', edgecolor='none',boxstyle='Square,pad='+str(boxpad))\n"
   ]
  },
  {
   "cell_type": "code",
   "execution_count": 23,
   "metadata": {},
   "outputs": [],
   "source": [
    "with open(f_pop1_familiar, 'rb') as f:\n",
    "    div = pickle.load(f)\n",
    "    \n",
    "with open(f_pop1_familiar_shuffled, 'rb') as f:\n",
    "    divs = pickle.load(f)\n",
    "    \n",
    "with open(c_pop1_familiar, 'rb') as f:\n",
    "    cor = pickle.load(f)\n",
    "    \n",
    "with open(c_pop1_familiar_shuffled, 'rb') as f:\n",
    "    cors = pickle.load(f)\n",
    "    \n",
    "with open(f_pop2_familiar, 'rb') as f:\n",
    "    div2 = pickle.load(f)\n",
    "    \n",
    "with open(f_pop2_familiar_shuffled, 'rb') as f:\n",
    "    divs2 = pickle.load(f)\n",
    "    \n",
    "with open(c_pop2_familiar, 'rb') as f:\n",
    "    cor2 = pickle.load(f)\n",
    "    \n",
    "with open(c_pop2_familiar_shuffled, 'rb') as f:\n",
    "    cors2 = pickle.load(f)"
   ]
  },
  {
   "cell_type": "code",
   "execution_count": 24,
   "metadata": {},
   "outputs": [
    {
     "name": "stdout",
     "output_type": "stream",
     "text": [
      "(800,)\n",
      "(800,)\n",
      "(800,)\n",
      "(800,)\n",
      "(800,)\n",
      "(800,)\n",
      "(800,)\n",
      "(800,)\n"
     ]
    }
   ],
   "source": [
    "dataset = build_lmm_dataset(div)\n",
    "dataset_s = build_lmm_dataset(divs)\n",
    "cataset = build_lmm_dataset(cor)\n",
    "cataset_s = build_lmm_dataset(cors)\n",
    "\n",
    "dataset2 = build_lmm_dataset(div2)\n",
    "dataset2_s = build_lmm_dataset(divs2)\n",
    "cataset2 = build_lmm_dataset(cor2)\n",
    "cataset2_s = build_lmm_dataset(cors2)"
   ]
  },
  {
   "cell_type": "code",
   "execution_count": null,
   "metadata": {},
   "outputs": [],
   "source": [
    "plt.figure()\n",
    "cataset[cataset['cond']=='same'].plot.kde(ax=plt.gca())\n",
    "cataset[cataset['cond']=='different'].plot.kde(ax = plt.gca())"
   ]
  },
  {
   "cell_type": "code",
   "execution_count": null,
   "metadata": {},
   "outputs": [],
   "source": [
    "withindiff = cor[0:20, 20:40]\n",
    "btwndiff = cor[0:20, -20:-1]\n",
    "plt.imshow(withindiff)\n",
    "plt.figure()\n",
    "plt.imshow(btwndiff)"
   ]
  },
  {
   "cell_type": "code",
   "execution_count": null,
   "metadata": {},
   "outputs": [],
   "source": [
    "btwndiff"
   ]
  },
  {
   "cell_type": "code",
   "execution_count": 25,
   "metadata": {},
   "outputs": [
    {
     "name": "stderr",
     "output_type": "stream",
     "text": [
      "100%|██████████| 8/8 [00:17<00:00,  2.18s/it]\n"
     ]
    }
   ],
   "source": [
    "csss = [dataset, dataset_s, cataset, cataset_s,\n",
    "        dataset2, dataset2_s, cataset2, cataset2_s]\n",
    "scsv = []\n",
    "from tqdm import tqdm\n",
    "for ds in tqdm(csss):\n",
    "    \n",
    "    N_tests = 240\n",
    "    train_pct = 0.8\n",
    "    test_pct = 1 - train_pct\n",
    "    targ = ds['cond'].values\n",
    "    feat = ds['JS'].values\n",
    "    scores = []\n",
    "    for test in range(N_tests):\n",
    "        ntarg = int(train_pct*len(targ))\n",
    "        perm = np.random.permutation(np.arange(len(targ)))\n",
    "        targ_train = targ[perm[0:ntarg]]\n",
    "        feat_train = feat[perm[0:ntarg]][:, np.newaxis]\n",
    "        targ_test = targ[perm[ntarg:]]\n",
    "        feat_test = feat[perm[ntarg:]][:, np.newaxis]\n",
    "        lr = LogisticRegression()\n",
    "        lr.fit(feat_train, targ_train)\n",
    "        \n",
    "        scores.append(lr.score(feat_test, targ_test))\n",
    "    scsv.append(scores)"
   ]
  },
  {
   "cell_type": "code",
   "execution_count": null,
   "metadata": {},
   "outputs": [],
   "source": [
    "scsv"
   ]
  },
  {
   "cell_type": "code",
   "execution_count": null,
   "metadata": {},
   "outputs": [],
   "source": [
    "scores_s = []\n",
    "for test in range(N_tests):\n",
    "    ntarg = int(train_pct*len(targ))\n",
    "    perm = np.random.permutation(np.arange(len(targ)))\n",
    "    targ_train = targs[perm[0:ntarg]]\n",
    "    feat_train = feats[perm[0:ntarg]][:, np.newaxis]\n",
    "    targ_test = targs[perm[ntarg:]]\n",
    "    feat_test = feats[perm[ntarg:]][:, np.newaxis]\n",
    "    lr = LogisticRegression()\n",
    "    lr.fit(feat_train, targ_train)\n",
    "    scores_s.append(lr.score(feat_test, targ_test))"
   ]
  },
  {
   "cell_type": "code",
   "execution_count": 26,
   "metadata": {},
   "outputs": [
    {
     "data": {
      "image/png": "[encoded data removed]",
      "text/plain": [
       "<matplotlib.figure.Figure at 0x7f7640a3f358>"
      ]
     },
     "metadata": {},
     "output_type": "display_data"
    }
   ],
   "source": [
    "colors = np.tile([\"#4878CF\", \"#6ACC65\", \"#D65F5F\",\"#B47CC7\"], 2)\n",
    "colors = np.tile(['#111111', '#111111', 'gray', 'gray'], 2)\n",
    "marker_style = np.tile(['o', 'x', 'o', 'x'], 2)\n",
    "(fig, pos) = grouped_boxplot_with_scatter(scsv, order=range(8), ngroups=2, labels=['Pop. 1', 'Pop. 2'], colors=colors, scatter_style=marker_style, figsize=(10,8), marker_size=40)\n",
    "\n",
    "\n",
    "significance_bar(pos[0],pos[1], 0.97 , '***',linewidth = 1,markersize = 8,boxpad  =0.01,fontsize = 26,color = 'k')\n",
    "significance_bar(pos[0], pos[2], 1.03, '***', linewidth = 1,markersize = 8,boxpad  =0.01,fontsize = 26,color = 'k')\n",
    "significance_bar(pos[2], pos[3], 0.97, '***', linewidth = 1,markersize = 8,boxpad  =0.01,fontsize = 26,color = 'k')\n",
    "\n",
    "significance_bar(pos[4],pos[5], 0.97 , '***',linewidth = 1,markersize = 8,boxpad  =0.01,fontsize = 26,color = 'k')\n",
    "significance_bar(pos[4], pos[6], 1.03, '***',  linewidth = 1,markersize = 8,boxpad  =0.01,fontsize = 26,color = 'k')\n",
    "significance_bar(pos[6], pos[7], 0.97, '***', linewidth = 1,markersize = 8,boxpad  =0.01,fontsize = 26,color = 'k')\n",
    "plt.ylim([0.30, 1.1])\n",
    "\n",
    "plt.savefig(os.path.join(figsavepth, 'JSDIVSTATS.pdf'))"
   ]
  },
  {
   "cell_type": "code",
   "execution_count": null,
   "metadata": {},
   "outputs": [],
   "source": [
    "pos[4]"
   ]
  },
  {
   "cell_type": "markdown",
   "metadata": {},
   "source": []
  },
  {
   "cell_type": "code",
   "execution_count": 27,
   "metadata": {},
   "outputs": [
    {
     "name": "stdout",
     "output_type": "stream",
     "text": [
      "TEST: Pop1JS-Shuffle\n",
      "Ttest_indResult(statistic=112.79405686573355, pvalue=0.0)\n",
      "TEST: Pop1JS-Pop1Corr\n",
      "Ttest_indResult(statistic=103.36504649210174, pvalue=0.0)\n",
      "TEST: Pop1Corr-Shuffle\n",
      "Ttest_indResult(statistic=12.427767289218876, pvalue=6.360142839609772e-31)\n",
      "TEST: Pop2JS-Shuffle\n",
      "Ttest_indResult(statistic=44.49137356158066, pvalue=4.621801512236054e-172)\n",
      "TEST: Pop2JS-Pop2Corr\n",
      "Ttest_indResult(statistic=36.31196983173898, pvalue=1.5870340742232394e-139)\n",
      "TEST: Pop2Corr-Shuffle\n",
      "Ttest_indResult(statistic=29.624735347662725, pvalue=2.869705505307659e-110)\n"
     ]
    }
   ],
   "source": [
    "from scipy.stats import ttest_ind\n",
    "ttests =[(0,1), (0,2), (2,3), (4,5), (4, 6), (6, 7)]\n",
    "ttest_names = ['Pop1JS-Shuffle', 'Pop1JS-Pop1Corr', 'Pop1Corr-Shuffle', 'Pop2JS-Shuffle', 'Pop2JS-Pop2Corr', 'Pop2Corr-Shuffle']\n",
    "for t, n in zip(ttests, ttest_names):\n",
    "    res = ttest_ind(scsv[t[0]], scsv[t[1]])\n",
    "    print('TEST: {}'.format(n))\n",
    "    print(res)\n"
   ]
  },
  {
   "cell_type": "code",
   "execution_count": null,
   "metadata": {},
   "outputs": [],
   "source": [
    "ttest_ind(scsv[4], scsv[5])"
   ]
  },
  {
   "cell_type": "code",
   "execution_count": null,
   "metadata": {},
   "outputs": [],
   "source": [
    "lr.get_params()"
   ]
  },
  {
   "cell_type": "code",
   "execution_count": null,
   "metadata": {},
   "outputs": [],
   "source": [
    "test = build_LRpredict_dataset(div2+div2.T)\n",
    "tests = build_LRpredict_dataset(divs2+divs2.T)"
   ]
  },
  {
   "cell_type": "code",
   "execution_count": null,
   "metadata": {},
   "outputs": [],
   "source": [
    "N_tests = 120\n",
    "train_pct = 0.8\n",
    "test_pct = 1 - train_pct\n",
    "targ = test[0]\n",
    "feat = test[1]\n",
    "targs = tests[0]\n",
    "feats = tests[1]\n",
    "scores = []\n",
    "scores_s = []\n",
    "for test in range(N_tests):\n",
    "    ntarg = int(train_pct*len(targ))\n",
    "    perm = np.random.permutation(np.arange(len(targ)))\n",
    "    targ_train = targ[perm[0:ntarg]]\n",
    "    feat_train = feat[perm[0:ntarg],:]\n",
    "    targ_test = targ[perm[ntarg:]]\n",
    "    feat_test = feat[perm[ntarg:], :]\n",
    "    lr = LogisticRegression()\n",
    "    lr.fit(feat_train, targ_train)\n",
    "    \n",
    "    perms = np.random.permutation(np.arange(len(targ)))\n",
    "    targs_train = targs[perms[0:ntarg]]\n",
    "    feats_train = feats[perms[0:ntarg],:]\n",
    "    targs_test = targs[perms[ntarg:]]\n",
    "    feats_test = feats[perms[ntarg:], :]\n",
    "    lrs = LogisticRegression()\n",
    "    lrs.fit(feat_train, targ_train)\n",
    "    \n",
    "    scores.append(lr.score(feat_test, targ_test))\n",
    "    scores_s.append(lrs.score(feats_test, targs_test))"
   ]
  },
  {
   "cell_type": "code",
   "execution_count": null,
   "metadata": {},
   "outputs": [],
   "source": [
    "plt.boxplot([scores, scores_s])"
   ]
  },
  {
   "cell_type": "code",
   "execution_count": null,
   "metadata": {},
   "outputs": [],
   "source": [
    "scores"
   ]
  },
  {
   "cell_type": "code",
   "execution_count": null,
   "metadata": {},
   "outputs": [],
   "source": [
    "scores_s"
   ]
  },
  {
   "cell_type": "code",
   "execution_count": null,
   "metadata": {},
   "outputs": [],
   "source": []
  }
 ],
 "metadata": {
  "kernelspec": {
   "display_name": "Python 3",
   "language": "python",
   "name": "python3"
  },
  "language_info": {
   "codemirror_mode": {
    "name": "ipython",
    "version": 3
   },
   "file_extension": ".py",
   "mimetype": "text/x-python",
   "name": "python",
   "nbconvert_exporter": "python",
   "pygments_lexer": "ipython3",
   "version": "3.6.2"
  }
 },
 "nbformat": 4,
 "nbformat_minor": 2
}
