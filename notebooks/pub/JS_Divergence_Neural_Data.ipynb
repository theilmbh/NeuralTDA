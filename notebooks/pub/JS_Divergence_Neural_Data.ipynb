{
 "cells": [
  {
   "cell_type": "code",
   "execution_count": 1,
   "metadata": {},
   "outputs": [
    {
     "name": "stderr",
     "output_type": "stream",
     "text": [
      "/home/brad/.conda/envs/neuraltda-4/lib/python3.6/site-packages/h5py/__init__.py:36: FutureWarning: Conversion of the second argument of issubdtype from `float` to `np.floating` is deprecated. In future, it will be treated as `np.float64 == np.dtype(float).type`.\n",
      "  from ._conv import register_converters as _register_converters\n"
     ]
    },
    {
     "name": "stdout",
     "output_type": "stream",
     "text": [
      "/home/brad/DailyLog/20180606/\n"
     ]
    }
   ],
   "source": [
    "###\n",
    "# The goal of this notebook is to:\n",
    "# - Take two neural populations\n",
    "# - Compute the JS divergence between stimuli pairs for each population (the same stimuli pairs)\n",
    "# - Compute the mutual information between the distributions of JS divergences\n",
    "\n",
    "import glob\n",
    "import os\n",
    "from importlib import reload\n",
    "import pickle\n",
    "import datetime\n",
    "\n",
    "import numpy as np\n",
    "import scipy as sp\n",
    "import pandas as pd\n",
    "import h5py as h5\n",
    "from tqdm import tqdm_notebook as tqdm\n",
    "import matplotlib.pyplot as plt\n",
    "%matplotlib inline\n",
    "\n",
    "import neuraltda.topology2 as tp2\n",
    "import neuraltda.spectralAnalysis as sa\n",
    "import neuraltda.simpComp as sc\n",
    "import pycuslsa as pyslsa\n",
    "\n",
    "daystr = datetime.datetime.now().strftime('%Y%m%d')\n",
    "figsavepth = '/home/brad/DailyLog/'+daystr+'/'\n",
    "print(figsavepth)"
   ]
  },
  {
   "cell_type": "code",
   "execution_count": 2,
   "metadata": {},
   "outputs": [],
   "source": [
    "# Set up birds and block_paths\n",
    "birds = ['B1083', 'B1056', 'B1235', 'B1075']\n",
    "bps = {'B1083': '/home/brad/krista/B1083/P03S03/', 'B1075': '/home/brad/krista/B1075/P01S03/',\n",
    "       'B1235': '/home/brad/krista/B1235/P02S01/', 'B1056': '/home/brad/krista/B1056/klusta/phy020516/Pen01_Lft_AP100_ML1300__Site03_Z2500__B1056_cat_P01_S03_1/',\n",
    "       'B1056': '/home/brad/krista/B1056/klusta/phy020516/Pen01_Lft_AP100_ML1300__Site03_Z2500__B1056_cat_P01_S03_1/'}\n",
    "\n",
    "# Binning Parameters\n",
    "windt = 10.0                      # milliseconds\n",
    "dtovr = 0.5*windt                 # milliseconds\n",
    "segment_info = [0, 0]             # use full Trial\n",
    "cluster_group = ['Good']          # use just good clusters\n",
    "comment = 'JS_MI_TEST'            # BootStrap Populations\n",
    "bdfs = {}                         # Dictionary to store bdf"
   ]
  },
  {
   "cell_type": "code",
   "execution_count": null,
   "metadata": {},
   "outputs": [],
   "source": [
    "# Loop through each bird in our list and bin the data\n",
    "for bird in birds:\n",
    "    block_path = bps[bird]\n",
    "    bfdict = tp2.dag_bin(block_path, windt, segment_info, cluster_group=cluster_group, dt_overlap=dtovr, comment=comment)\n",
    "    bdf = glob.glob(os.path.join(bfdict['raw'], '*.binned'))[0]\n",
    "    print(bdf)\n",
    "    bdfs[bird] = bdf"
   ]
  },
  {
   "cell_type": "code",
   "execution_count": 3,
   "metadata": {},
   "outputs": [],
   "source": [
    "bdfs={'B1083':'/home/brad/krista/B1083/P03S03/binned_data/win-10.0_dtovr-5.0_seg-0-0-JS_MI_TEST/20180525T180824Z-10.0-5.0.binned',\n",
    "'B1056':'/home/brad/krista/B1056/klusta/phy020516/Pen01_Lft_AP100_ML1300__Site03_Z2500__B1056_cat_P01_S03_1/binned_data/win-10.0_dtovr-5.0_seg-0-0-JS_MI_TEST/20180525T180834Z-10.0-5.0.binned',\n",
    "'B1235':'/home/brad/krista/B1235/P02S01/binned_data/win-10.0_dtovr-5.0_seg-0-0-JS_MI_TEST/20180525T180847Z-10.0-5.0.binned',\n",
    "'B1075':'/home/brad/krista/B1075/P01S03/binned_data/win-10.0_dtovr-5.0_seg-0-0-JS_MI_TEST/20180525T180856Z-10.0-5.0.binned'}\n"
   ]
  },
  {
   "cell_type": "code",
   "execution_count": 4,
   "metadata": {},
   "outputs": [],
   "source": [
    "test_birds = ['B1075', 'B1083','B1056', 'B1235']\n",
    "test_birds = ['B1056', 'B1235']\n",
    "test_birds = ['B1056']"
   ]
  },
  {
   "cell_type": "code",
   "execution_count": 5,
   "metadata": {},
   "outputs": [
    {
     "name": "stdout",
     "output_type": "stream",
     "text": [
      "['A_scaled_burung', 'B_scaled_burung', 'C_scaled_burung', 'D_scaled_burung', 'E_scaled_burung', 'F_scaled_burung', 'G_scaled_burung', 'H_scaled_burung', 'I_scaled_burung', 'J_scaled_burung', 'K_scaled_burung', 'L_scaled_burung', 'M_scaled_burung', 'N_scaled_burung', 'O_scaled_burung', 'P_scaled_burung']\n"
     ]
    }
   ],
   "source": [
    "# extract population tensors for the populations of interest\n",
    "population_tensors = {}\n",
    "\n",
    "for bird in test_birds:\n",
    "    bdf = bdfs[bird]\n",
    "    population_tensors[bird] = []\n",
    "    # open the binned data file\n",
    "    with h5.File(bdf, 'r') as f:\n",
    "        stimuli = f.keys()\n",
    "        print(list(stimuli))\n",
    "        for stim in sorted(stimuli):\n",
    "            poptens = np.array(f[stim]['pop_tens'])\n",
    "            population_tensors[bird].append([poptens, stim])"
   ]
  },
  {
   "cell_type": "code",
   "execution_count": 6,
   "metadata": {},
   "outputs": [],
   "source": [
    "# flatten the list of population tensors for each population\n",
    "threshold = 6\n",
    "\n",
    "def threshold_poptens(tens, thresh):\n",
    "    ncell, nwins, ntrials = tens.shape\n",
    "    frs = np.mean(tens, axis=1)\n",
    "    tfr = thresh*frs\n",
    "    tfrtens = np.tile(tfr[:, np.newaxis, :], (1, nwins, 1))\n",
    "    bintens = 1*np.greater(tens, tfrtens)\n",
    "    return bintens\n",
    "\n",
    "def shuffle_binmat(binmat):\n",
    "    ncells, nwin = binmat.shape\n",
    "    for i in range(ncells):\n",
    "        binmat[i, :] = np.random.permutation(binmat[i, :])\n",
    "    return binmat"
   ]
  },
  {
   "cell_type": "code",
   "execution_count": null,
   "metadata": {},
   "outputs": [],
   "source": [
    "popA_binmats = []\n",
    "popB_binmats = []\n",
    "popA_SCGs = []\n",
    "popB_SCGs = []\n",
    "binmats = [popA_binmats, popB_binmats]\n",
    "binmats = [[], [], [], []]\n",
    "SCGs = [[], [], [], []]\n",
    "for SCG, binmatlist, bird in zip(SCGs, binmats, test_birds):\n",
    "    bird_tensors = population_tensors[bird]\n",
    "    for bird_tensor, stim in bird_tensors:\n",
    "        ncells, nwin, ntrials = bird_tensor.shape\n",
    "        bin_tensor = threshold_poptens(bird_tensor, threshold)\n",
    "        for trial in tqdm(range(ntrials)):\n",
    "            binmatlist.append(bin_tensor[:, :, trial])\n",
    "            ms = sc.binarytomaxsimplex(bin_tensor[:, :, trial], rDup=True)\n",
    "            SCG.append(pyslsa.build_SCG(ms))"
   ]
  },
  {
   "cell_type": "code",
   "execution_count": 7,
   "metadata": {
    "scrolled": true
   },
   "outputs": [
    {
     "data": {
      "application/vnd.jupyter.widget-view+json": {
       "model_id": "30bde983909746a69b5c433d336cec49",
       "version_major": 2,
       "version_minor": 0
      },
      "text/html": [
       "<p>Failed to display Jupyter Widget of type <code>HBox</code>.</p>\n",
       "<p>\n",
       "  If you're reading this message in the Jupyter Notebook or JupyterLab Notebook, it may mean\n",
       "  that the widgets JavaScript is still loading. If this message persists, it\n",
       "  likely means that the widgets JavaScript library is either not installed or\n",
       "  not enabled. See the <a href=\"https://ipywidgets.readthedocs.io/en/stable/user_install.html\">Jupyter\n",
       "  Widgets Documentation</a> for setup instructions.\n",
       "</p>\n",
       "<p>\n",
       "  If you're reading this message in another frontend (for example, a static\n",
       "  rendering on GitHub or <a href=\"https://nbviewer.jupyter.org/\">NBViewer</a>),\n",
       "  it may mean that your frontend doesn't currently support widgets.\n",
       "</p>\n"
      ],
      "text/plain": [
       "HBox(children=(IntProgress(value=0, max=20), HTML(value='')))"
      ]
     },
     "metadata": {},
     "output_type": "display_data"
    },
    {
     "name": "stdout",
     "output_type": "stream",
     "text": [
      "\n"
     ]
    },
    {
     "data": {
      "application/vnd.jupyter.widget-view+json": {
       "model_id": "7705e63458f84d7cafaa204c9183cc60",
       "version_major": 2,
       "version_minor": 0
      },
      "text/html": [
       "<p>Failed to display Jupyter Widget of type <code>HBox</code>.</p>\n",
       "<p>\n",
       "  If you're reading this message in the Jupyter Notebook or JupyterLab Notebook, it may mean\n",
       "  that the widgets JavaScript is still loading. If this message persists, it\n",
       "  likely means that the widgets JavaScript library is either not installed or\n",
       "  not enabled. See the <a href=\"https://ipywidgets.readthedocs.io/en/stable/user_install.html\">Jupyter\n",
       "  Widgets Documentation</a> for setup instructions.\n",
       "</p>\n",
       "<p>\n",
       "  If you're reading this message in another frontend (for example, a static\n",
       "  rendering on GitHub or <a href=\"https://nbviewer.jupyter.org/\">NBViewer</a>),\n",
       "  it may mean that your frontend doesn't currently support widgets.\n",
       "</p>\n"
      ],
      "text/plain": [
       "HBox(children=(IntProgress(value=0, max=20), HTML(value='')))"
      ]
     },
     "metadata": {},
     "output_type": "display_data"
    },
    {
     "name": "stdout",
     "output_type": "stream",
     "text": [
      "\n"
     ]
    },
    {
     "data": {
      "application/vnd.jupyter.widget-view+json": {
       "model_id": "df7af52cc6aa4b22bbd04b6ea855ee36",
       "version_major": 2,
       "version_minor": 0
      },
      "text/html": [
       "<p>Failed to display Jupyter Widget of type <code>HBox</code>.</p>\n",
       "<p>\n",
       "  If you're reading this message in the Jupyter Notebook or JupyterLab Notebook, it may mean\n",
       "  that the widgets JavaScript is still loading. If this message persists, it\n",
       "  likely means that the widgets JavaScript library is either not installed or\n",
       "  not enabled. See the <a href=\"https://ipywidgets.readthedocs.io/en/stable/user_install.html\">Jupyter\n",
       "  Widgets Documentation</a> for setup instructions.\n",
       "</p>\n",
       "<p>\n",
       "  If you're reading this message in another frontend (for example, a static\n",
       "  rendering on GitHub or <a href=\"https://nbviewer.jupyter.org/\">NBViewer</a>),\n",
       "  it may mean that your frontend doesn't currently support widgets.\n",
       "</p>\n"
      ],
      "text/plain": [
       "HBox(children=(IntProgress(value=0, max=20), HTML(value='')))"
      ]
     },
     "metadata": {},
     "output_type": "display_data"
    },
    {
     "name": "stdout",
     "output_type": "stream",
     "text": [
      "\n"
     ]
    },
    {
     "data": {
      "application/vnd.jupyter.widget-view+json": {
       "model_id": "ca1d43dde0fb4a6685ef755698daf886",
       "version_major": 2,
       "version_minor": 0
      },
      "text/html": [
       "<p>Failed to display Jupyter Widget of type <code>HBox</code>.</p>\n",
       "<p>\n",
       "  If you're reading this message in the Jupyter Notebook or JupyterLab Notebook, it may mean\n",
       "  that the widgets JavaScript is still loading. If this message persists, it\n",
       "  likely means that the widgets JavaScript library is either not installed or\n",
       "  not enabled. See the <a href=\"https://ipywidgets.readthedocs.io/en/stable/user_install.html\">Jupyter\n",
       "  Widgets Documentation</a> for setup instructions.\n",
       "</p>\n",
       "<p>\n",
       "  If you're reading this message in another frontend (for example, a static\n",
       "  rendering on GitHub or <a href=\"https://nbviewer.jupyter.org/\">NBViewer</a>),\n",
       "  it may mean that your frontend doesn't currently support widgets.\n",
       "</p>\n"
      ],
      "text/plain": [
       "HBox(children=(IntProgress(value=0, max=20), HTML(value='')))"
      ]
     },
     "metadata": {},
     "output_type": "display_data"
    },
    {
     "name": "stdout",
     "output_type": "stream",
     "text": [
      "\n"
     ]
    },
    {
     "data": {
      "application/vnd.jupyter.widget-view+json": {
       "model_id": "01fb6e2cf82b4fddb8420a95f5c4db96",
       "version_major": 2,
       "version_minor": 0
      },
      "text/html": [
       "<p>Failed to display Jupyter Widget of type <code>HBox</code>.</p>\n",
       "<p>\n",
       "  If you're reading this message in the Jupyter Notebook or JupyterLab Notebook, it may mean\n",
       "  that the widgets JavaScript is still loading. If this message persists, it\n",
       "  likely means that the widgets JavaScript library is either not installed or\n",
       "  not enabled. See the <a href=\"https://ipywidgets.readthedocs.io/en/stable/user_install.html\">Jupyter\n",
       "  Widgets Documentation</a> for setup instructions.\n",
       "</p>\n",
       "<p>\n",
       "  If you're reading this message in another frontend (for example, a static\n",
       "  rendering on GitHub or <a href=\"https://nbviewer.jupyter.org/\">NBViewer</a>),\n",
       "  it may mean that your frontend doesn't currently support widgets.\n",
       "</p>\n"
      ],
      "text/plain": [
       "HBox(children=(IntProgress(value=0, max=20), HTML(value='')))"
      ]
     },
     "metadata": {},
     "output_type": "display_data"
    },
    {
     "name": "stdout",
     "output_type": "stream",
     "text": [
      "\n"
     ]
    },
    {
     "data": {
      "application/vnd.jupyter.widget-view+json": {
       "model_id": "ac1393084f8c4d38aaa116e44cc7647b",
       "version_major": 2,
       "version_minor": 0
      },
      "text/html": [
       "<p>Failed to display Jupyter Widget of type <code>HBox</code>.</p>\n",
       "<p>\n",
       "  If you're reading this message in the Jupyter Notebook or JupyterLab Notebook, it may mean\n",
       "  that the widgets JavaScript is still loading. If this message persists, it\n",
       "  likely means that the widgets JavaScript library is either not installed or\n",
       "  not enabled. See the <a href=\"https://ipywidgets.readthedocs.io/en/stable/user_install.html\">Jupyter\n",
       "  Widgets Documentation</a> for setup instructions.\n",
       "</p>\n",
       "<p>\n",
       "  If you're reading this message in another frontend (for example, a static\n",
       "  rendering on GitHub or <a href=\"https://nbviewer.jupyter.org/\">NBViewer</a>),\n",
       "  it may mean that your frontend doesn't currently support widgets.\n",
       "</p>\n"
      ],
      "text/plain": [
       "HBox(children=(IntProgress(value=0, max=20), HTML(value='')))"
      ]
     },
     "metadata": {},
     "output_type": "display_data"
    },
    {
     "name": "stdout",
     "output_type": "stream",
     "text": [
      "\n"
     ]
    },
    {
     "data": {
      "application/vnd.jupyter.widget-view+json": {
       "model_id": "d5562d6e744c49e79b0cfcf043dc3163",
       "version_major": 2,
       "version_minor": 0
      },
      "text/html": [
       "<p>Failed to display Jupyter Widget of type <code>HBox</code>.</p>\n",
       "<p>\n",
       "  If you're reading this message in the Jupyter Notebook or JupyterLab Notebook, it may mean\n",
       "  that the widgets JavaScript is still loading. If this message persists, it\n",
       "  likely means that the widgets JavaScript library is either not installed or\n",
       "  not enabled. See the <a href=\"https://ipywidgets.readthedocs.io/en/stable/user_install.html\">Jupyter\n",
       "  Widgets Documentation</a> for setup instructions.\n",
       "</p>\n",
       "<p>\n",
       "  If you're reading this message in another frontend (for example, a static\n",
       "  rendering on GitHub or <a href=\"https://nbviewer.jupyter.org/\">NBViewer</a>),\n",
       "  it may mean that your frontend doesn't currently support widgets.\n",
       "</p>\n"
      ],
      "text/plain": [
       "HBox(children=(IntProgress(value=0, max=20), HTML(value='')))"
      ]
     },
     "metadata": {},
     "output_type": "display_data"
    },
    {
     "name": "stdout",
     "output_type": "stream",
     "text": [
      "\n"
     ]
    },
    {
     "data": {
      "application/vnd.jupyter.widget-view+json": {
       "model_id": "3c4cca8e5b4a4dadbe2dd0f13c0f7427",
       "version_major": 2,
       "version_minor": 0
      },
      "text/html": [
       "<p>Failed to display Jupyter Widget of type <code>HBox</code>.</p>\n",
       "<p>\n",
       "  If you're reading this message in the Jupyter Notebook or JupyterLab Notebook, it may mean\n",
       "  that the widgets JavaScript is still loading. If this message persists, it\n",
       "  likely means that the widgets JavaScript library is either not installed or\n",
       "  not enabled. See the <a href=\"https://ipywidgets.readthedocs.io/en/stable/user_install.html\">Jupyter\n",
       "  Widgets Documentation</a> for setup instructions.\n",
       "</p>\n",
       "<p>\n",
       "  If you're reading this message in another frontend (for example, a static\n",
       "  rendering on GitHub or <a href=\"https://nbviewer.jupyter.org/\">NBViewer</a>),\n",
       "  it may mean that your frontend doesn't currently support widgets.\n",
       "</p>\n"
      ],
      "text/plain": [
       "HBox(children=(IntProgress(value=0, max=20), HTML(value='')))"
      ]
     },
     "metadata": {},
     "output_type": "display_data"
    },
    {
     "name": "stdout",
     "output_type": "stream",
     "text": [
      "\n"
     ]
    },
    {
     "data": {
      "application/vnd.jupyter.widget-view+json": {
       "model_id": "fcd364f48dcf4279a611365a5c1c9a2e",
       "version_major": 2,
       "version_minor": 0
      },
      "text/html": [
       "<p>Failed to display Jupyter Widget of type <code>HBox</code>.</p>\n",
       "<p>\n",
       "  If you're reading this message in the Jupyter Notebook or JupyterLab Notebook, it may mean\n",
       "  that the widgets JavaScript is still loading. If this message persists, it\n",
       "  likely means that the widgets JavaScript library is either not installed or\n",
       "  not enabled. See the <a href=\"https://ipywidgets.readthedocs.io/en/stable/user_install.html\">Jupyter\n",
       "  Widgets Documentation</a> for setup instructions.\n",
       "</p>\n",
       "<p>\n",
       "  If you're reading this message in another frontend (for example, a static\n",
       "  rendering on GitHub or <a href=\"https://nbviewer.jupyter.org/\">NBViewer</a>),\n",
       "  it may mean that your frontend doesn't currently support widgets.\n",
       "</p>\n"
      ],
      "text/plain": [
       "HBox(children=(IntProgress(value=0, max=20), HTML(value='')))"
      ]
     },
     "metadata": {},
     "output_type": "display_data"
    },
    {
     "name": "stdout",
     "output_type": "stream",
     "text": [
      "\n"
     ]
    },
    {
     "data": {
      "application/vnd.jupyter.widget-view+json": {
       "model_id": "3ce2e7cb95734d4fb259b21e9d1d3f66",
       "version_major": 2,
       "version_minor": 0
      },
      "text/html": [
       "<p>Failed to display Jupyter Widget of type <code>HBox</code>.</p>\n",
       "<p>\n",
       "  If you're reading this message in the Jupyter Notebook or JupyterLab Notebook, it may mean\n",
       "  that the widgets JavaScript is still loading. If this message persists, it\n",
       "  likely means that the widgets JavaScript library is either not installed or\n",
       "  not enabled. See the <a href=\"https://ipywidgets.readthedocs.io/en/stable/user_install.html\">Jupyter\n",
       "  Widgets Documentation</a> for setup instructions.\n",
       "</p>\n",
       "<p>\n",
       "  If you're reading this message in another frontend (for example, a static\n",
       "  rendering on GitHub or <a href=\"https://nbviewer.jupyter.org/\">NBViewer</a>),\n",
       "  it may mean that your frontend doesn't currently support widgets.\n",
       "</p>\n"
      ],
      "text/plain": [
       "HBox(children=(IntProgress(value=0, max=20), HTML(value='')))"
      ]
     },
     "metadata": {},
     "output_type": "display_data"
    },
    {
     "name": "stdout",
     "output_type": "stream",
     "text": [
      "\n"
     ]
    },
    {
     "data": {
      "application/vnd.jupyter.widget-view+json": {
       "model_id": "af7eb1961c6e4b2cb5505e41ea736bfe",
       "version_major": 2,
       "version_minor": 0
      },
      "text/html": [
       "<p>Failed to display Jupyter Widget of type <code>HBox</code>.</p>\n",
       "<p>\n",
       "  If you're reading this message in the Jupyter Notebook or JupyterLab Notebook, it may mean\n",
       "  that the widgets JavaScript is still loading. If this message persists, it\n",
       "  likely means that the widgets JavaScript library is either not installed or\n",
       "  not enabled. See the <a href=\"https://ipywidgets.readthedocs.io/en/stable/user_install.html\">Jupyter\n",
       "  Widgets Documentation</a> for setup instructions.\n",
       "</p>\n",
       "<p>\n",
       "  If you're reading this message in another frontend (for example, a static\n",
       "  rendering on GitHub or <a href=\"https://nbviewer.jupyter.org/\">NBViewer</a>),\n",
       "  it may mean that your frontend doesn't currently support widgets.\n",
       "</p>\n"
      ],
      "text/plain": [
       "HBox(children=(IntProgress(value=0, max=20), HTML(value='')))"
      ]
     },
     "metadata": {},
     "output_type": "display_data"
    },
    {
     "name": "stdout",
     "output_type": "stream",
     "text": [
      "\n"
     ]
    },
    {
     "data": {
      "application/vnd.jupyter.widget-view+json": {
       "model_id": "b87cf7bab8fb4b158551e7eff5beb5e3",
       "version_major": 2,
       "version_minor": 0
      },
      "text/html": [
       "<p>Failed to display Jupyter Widget of type <code>HBox</code>.</p>\n",
       "<p>\n",
       "  If you're reading this message in the Jupyter Notebook or JupyterLab Notebook, it may mean\n",
       "  that the widgets JavaScript is still loading. If this message persists, it\n",
       "  likely means that the widgets JavaScript library is either not installed or\n",
       "  not enabled. See the <a href=\"https://ipywidgets.readthedocs.io/en/stable/user_install.html\">Jupyter\n",
       "  Widgets Documentation</a> for setup instructions.\n",
       "</p>\n",
       "<p>\n",
       "  If you're reading this message in another frontend (for example, a static\n",
       "  rendering on GitHub or <a href=\"https://nbviewer.jupyter.org/\">NBViewer</a>),\n",
       "  it may mean that your frontend doesn't currently support widgets.\n",
       "</p>\n"
      ],
      "text/plain": [
       "HBox(children=(IntProgress(value=0, max=20), HTML(value='')))"
      ]
     },
     "metadata": {},
     "output_type": "display_data"
    },
    {
     "name": "stdout",
     "output_type": "stream",
     "text": [
      "\n"
     ]
    },
    {
     "data": {
      "application/vnd.jupyter.widget-view+json": {
       "model_id": "428a45a2ccfe480dbc9ce4117146a3bb",
       "version_major": 2,
       "version_minor": 0
      },
      "text/html": [
       "<p>Failed to display Jupyter Widget of type <code>HBox</code>.</p>\n",
       "<p>\n",
       "  If you're reading this message in the Jupyter Notebook or JupyterLab Notebook, it may mean\n",
       "  that the widgets JavaScript is still loading. If this message persists, it\n",
       "  likely means that the widgets JavaScript library is either not installed or\n",
       "  not enabled. See the <a href=\"https://ipywidgets.readthedocs.io/en/stable/user_install.html\">Jupyter\n",
       "  Widgets Documentation</a> for setup instructions.\n",
       "</p>\n",
       "<p>\n",
       "  If you're reading this message in another frontend (for example, a static\n",
       "  rendering on GitHub or <a href=\"https://nbviewer.jupyter.org/\">NBViewer</a>),\n",
       "  it may mean that your frontend doesn't currently support widgets.\n",
       "</p>\n"
      ],
      "text/plain": [
       "HBox(children=(IntProgress(value=0, max=20), HTML(value='')))"
      ]
     },
     "metadata": {},
     "output_type": "display_data"
    },
    {
     "name": "stdout",
     "output_type": "stream",
     "text": [
      "\n"
     ]
    },
    {
     "data": {
      "application/vnd.jupyter.widget-view+json": {
       "model_id": "2c0066b8be1d46c3ab5ea43b10f09198",
       "version_major": 2,
       "version_minor": 0
      },
      "text/html": [
       "<p>Failed to display Jupyter Widget of type <code>HBox</code>.</p>\n",
       "<p>\n",
       "  If you're reading this message in the Jupyter Notebook or JupyterLab Notebook, it may mean\n",
       "  that the widgets JavaScript is still loading. If this message persists, it\n",
       "  likely means that the widgets JavaScript library is either not installed or\n",
       "  not enabled. See the <a href=\"https://ipywidgets.readthedocs.io/en/stable/user_install.html\">Jupyter\n",
       "  Widgets Documentation</a> for setup instructions.\n",
       "</p>\n",
       "<p>\n",
       "  If you're reading this message in another frontend (for example, a static\n",
       "  rendering on GitHub or <a href=\"https://nbviewer.jupyter.org/\">NBViewer</a>),\n",
       "  it may mean that your frontend doesn't currently support widgets.\n",
       "</p>\n"
      ],
      "text/plain": [
       "HBox(children=(IntProgress(value=0, max=20), HTML(value='')))"
      ]
     },
     "metadata": {},
     "output_type": "display_data"
    },
    {
     "name": "stdout",
     "output_type": "stream",
     "text": [
      "\n"
     ]
    },
    {
     "data": {
      "application/vnd.jupyter.widget-view+json": {
       "model_id": "5eaef0fa1c674ceda7e91c688780af0c",
       "version_major": 2,
       "version_minor": 0
      },
      "text/html": [
       "<p>Failed to display Jupyter Widget of type <code>HBox</code>.</p>\n",
       "<p>\n",
       "  If you're reading this message in the Jupyter Notebook or JupyterLab Notebook, it may mean\n",
       "  that the widgets JavaScript is still loading. If this message persists, it\n",
       "  likely means that the widgets JavaScript library is either not installed or\n",
       "  not enabled. See the <a href=\"https://ipywidgets.readthedocs.io/en/stable/user_install.html\">Jupyter\n",
       "  Widgets Documentation</a> for setup instructions.\n",
       "</p>\n",
       "<p>\n",
       "  If you're reading this message in another frontend (for example, a static\n",
       "  rendering on GitHub or <a href=\"https://nbviewer.jupyter.org/\">NBViewer</a>),\n",
       "  it may mean that your frontend doesn't currently support widgets.\n",
       "</p>\n"
      ],
      "text/plain": [
       "HBox(children=(IntProgress(value=0, max=20), HTML(value='')))"
      ]
     },
     "metadata": {},
     "output_type": "display_data"
    },
    {
     "name": "stdout",
     "output_type": "stream",
     "text": [
      "\n"
     ]
    },
    {
     "data": {
      "application/vnd.jupyter.widget-view+json": {
       "model_id": "83ec2134c24145d2849fe05f0351f097",
       "version_major": 2,
       "version_minor": 0
      },
      "text/html": [
       "<p>Failed to display Jupyter Widget of type <code>HBox</code>.</p>\n",
       "<p>\n",
       "  If you're reading this message in the Jupyter Notebook or JupyterLab Notebook, it may mean\n",
       "  that the widgets JavaScript is still loading. If this message persists, it\n",
       "  likely means that the widgets JavaScript library is either not installed or\n",
       "  not enabled. See the <a href=\"https://ipywidgets.readthedocs.io/en/stable/user_install.html\">Jupyter\n",
       "  Widgets Documentation</a> for setup instructions.\n",
       "</p>\n",
       "<p>\n",
       "  If you're reading this message in another frontend (for example, a static\n",
       "  rendering on GitHub or <a href=\"https://nbviewer.jupyter.org/\">NBViewer</a>),\n",
       "  it may mean that your frontend doesn't currently support widgets.\n",
       "</p>\n"
      ],
      "text/plain": [
       "HBox(children=(IntProgress(value=0, max=20), HTML(value='')))"
      ]
     },
     "metadata": {},
     "output_type": "display_data"
    },
    {
     "name": "stdout",
     "output_type": "stream",
     "text": [
      "\n"
     ]
    }
   ],
   "source": [
    "SCGs = []\n",
    "for bird in test_birds:\n",
    "    SCG = []\n",
    "    binmatlist = []\n",
    "    bird_tensors = population_tensors[bird]\n",
    "    for bird_tensor, stim in bird_tensors:\n",
    "        ncells, nwin, ntrials = bird_tensor.shape\n",
    "        bin_tensor = threshold_poptens(bird_tensor, threshold)\n",
    "        for trial in tqdm(range(ntrials)):\n",
    "            binmatlist.append(bin_tensor[:, :, trial])\n",
    "            ms = sc.binarytomaxsimplex(bin_tensor[:, :, trial], rDup=True)\n",
    "            SCG.append(pyslsa.build_SCG(ms))\n",
    "    SCGs.append(SCG)"
   ]
  },
  {
   "cell_type": "code",
   "execution_count": null,
   "metadata": {},
   "outputs": [],
   "source": [
    "# Compute Shuffled complexes\n",
    "popA_binmats = []\n",
    "popB_binmats = []\n",
    "popA_SCGs = []\n",
    "popB_SCGs = []\n",
    "binmats = [popA_binmats, popB_binmats]\n",
    "SCGs = [popA_SCGs, popB_SCGs]\n",
    "for SCG, binmatlist, bird in zip(SCGs, binmats, test_birds):\n",
    "    bird_tensors = population_tensors[bird]\n",
    "    for bird_tensor, stim in bird_tensors:\n",
    "        ncells, nwin, ntrials = bird_tensor.shape\n",
    "        bin_tensor = threshold_poptens(bird_tensor, threshold)\n",
    "        for trial in tqdm(range(ntrials)):\n",
    "            mat = shuffle_binmat(bin_tensor[:, :, trial])\n",
    "            binmatlist.append(mat)\n",
    "            ms = sc.binarytomaxsimplex(mat, rDup=True)\n",
    "            SCG.append(pyslsa.build_SCG(ms))"
   ]
  },
  {
   "cell_type": "code",
   "execution_count": null,
   "metadata": {
    "scrolled": true
   },
   "outputs": [],
   "source": [
    "# Compute JS popA:\n",
    "\n",
    "dim = 1\n",
    "beta = -1.0\n",
    "\n",
    "\n",
    "for pop, pop_bird in zip(SCGs, test_birds):\n",
    "    N = len(pop)\n",
    "    jsmat = np.zeros((N,N))\n",
    "    for i in tqdm(range(N)):\n",
    "        for j in tqdm(range(i, N)):\n",
    "            jsmat[i, j] = pyslsa.cuJS(pop[i], pop[j], dim, beta)\n",
    "    with open('/home/brad/tmpdata/JSpop_batched{}.pkl'.format(pop_bird), 'wb') as f:\n",
    "        pickle.dump(jsmat, f)\n",
    "\n"
   ]
  },
  {
   "cell_type": "code",
   "execution_count": null,
   "metadata": {},
   "outputs": [],
   "source": [
    "import pickle\n",
    "with open('/home/brad/tmpdata/JSpopA_dim3.pkl', 'wb') as f:\n",
    "    pickle.dump(jsmat, f)"
   ]
  },
  {
   "cell_type": "code",
   "execution_count": null,
   "metadata": {},
   "outputs": [],
   "source": [
    "# Compute JS popA:\n",
    "from joblib import Parallel, delayed\n",
    "dim = 1\n",
    "beta = -1.0\n",
    "\n",
    "for pop in SCGs:\n",
    "    N = len(pop)\n",
    "    jsmat = np.zeros((N,N))\n",
    "    for i in tqdm(range(N)):\n",
    "        row = Parallel(n_jobs=4)(delayed(pyslsa.cuJS)(pop[i], pop[j], dim, beta) for j in range(i, N))\n",
    "        jsmat[i, :] = row"
   ]
  },
  {
   "cell_type": "code",
   "execution_count": null,
   "metadata": {},
   "outputs": [],
   "source": [
    "test = np.array([[1,0,0,1], [0,1,1,1]])\n",
    "test"
   ]
  },
  {
   "cell_type": "code",
   "execution_count": null,
   "metadata": {},
   "outputs": [],
   "source": [
    "shuffle_binmat(test)"
   ]
  },
  {
   "cell_type": "code",
   "execution_count": null,
   "metadata": {},
   "outputs": [],
   "source": [
    "def f(x):\n",
    "    x = 2*x\n",
    "    return x"
   ]
  },
  {
   "cell_type": "code",
   "execution_count": null,
   "metadata": {},
   "outputs": [],
   "source": [
    "a = 1\n",
    "f(a)"
   ]
  },
  {
   "cell_type": "code",
   "execution_count": null,
   "metadata": {},
   "outputs": [],
   "source": [
    "from importlib import reload\n",
    "reload(pyslsa)"
   ]
  },
  {
   "cell_type": "code",
   "execution_count": null,
   "metadata": {},
   "outputs": [],
   "source": [
    "test_scgs = SCG[0:320]\n",
    "%time testout = pyslsa.get_laplacian_spectra(test_scgs, 1)"
   ]
  },
  {
   "cell_type": "code",
   "execution_count": 13,
   "metadata": {},
   "outputs": [],
   "source": [
    "nscg = 20\n",
    "test_scgs = SCG[0:nscg]\n",
    "pairs = []\n",
    "for i in range(nscg):\n",
    "    for j in range(i, nscg):\n",
    "        pairs.append([test_scgs[i], test_scgs[j]])"
   ]
  },
  {
   "cell_type": "code",
   "execution_count": 14,
   "metadata": {},
   "outputs": [
    {
     "name": "stdout",
     "output_type": "stream",
     "text": [
      "CPU times: user 1min, sys: 9.57 s, total: 1min 10s\n",
      "Wall time: 1min 9s\n"
     ]
    },
    {
     "data": {
      "text/plain": [
       "[0.0,\n",
       " 0.3203171823088693,\n",
       " 0.4975066467442908,\n",
       " 0.6469581009001801,\n",
       " 0.4676033951656848,\n",
       " 0.3114413729141839,\n",
       " 0.8285801137406701,\n",
       " 0.22739495073690463,\n",
       " 0.4493110335850945,\n",
       " 0.4577285282947547,\n",
       " 0.3778302278356956,\n",
       " 0.24042648171947975,\n",
       " 0.28126555421525773,\n",
       " 0.23668534147351827,\n",
       " 0.17380697198739545,\n",
       " 0.25998473911949044,\n",
       " 0.6177966183799293,\n",
       " 0.22639906933149084,\n",
       " 0.3021279158012055,\n",
       " 0.2672511352380731,\n",
       " 0.0,\n",
       " 0.3741622141362672,\n",
       " 0.5656756810019964,\n",
       " 0.3834659340398232,\n",
       " 0.2270514636089784,\n",
       " 0.7940848518573873,\n",
       " 0.24125614845128945,\n",
       " 0.3573941844469989,\n",
       " 0.3211716897018058,\n",
       " 0.2787570585044886,\n",
       " 0.2504804368450735,\n",
       " 0.3458127461544249,\n",
       " 0.22077809440160148,\n",
       " 0.266198486688346,\n",
       " 0.17410055217006812,\n",
       " 0.4969951877978914,\n",
       " 0.2913273804947818,\n",
       " 0.3641586771648948,\n",
       " 0.34688268148775586,\n",
       " 0.0,\n",
       " 0.31851330095725516,\n",
       " 0.2994926696564024,\n",
       " 0.25351708373701226,\n",
       " 0.4438040899977624,\n",
       " 0.32592839543494306,\n",
       " 0.2389674713287392,\n",
       " 0.23920829177290076,\n",
       " 0.28986095015897634,\n",
       " 0.40245801672159315,\n",
       " 0.6134841185439698,\n",
       " 0.34919363089281386,\n",
       " 0.4297843085835982,\n",
       " 0.2882959257244766,\n",
       " 0.23655015144235134,\n",
       " 0.4883606022809872,\n",
       " 0.603382975794668,\n",
       " 0.6097388691681125,\n",
       " 0.0,\n",
       " 0.40369611367772057,\n",
       " 0.360916033254981,\n",
       " 0.27340810145973116,\n",
       " 0.526729526102679,\n",
       " 0.3241183126210267,\n",
       " 0.3375565902974514,\n",
       " 0.40201011160311445,\n",
       " 0.5100527870757271,\n",
       " 0.834694661117084,\n",
       " 0.5101450103189932,\n",
       " 0.6301411199429653,\n",
       " 0.46198560920549697,\n",
       " 0.27623342183314087,\n",
       " 0.7041169843042253,\n",
       " 0.8171600561874895,\n",
       " 0.8083266135414682,\n",
       " 0.0,\n",
       " 0.18781068422355182,\n",
       " 0.53089242549601,\n",
       " 0.3400159514947533,\n",
       " 0.32598156024173,\n",
       " 0.31049240659149,\n",
       " 0.2405187560660335,\n",
       " 0.3717820750873471,\n",
       " 0.6494882810582967,\n",
       " 0.33258875365236396,\n",
       " 0.43934906056197615,\n",
       " 0.22887073989007367,\n",
       " 0.28825532606368065,\n",
       " 0.517913098099781,\n",
       " 0.6360049370778317,\n",
       " 0.6304590024215689,\n",
       " 0.0,\n",
       " 0.5269186231484047,\n",
       " 0.22835404540284146,\n",
       " 0.21001028432822247,\n",
       " 0.2272041441622641,\n",
       " 0.14616200218539938,\n",
       " 0.2213328863744329,\n",
       " 0.4733209510493849,\n",
       " 0.19416135168720805,\n",
       " 0.3020005999211349,\n",
       " 0.11755664152378331,\n",
       " 0.2683441423765976,\n",
       " 0.36153746696014044,\n",
       " 0.4464356708555892,\n",
       " 0.4526560432231237,\n",
       " 0.0,\n",
       " 0.6753303826987223,\n",
       " 0.566131896672628,\n",
       " 0.5442205905863325,\n",
       " 0.5764474940916522,\n",
       " 0.681275121049862,\n",
       " 1.0561484288107506,\n",
       " 0.6774910811392305,\n",
       " 0.8173096049850467,\n",
       " 0.5739101298749032,\n",
       " 0.5123927359329487,\n",
       " 0.8910412400718162,\n",
       " 1.0228508323691805,\n",
       " 1.0176484513242174,\n",
       " 0.0,\n",
       " 0.3114168915036398,\n",
       " 0.3050860705199466,\n",
       " 0.22198833401438078,\n",
       " 0.14086714424927482,\n",
       " 0.36336870802594357,\n",
       " 0.16201014466839317,\n",
       " 0.19189601798215195,\n",
       " 0.16695035787911394,\n",
       " 0.41458048252009283,\n",
       " 0.24247864149267395,\n",
       " 0.35264682798210667,\n",
       " 0.3448820234537777,\n",
       " 0.0,\n",
       " 0.18558406887198262,\n",
       " 0.32818469306501113,\n",
       " 0.3577369775128848,\n",
       " 0.5696174197990892,\n",
       " 0.32470043033765644,\n",
       " 0.3935591269773131,\n",
       " 0.29279586167558896,\n",
       " 0.18280249723052355,\n",
       " 0.45061038047671415,\n",
       " 0.5805544387452817,\n",
       " 0.5678176456428984,\n",
       " 0.0,\n",
       " 0.2285735450614032,\n",
       " 0.3809478390743377,\n",
       " 0.5878720356264164,\n",
       " 0.31257971456162653,\n",
       " 0.3959826340488489,\n",
       " 0.22884690200306218,\n",
       " 0.18159561180978018,\n",
       " 0.47646989786041855,\n",
       " 0.6139526033898548,\n",
       " 0.5750795862307235,\n",
       " 0.0,\n",
       " 0.24736635711278146,\n",
       " 0.5181056677704399,\n",
       " 0.24535630149153026,\n",
       " 0.32759897240991753,\n",
       " 0.1606108193445196,\n",
       " 0.3008136896921445,\n",
       " 0.41346216272748215,\n",
       " 0.521786647433047,\n",
       " 0.4863380852887222,\n",
       " 0.0,\n",
       " 0.3882780039209543,\n",
       " 0.17605623100547388,\n",
       " 0.1754824013605888,\n",
       " 0.18476951844343847,\n",
       " 0.43753858553348995,\n",
       " 0.28089744573955217,\n",
       " 0.38005729901882757,\n",
       " 0.37950113436993355,\n",
       " 0.0,\n",
       " 0.335583573991954,\n",
       " 0.2697122018658685,\n",
       " 0.3761253818284237,\n",
       " 0.7681278392087013,\n",
       " 0.22658199343586558,\n",
       " 0.21210932695949114,\n",
       " 0.13823636973665557,\n",
       " 0.0,\n",
       " 0.19259583235243163,\n",
       " 0.13693862060471643,\n",
       " 0.41715601772990585,\n",
       " 0.25168517120108624,\n",
       " 0.3303616841525349,\n",
       " 0.3299325371719688,\n",
       " 0.0,\n",
       " 0.22515470442624597,\n",
       " 0.5468488760522608,\n",
       " 0.1980051242524229,\n",
       " 0.26903913006562025,\n",
       " 0.26413677847745987,\n",
       " 0.0,\n",
       " 0.36218830654033723,\n",
       " 0.2723380438463306,\n",
       " 0.3721404897577253,\n",
       " 0.3441250637302837,\n",
       " 0.0,\n",
       " 0.6291972283452022,\n",
       " 0.7444348366009661,\n",
       " 0.7645030380884379,\n",
       " 0.0,\n",
       " 0.22386630321850004,\n",
       " 0.19924534883880723,\n",
       " 0.0,\n",
       " 0.20336077591731155,\n",
       " 0.0]"
      ]
     },
     "execution_count": 14,
     "metadata": {},
     "output_type": "execute_result"
    }
   ],
   "source": [
    "%time pyslsa.cuJS_pairs(pairs, 1, -1.0)"
   ]
  },
  {
   "cell_type": "code",
   "execution_count": 9,
   "metadata": {},
   "outputs": [
    {
     "name": "stdout",
     "output_type": "stream",
     "text": [
      "CPU times: user 637 ms, sys: 200 ms, total: 837 ms\n",
      "Wall time: 854 ms\n"
     ]
    }
   ],
   "source": [
    "%time testout = pyslsa.get_laplacian_spectra(test_scgs, 1)"
   ]
  },
  {
   "cell_type": "code",
   "execution_count": null,
   "metadata": {},
   "outputs": [],
   "source": [
    "pairs"
   ]
  },
  {
   "cell_type": "code",
   "execution_count": null,
   "metadata": {},
   "outputs": [],
   "source": []
  }
 ],
 "metadata": {
  "kernelspec": {
   "display_name": "Python 3",
   "language": "python",
   "name": "python3"
  },
  "language_info": {
   "codemirror_mode": {
    "name": "ipython",
    "version": 3
   },
   "file_extension": ".py",
   "mimetype": "text/x-python",
   "name": "python",
   "nbconvert_exporter": "python",
   "pygments_lexer": "ipython3",
   "version": "3.6.2"
  }
 },
 "nbformat": 4,
 "nbformat_minor": 2
}
