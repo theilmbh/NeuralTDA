{
 "cells": [
  {
   "cell_type": "code",
   "execution_count": 1,
   "metadata": {},
   "outputs": [
    {
     "name": "stderr",
     "output_type": "stream",
     "text": [
      "/home/brad/.conda/envs/neuraltda-4/lib/python3.6/site-packages/h5py/__init__.py:36: FutureWarning: Conversion of the second argument of issubdtype from `float` to `np.floating` is deprecated. In future, it will be treated as `np.float64 == np.dtype(float).type`.\n",
      "  from ._conv import register_converters as _register_converters\n"
     ]
    },
    {
     "name": "stdout",
     "output_type": "stream",
     "text": [
      "/home/brad/DailyLog/20180525/\n"
     ]
    }
   ],
   "source": [
    "###\n",
    "# The goal of this notebook is to:\n",
    "# - Take two neural populations\n",
    "# - Compute the JS divergence between stimuli pairs for each population (the same stimuli pairs)\n",
    "# - Compute the mutual information between the distributions of JS divergences\n",
    "\n",
    "import glob\n",
    "import os\n",
    "from importlib import reload\n",
    "import pickle\n",
    "import datetime\n",
    "\n",
    "import numpy as np\n",
    "import scipy as sp\n",
    "import pandas as pd\n",
    "import h5py as h5\n",
    "import tqdm\n",
    "import matplotlib.pyplot as plt\n",
    "%matplotlib inline\n",
    "\n",
    "import neuraltda.topology2 as tp2\n",
    "import neuraltda.spectralAnalysis as sa\n",
    "import neuraltda.simpComp as sc\n",
    "import pycuslsa as pyslsa\n",
    "\n",
    "daystr = datetime.datetime.now().strftime('%Y%m%d')\n",
    "figsavepth = '/home/brad/DailyLog/'+daystr+'/'\n",
    "print(figsavepth)"
   ]
  },
  {
   "cell_type": "code",
   "execution_count": 2,
   "metadata": {},
   "outputs": [],
   "source": [
    "# Set up birds and block_paths\n",
    "birds = ['B1083', 'B1056', 'B1235', 'B1075']\n",
    "bps = {'B1083': '/home/brad/krista/B1083/P03S03/', 'B1075': '/home/brad/krista/B1075/P01S03/',\n",
    "       'B1235': '/home/brad/krista/B1235/P02S01/', 'B1056': '/home/brad/krista/B1056/klusta/phy020516/Pen01_Lft_AP100_ML1300__Site03_Z2500__B1056_cat_P01_S03_1/',\n",
    "       'B1056': '/home/brad/krista/B1056/klusta/phy020516/Pen01_Lft_AP100_ML1300__Site03_Z2500__B1056_cat_P01_S03_1/'}\n",
    "\n",
    "# Binning Parameters\n",
    "windt = 10.0                      # milliseconds\n",
    "dtovr = 0.5*windt                 # milliseconds\n",
    "segment_info = [0, 0]             # use full Trial\n",
    "cluster_group = ['Good']          # use just good clusters\n",
    "comment = 'JS_MI_TEST'            # BootStrap Populations\n",
    "bdfs = {}                         # Dictionary to store bdf"
   ]
  },
  {
   "cell_type": "code",
   "execution_count": 3,
   "metadata": {},
   "outputs": [
    {
     "name": "stdout",
     "output_type": "stream",
     "text": [
      "/home/brad/krista/B1083/P03S03/binned_data/win-10.0_dtovr-5.0_seg-0-0-JS_MI_TEST/20180525T180824Z-10.0-5.0.binned\n",
      "/home/brad/krista/B1056/klusta/phy020516/Pen01_Lft_AP100_ML1300__Site03_Z2500__B1056_cat_P01_S03_1/binned_data/win-10.0_dtovr-5.0_seg-0-0-JS_MI_TEST/20180525T180834Z-10.0-5.0.binned\n",
      "/home/brad/krista/B1235/P02S01/binned_data/win-10.0_dtovr-5.0_seg-0-0-JS_MI_TEST/20180525T180847Z-10.0-5.0.binned\n",
      "/home/brad/krista/B1075/P01S03/binned_data/win-10.0_dtovr-5.0_seg-0-0-JS_MI_TEST/20180525T180856Z-10.0-5.0.binned\n"
     ]
    }
   ],
   "source": [
    "# Loop through each bird in our list and bin the data\n",
    "for bird in birds:\n",
    "    block_path = bps[bird]\n",
    "    bfdict = tp2.dag_bin(block_path, windt, segment_info, cluster_group=cluster_group, dt_overlap=dtovr, comment=comment)\n",
    "    bdf = glob.glob(os.path.join(bfdict['raw'], '*.binned'))[0]\n",
    "    print(bdf)\n",
    "    bdfs[bird] = bdf"
   ]
  },
  {
   "cell_type": "code",
   "execution_count": 4,
   "metadata": {},
   "outputs": [],
   "source": [
    "test_birds = ['B1056', 'B1235']\n"
   ]
  },
  {
   "cell_type": "code",
   "execution_count": 5,
   "metadata": {},
   "outputs": [
    {
     "name": "stdout",
     "output_type": "stream",
     "text": [
      "['A_scaled_burung', 'B_scaled_burung', 'C_scaled_burung', 'D_scaled_burung', 'E_scaled_burung', 'F_scaled_burung', 'G_scaled_burung', 'H_scaled_burung', 'I_scaled_burung', 'J_scaled_burung', 'K_scaled_burung', 'L_scaled_burung', 'M_scaled_burung', 'N_scaled_burung', 'O_scaled_burung', 'P_scaled_burung']\n",
      "['A_scaled_burung', 'B_scaled_burung', 'C_scaled_burung', 'D_scaled_burung', 'E_scaled_burung', 'F_scaled_burung', 'G_scaled_burung', 'H_scaled_burung', 'I_scaled_burung', 'J_scaled_burung', 'K_scaled_burung', 'L_scaled_burung', 'M_scaled_burung', 'N_scaled_burung', 'O_scaled_burung', 'P_scaled_burung']\n"
     ]
    }
   ],
   "source": [
    "# extract population tensors for the populations of interest\n",
    "population_tensors = {}\n",
    "\n",
    "for bird in test_birds:\n",
    "    bdf = bdfs[bird]\n",
    "    population_tensors[bird] = []\n",
    "    # open the binned data file\n",
    "    with h5.File(bdf, 'r') as f:\n",
    "        stimuli = f.keys()\n",
    "        print(list(stimuli))\n",
    "        for stim in sorted(stimuli):\n",
    "            poptens = np.array(f[stim]['pop_tens'])\n",
    "            population_tensors[bird].append([poptens, stim])"
   ]
  },
  {
   "cell_type": "code",
   "execution_count": 6,
   "metadata": {},
   "outputs": [
    {
     "name": "stderr",
     "output_type": "stream",
     "text": [
      "100%|██████████| 20/20 [00:00<00:00, 35.45it/s]\n",
      "100%|██████████| 20/20 [00:00<00:00, 75.31it/s]\n",
      "100%|██████████| 20/20 [00:00<00:00, 36.40it/s]\n",
      "100%|██████████| 20/20 [00:00<00:00, 27.64it/s]\n",
      "100%|██████████| 20/20 [00:00<00:00, 39.57it/s]\n",
      "100%|██████████| 20/20 [00:01<00:00, 13.81it/s]\n",
      "100%|██████████| 20/20 [00:00<00:00, 25.78it/s]\n",
      "100%|██████████| 20/20 [00:00<00:00, 46.26it/s]\n",
      "100%|██████████| 20/20 [00:00<00:00, 47.14it/s]\n",
      "100%|██████████| 20/20 [00:00<00:00, 41.74it/s]\n",
      "100%|██████████| 20/20 [00:01<00:00, 13.21it/s]\n",
      "100%|██████████| 20/20 [00:00<00:00, 46.05it/s]\n",
      "100%|██████████| 20/20 [00:00<00:00, 59.03it/s]\n",
      "100%|██████████| 20/20 [00:00<00:00, 47.06it/s]\n",
      "100%|██████████| 20/20 [00:00<00:00, 86.69it/s]\n",
      "100%|██████████| 20/20 [00:00<00:00, 47.76it/s]\n",
      "100%|██████████| 20/20 [00:00<00:00, 132.15it/s]\n",
      "100%|██████████| 20/20 [00:00<00:00, 178.53it/s]\n",
      "100%|██████████| 20/20 [00:00<00:00, 129.55it/s]\n",
      "100%|██████████| 20/20 [00:00<00:00, 175.54it/s]\n",
      "100%|██████████| 20/20 [00:00<00:00, 99.49it/s] \n",
      "100%|██████████| 20/20 [00:00<00:00, 172.28it/s]\n",
      "100%|██████████| 20/20 [00:00<00:00, 138.99it/s]\n",
      "100%|██████████| 20/20 [00:00<00:00, 115.47it/s]\n",
      "100%|██████████| 20/20 [00:00<00:00, 127.09it/s]\n",
      "100%|██████████| 20/20 [00:00<00:00, 146.16it/s]\n",
      "100%|██████████| 20/20 [00:00<00:00, 152.58it/s]\n",
      "100%|██████████| 20/20 [00:00<00:00, 171.34it/s]\n",
      "100%|██████████| 20/20 [00:00<00:00, 177.55it/s]\n",
      "100%|██████████| 20/20 [00:00<00:00, 141.17it/s]\n",
      "100%|██████████| 20/20 [00:00<00:00, 139.30it/s]\n",
      "100%|██████████| 20/20 [00:00<00:00, 136.25it/s]\n"
     ]
    }
   ],
   "source": [
    "# flatten the list of population tensors for each population\n",
    "threshold = 6\n",
    "\n",
    "def threshold_poptens(tens, thresh):\n",
    "    ncell, nwins, ntrials = tens.shape\n",
    "    frs = np.mean(tens, axis=1)\n",
    "    tfr = thresh*frs\n",
    "    tfrtens = np.tile(tfr[:, np.newaxis, :], (1, nwins, 1))\n",
    "    bintens = 1*np.greater(tens, tfrtens)\n",
    "    return bintens\n",
    "\n",
    "popA_binmats = []\n",
    "popB_binmats = []\n",
    "popA_maxsimps = []\n",
    "popB_maxsimps = []\n",
    "binmats = [popA_binmats, popB_binmats]\n",
    "maxsimps = [popA_maxsimps, popB_maxsimps]\n",
    "for maxsimplist, binmatlist, bird in zip(maxsimps, binmats, test_birds):\n",
    "    bird_tensors = population_tensors[bird]\n",
    "    for bird_tensor, stim in bird_tensors:\n",
    "        ncells, nwin, ntrials = bird_tensor.shape\n",
    "        bin_tensor = threshold_poptens(bird_tensor, threshold)\n",
    "        for trial in tqdm.tqdm(range(ntrials)):\n",
    "            binmatlist.append(bin_tensor[:, :, trial])\n",
    "            ms = sc.binarytomaxsimplex(bin_tensor[:, :, trial], rDup=True)\n",
    "            maxsimplist.append(pyslsa.build_SCG(ms))"
   ]
  },
  {
   "cell_type": "code",
   "execution_count": null,
   "metadata": {},
   "outputs": [],
   "source": [
    "# Compute JS popA:\n",
    "\n",
    "for pop in binmats:\n",
    "    N = len(pop)\n",
    "    jsmat = np.zeros((N,N))\n",
    "    for i in range(N):\n",
    "        for j in range(i, N):\n",
    "            \n"
   ]
  }
 ],
 "metadata": {
  "kernelspec": {
   "display_name": "Python 3",
   "language": "python",
   "name": "python3"
  },
  "language_info": {
   "codemirror_mode": {
    "name": "ipython",
    "version": 3
   },
   "file_extension": ".py",
   "mimetype": "text/x-python",
   "name": "python",
   "nbconvert_exporter": "python",
   "pygments_lexer": "ipython3",
   "version": "3.6.2"
  }
 },
 "nbformat": 4,
 "nbformat_minor": 2
}
