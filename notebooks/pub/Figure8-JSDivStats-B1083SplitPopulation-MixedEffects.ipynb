{
 "cells": [
  {
   "cell_type": "code",
   "execution_count": 3,
   "metadata": {},
   "outputs": [
    {
     "name": "stdout",
     "output_type": "stream",
     "text": [
      "/home/brad/DailyLog/20200130/\n"
     ]
    }
   ],
   "source": [
    "import numpy as np\n",
    "import pickle\n",
    "import matplotlib.pyplot as plt\n",
    "import os\n",
    "import datetime\n",
    "import glob\n",
    "import pandas as pd\n",
    "from sklearn.linear_model import LogisticRegression\n",
    "%matplotlib inline\n",
    "\n",
    "daystr = datetime.datetime.now().strftime('%Y%m%d')\n",
    "figsavepth = '/home/brad/DailyLog/'+daystr+'/'\n",
    "print(figsavepth)\n",
    "plt.style.use('/home/brad/code/NeuralTDA/gentnerlab.mplstyle')"
   ]
  },
  {
   "cell_type": "code",
   "execution_count": null,
   "metadata": {},
   "outputs": [],
   "source": []
  },
  {
   "cell_type": "code",
   "execution_count": 4,
   "metadata": {},
   "outputs": [],
   "source": [
    "# cond: -1 = different, 1 = same class\n",
    "\n",
    "def extract_submatrix(mat, h, pos):\n",
    "    x, y = pos\n",
    "    return mat[x*h:(x+1)*h, y*h:(y+1)*h].flatten()\n",
    "\n",
    "\n",
    "def build_lmm_dataset(div_matrix):\n",
    "    n, _ = np.shape(div_matrix)\n",
    "    h = int(n/8)\n",
    "    \n",
    "    LR_mask = np.zeros((n, n))\n",
    "    LR_mask[0:2*h, 2*h:4*h] = 1\n",
    "    LR_mask[2*h:4*h, 4*h:6*h] = 1\n",
    "    LR_mask[0:2*h, 6*h:n] = 1\n",
    "    LR_mask[4*h:6*h, 6*h:n] = 1\n",
    "    LR_inds = np.nonzero(LR_mask)\n",
    "    LR_data_full = div_matrix[LR_inds]\n",
    "    LR_data = np.random.choice(LR_data_full, size=12*h*h)\n",
    "    print(LR_data.shape)\n",
    "    LR_condition = 12*h*h*['different']\n",
    "\n",
    "    \n",
    "    LL_blocks = [(0,1), (0,4), (0,5), (1,4), (1,5), (4,5)]\n",
    "    RR_blocks = [(2,3), (2,6), (2,7), (3,6), (3,7), (6,7)]\n",
    "    \n",
    "    #LL_data = div_matrix[0:h, h:2*h].flatten()\n",
    "    \n",
    "    LL_data = np.concatenate(list(map(lambda pos: extract_submatrix(div_matrix, h, pos), LL_blocks)))\n",
    "    LL_condition = len(LL_data)*['same']\n",
    "\n",
    "    RR_data = np.concatenate(list(map(lambda pos: extract_submatrix(div_matrix, h, pos), RR_blocks)))\n",
    "    #RR_data = div_matrix[2*h:3*h, 3*h:n].flatten()\n",
    "\n",
    "    RR_condition = len(RR_data)*['same']\n",
    "\n",
    "    \n",
    "    dat_cat = np.concatenate((LL_data, LR_data.flatten(), RR_data))\n",
    "\n",
    "    cond_cat = np.concatenate((LL_condition, LR_condition, RR_condition))\n",
    "    \n",
    "    df_out = pd.DataFrame(data={'JS': dat_cat,'cond': cond_cat})\n",
    "    return df_out\n",
    "\n",
    "\n",
    "def build_LRpredict_dataset(div_matrix):\n",
    "    n, _ = div_matrix.shape\n",
    "    print(n)\n",
    "    LR_classes = np.concatenate([int(n/2)*['L'], int(n/2)*['R']])\n",
    "    featmat = np.zeros((n, n-1))\n",
    "    for trial in range(n):\n",
    "        trialdat = div_matrix[trial, :]\n",
    "        trialdat = np.concatenate([trialdat[0:trial], trialdat[trial+1:]])\n",
    "        featmat[trial, :] = trialdat\n",
    "    return (LR_classes, featmat)\n",
    "    \n",
    "    \n",
    "def grouped_boxplot_with_scatter(data, order, ngroups=1, group_spacing=2, fig_path=None, colors=None, alphas=None, labels=None, positions=None, scatter_style=None, marker_size = 1, figsize=(5,4)):\n",
    "    ''' From Zeke \n",
    "        Plot grouped boxplots\n",
    "        data is in the form of a list of arrays, Ngroups*nboxes/group\n",
    "    \n",
    "    '''\n",
    "    #colors = np.array(['pink', 'lightblue', 'lightgreen', 'pink', 'lightblue', 'lightgreen'])\n",
    "    #alphas = np.array([0.25, 0.25, 0.25, 0.75, 0.75, 0.75])\n",
    "    #labels = np.array(['CON/BOS', 'CON/Mot-wise', 'CON/Pc-wise', 'BOS/BOS', 'BOS/Mot-wise', 'BOS/Pc-wise'])\n",
    "   \n",
    "    nboxes = len(data)\n",
    "    if alphas is None:\n",
    "        alphas = np.array(nboxes*[1.0])\n",
    "        \n",
    "    dat_plot = [data[i] for i in order]\n",
    "    \n",
    "    # compute positions\n",
    "    nboxes_per_group = int(int(len(data)) / int(ngroups))\n",
    "    positions = np.arange(nboxes_per_group) +1\n",
    "    for group in range(1, ngroups):\n",
    "        positions = np.concatenate([positions, np.arange(max(positions)+group_spacing, max(positions)+group_spacing+nboxes_per_group)])\n",
    "        \n",
    "    \n",
    "    box_plot_fig = plt.figure(figsize=figsize)\n",
    "    ax = box_plot_fig.add_subplot(111)\n",
    "    \n",
    "    medianprops = dict(color='black')\n",
    "    if positions is not None:\n",
    "        box_plot = ax.boxplot(dat_plot, 0, '', positions=positions, patch_artist=False, whis='range', widths=1,\n",
    "                              medianprops=medianprops)\n",
    "        xlim1 = max(positions)+1\n",
    "    else:\n",
    "        box_plot = ax.boxplot(dat_plot, 0, '', patch_artist=False, whis='range', widths=1, medianprops=medianprops)\n",
    "        xlim1 = max(order)+1\n",
    "\n",
    "        \n",
    "    # Do scatter\n",
    "    scatter_plots = []\n",
    "    \n",
    "    for i in order:\n",
    "        xs = np.array(len(data[i])*[positions[i]])+0.1*np.random.randn(len(data[i]))\n",
    "        if scatter_style is None:\n",
    "            scatter_plot = ax.scatter(xs, data[i], s=marker_size, alpha=1) \n",
    "        else:\n",
    "            scatter_plot = ax.scatter(xs, data[i], s=marker_size, alpha=1, marker=scatter_style[i])\n",
    "        scatter_plots.append(scatter_plot)\n",
    "        \n",
    "    # Compute group label positions\n",
    "    labelpos =[]\n",
    "    for group in range(ngroups):\n",
    "        pos = positions[group*(nboxes_per_group):group*(nboxes_per_group)+nboxes_per_group]\n",
    "        labelpos.append(np.mean(pos))\n",
    "    \n",
    "    plt.xticks(labelpos, labels, rotation=0)\n",
    "    plt.grid(False)\n",
    "    plt.ylim(0.0, 1)\n",
    "    plt.xlim(0.0, xlim1)\n",
    "    ax.tick_params(axis='both', labelsize=18)\n",
    "    if colors is not None:\n",
    "        for patch, color, alpha in zip(scatter_plots, colors[order], alphas[order]):\n",
    "                patch.set_facecolor(color)\n",
    "                #patch.set_alpha(0.0)\n",
    "    \n",
    "    #label_diff(1, 2, '**', dat_plot[0], dat_plot[1], ax)\n",
    "    #plt.savefig(fig_path)\n",
    "    return (box_plot_fig, positions)\n",
    "\n",
    "def label_diff(i,j,text,X,Y, ax):\n",
    "    x = (X[i]+X[j])/2.0\n",
    "    y = 1.01*max(max(Y[i]), max(Y[j]))\n",
    "    dx = abs(X[i]-X[j])\n",
    "    print(x, y, dx)\n",
    "    props = {'connectionstyle':'bar','arrowstyle':'-',\\\n",
    "                 'shrinkA':50,'shrinkB':50,'linewidth':1}\n",
    "    #props = {'connectionstyle':'bar','arrowstyle':'-','linewidth':1}\n",
    "    ax.annotate(text, xy=(X[i], y), zorder=10)\n",
    "    ax.annotate('', xy=(X[i],y), xytext=(X[j],y), arrowprops=props)\n",
    "    print(X[j], y)\n",
    "    \n",
    "from matplotlib.markers import TICKDOWN\n",
    "def significance_bar(start,end,height,displaystring, stringheightfactor=1.0075, linewidth = 1.2,markersize = 8,boxpad  =0.3,fontsize = 15,color = 'k'):\n",
    "    # draw a line with downticks at the ends\n",
    "    plt.plot([start,end],[height]*2,'-',color = color,lw=linewidth,marker = TICKDOWN,markeredgewidth=linewidth,markersize = markersize)\n",
    "    # draw the text with a bounding box covering up the line\n",
    "    plt.text(0.5*(start+end),stringheightfactor*height,displaystring,ha = 'center',va='center',size = fontsize)\n",
    "    #bbox=dict(facecolor='1.', edgecolor='none',boxstyle='Square,pad='+str(boxpad))\n"
   ]
  },
  {
   "cell_type": "code",
   "execution_count": 5,
   "metadata": {
    "scrolled": true
   },
   "outputs": [
    {
     "name": "stderr",
     "output_type": "stream",
     "text": [
      "0it [00:00, ?it/s]\n",
      "  0%|          | 0/4 [00:00<?, ?it/s]\u001b[A"
     ]
    },
    {
     "name": "stdout",
     "output_type": "stream",
     "text": [
      "(4800,)\n",
      "(4800,)\n",
      "(4800,)\n",
      "(4800,)\n"
     ]
    },
    {
     "name": "stderr",
     "output_type": "stream",
     "text": [
      "\n",
      " 25%|██▌       | 1/4 [00:06<00:18,  6.22s/it]\u001b[A\n",
      " 50%|█████     | 2/4 [00:12<00:12,  6.28s/it]\u001b[A\n",
      " 75%|███████▌  | 3/4 [00:18<00:06,  6.24s/it]\u001b[A\n",
      "100%|██████████| 4/4 [00:24<00:00,  6.22s/it]\u001b[A\n",
      "1it [00:24, 24.88s/it]\n",
      "  0%|          | 0/4 [00:00<?, ?it/s]\u001b[A"
     ]
    },
    {
     "name": "stdout",
     "output_type": "stream",
     "text": [
      "(4800,)\n",
      "(4800,)\n",
      "(4800,)\n",
      "(4800,)\n"
     ]
    },
    {
     "name": "stderr",
     "output_type": "stream",
     "text": [
      "\n",
      " 25%|██▌       | 1/4 [00:06<00:18,  6.07s/it]\u001b[A\n",
      " 50%|█████     | 2/4 [00:12<00:12,  6.15s/it]\u001b[A\n",
      " 75%|███████▌  | 3/4 [00:18<00:06,  6.15s/it]\u001b[A\n",
      "100%|██████████| 4/4 [00:24<00:00,  6.22s/it]\u001b[A\n",
      "2it [00:49, 24.88s/it]\n",
      "  0%|          | 0/4 [00:00<?, ?it/s]\u001b[A"
     ]
    },
    {
     "name": "stdout",
     "output_type": "stream",
     "text": [
      "(4800,)\n",
      "(4800,)\n",
      "(4800,)\n",
      "(4800,)\n"
     ]
    },
    {
     "name": "stderr",
     "output_type": "stream",
     "text": [
      "\n",
      " 25%|██▌       | 1/4 [00:06<00:19,  6.37s/it]\u001b[A\n",
      " 50%|█████     | 2/4 [00:12<00:12,  6.32s/it]\u001b[A\n",
      " 75%|███████▌  | 3/4 [00:18<00:06,  6.27s/it]\u001b[A\n",
      "100%|██████████| 4/4 [00:25<00:00,  6.26s/it]\u001b[A\n",
      "3it [01:14, 24.93s/it]\n",
      "  0%|          | 0/4 [00:00<?, ?it/s]\u001b[A"
     ]
    },
    {
     "name": "stdout",
     "output_type": "stream",
     "text": [
      "(4800,)\n",
      "(4800,)\n",
      "(4800,)\n",
      "(4800,)\n"
     ]
    },
    {
     "name": "stderr",
     "output_type": "stream",
     "text": [
      "\n",
      " 25%|██▌       | 1/4 [00:06<00:19,  6.39s/it]\u001b[A\n",
      " 50%|█████     | 2/4 [00:12<00:12,  6.31s/it]\u001b[A\n",
      " 75%|███████▌  | 3/4 [00:18<00:06,  6.28s/it]\u001b[A\n",
      "100%|██████████| 4/4 [00:25<00:00,  6.26s/it]\u001b[A\n",
      "4it [01:39, 24.96s/it]\n",
      "  0%|          | 0/4 [00:00<?, ?it/s]\u001b[A"
     ]
    },
    {
     "name": "stdout",
     "output_type": "stream",
     "text": [
      "(4800,)\n",
      "(4800,)\n",
      "(4800,)\n",
      "(4800,)\n"
     ]
    },
    {
     "name": "stderr",
     "output_type": "stream",
     "text": [
      "\n",
      " 25%|██▌       | 1/4 [00:06<00:18,  6.23s/it]\u001b[A\n",
      " 50%|█████     | 2/4 [00:12<00:12,  6.17s/it]\u001b[A\n",
      " 75%|███████▌  | 3/4 [00:18<00:06,  6.17s/it]\u001b[A\n",
      "100%|██████████| 4/4 [00:24<00:00,  6.18s/it]\u001b[A\n",
      "5it [02:04, 24.92s/it]\n",
      "  0%|          | 0/4 [00:00<?, ?it/s]\u001b[A"
     ]
    },
    {
     "name": "stdout",
     "output_type": "stream",
     "text": [
      "(4800,)\n",
      "(4800,)\n",
      "(4800,)\n",
      "(4800,)\n"
     ]
    },
    {
     "name": "stderr",
     "output_type": "stream",
     "text": [
      "\n",
      " 25%|██▌       | 1/4 [00:06<00:18,  6.24s/it]\u001b[A\n",
      " 50%|█████     | 2/4 [00:12<00:12,  6.30s/it]\u001b[A\n",
      " 75%|███████▌  | 3/4 [00:18<00:06,  6.25s/it]\u001b[A\n",
      "100%|██████████| 4/4 [00:24<00:00,  6.23s/it]\u001b[A\n",
      "6it [02:29, 24.92s/it]\n",
      "  0%|          | 0/4 [00:00<?, ?it/s]\u001b[A"
     ]
    },
    {
     "name": "stdout",
     "output_type": "stream",
     "text": [
      "(4800,)\n",
      "(4800,)\n",
      "(4800,)\n",
      "(4800,)\n"
     ]
    },
    {
     "name": "stderr",
     "output_type": "stream",
     "text": [
      "\n",
      " 25%|██▌       | 1/4 [00:06<00:19,  6.42s/it]\u001b[A\n",
      " 50%|█████     | 2/4 [00:12<00:12,  6.28s/it]\u001b[A\n",
      " 75%|███████▌  | 3/4 [00:18<00:06,  6.25s/it]\u001b[A\n",
      "100%|██████████| 4/4 [00:24<00:00,  6.24s/it]\u001b[A\n",
      "7it [02:54, 24.93s/it]\n",
      "  0%|          | 0/4 [00:00<?, ?it/s]\u001b[A"
     ]
    },
    {
     "name": "stdout",
     "output_type": "stream",
     "text": [
      "(4800,)\n",
      "(4800,)\n",
      "(4800,)\n",
      "(4800,)\n"
     ]
    },
    {
     "name": "stderr",
     "output_type": "stream",
     "text": [
      "\n",
      " 25%|██▌       | 1/4 [00:06<00:19,  6.39s/it]\u001b[A\n",
      " 50%|█████     | 2/4 [00:12<00:12,  6.36s/it]\u001b[A\n",
      " 75%|███████▌  | 3/4 [00:19<00:06,  6.38s/it]\u001b[A\n",
      "100%|██████████| 4/4 [00:25<00:00,  6.35s/it]\u001b[A\n",
      "8it [03:19, 24.99s/it]\n",
      "  0%|          | 0/4 [00:00<?, ?it/s]\u001b[A"
     ]
    },
    {
     "name": "stdout",
     "output_type": "stream",
     "text": [
      "(4800,)\n",
      "(4800,)\n",
      "(4800,)\n",
      "(4800,)\n"
     ]
    },
    {
     "name": "stderr",
     "output_type": "stream",
     "text": [
      "\n",
      " 25%|██▌       | 1/4 [00:06<00:19,  6.47s/it]\u001b[A\n",
      " 50%|█████     | 2/4 [00:12<00:12,  6.38s/it]\u001b[A\n",
      " 75%|███████▌  | 3/4 [00:19<00:06,  6.34s/it]\u001b[A\n",
      "100%|██████████| 4/4 [00:25<00:00,  6.34s/it]\u001b[A\n",
      "9it [03:45, 25.04s/it]\n",
      "  0%|          | 0/4 [00:00<?, ?it/s]\u001b[A"
     ]
    },
    {
     "name": "stdout",
     "output_type": "stream",
     "text": [
      "(4800,)\n",
      "(4800,)\n",
      "(4800,)\n",
      "(4800,)\n"
     ]
    },
    {
     "name": "stderr",
     "output_type": "stream",
     "text": [
      "\n",
      " 25%|██▌       | 1/4 [00:06<00:19,  6.52s/it]\u001b[A\n",
      " 50%|█████     | 2/4 [00:12<00:12,  6.35s/it]\u001b[A\n",
      " 75%|███████▌  | 3/4 [00:18<00:06,  6.32s/it]\u001b[A\n",
      "100%|██████████| 4/4 [00:25<00:00,  6.31s/it]\u001b[A\n",
      "10it [04:10, 25.06s/it]\n",
      "  0%|          | 0/4 [00:00<?, ?it/s]\u001b[A"
     ]
    },
    {
     "name": "stdout",
     "output_type": "stream",
     "text": [
      "(4800,)\n",
      "(4800,)\n",
      "(4800,)\n",
      "(4800,)\n"
     ]
    },
    {
     "name": "stderr",
     "output_type": "stream",
     "text": [
      "\n",
      " 25%|██▌       | 1/4 [00:06<00:19,  6.51s/it]\u001b[A\n",
      " 50%|█████     | 2/4 [00:12<00:12,  6.29s/it]\u001b[A\n",
      " 75%|███████▌  | 3/4 [00:18<00:06,  6.29s/it]\u001b[A\n",
      "100%|██████████| 4/4 [00:25<00:00,  6.29s/it]\u001b[A\n",
      "11it [04:35, 25.07s/it]\n",
      "  0%|          | 0/4 [00:00<?, ?it/s]\u001b[A"
     ]
    },
    {
     "name": "stdout",
     "output_type": "stream",
     "text": [
      "(4800,)\n",
      "(4800,)\n",
      "(4800,)\n",
      "(4800,)\n"
     ]
    },
    {
     "name": "stderr",
     "output_type": "stream",
     "text": [
      "\n",
      " 25%|██▌       | 1/4 [00:06<00:18,  6.20s/it]\u001b[A\n",
      " 50%|█████     | 2/4 [00:12<00:12,  6.20s/it]\u001b[A\n",
      " 75%|███████▌  | 3/4 [00:18<00:06,  6.19s/it]\u001b[A\n",
      "100%|██████████| 4/4 [00:24<00:00,  6.19s/it]\u001b[A\n",
      "12it [05:00, 25.04s/it]\n",
      "  0%|          | 0/4 [00:00<?, ?it/s]\u001b[A"
     ]
    },
    {
     "name": "stdout",
     "output_type": "stream",
     "text": [
      "(4800,)\n",
      "(4800,)\n",
      "(4800,)\n",
      "(4800,)\n"
     ]
    },
    {
     "name": "stderr",
     "output_type": "stream",
     "text": [
      "\n",
      " 25%|██▌       | 1/4 [00:06<00:19,  6.49s/it]\u001b[A\n",
      " 50%|█████     | 2/4 [00:12<00:12,  6.37s/it]\u001b[A\n",
      " 75%|███████▌  | 3/4 [00:19<00:06,  6.34s/it]\u001b[A\n",
      "100%|██████████| 4/4 [00:25<00:00,  6.32s/it]\u001b[A\n",
      "13it [05:25, 25.06s/it]\n",
      "  0%|          | 0/4 [00:00<?, ?it/s]\u001b[A"
     ]
    },
    {
     "name": "stdout",
     "output_type": "stream",
     "text": [
      "(4800,)\n",
      "(4800,)\n",
      "(4800,)\n",
      "(4800,)\n"
     ]
    },
    {
     "name": "stderr",
     "output_type": "stream",
     "text": [
      "\n",
      " 25%|██▌       | 1/4 [00:06<00:20,  6.75s/it]\u001b[A\n",
      " 50%|█████     | 2/4 [00:13<00:13,  6.95s/it]\u001b[A\n",
      " 75%|███████▌  | 3/4 [00:20<00:06,  6.93s/it]\u001b[A\n",
      "100%|██████████| 4/4 [00:27<00:00,  6.78s/it]\u001b[A\n",
      "14it [05:52, 25.21s/it]\n",
      "  0%|          | 0/4 [00:00<?, ?it/s]\u001b[A"
     ]
    },
    {
     "name": "stdout",
     "output_type": "stream",
     "text": [
      "(4800,)\n",
      "(4800,)\n",
      "(4800,)\n",
      "(4800,)\n"
     ]
    },
    {
     "name": "stderr",
     "output_type": "stream",
     "text": [
      "\n",
      " 25%|██▌       | 1/4 [00:06<00:19,  6.46s/it]\u001b[A\n",
      " 50%|█████     | 2/4 [00:12<00:12,  6.35s/it]\u001b[A\n",
      " 75%|███████▌  | 3/4 [00:19<00:06,  6.43s/it]\u001b[A\n",
      "100%|██████████| 4/4 [00:26<00:00,  6.53s/it]\u001b[A\n",
      "15it [06:19, 25.28s/it]\n",
      "  0%|          | 0/4 [00:00<?, ?it/s]\u001b[A"
     ]
    },
    {
     "name": "stdout",
     "output_type": "stream",
     "text": [
      "(4800,)\n",
      "(4800,)\n",
      "(4800,)\n",
      "(4800,)\n"
     ]
    },
    {
     "name": "stderr",
     "output_type": "stream",
     "text": [
      "\n",
      " 25%|██▌       | 1/4 [00:06<00:18,  6.28s/it]\u001b[A\n",
      " 50%|█████     | 2/4 [00:12<00:12,  6.42s/it]\u001b[A\n",
      " 75%|███████▌  | 3/4 [00:19<00:06,  6.42s/it]\u001b[A\n",
      "100%|██████████| 4/4 [00:25<00:00,  6.42s/it]\u001b[A\n",
      "16it [06:44, 25.30s/it]\n",
      "  0%|          | 0/4 [00:00<?, ?it/s]\u001b[A"
     ]
    },
    {
     "name": "stdout",
     "output_type": "stream",
     "text": [
      "(4800,)\n",
      "(4800,)\n",
      "(4800,)\n",
      "(4800,)\n"
     ]
    },
    {
     "name": "stderr",
     "output_type": "stream",
     "text": [
      "\n",
      " 25%|██▌       | 1/4 [00:06<00:20,  6.69s/it]\u001b[A\n",
      " 50%|█████     | 2/4 [00:13<00:13,  6.65s/it]\u001b[A\n",
      " 75%|███████▌  | 3/4 [00:19<00:06,  6.66s/it]\u001b[A\n",
      "100%|██████████| 4/4 [00:26<00:00,  6.69s/it]\u001b[A\n",
      "17it [07:11, 25.39s/it]\n",
      "  0%|          | 0/4 [00:00<?, ?it/s]\u001b[A"
     ]
    },
    {
     "name": "stdout",
     "output_type": "stream",
     "text": [
      "(4800,)\n",
      "(4800,)\n",
      "(4800,)\n",
      "(4800,)\n"
     ]
    },
    {
     "name": "stderr",
     "output_type": "stream",
     "text": [
      "\n",
      " 25%|██▌       | 1/4 [00:06<00:19,  6.62s/it]\u001b[A\n",
      " 50%|█████     | 2/4 [00:13<00:13,  6.53s/it]\u001b[A\n",
      " 75%|███████▌  | 3/4 [00:19<00:06,  6.52s/it]\u001b[A\n",
      "100%|██████████| 4/4 [00:25<00:00,  6.49s/it]\u001b[A\n",
      "18it [07:37, 25.42s/it]\n",
      "  0%|          | 0/4 [00:00<?, ?it/s]\u001b[A"
     ]
    },
    {
     "name": "stdout",
     "output_type": "stream",
     "text": [
      "(4800,)\n",
      "(4800,)\n",
      "(4800,)\n",
      "(4800,)\n"
     ]
    },
    {
     "name": "stderr",
     "output_type": "stream",
     "text": [
      "\n",
      " 25%|██▌       | 1/4 [00:06<00:20,  6.71s/it]\u001b[A\n",
      " 50%|█████     | 2/4 [00:13<00:13,  6.60s/it]\u001b[A\n",
      " 75%|███████▌  | 3/4 [00:19<00:06,  6.55s/it]\u001b[A\n",
      "100%|██████████| 4/4 [00:26<00:00,  6.51s/it]\u001b[A\n",
      "19it [08:03, 25.45s/it]\n",
      "  0%|          | 0/4 [00:00<?, ?it/s]\u001b[A"
     ]
    },
    {
     "name": "stdout",
     "output_type": "stream",
     "text": [
      "(4800,)\n",
      "(4800,)\n",
      "(4800,)\n",
      "(4800,)\n"
     ]
    },
    {
     "name": "stderr",
     "output_type": "stream",
     "text": [
      "\n",
      " 25%|██▌       | 1/4 [00:06<00:19,  6.62s/it]\u001b[A\n",
      " 50%|█████     | 2/4 [00:12<00:12,  6.42s/it]\u001b[A\n",
      " 75%|███████▌  | 3/4 [00:18<00:06,  6.32s/it]\u001b[A\n",
      "100%|██████████| 4/4 [00:25<00:00,  6.40s/it]\u001b[A\n",
      "20it [08:29, 25.46s/it]\n",
      "  0%|          | 0/4 [00:00<?, ?it/s]\u001b[A"
     ]
    },
    {
     "name": "stdout",
     "output_type": "stream",
     "text": [
      "(4800,)\n",
      "(4800,)\n",
      "(4800,)\n",
      "(4800,)\n"
     ]
    },
    {
     "name": "stderr",
     "output_type": "stream",
     "text": [
      "\n",
      " 25%|██▌       | 1/4 [00:06<00:19,  6.64s/it]\u001b[A\n",
      " 50%|█████     | 2/4 [00:13<00:13,  6.65s/it]\u001b[A\n",
      " 75%|███████▌  | 3/4 [00:19<00:06,  6.54s/it]\u001b[A\n",
      "100%|██████████| 4/4 [00:26<00:00,  6.60s/it]\u001b[A\n",
      "21it [08:55, 25.51s/it]\n",
      "  0%|          | 0/4 [00:00<?, ?it/s]\u001b[A"
     ]
    },
    {
     "name": "stdout",
     "output_type": "stream",
     "text": [
      "(4800,)\n",
      "(4800,)\n",
      "(4800,)\n",
      "(4800,)\n"
     ]
    },
    {
     "name": "stderr",
     "output_type": "stream",
     "text": [
      "\n",
      " 25%|██▌       | 1/4 [00:06<00:19,  6.55s/it]\u001b[A\n",
      " 50%|█████     | 2/4 [00:13<00:13,  6.56s/it]\u001b[A\n",
      " 75%|███████▌  | 3/4 [00:19<00:06,  6.47s/it]\u001b[A\n",
      "100%|██████████| 4/4 [00:26<00:00,  6.51s/it]\u001b[A\n",
      "22it [09:21, 25.53s/it]\n",
      "  0%|          | 0/4 [00:00<?, ?it/s]\u001b[A"
     ]
    },
    {
     "name": "stdout",
     "output_type": "stream",
     "text": [
      "(4800,)\n",
      "(4800,)\n",
      "(4800,)\n",
      "(4800,)\n"
     ]
    },
    {
     "name": "stderr",
     "output_type": "stream",
     "text": [
      "\n",
      " 25%|██▌       | 1/4 [00:06<00:20,  6.98s/it]\u001b[A\n",
      " 50%|█████     | 2/4 [00:13<00:13,  6.69s/it]\u001b[A\n",
      " 75%|███████▌  | 3/4 [00:19<00:06,  6.55s/it]\u001b[A\n",
      "100%|██████████| 4/4 [00:26<00:00,  6.54s/it]\u001b[A\n",
      "23it [09:47, 25.56s/it]\n",
      "  0%|          | 0/4 [00:00<?, ?it/s]\u001b[A"
     ]
    },
    {
     "name": "stdout",
     "output_type": "stream",
     "text": [
      "(4800,)\n",
      "(4800,)\n",
      "(4800,)\n",
      "(4800,)\n"
     ]
    },
    {
     "name": "stderr",
     "output_type": "stream",
     "text": [
      "\n",
      " 25%|██▌       | 1/4 [00:06<00:20,  6.81s/it]\u001b[A\n",
      " 50%|█████     | 2/4 [00:13<00:13,  6.57s/it]\u001b[A\n",
      " 75%|███████▌  | 3/4 [00:19<00:06,  6.48s/it]\u001b[A\n",
      "100%|██████████| 4/4 [00:25<00:00,  6.44s/it]\u001b[A\n",
      "24it [10:13, 25.57s/it]\n",
      "  0%|          | 0/4 [00:00<?, ?it/s]\u001b[A"
     ]
    },
    {
     "name": "stdout",
     "output_type": "stream",
     "text": [
      "(4800,)\n",
      "(4800,)\n",
      "(4800,)\n",
      "(4800,)\n"
     ]
    },
    {
     "name": "stderr",
     "output_type": "stream",
     "text": [
      "\n",
      " 25%|██▌       | 1/4 [00:06<00:19,  6.45s/it]\u001b[A\n",
      " 50%|█████     | 2/4 [00:12<00:12,  6.39s/it]\u001b[A\n",
      " 75%|███████▌  | 3/4 [00:19<00:06,  6.38s/it]\u001b[A\n",
      "100%|██████████| 4/4 [00:25<00:00,  6.45s/it]\u001b[A\n",
      "25it [10:39, 25.58s/it]\n",
      "  0%|          | 0/4 [00:00<?, ?it/s]\u001b[A"
     ]
    },
    {
     "name": "stdout",
     "output_type": "stream",
     "text": [
      "(4800,)\n",
      "(4800,)\n",
      "(4800,)\n",
      "(4800,)\n"
     ]
    },
    {
     "name": "stderr",
     "output_type": "stream",
     "text": [
      "\n",
      " 25%|██▌       | 1/4 [00:06<00:20,  6.73s/it]\u001b[A\n",
      " 50%|█████     | 2/4 [00:13<00:13,  6.56s/it]\u001b[A\n",
      " 75%|███████▌  | 3/4 [00:19<00:06,  6.49s/it]\u001b[A\n",
      "100%|██████████| 4/4 [00:25<00:00,  6.48s/it]\u001b[A\n",
      "26it [11:05, 25.59s/it]\n",
      "  0%|          | 0/4 [00:00<?, ?it/s]\u001b[A"
     ]
    },
    {
     "name": "stdout",
     "output_type": "stream",
     "text": [
      "(4800,)\n",
      "(4800,)\n",
      "(4800,)\n",
      "(4800,)\n"
     ]
    },
    {
     "name": "stderr",
     "output_type": "stream",
     "text": [
      "\n",
      " 25%|██▌       | 1/4 [00:06<00:18,  6.21s/it]\u001b[A\n",
      " 50%|█████     | 2/4 [00:12<00:12,  6.32s/it]\u001b[A\n",
      " 75%|███████▌  | 3/4 [00:19<00:06,  6.34s/it]\u001b[A\n",
      "100%|██████████| 4/4 [00:25<00:00,  6.34s/it]\u001b[A\n",
      "27it [11:30, 25.58s/it]\n",
      "  0%|          | 0/4 [00:00<?, ?it/s]\u001b[A"
     ]
    },
    {
     "name": "stdout",
     "output_type": "stream",
     "text": [
      "(4800,)\n",
      "(4800,)\n",
      "(4800,)\n",
      "(4800,)\n"
     ]
    },
    {
     "name": "stderr",
     "output_type": "stream",
     "text": [
      "\n",
      " 25%|██▌       | 1/4 [00:06<00:18,  6.31s/it]\u001b[A\n",
      " 50%|█████     | 2/4 [00:12<00:12,  6.31s/it]\u001b[A\n",
      " 75%|███████▌  | 3/4 [00:18<00:06,  6.27s/it]\u001b[A\n",
      "100%|██████████| 4/4 [00:25<00:00,  6.32s/it]\u001b[A\n",
      "28it [11:56, 25.57s/it]\n",
      "  0%|          | 0/4 [00:00<?, ?it/s]\u001b[A"
     ]
    },
    {
     "name": "stdout",
     "output_type": "stream",
     "text": [
      "(4800,)\n",
      "(4800,)\n",
      "(4800,)\n",
      "(4800,)\n"
     ]
    },
    {
     "name": "stderr",
     "output_type": "stream",
     "text": [
      "\n",
      " 25%|██▌       | 1/4 [00:06<00:20,  6.77s/it]\u001b[A\n",
      " 50%|█████     | 2/4 [00:13<00:13,  6.69s/it]\u001b[A\n",
      " 75%|███████▌  | 3/4 [00:20<00:06,  6.68s/it]\u001b[A\n",
      "100%|██████████| 4/4 [00:26<00:00,  6.65s/it]\u001b[A\n",
      "29it [12:22, 25.61s/it]\n",
      "  0%|          | 0/4 [00:00<?, ?it/s]\u001b[A"
     ]
    },
    {
     "name": "stdout",
     "output_type": "stream",
     "text": [
      "(4800,)\n",
      "(4800,)\n",
      "(4800,)\n",
      "(4800,)\n"
     ]
    },
    {
     "name": "stderr",
     "output_type": "stream",
     "text": [
      "\n",
      " 25%|██▌       | 1/4 [00:06<00:20,  6.76s/it]\u001b[A\n",
      " 50%|█████     | 2/4 [00:13<00:13,  6.95s/it]\u001b[A\n",
      " 75%|███████▌  | 3/4 [00:20<00:06,  6.92s/it]\u001b[A\n",
      "100%|██████████| 4/4 [00:27<00:00,  6.81s/it]\u001b[A\n",
      "30it [12:49, 25.66s/it]\n",
      "  0%|          | 0/4 [00:00<?, ?it/s]\u001b[A"
     ]
    },
    {
     "name": "stdout",
     "output_type": "stream",
     "text": [
      "(4800,)\n",
      "(4800,)\n",
      "(4800,)\n",
      "(4800,)\n"
     ]
    },
    {
     "name": "stderr",
     "output_type": "stream",
     "text": [
      "\n",
      " 25%|██▌       | 1/4 [00:06<00:19,  6.39s/it]\u001b[A\n",
      " 50%|█████     | 2/4 [00:12<00:12,  6.34s/it]\u001b[A\n",
      " 75%|███████▌  | 3/4 [00:19<00:06,  6.41s/it]\u001b[A\n",
      "100%|██████████| 4/4 [00:26<00:00,  6.52s/it]\u001b[A\n",
      "31it [13:16, 25.68s/it]\n",
      "  0%|          | 0/4 [00:00<?, ?it/s]\u001b[A"
     ]
    },
    {
     "name": "stdout",
     "output_type": "stream",
     "text": [
      "(4800,)\n",
      "(4800,)\n",
      "(4800,)\n",
      "(4800,)\n"
     ]
    },
    {
     "name": "stderr",
     "output_type": "stream",
     "text": [
      "\n",
      " 25%|██▌       | 1/4 [00:06<00:20,  6.86s/it]\u001b[A\n",
      " 50%|█████     | 2/4 [00:13<00:13,  6.76s/it]\u001b[A\n",
      " 75%|███████▌  | 3/4 [00:19<00:06,  6.57s/it]\u001b[A\n",
      "100%|██████████| 4/4 [00:26<00:00,  6.50s/it]\u001b[A\n",
      "32it [13:42, 25.69s/it]\n",
      "  0%|          | 0/4 [00:00<?, ?it/s]\u001b[A"
     ]
    },
    {
     "name": "stdout",
     "output_type": "stream",
     "text": [
      "(4800,)\n",
      "(4800,)\n",
      "(4800,)\n",
      "(4800,)\n"
     ]
    },
    {
     "name": "stderr",
     "output_type": "stream",
     "text": [
      "\n",
      " 25%|██▌       | 1/4 [00:07<00:21,  7.25s/it]\u001b[A\n",
      " 50%|█████     | 2/4 [00:14<00:14,  7.12s/it]\u001b[A\n",
      " 75%|███████▌  | 3/4 [00:20<00:06,  6.89s/it]\u001b[A\n",
      "100%|██████████| 4/4 [00:27<00:00,  6.92s/it]\u001b[A\n",
      "33it [14:09, 25.75s/it]\n",
      "  0%|          | 0/4 [00:00<?, ?it/s]\u001b[A"
     ]
    },
    {
     "name": "stdout",
     "output_type": "stream",
     "text": [
      "(4800,)\n",
      "(4800,)\n",
      "(4800,)\n",
      "(4800,)\n"
     ]
    },
    {
     "name": "stderr",
     "output_type": "stream",
     "text": [
      "\n",
      " 25%|██▌       | 1/4 [00:06<00:20,  6.93s/it]\u001b[A\n",
      " 50%|█████     | 2/4 [00:14<00:14,  7.03s/it]\u001b[A\n",
      " 75%|███████▌  | 3/4 [00:20<00:06,  6.77s/it]\u001b[A\n",
      "100%|██████████| 4/4 [00:26<00:00,  6.65s/it]\u001b[A\n",
      "34it [14:36, 25.78s/it]\n",
      "  0%|          | 0/4 [00:00<?, ?it/s]\u001b[A"
     ]
    },
    {
     "name": "stdout",
     "output_type": "stream",
     "text": [
      "(4800,)\n",
      "(4800,)\n",
      "(4800,)\n",
      "(4800,)\n"
     ]
    },
    {
     "name": "stderr",
     "output_type": "stream",
     "text": [
      "\n",
      " 25%|██▌       | 1/4 [00:06<00:19,  6.56s/it]\u001b[A\n",
      " 50%|█████     | 2/4 [00:12<00:12,  6.32s/it]\u001b[A\n",
      " 75%|███████▌  | 3/4 [00:18<00:06,  6.25s/it]\u001b[A\n",
      "100%|██████████| 4/4 [00:25<00:00,  6.29s/it]\u001b[A\n",
      "35it [15:01, 25.76s/it]\n",
      "  0%|          | 0/4 [00:00<?, ?it/s]\u001b[A"
     ]
    },
    {
     "name": "stdout",
     "output_type": "stream",
     "text": [
      "(4800,)\n",
      "(4800,)\n",
      "(4800,)\n",
      "(4800,)\n"
     ]
    },
    {
     "name": "stderr",
     "output_type": "stream",
     "text": [
      "\n",
      " 25%|██▌       | 1/4 [00:06<00:20,  6.80s/it]\u001b[A\n",
      " 50%|█████     | 2/4 [00:13<00:13,  6.78s/it]\u001b[A\n",
      " 75%|███████▌  | 3/4 [00:19<00:06,  6.58s/it]\u001b[A\n",
      "100%|██████████| 4/4 [00:25<00:00,  6.49s/it]\u001b[A\n",
      "36it [15:27, 25.76s/it]\n",
      "  0%|          | 0/4 [00:00<?, ?it/s]\u001b[A"
     ]
    },
    {
     "name": "stdout",
     "output_type": "stream",
     "text": [
      "(4800,)\n",
      "(4800,)\n",
      "(4800,)\n",
      "(4800,)\n"
     ]
    },
    {
     "name": "stderr",
     "output_type": "stream",
     "text": [
      "\n",
      " 25%|██▌       | 1/4 [00:06<00:18,  6.26s/it]\u001b[A\n",
      " 50%|█████     | 2/4 [00:12<00:12,  6.24s/it]\u001b[A\n",
      " 75%|███████▌  | 3/4 [00:18<00:06,  6.21s/it]\u001b[A\n",
      "100%|██████████| 4/4 [00:24<00:00,  6.20s/it]\u001b[A\n",
      "37it [15:52, 25.74s/it]\n",
      "  0%|          | 0/4 [00:00<?, ?it/s]\u001b[A"
     ]
    },
    {
     "name": "stdout",
     "output_type": "stream",
     "text": [
      "(4800,)\n",
      "(4800,)\n",
      "(4800,)\n",
      "(4800,)\n"
     ]
    },
    {
     "name": "stderr",
     "output_type": "stream",
     "text": [
      "\n",
      " 25%|██▌       | 1/4 [00:06<00:19,  6.44s/it]\u001b[A\n",
      " 50%|█████     | 2/4 [00:12<00:12,  6.26s/it]\u001b[A\n",
      " 75%|███████▌  | 3/4 [00:18<00:06,  6.22s/it]\u001b[A\n",
      "100%|██████████| 4/4 [00:24<00:00,  6.22s/it]\u001b[A\n",
      "38it [16:17, 25.72s/it]\n",
      "  0%|          | 0/4 [00:00<?, ?it/s]\u001b[A"
     ]
    },
    {
     "name": "stdout",
     "output_type": "stream",
     "text": [
      "(4800,)\n",
      "(4800,)\n",
      "(4800,)\n",
      "(4800,)\n"
     ]
    },
    {
     "name": "stderr",
     "output_type": "stream",
     "text": [
      "\n",
      " 25%|██▌       | 1/4 [00:06<00:19,  6.43s/it]\u001b[A\n",
      " 50%|█████     | 2/4 [00:12<00:12,  6.26s/it]\u001b[A\n",
      " 75%|███████▌  | 3/4 [00:18<00:06,  6.21s/it]\u001b[A\n",
      "100%|██████████| 4/4 [00:24<00:00,  6.21s/it]\u001b[A\n",
      "39it [16:42, 25.69s/it]\n",
      "  0%|          | 0/4 [00:00<?, ?it/s]\u001b[A"
     ]
    },
    {
     "name": "stdout",
     "output_type": "stream",
     "text": [
      "(4800,)\n",
      "(4800,)\n",
      "(4800,)\n",
      "(4800,)\n"
     ]
    },
    {
     "name": "stderr",
     "output_type": "stream",
     "text": [
      "\n",
      " 25%|██▌       | 1/4 [00:06<00:19,  6.42s/it]\u001b[A\n",
      " 50%|█████     | 2/4 [00:12<00:12,  6.25s/it]\u001b[A\n",
      " 75%|███████▌  | 3/4 [00:18<00:06,  6.20s/it]\u001b[A\n",
      "100%|██████████| 4/4 [00:24<00:00,  6.19s/it]\u001b[A\n",
      "40it [17:06, 25.67s/it]\n"
     ]
    }
   ],
   "source": [
    "import glob\n",
    "f_fam_orig_reps = glob.glob('/home/brad/DailyLog/20200128/JSpop_fast_B1083Split-1-1-20_LvsR-fam-orig-*.pkl')\n",
    "f_fam_shuff_reps = glob.glob('/home/brad/DailyLog/20200128/JSpop_fast_B1083Split-1-1-20_LvsR-fam-shuff-*.pkl')\n",
    "c_fam_orig_reps = glob.glob('/home/brad/DailyLog/20200128/new2_Correl_B1083_fam_orig_split_*.pkl')\n",
    "c_fam_shuff_reps = glob.glob('/home/brad/DailyLog/20200128/new2_Correl_B1083_fam_shuff_split_*.pkl')\n",
    "from tqdm import tqdm\n",
    "scsv_reps = []\n",
    "scsv_shuff = []\n",
    "for f_fam_orig, f_fam_shuff, c_fam_orig, c_fam_shuff in tqdm(zip(f_fam_orig_reps, f_fam_shuff_reps, c_fam_orig_reps, c_fam_shuff_reps)):\n",
    "    \n",
    "\n",
    "    with open(f_fam_orig, 'rb') as f:\n",
    "        div = pickle.load(f)\n",
    "\n",
    "    with open(f_fam_shuff, 'rb') as f:\n",
    "        divs = pickle.load(f)\n",
    "    with open(c_fam_orig, 'rb') as f:\n",
    "        cdiv = pickle.load(f)\n",
    "\n",
    "    with open(c_fam_shuff, 'rb') as f:\n",
    "        cdivs = pickle.load(f)\n",
    "        \n",
    "    dataset = build_lmm_dataset(div)\n",
    "    dataset_s = build_lmm_dataset(divs)\n",
    "    dataset_c = build_lmm_dataset(cdiv)\n",
    "    dataset_cs = build_lmm_dataset(cdivs)\n",
    "\n",
    "    csss = [dataset, dataset_s, dataset_c, dataset_cs]\n",
    "    #csss = [dataset]\n",
    "\n",
    "    scsv = []\n",
    "    for ds in tqdm(csss):\n",
    "\n",
    "        N_tests = 240\n",
    "        train_pct = 0.8\n",
    "        test_pct = 1 - train_pct\n",
    "        targ = ds['cond'].values\n",
    "        feat = ds['JS'].values\n",
    "        scores = []\n",
    "        for test in range(N_tests):\n",
    "            ntarg = int(train_pct*len(targ))\n",
    "            perm = np.random.permutation(np.arange(len(targ)))\n",
    "            targ_train = targ[perm[0:ntarg]]\n",
    "            feat_train = feat[perm[0:ntarg]][:, np.newaxis]\n",
    "            targ_test = targ[perm[ntarg:]]\n",
    "            feat_test = feat[perm[ntarg:]][:, np.newaxis]\n",
    "            lr = LogisticRegression()\n",
    "            lr.fit(feat_train, targ_train)\n",
    "\n",
    "            scores.append(lr.score(feat_test, targ_test))\n",
    "        scsv.append(scores)\n",
    "    scsv_reps.append(scsv)\n",
    "\n"
   ]
  },
  {
   "cell_type": "code",
   "execution_count": 16,
   "metadata": {},
   "outputs": [
    {
     "data": {
      "text/plain": [
       "4"
      ]
     },
     "execution_count": 16,
     "metadata": {},
     "output_type": "execute_result"
    }
   ],
   "source": [
    "len(scsv_reps[0])"
   ]
  },
  {
   "cell_type": "code",
   "execution_count": 6,
   "metadata": {},
   "outputs": [],
   "source": [
    "f = lambda x: list(map(np.mean, x))\n",
    "test = np.transpose(list(map(f, scsv_reps)))\n"
   ]
  },
  {
   "cell_type": "code",
   "execution_count": 9,
   "metadata": {},
   "outputs": [
    {
     "data": {
      "text/plain": [
       "(4, 40)"
      ]
     },
     "execution_count": 9,
     "metadata": {},
     "output_type": "execute_result"
    }
   ],
   "source": [
    "test.shape"
   ]
  },
  {
   "cell_type": "code",
   "execution_count": 7,
   "metadata": {},
   "outputs": [
    {
     "data": {
      "image/png": "[encoded data removed]",
      "text/plain": [
       "<matplotlib.figure.Figure at 0x7f66e137ee10>"
      ]
     },
     "metadata": {},
     "output_type": "display_data"
    }
   ],
   "source": [
    "\n",
    "colors = ['#111111', '#111111', '#111111', '#111111']\n",
    "marker_style = ['o', 'x', 'o', 'x']\n",
    "colors = np.tile(['#111111', '#111111'], 2)\n",
    "marker_style = np.tile(['o', 'x'], 2)\n",
    "(fig, pos) = grouped_boxplot_with_scatter(test, order=range(4), ngroups=2, labels=['JS', 'Corr'], colors=colors, scatter_style=marker_style, figsize=(5,5), marker_size=40)\n",
    "\n",
    "\n",
    "# significance_bar(pos[0],pos[1], 0.97 , '***',linewidth = 1,markersize = 8,boxpad  =0.01,fontsize = 26,color = 'k')\n",
    "# significance_bar(pos[0], pos[2], 1.03, '***', linewidth = 1,markersize = 8,boxpad  =0.01,fontsize = 26,color = 'k')\n",
    "# significance_bar(pos[2], pos[3], 0.97, '***', linewidth = 1,markersize = 8,boxpad  =0.01,fontsize = 26,color = 'k')\n",
    "\n",
    "# significance_bar(pos[4],pos[5], 0.97 , '***',linewidth = 1,markersize = 8,boxpad  =0.01,fontsize = 26,color = 'k')\n",
    "# significance_bar(pos[4], pos[6], 1.03, '***',  linewidth = 1,markersize = 8,boxpad  =0.01,fontsize = 26,color = 'k')\n",
    "# significance_bar(pos[6], pos[7], 0.97, '***', linewidth = 1,markersize = 8,boxpad  =0.01,fontsize = 26,color = 'k')\n",
    "plt.ylim([0.40, 1.1])\n",
    "\n",
    "plt.savefig(os.path.join(figsavepth, 'B1083_Split_JSDIVSTATS.pdf'))"
   ]
  },
  {
   "cell_type": "code",
   "execution_count": 15,
   "metadata": {},
   "outputs": [
    {
     "name": "stdout",
     "output_type": "stream",
     "text": [
      "TEST: Pop1JS-Shuffle\n",
      "Ttest_indResult(statistic=3.990920232889464, pvalue=0.000204984502738714)\n",
      "TEST: Pop1JS-Pop1Corr\n",
      "Ttest_indResult(statistic=2.64628994472286, pvalue=0.01164001917582673)\n",
      "TEST: Pop1Corr-Shuffle\n",
      "Ttest_indResult(statistic=1.4915944877525233, pvalue=0.1399084652100299)\n"
     ]
    }
   ],
   "source": [
    "from scipy.stats import ttest_ind\n",
    "ttests =[(0,1), (0, 2), (2,3)]\n",
    "ttest_names = ['Pop1JS-Shuffle', 'Pop1JS-Pop1Corr', 'Pop1Corr-Shuffle']\n",
    "for t, n in zip(ttests, ttest_names):\n",
    "    res = ttest_ind(test[t[0]], test[t[1]], equal_var=False)\n",
    "    print('TEST: {}'.format(n))\n",
    "    print(res)"
   ]
  },
  {
   "cell_type": "markdown",
   "metadata": {},
   "source": []
  },
  {
   "cell_type": "code",
   "execution_count": 42,
   "metadata": {},
   "outputs": [],
   "source": [
    "JS_Corr = []\n",
    "Orig_shuff = []\n",
    "reps = []\n",
    "acc = []\n",
    "for rep in range(40):\n",
    "    (j, jsf, c, cf) = test[:, rep]\n",
    "    acc.append(j)\n",
    "    JS_Corr.append(1)\n",
    "    Orig_shuff.append(1)\n",
    "    reps.append(rep)\n",
    "    \n",
    "    acc.append(jsf)\n",
    "    JS_Corr.append(1)\n",
    "    Orig_shuff.append(-1)\n",
    "    reps.append(rep)\n",
    "    \n",
    "    acc.append(c)\n",
    "    JS_Corr.append(-1)\n",
    "    Orig_shuff.append(1)\n",
    "    reps.append(rep)\n",
    "    \n",
    "    acc.append(cf)\n",
    "    JS_Corr.append(-1)\n",
    "    Orig_shuff.append(-1)\n",
    "    reps.append(rep)\n",
    "    \n",
    "    \n",
    "mixedeffects_ds = pd.DataFrame(data={'Acc': acc, 'JS_Corr': JS_Corr, 'Orig_shuff': Orig_shuff, 'Pop': reps})\n",
    "mixedeffects_ds.to_csv(\"/home/brad/DailyLog/20200130/mfds.csv\")"
   ]
  },
  {
   "cell_type": "code",
   "execution_count": 43,
   "metadata": {},
   "outputs": [
    {
     "name": "stderr",
     "output_type": "stream",
     "text": [
      "/home/brad/.conda/envs/neuraltda-4/lib/python3.6/site-packages/statsmodels/base/model.py:508: ConvergenceWarning: Maximum Likelihood optimization failed to converge. Check mle_retvals\n",
      "  \"Check mle_retvals\", ConvergenceWarning)\n",
      "/home/brad/.conda/envs/neuraltda-4/lib/python3.6/site-packages/statsmodels/base/model.py:508: ConvergenceWarning: Maximum Likelihood optimization failed to converge. Check mle_retvals\n",
      "  \"Check mle_retvals\", ConvergenceWarning)\n",
      "/home/brad/.conda/envs/neuraltda-4/lib/python3.6/site-packages/statsmodels/base/model.py:508: ConvergenceWarning: Maximum Likelihood optimization failed to converge. Check mle_retvals\n",
      "  \"Check mle_retvals\", ConvergenceWarning)\n",
      "/home/brad/.conda/envs/neuraltda-4/lib/python3.6/site-packages/statsmodels/base/model.py:508: ConvergenceWarning: Maximum Likelihood optimization failed to converge. Check mle_retvals\n",
      "  \"Check mle_retvals\", ConvergenceWarning)\n"
     ]
    },
    {
     "name": "stdout",
     "output_type": "stream",
     "text": [
      "            Mixed Linear Model Regression Results\n",
      "=============================================================\n",
      "Model:               MixedLM   Dependent Variable:   Acc     \n",
      "No. Observations:    160       Method:               REML    \n",
      "No. Groups:          40        Scale:                0.0023  \n",
      "Min. group size:     4         Likelihood:           243.3550\n",
      "Max. group size:     4         Converged:            No      \n",
      "Mean group size:     4.0                                     \n",
      "-------------------------------------------------------------\n",
      "                   Coef. Std.Err.    z    P>|z| [0.025 0.975]\n",
      "-------------------------------------------------------------\n",
      "Intercept          0.585    0.004 154.510 0.000  0.577  0.592\n",
      "JS_Corr            0.004    0.004   1.031 0.303 -0.003  0.011\n",
      "Orig_shuff         0.015    0.004   4.120 0.000  0.008  0.023\n",
      "JS_Corr:Orig_shuff 0.014    0.004   3.838 0.000  0.007  0.022\n",
      "Group Var          0.000    0.003                            \n",
      "=============================================================\n",
      "\n"
     ]
    },
    {
     "name": "stderr",
     "output_type": "stream",
     "text": [
      "/home/brad/.conda/envs/neuraltda-4/lib/python3.6/site-packages/statsmodels/base/model.py:508: ConvergenceWarning: Maximum Likelihood optimization failed to converge. Check mle_retvals\n",
      "  \"Check mle_retvals\", ConvergenceWarning)\n",
      "/home/brad/.conda/envs/neuraltda-4/lib/python3.6/site-packages/statsmodels/regression/mixed_linear_model.py:2026: ConvergenceWarning: Gradient optimization failed.\n",
      "  warnings.warn(msg, ConvergenceWarning)\n",
      "/home/brad/.conda/envs/neuraltda-4/lib/python3.6/site-packages/statsmodels/regression/mixed_linear_model.py:2045: ConvergenceWarning: The MLE may be on the boundary of the parameter space.\n",
      "  warnings.warn(msg, ConvergenceWarning)\n"
     ]
    }
   ],
   "source": [
    "import statsmodels.api as sm\n",
    "import statsmodels.formula.api as smf\n",
    "\n",
    "md = smf.mixedlm(\"Acc ~ JS_Corr + Orig_shuff + JS_Corr*Orig_shuff\", mixedeffects_ds, groups = mixedeffects_ds[\"Pop\"])\n",
    "mdf  = md.fit(maxiter=100)\n",
    "print(mdf.summary())"
   ]
  },
  {
   "cell_type": "code",
   "execution_count": 35,
   "metadata": {},
   "outputs": [
    {
     "ename": "AttributeError",
     "evalue": "'MixedLMResults' object has no attribute 'mle_retvals'",
     "output_type": "error",
     "traceback": [
      "\u001b[0;31m---------------------------------------------------------------------------\u001b[0m",
      "\u001b[0;31mAttributeError\u001b[0m                            Traceback (most recent call last)",
      "\u001b[0;32m<ipython-input-35-5cedba1972be>\u001b[0m in \u001b[0;36m<module>\u001b[0;34m()\u001b[0m\n\u001b[0;32m----> 1\u001b[0;31m \u001b[0mmdf\u001b[0m\u001b[0;34m.\u001b[0m\u001b[0mmle_retvals\u001b[0m\u001b[0;34m\u001b[0m\u001b[0m\n\u001b[0m",
      "\u001b[0;32m~/.conda/envs/neuraltda-4/lib/python3.6/site-packages/statsmodels/base/wrapper.py\u001b[0m in \u001b[0;36m__getattribute__\u001b[0;34m(self, attr)\u001b[0m\n\u001b[1;32m     33\u001b[0m             \u001b[0;32mpass\u001b[0m\u001b[0;34m\u001b[0m\u001b[0m\n\u001b[1;32m     34\u001b[0m \u001b[0;34m\u001b[0m\u001b[0m\n\u001b[0;32m---> 35\u001b[0;31m         \u001b[0mobj\u001b[0m \u001b[0;34m=\u001b[0m \u001b[0mgetattr\u001b[0m\u001b[0;34m(\u001b[0m\u001b[0mresults\u001b[0m\u001b[0;34m,\u001b[0m \u001b[0mattr\u001b[0m\u001b[0;34m)\u001b[0m\u001b[0;34m\u001b[0m\u001b[0m\n\u001b[0m\u001b[1;32m     36\u001b[0m         \u001b[0mdata\u001b[0m \u001b[0;34m=\u001b[0m \u001b[0mresults\u001b[0m\u001b[0;34m.\u001b[0m\u001b[0mmodel\u001b[0m\u001b[0;34m.\u001b[0m\u001b[0mdata\u001b[0m\u001b[0;34m\u001b[0m\u001b[0m\n\u001b[1;32m     37\u001b[0m         \u001b[0mhow\u001b[0m \u001b[0;34m=\u001b[0m \u001b[0mself\u001b[0m\u001b[0;34m.\u001b[0m\u001b[0m_wrap_attrs\u001b[0m\u001b[0;34m.\u001b[0m\u001b[0mget\u001b[0m\u001b[0;34m(\u001b[0m\u001b[0mattr\u001b[0m\u001b[0;34m)\u001b[0m\u001b[0;34m\u001b[0m\u001b[0m\n",
      "\u001b[0;31mAttributeError\u001b[0m: 'MixedLMResults' object has no attribute 'mle_retvals'"
     ]
    }
   ],
   "source": [
    "mdf.mle_retvals"
   ]
  },
  {
   "cell_type": "code",
   "execution_count": 9,
   "metadata": {},
   "outputs": [
    {
     "name": "stderr",
     "output_type": "stream",
     "text": [
      "0it [00:00, ?it/s]\n",
      "  0%|          | 0/2 [00:00<?, ?it/s]\u001b[A"
     ]
    },
    {
     "name": "stdout",
     "output_type": "stream",
     "text": [
      "['/home/brad/DailyLog/20200123/new2_Correl_B1083_fam_orig_split_37.pkl', '/home/brad/DailyLog/20200123/new2_Correl_B1083_fam_orig_split_29.pkl', '/home/brad/DailyLog/20200123/new2_Correl_B1083_fam_orig_split_36.pkl', '/home/brad/DailyLog/20200123/new2_Correl_B1083_fam_orig_split_28.pkl', '/home/brad/DailyLog/20200123/new2_Correl_B1083_fam_orig_split_22.pkl', '/home/brad/DailyLog/20200123/new2_Correl_B1083_fam_orig_split_39.pkl', '/home/brad/DailyLog/20200123/new2_Correl_B1083_fam_orig_split_10.pkl', '/home/brad/DailyLog/20200123/new2_Correl_B1083_fam_orig_split_21.pkl', '/home/brad/DailyLog/20200123/new2_Correl_B1083_fam_orig_split_34.pkl', '/home/brad/DailyLog/20200123/new2_Correl_B1083_fam_orig_split_0.pkl', '/home/brad/DailyLog/20200123/new2_Correl_B1083_fam_orig_split_7.pkl', '/home/brad/DailyLog/20200123/new2_Correl_B1083_fam_orig_split_11.pkl', '/home/brad/DailyLog/20200123/new2_Correl_B1083_fam_orig_split_9.pkl', '/home/brad/DailyLog/20200123/new2_Correl_B1083_fam_orig_split_5.pkl', '/home/brad/DailyLog/20200123/new2_Correl_B1083_fam_orig_split_25.pkl', '/home/brad/DailyLog/20200123/new2_Correl_B1083_fam_orig_split_14.pkl', '/home/brad/DailyLog/20200123/new2_Correl_B1083_fam_orig_split_17.pkl', '/home/brad/DailyLog/20200123/new2_Correl_B1083_fam_orig_split_2.pkl', '/home/brad/DailyLog/20200123/new2_Correl_B1083_fam_orig_split_8.pkl', '/home/brad/DailyLog/20200123/new2_Correl_B1083_fam_orig_split_4.pkl', '/home/brad/DailyLog/20200123/new2_Correl_B1083_fam_orig_split_20.pkl', '/home/brad/DailyLog/20200123/new2_Correl_B1083_fam_orig_split_23.pkl', '/home/brad/DailyLog/20200123/new2_Correl_B1083_fam_orig_split_19.pkl', '/home/brad/DailyLog/20200123/new2_Correl_B1083_fam_orig_split_13.pkl', '/home/brad/DailyLog/20200123/new2_Correl_B1083_fam_orig_split_24.pkl', '/home/brad/DailyLog/20200123/new2_Correl_B1083_fam_orig_split_26.pkl', '/home/brad/DailyLog/20200123/new2_Correl_B1083_fam_orig_split_3.pkl', '/home/brad/DailyLog/20200123/new2_Correl_B1083_fam_orig_split_38.pkl', '/home/brad/DailyLog/20200123/new2_Correl_B1083_fam_orig_split_18.pkl', '/home/brad/DailyLog/20200123/new2_Correl_B1083_fam_orig_split_27.pkl', '/home/brad/DailyLog/20200123/new2_Correl_B1083_fam_orig_split_12.pkl', '/home/brad/DailyLog/20200123/new2_Correl_B1083_fam_orig_split_1.pkl', '/home/brad/DailyLog/20200123/new2_Correl_B1083_fam_orig_split_35.pkl', '/home/brad/DailyLog/20200123/new2_Correl_B1083_fam_orig_split_33.pkl', '/home/brad/DailyLog/20200123/new2_Correl_B1083_fam_orig_split_16.pkl', '/home/brad/DailyLog/20200123/new2_Correl_B1083_fam_orig_split_31.pkl', '/home/brad/DailyLog/20200123/new2_Correl_B1083_fam_orig_split_15.pkl', '/home/brad/DailyLog/20200123/new2_Correl_B1083_fam_orig_split_6.pkl', '/home/brad/DailyLog/20200123/new2_Correl_B1083_fam_orig_split_32.pkl', '/home/brad/DailyLog/20200123/new2_Correl_B1083_fam_orig_split_1.0.pkl', '/home/brad/DailyLog/20200123/new2_Correl_B1083_fam_orig_split_30.pkl']\n",
      "['/home/brad/DailyLog/20200123/new2_Correl_B1083_fam_shuff_split_3.pkl', '/home/brad/DailyLog/20200123/new2_Correl_B1083_fam_shuff_split_26.pkl', '/home/brad/DailyLog/20200123/new2_Correl_B1083_fam_shuff_split_14.pkl', '/home/brad/DailyLog/20200123/new2_Correl_B1083_fam_shuff_split_24.pkl', '/home/brad/DailyLog/20200123/new2_Correl_B1083_fam_shuff_split_13.pkl', '/home/brad/DailyLog/20200123/new2_Correl_B1083_fam_shuff_split_15.pkl', '/home/brad/DailyLog/20200123/new2_Correl_B1083_fam_shuff_split_36.pkl', '/home/brad/DailyLog/20200123/new2_Correl_B1083_fam_shuff_split_20.pkl', '/home/brad/DailyLog/20200123/new2_Correl_B1083_fam_shuff_split_19.pkl', '/home/brad/DailyLog/20200123/new2_Correl_B1083_fam_shuff_split_23.pkl', '/home/brad/DailyLog/20200123/new2_Correl_B1083_fam_shuff_split_37.pkl', '/home/brad/DailyLog/20200123/new2_Correl_B1083_fam_shuff_split_22.pkl', '/home/brad/DailyLog/20200123/new2_Correl_B1083_fam_shuff_split_18.pkl', '/home/brad/DailyLog/20200123/new2_Correl_B1083_fam_shuff_split_39.pkl', '/home/brad/DailyLog/20200123/new2_Correl_B1083_fam_shuff_split_4.pkl', '/home/brad/DailyLog/20200123/new2_Correl_B1083_fam_shuff_split_32.pkl', '/home/brad/DailyLog/20200123/new2_Correl_B1083_fam_shuff_split_30.pkl', '/home/brad/DailyLog/20200123/new2_Correl_B1083_fam_shuff_split_12.pkl', '/home/brad/DailyLog/20200123/new2_Correl_B1083_fam_shuff_split_27.pkl', '/home/brad/DailyLog/20200123/new2_Correl_B1083_fam_shuff_split_1.0.pkl', '/home/brad/DailyLog/20200123/new2_Correl_B1083_fam_shuff_split_38.pkl', '/home/brad/DailyLog/20200123/new2_Correl_B1083_fam_shuff_split_25.pkl', '/home/brad/DailyLog/20200123/new2_Correl_B1083_fam_shuff_split_16.pkl', '/home/brad/DailyLog/20200123/new2_Correl_B1083_fam_shuff_split_11.pkl', '/home/brad/DailyLog/20200123/new2_Correl_B1083_fam_shuff_split_8.pkl', '/home/brad/DailyLog/20200123/new2_Correl_B1083_fam_shuff_split_17.pkl', '/home/brad/DailyLog/20200123/new2_Correl_B1083_fam_shuff_split_6.pkl', '/home/brad/DailyLog/20200123/new2_Correl_B1083_fam_shuff_split_5.pkl', '/home/brad/DailyLog/20200123/new2_Correl_B1083_fam_shuff_split_33.pkl', '/home/brad/DailyLog/20200123/new2_Correl_B1083_fam_shuff_split_10.pkl', '/home/brad/DailyLog/20200123/new2_Correl_B1083_fam_shuff_split_28.pkl', '/home/brad/DailyLog/20200123/new2_Correl_B1083_fam_shuff_split_1.pkl', '/home/brad/DailyLog/20200123/new2_Correl_B1083_fam_shuff_split_2.pkl', '/home/brad/DailyLog/20200123/new2_Correl_B1083_fam_shuff_split_0.pkl', '/home/brad/DailyLog/20200123/new2_Correl_B1083_fam_shuff_split_31.pkl', '/home/brad/DailyLog/20200123/new2_Correl_B1083_fam_shuff_split_9.pkl', '/home/brad/DailyLog/20200123/new2_Correl_B1083_fam_shuff_split_29.pkl', '/home/brad/DailyLog/20200123/new2_Correl_B1083_fam_shuff_split_35.pkl', '/home/brad/DailyLog/20200123/new2_Correl_B1083_fam_shuff_split_34.pkl', '/home/brad/DailyLog/20200123/new2_Correl_B1083_fam_shuff_split_7.pkl', '/home/brad/DailyLog/20200123/new2_Correl_B1083_fam_shuff_split_21.pkl']\n",
      "(4800,)\n",
      "(4800,)\n"
     ]
    },
    {
     "name": "stderr",
     "output_type": "stream",
     "text": [
      "\n",
      " 50%|█████     | 1/2 [00:06<00:06,  6.23s/it]\u001b[A\n",
      "100%|██████████| 2/2 [00:12<00:00,  6.25s/it]\u001b[A\n",
      "1it [00:12, 12.51s/it]\n",
      "  0%|          | 0/2 [00:00<?, ?it/s]\u001b[A"
     ]
    },
    {
     "name": "stdout",
     "output_type": "stream",
     "text": [
      "(4800,)\n",
      "(4800,)\n"
     ]
    },
    {
     "name": "stderr",
     "output_type": "stream",
     "text": [
      "\n",
      " 50%|█████     | 1/2 [00:06<00:06,  6.14s/it]\u001b[A\n",
      "100%|██████████| 2/2 [00:12<00:00,  6.20s/it]\u001b[A\n",
      "2it [00:24, 12.46s/it]\n",
      "  0%|          | 0/2 [00:00<?, ?it/s]\u001b[A"
     ]
    },
    {
     "name": "stdout",
     "output_type": "stream",
     "text": [
      "(4800,)\n",
      "(4800,)\n"
     ]
    },
    {
     "name": "stderr",
     "output_type": "stream",
     "text": [
      "\n",
      " 50%|█████     | 1/2 [00:06<00:06,  6.20s/it]\u001b[A\n",
      "100%|██████████| 2/2 [00:12<00:00,  6.22s/it]\u001b[A\n",
      "3it [00:37, 12.46s/it]\n",
      "  0%|          | 0/2 [00:00<?, ?it/s]\u001b[A"
     ]
    },
    {
     "name": "stdout",
     "output_type": "stream",
     "text": [
      "(4800,)\n",
      "(4800,)\n"
     ]
    },
    {
     "name": "stderr",
     "output_type": "stream",
     "text": [
      "\n",
      " 50%|█████     | 1/2 [00:06<00:06,  6.16s/it]\u001b[A\n",
      "100%|██████████| 2/2 [00:12<00:00,  6.22s/it]\u001b[A\n",
      "4it [00:49, 12.45s/it]\n",
      "  0%|          | 0/2 [00:00<?, ?it/s]\u001b[A"
     ]
    },
    {
     "name": "stdout",
     "output_type": "stream",
     "text": [
      "(4800,)\n",
      "(4800,)\n"
     ]
    },
    {
     "name": "stderr",
     "output_type": "stream",
     "text": [
      "\n",
      " 50%|█████     | 1/2 [00:06<00:06,  6.15s/it]\u001b[A\n",
      "100%|██████████| 2/2 [00:12<00:00,  6.19s/it]\u001b[A\n",
      "5it [01:02, 12.44s/it]\n",
      "  0%|          | 0/2 [00:00<?, ?it/s]\u001b[A"
     ]
    },
    {
     "name": "stdout",
     "output_type": "stream",
     "text": [
      "(4800,)\n",
      "(4800,)\n"
     ]
    },
    {
     "name": "stderr",
     "output_type": "stream",
     "text": [
      "\n",
      " 50%|█████     | 1/2 [00:06<00:06,  6.17s/it]\u001b[A\n",
      "100%|██████████| 2/2 [00:12<00:00,  6.20s/it]\u001b[A\n",
      "6it [01:14, 12.44s/it]\n",
      "  0%|          | 0/2 [00:00<?, ?it/s]\u001b[A"
     ]
    },
    {
     "name": "stdout",
     "output_type": "stream",
     "text": [
      "(4800,)\n",
      "(4800,)\n"
     ]
    },
    {
     "name": "stderr",
     "output_type": "stream",
     "text": [
      "\n",
      " 50%|█████     | 1/2 [00:06<00:06,  6.21s/it]\u001b[A\n",
      "100%|██████████| 2/2 [00:12<00:00,  6.23s/it]\u001b[A\n",
      "7it [01:27, 12.44s/it]\n",
      "  0%|          | 0/2 [00:00<?, ?it/s]\u001b[A"
     ]
    },
    {
     "name": "stdout",
     "output_type": "stream",
     "text": [
      "(4800,)\n",
      "(4800,)\n"
     ]
    },
    {
     "name": "stderr",
     "output_type": "stream",
     "text": [
      "\n",
      " 50%|█████     | 1/2 [00:06<00:06,  6.22s/it]\u001b[A\n",
      "100%|██████████| 2/2 [00:12<00:00,  6.23s/it]\u001b[A\n",
      "8it [01:39, 12.44s/it]\n",
      "  0%|          | 0/2 [00:00<?, ?it/s]\u001b[A"
     ]
    },
    {
     "name": "stdout",
     "output_type": "stream",
     "text": [
      "(4800,)\n",
      "(4800,)\n"
     ]
    },
    {
     "name": "stderr",
     "output_type": "stream",
     "text": [
      "\n",
      " 50%|█████     | 1/2 [00:06<00:06,  6.16s/it]\u001b[A\n",
      "100%|██████████| 2/2 [00:12<00:00,  6.22s/it]\u001b[A\n",
      "9it [01:51, 12.44s/it]\n",
      "  0%|          | 0/2 [00:00<?, ?it/s]\u001b[A"
     ]
    },
    {
     "name": "stdout",
     "output_type": "stream",
     "text": [
      "(4800,)\n",
      "(4800,)\n"
     ]
    },
    {
     "name": "stderr",
     "output_type": "stream",
     "text": [
      "\n",
      " 50%|█████     | 1/2 [00:06<00:06,  6.14s/it]\u001b[A\n",
      "100%|██████████| 2/2 [00:12<00:00,  6.20s/it]\u001b[A\n",
      "10it [02:04, 12.44s/it]\n",
      "  0%|          | 0/2 [00:00<?, ?it/s]\u001b[A"
     ]
    },
    {
     "name": "stdout",
     "output_type": "stream",
     "text": [
      "(4800,)\n",
      "(4800,)\n"
     ]
    },
    {
     "name": "stderr",
     "output_type": "stream",
     "text": [
      "\n",
      " 50%|█████     | 1/2 [00:06<00:06,  6.25s/it]\u001b[A\n",
      "100%|██████████| 2/2 [00:12<00:00,  6.26s/it]\u001b[A\n",
      "11it [02:16, 12.45s/it]\n",
      "  0%|          | 0/2 [00:00<?, ?it/s]\u001b[A"
     ]
    },
    {
     "name": "stdout",
     "output_type": "stream",
     "text": [
      "(4800,)\n",
      "(4800,)\n"
     ]
    },
    {
     "name": "stderr",
     "output_type": "stream",
     "text": [
      "\n",
      " 50%|█████     | 1/2 [00:06<00:06,  6.16s/it]\u001b[A\n",
      "100%|██████████| 2/2 [00:12<00:00,  6.22s/it]\u001b[A\n",
      "12it [02:29, 12.45s/it]\n",
      "  0%|          | 0/2 [00:00<?, ?it/s]\u001b[A"
     ]
    },
    {
     "name": "stdout",
     "output_type": "stream",
     "text": [
      "(4800,)\n",
      "(4800,)\n"
     ]
    },
    {
     "name": "stderr",
     "output_type": "stream",
     "text": [
      "\n",
      " 50%|█████     | 1/2 [00:06<00:06,  6.15s/it]\u001b[A\n",
      "100%|██████████| 2/2 [00:12<00:00,  6.19s/it]\u001b[A\n",
      "13it [02:41, 12.44s/it]\n",
      "  0%|          | 0/2 [00:00<?, ?it/s]\u001b[A"
     ]
    },
    {
     "name": "stdout",
     "output_type": "stream",
     "text": [
      "(4800,)\n",
      "(4800,)\n"
     ]
    },
    {
     "name": "stderr",
     "output_type": "stream",
     "text": [
      "\n",
      " 50%|█████     | 1/2 [00:06<00:06,  6.20s/it]\u001b[A\n",
      "100%|██████████| 2/2 [00:12<00:00,  6.34s/it]\u001b[A\n",
      "14it [02:54, 12.46s/it]\n",
      "  0%|          | 0/2 [00:00<?, ?it/s]\u001b[A"
     ]
    },
    {
     "name": "stdout",
     "output_type": "stream",
     "text": [
      "(4800,)\n",
      "(4800,)\n"
     ]
    },
    {
     "name": "stderr",
     "output_type": "stream",
     "text": [
      "\n",
      " 50%|█████     | 1/2 [00:06<00:06,  6.22s/it]\u001b[A\n",
      "100%|██████████| 2/2 [00:12<00:00,  6.23s/it]\u001b[A\n",
      "15it [03:06, 12.46s/it]\n",
      "  0%|          | 0/2 [00:00<?, ?it/s]\u001b[A"
     ]
    },
    {
     "name": "stdout",
     "output_type": "stream",
     "text": [
      "(4800,)\n",
      "(4800,)\n"
     ]
    },
    {
     "name": "stderr",
     "output_type": "stream",
     "text": [
      "\n",
      " 50%|█████     | 1/2 [00:06<00:06,  6.13s/it]\u001b[A\n",
      "100%|██████████| 2/2 [00:12<00:00,  6.19s/it]\u001b[A\n",
      "16it [03:19, 12.46s/it]\n",
      "  0%|          | 0/2 [00:00<?, ?it/s]\u001b[A"
     ]
    },
    {
     "name": "stdout",
     "output_type": "stream",
     "text": [
      "(4800,)\n",
      "(4800,)\n"
     ]
    },
    {
     "name": "stderr",
     "output_type": "stream",
     "text": [
      "\n",
      " 50%|█████     | 1/2 [00:06<00:06,  6.18s/it]\u001b[A\n",
      "100%|██████████| 2/2 [00:12<00:00,  6.21s/it]\u001b[A\n",
      "17it [03:31, 12.46s/it]\n",
      "  0%|          | 0/2 [00:00<?, ?it/s]\u001b[A"
     ]
    },
    {
     "name": "stdout",
     "output_type": "stream",
     "text": [
      "(4800,)\n",
      "(4800,)\n"
     ]
    },
    {
     "name": "stderr",
     "output_type": "stream",
     "text": [
      "\n",
      " 50%|█████     | 1/2 [00:06<00:06,  6.17s/it]\u001b[A\n",
      "100%|██████████| 2/2 [00:12<00:00,  6.21s/it]\u001b[A\n",
      "18it [03:44, 12.45s/it]\n",
      "  0%|          | 0/2 [00:00<?, ?it/s]\u001b[A"
     ]
    },
    {
     "name": "stdout",
     "output_type": "stream",
     "text": [
      "(4800,)\n",
      "(4800,)\n"
     ]
    },
    {
     "name": "stderr",
     "output_type": "stream",
     "text": [
      "\n",
      " 50%|█████     | 1/2 [00:06<00:06,  6.14s/it]\u001b[A\n",
      "100%|██████████| 2/2 [00:12<00:00,  6.20s/it]\u001b[A\n",
      "19it [03:56, 12.45s/it]\n",
      "  0%|          | 0/2 [00:00<?, ?it/s]\u001b[A"
     ]
    },
    {
     "name": "stdout",
     "output_type": "stream",
     "text": [
      "(4800,)\n",
      "(4800,)\n"
     ]
    },
    {
     "name": "stderr",
     "output_type": "stream",
     "text": [
      "\n",
      " 50%|█████     | 1/2 [00:06<00:06,  6.16s/it]\u001b[A\n",
      "100%|██████████| 2/2 [00:12<00:00,  6.21s/it]\u001b[A\n",
      "20it [04:09, 12.45s/it]\n",
      "  0%|          | 0/2 [00:00<?, ?it/s]\u001b[A"
     ]
    },
    {
     "name": "stdout",
     "output_type": "stream",
     "text": [
      "(4800,)\n",
      "(4800,)\n"
     ]
    },
    {
     "name": "stderr",
     "output_type": "stream",
     "text": [
      "\n",
      " 50%|█████     | 1/2 [00:06<00:06,  6.18s/it]\u001b[A\n",
      "100%|██████████| 2/2 [00:12<00:00,  6.21s/it]\u001b[A\n",
      "21it [04:21, 12.45s/it]\n",
      "  0%|          | 0/2 [00:00<?, ?it/s]\u001b[A"
     ]
    },
    {
     "name": "stdout",
     "output_type": "stream",
     "text": [
      "(4800,)\n",
      "(4800,)\n"
     ]
    },
    {
     "name": "stderr",
     "output_type": "stream",
     "text": [
      "\n",
      " 50%|█████     | 1/2 [00:06<00:06,  6.14s/it]\u001b[A\n",
      "100%|██████████| 2/2 [00:12<00:00,  6.17s/it]\u001b[A\n",
      "22it [04:33, 12.44s/it]\n",
      "  0%|          | 0/2 [00:00<?, ?it/s]\u001b[A"
     ]
    },
    {
     "name": "stdout",
     "output_type": "stream",
     "text": [
      "(4800,)\n",
      "(4800,)\n"
     ]
    },
    {
     "name": "stderr",
     "output_type": "stream",
     "text": [
      "\n",
      " 50%|█████     | 1/2 [00:06<00:06,  6.14s/it]\u001b[A\n",
      "100%|██████████| 2/2 [00:12<00:00,  6.18s/it]\u001b[A\n",
      "23it [04:46, 12.44s/it]\n",
      "  0%|          | 0/2 [00:00<?, ?it/s]\u001b[A"
     ]
    },
    {
     "name": "stdout",
     "output_type": "stream",
     "text": [
      "(4800,)\n",
      "(4800,)\n"
     ]
    },
    {
     "name": "stderr",
     "output_type": "stream",
     "text": [
      "\n",
      " 50%|█████     | 1/2 [00:06<00:06,  6.16s/it]\u001b[A\n",
      "100%|██████████| 2/2 [00:12<00:00,  6.22s/it]\u001b[A\n",
      "24it [04:58, 12.44s/it]\n",
      "  0%|          | 0/2 [00:00<?, ?it/s]\u001b[A"
     ]
    },
    {
     "name": "stdout",
     "output_type": "stream",
     "text": [
      "(4800,)\n",
      "(4800,)\n"
     ]
    },
    {
     "name": "stderr",
     "output_type": "stream",
     "text": [
      "\n",
      " 50%|█████     | 1/2 [00:06<00:06,  6.16s/it]\u001b[A\n",
      "100%|██████████| 2/2 [00:12<00:00,  6.16s/it]\u001b[A\n",
      "25it [05:10, 12.44s/it]\n",
      "  0%|          | 0/2 [00:00<?, ?it/s]\u001b[A"
     ]
    },
    {
     "name": "stdout",
     "output_type": "stream",
     "text": [
      "(4800,)\n",
      "(4800,)\n"
     ]
    },
    {
     "name": "stderr",
     "output_type": "stream",
     "text": [
      "\n",
      " 50%|█████     | 1/2 [00:06<00:06,  6.18s/it]\u001b[A\n",
      "100%|██████████| 2/2 [00:12<00:00,  6.20s/it]\u001b[A\n",
      "26it [05:23, 12.44s/it]\n",
      "  0%|          | 0/2 [00:00<?, ?it/s]\u001b[A"
     ]
    },
    {
     "name": "stdout",
     "output_type": "stream",
     "text": [
      "(4800,)\n",
      "(4800,)\n"
     ]
    },
    {
     "name": "stderr",
     "output_type": "stream",
     "text": [
      "\n",
      " 50%|█████     | 1/2 [00:06<00:06,  6.29s/it]\u001b[A\n",
      "100%|██████████| 2/2 [00:12<00:00,  6.29s/it]\u001b[A\n",
      "27it [05:35, 12.44s/it]\n",
      "  0%|          | 0/2 [00:00<?, ?it/s]\u001b[A"
     ]
    },
    {
     "name": "stdout",
     "output_type": "stream",
     "text": [
      "(4800,)\n",
      "(4800,)\n"
     ]
    },
    {
     "name": "stderr",
     "output_type": "stream",
     "text": [
      "\n",
      " 50%|█████     | 1/2 [00:06<00:06,  6.23s/it]\u001b[A\n",
      "100%|██████████| 2/2 [00:12<00:00,  6.25s/it]\u001b[A\n",
      "28it [05:48, 12.44s/it]\n",
      "  0%|          | 0/2 [00:00<?, ?it/s]\u001b[A"
     ]
    },
    {
     "name": "stdout",
     "output_type": "stream",
     "text": [
      "(4800,)\n",
      "(4800,)\n"
     ]
    },
    {
     "name": "stderr",
     "output_type": "stream",
     "text": [
      "\n",
      " 50%|█████     | 1/2 [00:06<00:06,  6.16s/it]\u001b[A\n",
      "100%|██████████| 2/2 [00:12<00:00,  6.20s/it]\u001b[A\n",
      "29it [06:00, 12.44s/it]\n",
      "  0%|          | 0/2 [00:00<?, ?it/s]\u001b[A"
     ]
    },
    {
     "name": "stdout",
     "output_type": "stream",
     "text": [
      "(4800,)\n",
      "(4800,)\n"
     ]
    },
    {
     "name": "stderr",
     "output_type": "stream",
     "text": [
      "\n",
      " 50%|█████     | 1/2 [00:06<00:06,  6.15s/it]\u001b[A\n",
      "100%|██████████| 2/2 [00:12<00:00,  6.18s/it]\u001b[A\n",
      "30it [06:13, 12.44s/it]\n",
      "  0%|          | 0/2 [00:00<?, ?it/s]\u001b[A"
     ]
    },
    {
     "name": "stdout",
     "output_type": "stream",
     "text": [
      "(4800,)\n",
      "(4800,)\n"
     ]
    },
    {
     "name": "stderr",
     "output_type": "stream",
     "text": [
      "\n",
      " 50%|█████     | 1/2 [00:06<00:06,  6.16s/it]\u001b[A\n",
      "100%|██████████| 2/2 [00:12<00:00,  6.20s/it]\u001b[A\n",
      "31it [06:25, 12.44s/it]\n",
      "  0%|          | 0/2 [00:00<?, ?it/s]\u001b[A"
     ]
    },
    {
     "name": "stdout",
     "output_type": "stream",
     "text": [
      "(4800,)\n",
      "(4800,)\n"
     ]
    },
    {
     "name": "stderr",
     "output_type": "stream",
     "text": [
      "\n",
      " 50%|█████     | 1/2 [00:06<00:06,  6.26s/it]\u001b[A\n",
      "100%|██████████| 2/2 [00:12<00:00,  6.36s/it]\u001b[A\n",
      "32it [06:38, 12.45s/it]\n",
      "  0%|          | 0/2 [00:00<?, ?it/s]\u001b[A"
     ]
    },
    {
     "name": "stdout",
     "output_type": "stream",
     "text": [
      "(4800,)\n",
      "(4800,)\n"
     ]
    },
    {
     "name": "stderr",
     "output_type": "stream",
     "text": [
      "\n",
      " 50%|█████     | 1/2 [00:06<00:06,  6.23s/it]\u001b[A\n",
      "100%|██████████| 2/2 [00:12<00:00,  6.29s/it]\u001b[A\n",
      "33it [06:50, 12.45s/it]\n",
      "  0%|          | 0/2 [00:00<?, ?it/s]\u001b[A"
     ]
    },
    {
     "name": "stdout",
     "output_type": "stream",
     "text": [
      "(4800,)\n",
      "(4800,)\n"
     ]
    },
    {
     "name": "stderr",
     "output_type": "stream",
     "text": [
      "\n",
      " 50%|█████     | 1/2 [00:06<00:06,  6.50s/it]\u001b[A\n",
      "100%|██████████| 2/2 [00:12<00:00,  6.39s/it]\u001b[A\n",
      "34it [07:03, 12.46s/it]\n",
      "  0%|          | 0/2 [00:00<?, ?it/s]\u001b[A"
     ]
    },
    {
     "name": "stdout",
     "output_type": "stream",
     "text": [
      "(4800,)\n",
      "(4800,)\n"
     ]
    },
    {
     "name": "stderr",
     "output_type": "stream",
     "text": [
      "\n",
      " 50%|█████     | 1/2 [00:06<00:06,  6.44s/it]\u001b[A\n",
      "100%|██████████| 2/2 [00:12<00:00,  6.47s/it]\u001b[A\n",
      "35it [07:16, 12.48s/it]\n",
      "  0%|          | 0/2 [00:00<?, ?it/s]\u001b[A"
     ]
    },
    {
     "name": "stdout",
     "output_type": "stream",
     "text": [
      "(4800,)\n",
      "(4800,)\n"
     ]
    },
    {
     "name": "stderr",
     "output_type": "stream",
     "text": [
      "\n",
      " 50%|█████     | 1/2 [00:06<00:06,  6.39s/it]\u001b[A\n",
      "100%|██████████| 2/2 [00:12<00:00,  6.33s/it]\u001b[A\n",
      "36it [07:29, 12.48s/it]\n",
      "  0%|          | 0/2 [00:00<?, ?it/s]\u001b[A"
     ]
    },
    {
     "name": "stdout",
     "output_type": "stream",
     "text": [
      "(4800,)\n",
      "(4800,)\n"
     ]
    },
    {
     "name": "stderr",
     "output_type": "stream",
     "text": [
      "\n",
      " 50%|█████     | 1/2 [00:06<00:06,  6.19s/it]\u001b[A\n",
      "100%|██████████| 2/2 [00:12<00:00,  6.20s/it]\u001b[A\n",
      "37it [07:41, 12.48s/it]\n",
      "  0%|          | 0/2 [00:00<?, ?it/s]\u001b[A"
     ]
    },
    {
     "name": "stdout",
     "output_type": "stream",
     "text": [
      "(4800,)\n",
      "(4800,)\n"
     ]
    },
    {
     "name": "stderr",
     "output_type": "stream",
     "text": [
      "\n",
      " 50%|█████     | 1/2 [00:06<00:06,  6.16s/it]\u001b[A\n",
      "100%|██████████| 2/2 [00:12<00:00,  6.20s/it]\u001b[A\n",
      "38it [07:54, 12.48s/it]\n",
      "  0%|          | 0/2 [00:00<?, ?it/s]\u001b[A"
     ]
    },
    {
     "name": "stdout",
     "output_type": "stream",
     "text": [
      "(4800,)\n",
      "(4800,)\n"
     ]
    },
    {
     "name": "stderr",
     "output_type": "stream",
     "text": [
      "\n",
      " 50%|█████     | 1/2 [00:06<00:06,  6.15s/it]\u001b[A\n",
      "100%|██████████| 2/2 [00:12<00:00,  6.18s/it]\u001b[A\n",
      "39it [08:06, 12.48s/it]\n",
      "  0%|          | 0/2 [00:00<?, ?it/s]\u001b[A"
     ]
    },
    {
     "name": "stdout",
     "output_type": "stream",
     "text": [
      "(4800,)\n",
      "(4800,)\n"
     ]
    },
    {
     "name": "stderr",
     "output_type": "stream",
     "text": [
      "\n",
      " 50%|█████     | 1/2 [00:06<00:06,  6.13s/it]\u001b[A\n",
      "100%|██████████| 2/2 [00:12<00:00,  6.19s/it]\u001b[A\n",
      "40it [08:18, 12.47s/it]\n",
      "  0%|          | 0/2 [00:00<?, ?it/s]\u001b[A"
     ]
    },
    {
     "name": "stdout",
     "output_type": "stream",
     "text": [
      "(4800,)\n",
      "(4800,)\n"
     ]
    },
    {
     "name": "stderr",
     "output_type": "stream",
     "text": [
      "\n",
      " 50%|█████     | 1/2 [00:06<00:06,  6.19s/it]\u001b[A\n",
      "100%|██████████| 2/2 [00:12<00:00,  6.21s/it]\u001b[A\n",
      "41it [08:31, 12.47s/it]\n"
     ]
    }
   ],
   "source": [
    "# Now for correlation\n",
    "f_fam_orig_reps = glob.glob('/home/brad/DailyLog/20200123/new2_Correl_B1083_fam_orig_split_*.pkl')\n",
    "f_fam_shuff_reps = glob.glob('/home/brad/DailyLog/20200123/new2_Correl_B1083_fam_shuff_split_*.pkl')\n",
    "print(f_fam_orig_reps)\n",
    "print(f_fam_shuff_reps)\n",
    "from tqdm import tqdm\n",
    "scsv_reps = []\n",
    "scsv_shuff = []\n",
    "for f_fam_orig, f_fam_shuff in tqdm(zip(f_fam_orig_reps, f_fam_shuff_reps)):\n",
    "    \n",
    "\n",
    "    with open(f_fam_orig, 'rb') as f:\n",
    "        div = pickle.load(f)\n",
    "\n",
    "    with open(f_fam_shuff, 'rb') as f:\n",
    "        divs = pickle.load(f)\n",
    "\n",
    "\n",
    "\n",
    "    dataset = build_lmm_dataset(div)\n",
    "    dataset_s = build_lmm_dataset(divs)\n",
    "\n",
    "    csss = [dataset, dataset_s]\n",
    "    #csss = [dataset]\n",
    "\n",
    "    scsv = []\n",
    "    for ds in tqdm(csss):\n",
    "\n",
    "        N_tests = 240\n",
    "        train_pct = 0.8\n",
    "        test_pct = 1 - train_pct\n",
    "        targ = ds['cond'].values\n",
    "        feat = ds['JS'].values\n",
    "        scores = []\n",
    "        for test in range(N_tests):\n",
    "            ntarg = int(train_pct*len(targ))\n",
    "            perm = np.random.permutation(np.arange(len(targ)))\n",
    "            targ_train = targ[perm[0:ntarg]]\n",
    "            feat_train = feat[perm[0:ntarg]][:, np.newaxis]\n",
    "            targ_test = targ[perm[ntarg:]]\n",
    "            feat_test = feat[perm[ntarg:]][:, np.newaxis]\n",
    "            lr = LogisticRegression()\n",
    "            lr.fit(feat_train, targ_train)\n",
    "\n",
    "            scores.append(lr.score(feat_test, targ_test))\n",
    "        scsv.append(scores)\n",
    "    scsv_reps.append(scsv)\n",
    "\n"
   ]
  },
  {
   "cell_type": "code",
   "execution_count": 11,
   "metadata": {},
   "outputs": [
    {
     "ename": "TypeError",
     "evalue": "list indices must be integers or slices, not range",
     "output_type": "error",
     "traceback": [
      "\u001b[0;31m---------------------------------------------------------------------------\u001b[0m",
      "\u001b[0;31mTypeError\u001b[0m                                 Traceback (most recent call last)",
      "\u001b[0;32m<ipython-input-11-5c7e8c1e4995>\u001b[0m in \u001b[0;36m<module>\u001b[0;34m()\u001b[0m\n\u001b[1;32m      4\u001b[0m \u001b[0mcolors\u001b[0m \u001b[0;34m=\u001b[0m \u001b[0;34m[\u001b[0m\u001b[0;34m'#111111'\u001b[0m\u001b[0;34m,\u001b[0m \u001b[0;34m'#111111'\u001b[0m\u001b[0;34m]\u001b[0m\u001b[0;34m\u001b[0m\u001b[0m\n\u001b[1;32m      5\u001b[0m \u001b[0mmarker_style\u001b[0m \u001b[0;34m=\u001b[0m \u001b[0;34m[\u001b[0m\u001b[0;34m'o'\u001b[0m\u001b[0;34m,\u001b[0m \u001b[0;34m'x'\u001b[0m\u001b[0;34m]\u001b[0m\u001b[0;34m\u001b[0m\u001b[0m\n\u001b[0;32m----> 6\u001b[0;31m \u001b[0;34m(\u001b[0m\u001b[0mfig\u001b[0m\u001b[0;34m,\u001b[0m \u001b[0mpos\u001b[0m\u001b[0;34m)\u001b[0m \u001b[0;34m=\u001b[0m \u001b[0mgrouped_boxplot_with_scatter\u001b[0m\u001b[0;34m(\u001b[0m\u001b[0mtest\u001b[0m\u001b[0;34m,\u001b[0m \u001b[0morder\u001b[0m\u001b[0;34m=\u001b[0m\u001b[0mrange\u001b[0m\u001b[0;34m(\u001b[0m\u001b[0;36m2\u001b[0m\u001b[0;34m)\u001b[0m\u001b[0;34m,\u001b[0m \u001b[0mngroups\u001b[0m\u001b[0;34m=\u001b[0m\u001b[0;36m1\u001b[0m\u001b[0;34m,\u001b[0m \u001b[0mlabels\u001b[0m\u001b[0;34m=\u001b[0m\u001b[0;34m[\u001b[0m\u001b[0;34m'Pop. 1'\u001b[0m\u001b[0;34m]\u001b[0m\u001b[0;34m,\u001b[0m \u001b[0mcolors\u001b[0m\u001b[0;34m=\u001b[0m\u001b[0mcolors\u001b[0m\u001b[0;34m,\u001b[0m \u001b[0mscatter_style\u001b[0m\u001b[0;34m=\u001b[0m\u001b[0mmarker_style\u001b[0m\u001b[0;34m,\u001b[0m \u001b[0mfigsize\u001b[0m\u001b[0;34m=\u001b[0m\u001b[0;34m(\u001b[0m\u001b[0;36m5\u001b[0m\u001b[0;34m,\u001b[0m\u001b[0;36m8\u001b[0m\u001b[0;34m)\u001b[0m\u001b[0;34m,\u001b[0m \u001b[0mmarker_size\u001b[0m\u001b[0;34m=\u001b[0m\u001b[0;36m40\u001b[0m\u001b[0;34m)\u001b[0m\u001b[0;34m\u001b[0m\u001b[0m\n\u001b[0m\u001b[1;32m      7\u001b[0m \u001b[0;34m\u001b[0m\u001b[0m\n\u001b[1;32m      8\u001b[0m \u001b[0;34m\u001b[0m\u001b[0m\n",
      "\u001b[0;32m<ipython-input-2-5a31d59e0e3f>\u001b[0m in \u001b[0;36mgrouped_boxplot_with_scatter\u001b[0;34m(data, order, ngroups, group_spacing, fig_path, colors, alphas, labels, positions, scatter_style, marker_size, figsize)\u001b[0m\n\u001b[1;32m    115\u001b[0m     \u001b[0max\u001b[0m\u001b[0;34m.\u001b[0m\u001b[0mtick_params\u001b[0m\u001b[0;34m(\u001b[0m\u001b[0maxis\u001b[0m\u001b[0;34m=\u001b[0m\u001b[0;34m'both'\u001b[0m\u001b[0;34m,\u001b[0m \u001b[0mlabelsize\u001b[0m\u001b[0;34m=\u001b[0m\u001b[0;36m18\u001b[0m\u001b[0;34m)\u001b[0m\u001b[0;34m\u001b[0m\u001b[0m\n\u001b[1;32m    116\u001b[0m     \u001b[0;32mif\u001b[0m \u001b[0mcolors\u001b[0m \u001b[0;32mis\u001b[0m \u001b[0;32mnot\u001b[0m \u001b[0;32mNone\u001b[0m\u001b[0;34m:\u001b[0m\u001b[0;34m\u001b[0m\u001b[0m\n\u001b[0;32m--> 117\u001b[0;31m         \u001b[0;32mfor\u001b[0m \u001b[0mpatch\u001b[0m\u001b[0;34m,\u001b[0m \u001b[0mcolor\u001b[0m\u001b[0;34m,\u001b[0m \u001b[0malpha\u001b[0m \u001b[0;32min\u001b[0m \u001b[0mzip\u001b[0m\u001b[0;34m(\u001b[0m\u001b[0mscatter_plots\u001b[0m\u001b[0;34m,\u001b[0m \u001b[0mcolors\u001b[0m\u001b[0;34m[\u001b[0m\u001b[0morder\u001b[0m\u001b[0;34m]\u001b[0m\u001b[0;34m,\u001b[0m \u001b[0malphas\u001b[0m\u001b[0;34m[\u001b[0m\u001b[0morder\u001b[0m\u001b[0;34m]\u001b[0m\u001b[0;34m)\u001b[0m\u001b[0;34m:\u001b[0m\u001b[0;34m\u001b[0m\u001b[0m\n\u001b[0m\u001b[1;32m    118\u001b[0m                 \u001b[0mpatch\u001b[0m\u001b[0;34m.\u001b[0m\u001b[0mset_facecolor\u001b[0m\u001b[0;34m(\u001b[0m\u001b[0mcolor\u001b[0m\u001b[0;34m)\u001b[0m\u001b[0;34m\u001b[0m\u001b[0m\n\u001b[1;32m    119\u001b[0m                 \u001b[0;31m#patch.set_alpha(0.0)\u001b[0m\u001b[0;34m\u001b[0m\u001b[0;34m\u001b[0m\u001b[0m\n",
      "\u001b[0;31mTypeError\u001b[0m: list indices must be integers or slices, not range"
     ]
    },
    {
     "data": {
      "image/png": "[encoded data removed]",
      "text/plain": [
       "<matplotlib.figure.Figure at 0x7ff80d1c6b38>"
      ]
     },
     "metadata": {},
     "output_type": "display_data"
    }
   ],
   "source": [
    "f = lambda x: [np.mean(x[0]), np.mean(x[1])]\n",
    "test = np.transpose(list(map(f, scsv_reps)))\n",
    "\n",
    "colors = ['#111111', '#111111']\n",
    "marker_style = ['o', 'x']\n",
    "(fig, pos) = grouped_boxplot_with_scatter(test, order=range(2), ngroups=1, labels=['Pop. 1'], colors=colors, scatter_style=marker_style, figsize=(5,8), marker_size=40)\n",
    "\n",
    "\n",
    "significance_bar(pos[0],pos[1], 0.97 , '***',linewidth = 1,markersize = 8,boxpad  =0.01,fontsize = 26,color = 'k')\n",
    "significance_bar(pos[0], pos[2], 1.03, '***', linewidth = 1,markersize = 8,boxpad  =0.01,fontsize = 26,color = 'k')\n",
    "significance_bar(pos[2], pos[3], 0.97, '***', linewidth = 1,markersize = 8,boxpad  =0.01,fontsize = 26,color = 'k')\n",
    "\n",
    "significance_bar(pos[4],pos[5], 0.97 , '***',linewidth = 1,markersize = 8,boxpad  =0.01,fontsize = 26,color = 'k')\n",
    "significance_bar(pos[4], pos[6], 1.03, '***',  linewidth = 1,markersize = 8,boxpad  =0.01,fontsize = 26,color = 'k')\n",
    "significance_bar(pos[6], pos[7], 0.97, '***', linewidth = 1,markersize = 8,boxpad  =0.01,fontsize = 26,color = 'k')\n",
    "plt.ylim([0.30, 1.1])\n",
    "\n",
    "plt.savefig(os.path.join(figsavepth, 'B1083_Split_CorrDIVSTATS.pdf'.format(correlation_type)))"
   ]
  },
  {
   "cell_type": "code",
   "execution_count": 12,
   "metadata": {},
   "outputs": [
    {
     "name": "stdout",
     "output_type": "stream",
     "text": [
      "TEST: Pop1JS-Shuffle\n",
      "Ttest_indResult(statistic=5.534185047653182, pvalue=3.838314688195683e-07)\n"
     ]
    }
   ],
   "source": [
    "from scipy.stats import ttest_ind\n",
    "ttests =[(0,1)]\n",
    "ttest_names = ['Pop1JS-Shuffle']\n",
    "for t, n in zip(ttests, ttest_names):\n",
    "    res = ttest_ind(test[t[0]], test[t[1]])\n",
    "    print('TEST: {}'.format(n))\n",
    "    print(res)"
   ]
  },
  {
   "cell_type": "code",
   "execution_count": null,
   "metadata": {},
   "outputs": [],
   "source": []
  }
 ],
 "metadata": {
  "kernelspec": {
   "display_name": "Python 3",
   "language": "python",
   "name": "python3"
  },
  "language_info": {
   "codemirror_mode": {
    "name": "ipython",
    "version": 3
   },
   "file_extension": ".py",
   "mimetype": "text/x-python",
   "name": "python",
   "nbconvert_exporter": "python",
   "pygments_lexer": "ipython3",
   "version": "3.6.2"
  }
 },
 "nbformat": 4,
 "nbformat_minor": 2
}
