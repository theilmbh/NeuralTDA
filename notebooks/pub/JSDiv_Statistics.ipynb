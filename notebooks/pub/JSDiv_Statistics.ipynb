{
 "cells": [
  {
   "cell_type": "code",
   "execution_count": 26,
   "metadata": {},
   "outputs": [
    {
     "name": "stdout",
     "output_type": "stream",
     "text": [
      "/home/brad/DailyLog/20180723/\n"
     ]
    }
   ],
   "source": [
    "import numpy as np\n",
    "import pickle\n",
    "import matplotlib.pyplot as plt\n",
    "import os\n",
    "import datetime\n",
    "import pandas as pd\n",
    "%matplotlib inline\n",
    "\n",
    "daystr = datetime.datetime.now().strftime('%Y%m%d')\n",
    "figsavepth = '/home/brad/DailyLog/'+daystr+'/'\n",
    "print(figsavepth)\n",
    "plt.style.use('/home/brad/code/NeuralTDA/gentnerlab.mplstyle')"
   ]
  },
  {
   "cell_type": "code",
   "execution_count": 46,
   "metadata": {},
   "outputs": [],
   "source": [
    "# JS Div matrices\n",
    "f_pop1_familiar = '/home/brad/tmpdata/JSpop_B1083-1--1.0-10_LvsR-2.pkl'\n",
    "f_pop2_familiar = '/home/brad/tmpdata/JSpop_B1083-5-1--1.0-10_LvsR-2.pkl'\n",
    "\n",
    "f_pop1_familiar_shuffled = '/home/brad/tmpdata/JSpop_B1083-1--1.0-10_LvsR-2-shuffled.pkl'\n",
    "f_pop2_familiar_shuffled = '/home/brad/tmpdata/JSpop_B1083-5-1--1.0-10_LvsR-2-shuffled.pkl'\n",
    "\n",
    "f_pop1_unfamiliar = '/home/brad/tmpdata/JSpop_B1083-1--1.0-10_LvsR-2-unfamiliar.pkl'\n",
    "f_pop2_unfamiliar = '/home/brad/tmpdata/JSpop_B1083-5-1--1.0-10_LvsR-2-unfamiliar.pkl'\n",
    "\n",
    "f_pop1_unfamiliar_shuffled = '/home/brad/tmpdata/JSpop_B1083-1--1.0-10_LvsR-2-unfamiliar-shuffled.pkl'\n",
    "f_pop2_unfamiliar_shuffled = '/home/brad/tmpdata/JSpop_B1083-5-1--1.0-10_LvsR-2-unfamiliar-shuffled.pkl'\n",
    "\n",
    "data_files = [f_pop1_familiar, f_pop2_familiar,\n",
    "              f_pop1_familiar_shuffled, f_pop2_familiar_shuffled,\n",
    "              f_pop1_unfamiliar, f_pop2_unfamiliar,\n",
    "              f_pop1_unfamiliar_shuffled, f_pop2_unfamiliar_shuffled]\n",
    "plot_titles = ('B1083 Population 1 Familiar', 'B1083 Population 2 Familiar',\n",
    "               'B1083 Population 1 Familiar Shuffled', 'B1083 Population 2 Familiar Shuffled',\n",
    "               'B1083 Population 1 Unfamiliar', 'B1083 Population 2 Unfamiliar',\n",
    "               'B1083 Population 1 Unfamiliar Shuffled', 'B1083 Population 2 Unfamiliar Shuffled')"
   ]
  },
  {
   "cell_type": "code",
   "execution_count": 47,
   "metadata": {},
   "outputs": [],
   "source": [
    "# cond: -1 = different, 1 = same class\n",
    "def build_lmm_dataset(div_matrix):\n",
    "    n, _ = np.shape(div_matrix)\n",
    "    h = int(n/2)\n",
    "    \n",
    "    LR_mask = np.zeros((n, n))\n",
    "    LR_mask[0:h, h:n] = 1\n",
    "    LR_data = div_matrix[0:h, h:n]\n",
    "    LR_inds = np.nonzero(LR_mask)\n",
    "    LR_condition = len(LR_inds[0])*['different']\n",
    "    LR_i = LR_inds[0]\n",
    "    LR_j = LR_inds[1]\n",
    "    \n",
    "    LL_data = div_matrix[0:h, 0:h][np.triu_indices(20, 1)]\n",
    "    LL_condition = len(LL_data)*['same']\n",
    "    LL_i = np.triu_indices(20, 1)[0]\n",
    "    LL_j = np.triu_indices(20, 1)[1]\n",
    "    \n",
    "    RR_data = div_matrix[h:n, h:n][np.triu_indices(20, 1)] \n",
    "    RR_condition = len(RR_data)*['same']\n",
    "    RR_i = np.triu_indices(20, 1)[0] + h\n",
    "    RR_j = np.triu_indices(20, 1)[1] + h\n",
    "    \n",
    "    dat_cat = np.concatenate((LL_data, LR_data.flatten(), RR_data))\n",
    "    i_cat = np.concatenate((LL_i, LR_i, RR_i))\n",
    "    j_cat = np.concatenate((LL_j, LR_j, RR_j))\n",
    "    cond_cat = np.concatenate((LL_condition, LR_condition, RR_condition))\n",
    "    \n",
    "    df_out = pd.DataFrame(data={'JS': dat_cat, 'i': i_cat, 'j': j_cat, 'cond': cond_cat})\n",
    "    return df_out\n",
    "    "
   ]
  },
  {
   "cell_type": "code",
   "execution_count": 48,
   "metadata": {},
   "outputs": [],
   "source": [
    "with open(f_pop2_familiar, 'rb') as f:\n",
    "    div = pickle.load(f)"
   ]
  },
  {
   "cell_type": "code",
   "execution_count": 49,
   "metadata": {},
   "outputs": [],
   "source": [
    "dataset = build_lmm_dataset(div)\n",
    "dataset.to_csv(os.path.join(figsavepth, 'JSdataframe_pop2.csv'))"
   ]
  },
  {
   "cell_type": "code",
   "execution_count": 35,
   "metadata": {},
   "outputs": [
    {
     "ename": "ModuleNotFoundError",
     "evalue": "No module named 'statsmodels'",
     "output_type": "error",
     "traceback": [
      "\u001b[0;31m---------------------------------------------------------------------------\u001b[0m",
      "\u001b[0;31mModuleNotFoundError\u001b[0m                       Traceback (most recent call last)",
      "\u001b[0;32m<ipython-input-35-93c018dacf9a>\u001b[0m in \u001b[0;36m<module>\u001b[0;34m()\u001b[0m\n\u001b[0;32m----> 1\u001b[0;31m \u001b[0;32mimport\u001b[0m \u001b[0mstatsmodels\u001b[0m\u001b[0;34m.\u001b[0m\u001b[0mapi\u001b[0m \u001b[0;32mas\u001b[0m \u001b[0msm\u001b[0m\u001b[0;34m\u001b[0m\u001b[0m\n\u001b[0m\u001b[1;32m      2\u001b[0m \u001b[0;32mimport\u001b[0m \u001b[0mstatsmodels\u001b[0m\u001b[0;34m.\u001b[0m\u001b[0mformula\u001b[0m\u001b[0;34m.\u001b[0m\u001b[0mapi\u001b[0m \u001b[0;32mas\u001b[0m \u001b[0msmf\u001b[0m\u001b[0;34m\u001b[0m\u001b[0m\n",
      "\u001b[0;31mModuleNotFoundError\u001b[0m: No module named 'statsmodels'"
     ]
    }
   ],
   "source": [
    "import statsmodels.api as sm\n",
    "import statsmodels.formula.api as smf"
   ]
  },
  {
   "cell_type": "code",
   "execution_count": 39,
   "metadata": {},
   "outputs": [],
   "source": [
    "import seaborn as sns"
   ]
  },
  {
   "cell_type": "code",
   "execution_count": 50,
   "metadata": {},
   "outputs": [
    {
     "data": {
      "text/plain": [
       "<matplotlib.axes._subplots.AxesSubplot at 0x7f33dfb58eb8>"
      ]
     },
     "execution_count": 50,
     "metadata": {},
     "output_type": "execute_result"
    },
    {
     "data": {
      "image/png": "[encoded data removed]",
      "text/plain": [
       "<matplotlib.figure.Figure at 0x7f33dfb597b8>"
      ]
     },
     "metadata": {},
     "output_type": "display_data"
    }
   ],
   "source": [
    "sns.barplot(x='cond', y='JS', data=dataset)"
   ]
  },
  {
   "cell_type": "code",
   "execution_count": null,
   "metadata": {},
   "outputs": [],
   "source": []
  }
 ],
 "metadata": {
  "kernelspec": {
   "display_name": "Python 3",
   "language": "python",
   "name": "python3"
  },
  "language_info": {
   "codemirror_mode": {
    "name": "ipython",
    "version": 3
   },
   "file_extension": ".py",
   "mimetype": "text/x-python",
   "name": "python",
   "nbconvert_exporter": "python",
   "pygments_lexer": "ipython3",
   "version": "3.6.2"
  }
 },
 "nbformat": 4,
 "nbformat_minor": 2
}
