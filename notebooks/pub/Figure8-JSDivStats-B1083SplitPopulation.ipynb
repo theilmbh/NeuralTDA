{
 "cells": [
  {
   "cell_type": "code",
   "execution_count": 1,
   "metadata": {},
   "outputs": [
    {
     "name": "stdout",
     "output_type": "stream",
     "text": [
      "/home/brad/DailyLog/20200123/\n"
     ]
    }
   ],
   "source": [
    "import numpy as np\n",
    "import pickle\n",
    "import matplotlib.pyplot as plt\n",
    "import os\n",
    "import datetime\n",
    "import glob\n",
    "import pandas as pd\n",
    "from sklearn.linear_model import LogisticRegression\n",
    "%matplotlib inline\n",
    "\n",
    "daystr = datetime.datetime.now().strftime('%Y%m%d')\n",
    "figsavepth = '/home/brad/DailyLog/'+daystr+'/'\n",
    "print(figsavepth)\n",
    "plt.style.use('/home/brad/code/NeuralTDA/gentnerlab.mplstyle')"
   ]
  },
  {
   "cell_type": "code",
   "execution_count": null,
   "metadata": {},
   "outputs": [],
   "source": []
  },
  {
   "cell_type": "code",
   "execution_count": 2,
   "metadata": {},
   "outputs": [],
   "source": [
    "# cond: -1 = different, 1 = same class\n",
    "\n",
    "def extract_submatrix(mat, h, pos):\n",
    "    x, y = pos\n",
    "    return mat[x*h:(x+1)*h, y*h:(y+1)*h].flatten()\n",
    "\n",
    "\n",
    "def build_lmm_dataset(div_matrix):\n",
    "    n, _ = np.shape(div_matrix)\n",
    "    h = int(n/8)\n",
    "    \n",
    "    LR_mask = np.zeros((n, n))\n",
    "    LR_mask[0:2*h, 2*h:4*h] = 1\n",
    "    LR_mask[2*h:4*h, 4*h:6*h] = 1\n",
    "    LR_mask[0:2*h, 6*h:n] = 1\n",
    "    LR_mask[4*h:6*h, 6*h:n] = 1\n",
    "    LR_inds = np.nonzero(LR_mask)\n",
    "    LR_data_full = div_matrix[LR_inds]\n",
    "    LR_data = np.random.choice(LR_data_full, size=12*h*h)\n",
    "    print(LR_data.shape)\n",
    "    LR_condition = 12*h*h*['different']\n",
    "\n",
    "    \n",
    "    LL_blocks = [(0,1), (0,4), (0,5), (1,4), (1,5), (4,5)]\n",
    "    RR_blocks = [(2,3), (2,6), (2,7), (3,6), (3,7), (6,7)]\n",
    "    \n",
    "    #LL_data = div_matrix[0:h, h:2*h].flatten()\n",
    "    \n",
    "    LL_data = np.concatenate(list(map(lambda pos: extract_submatrix(div_matrix, h, pos), LL_blocks)))\n",
    "    LL_condition = len(LL_data)*['same']\n",
    "\n",
    "    RR_data = np.concatenate(list(map(lambda pos: extract_submatrix(div_matrix, h, pos), RR_blocks)))\n",
    "    #RR_data = div_matrix[2*h:3*h, 3*h:n].flatten()\n",
    "\n",
    "    RR_condition = len(RR_data)*['same']\n",
    "\n",
    "    \n",
    "    dat_cat = np.concatenate((LL_data, LR_data.flatten(), RR_data))\n",
    "\n",
    "    cond_cat = np.concatenate((LL_condition, LR_condition, RR_condition))\n",
    "    \n",
    "    df_out = pd.DataFrame(data={'JS': dat_cat,'cond': cond_cat})\n",
    "    return df_out\n",
    "\n",
    "\n",
    "def build_LRpredict_dataset(div_matrix):\n",
    "    n, _ = div_matrix.shape\n",
    "    print(n)\n",
    "    LR_classes = np.concatenate([int(n/2)*['L'], int(n/2)*['R']])\n",
    "    featmat = np.zeros((n, n-1))\n",
    "    for trial in range(n):\n",
    "        trialdat = div_matrix[trial, :]\n",
    "        trialdat = np.concatenate([trialdat[0:trial], trialdat[trial+1:]])\n",
    "        featmat[trial, :] = trialdat\n",
    "    return (LR_classes, featmat)\n",
    "    \n",
    "    \n",
    "def grouped_boxplot_with_scatter(data, order, ngroups=1, group_spacing=2, fig_path=None, colors=None, alphas=None, labels=None, positions=None, scatter_style=None, marker_size = 1, figsize=(5,4)):\n",
    "    ''' From Zeke \n",
    "        Plot grouped boxplots\n",
    "        data is in the form of a list of arrays, Ngroups*nboxes/group\n",
    "    \n",
    "    '''\n",
    "    #colors = np.array(['pink', 'lightblue', 'lightgreen', 'pink', 'lightblue', 'lightgreen'])\n",
    "    #alphas = np.array([0.25, 0.25, 0.25, 0.75, 0.75, 0.75])\n",
    "    #labels = np.array(['CON/BOS', 'CON/Mot-wise', 'CON/Pc-wise', 'BOS/BOS', 'BOS/Mot-wise', 'BOS/Pc-wise'])\n",
    "   \n",
    "    nboxes = len(data)\n",
    "    if alphas is None:\n",
    "        alphas = np.array(nboxes*[1.0])\n",
    "        \n",
    "    dat_plot = [data[i] for i in order]\n",
    "    \n",
    "    # compute positions\n",
    "    nboxes_per_group = int(int(len(data)) / int(ngroups))\n",
    "    positions = np.arange(nboxes_per_group) +1\n",
    "    for group in range(1, ngroups):\n",
    "        positions = np.concatenate([positions, np.arange(max(positions)+group_spacing, max(positions)+group_spacing+nboxes_per_group)])\n",
    "        \n",
    "    \n",
    "    box_plot_fig = plt.figure(figsize=figsize)\n",
    "    ax = box_plot_fig.add_subplot(111)\n",
    "    \n",
    "    medianprops = dict(color='black')\n",
    "    if positions is not None:\n",
    "        box_plot = ax.boxplot(dat_plot, 0, '', positions=positions, patch_artist=False, whis='range', widths=1,\n",
    "                              medianprops=medianprops)\n",
    "        xlim1 = max(positions)+1\n",
    "    else:\n",
    "        box_plot = ax.boxplot(dat_plot, 0, '', patch_artist=False, whis='range', widths=1, medianprops=medianprops)\n",
    "        xlim1 = max(order)+1\n",
    "\n",
    "        \n",
    "    # Do scatter\n",
    "    scatter_plots = []\n",
    "    \n",
    "    for i in order:\n",
    "        xs = np.array(len(data[i])*[positions[i]])+0.1*np.random.randn(len(data[i]))\n",
    "        if scatter_style is None:\n",
    "            scatter_plot = ax.scatter(xs, data[i], s=marker_size, alpha=1) \n",
    "        else:\n",
    "            scatter_plot = ax.scatter(xs, data[i], s=marker_size, alpha=1, marker=scatter_style[i])\n",
    "        scatter_plots.append(scatter_plot)\n",
    "        \n",
    "    # Compute group label positions\n",
    "    labelpos =[]\n",
    "    for group in range(ngroups):\n",
    "        pos = positions[group*(nboxes_per_group):group*(nboxes_per_group)+nboxes_per_group]\n",
    "        labelpos.append(np.mean(pos))\n",
    "    \n",
    "    plt.xticks(labelpos, labels, rotation=0)\n",
    "    plt.grid(False)\n",
    "    plt.ylim(0.0, 1)\n",
    "    plt.xlim(0.0, xlim1)\n",
    "    ax.tick_params(axis='both', labelsize=18)\n",
    "    if colors is not None:\n",
    "        for patch, color, alpha in zip(scatter_plots, colors[order], alphas[order]):\n",
    "                patch.set_facecolor(color)\n",
    "                #patch.set_alpha(0.0)\n",
    "    \n",
    "    #label_diff(1, 2, '**', dat_plot[0], dat_plot[1], ax)\n",
    "    #plt.savefig(fig_path)\n",
    "    return (box_plot_fig, positions)\n",
    "\n",
    "def label_diff(i,j,text,X,Y, ax):\n",
    "    x = (X[i]+X[j])/2.0\n",
    "    y = 1.01*max(max(Y[i]), max(Y[j]))\n",
    "    dx = abs(X[i]-X[j])\n",
    "    print(x, y, dx)\n",
    "    props = {'connectionstyle':'bar','arrowstyle':'-',\\\n",
    "                 'shrinkA':50,'shrinkB':50,'linewidth':1}\n",
    "    #props = {'connectionstyle':'bar','arrowstyle':'-','linewidth':1}\n",
    "    ax.annotate(text, xy=(X[i], y), zorder=10)\n",
    "    ax.annotate('', xy=(X[i],y), xytext=(X[j],y), arrowprops=props)\n",
    "    print(X[j], y)\n",
    "    \n",
    "from matplotlib.markers import TICKDOWN\n",
    "def significance_bar(start,end,height,displaystring, stringheightfactor=1.0075, linewidth = 1.2,markersize = 8,boxpad  =0.3,fontsize = 15,color = 'k'):\n",
    "    # draw a line with downticks at the ends\n",
    "    plt.plot([start,end],[height]*2,'-',color = color,lw=linewidth,marker = TICKDOWN,markeredgewidth=linewidth,markersize = markersize)\n",
    "    # draw the text with a bounding box covering up the line\n",
    "    plt.text(0.5*(start+end),stringheightfactor*height,displaystring,ha = 'center',va='center',size = fontsize)\n",
    "    #bbox=dict(facecolor='1.', edgecolor='none',boxstyle='Square,pad='+str(boxpad))\n"
   ]
  },
  {
   "cell_type": "code",
   "execution_count": 13,
   "metadata": {
    "scrolled": true
   },
   "outputs": [
    {
     "name": "stderr",
     "output_type": "stream",
     "text": [
      "0it [00:00, ?it/s]\n",
      "  0%|          | 0/4 [00:00<?, ?it/s]\u001b[A"
     ]
    },
    {
     "name": "stdout",
     "output_type": "stream",
     "text": [
      "(4800,)\n",
      "(4800,)\n",
      "(4800,)\n",
      "(4800,)\n"
     ]
    },
    {
     "name": "stderr",
     "output_type": "stream",
     "text": [
      "\n",
      " 25%|██▌       | 1/4 [00:06<00:19,  6.57s/it]\u001b[A\n",
      " 50%|█████     | 2/4 [00:13<00:13,  6.54s/it]\u001b[A\n",
      " 75%|███████▌  | 3/4 [00:19<00:06,  6.44s/it]\u001b[A\n",
      "100%|██████████| 4/4 [00:25<00:00,  6.40s/it]\u001b[A\n",
      "1it [00:25, 25.61s/it]\n",
      "  0%|          | 0/4 [00:00<?, ?it/s]\u001b[A"
     ]
    },
    {
     "name": "stdout",
     "output_type": "stream",
     "text": [
      "(4800,)\n",
      "(4800,)\n",
      "(4800,)\n",
      "(4800,)\n"
     ]
    },
    {
     "name": "stderr",
     "output_type": "stream",
     "text": [
      "\n",
      " 25%|██▌       | 1/4 [00:06<00:19,  6.50s/it]\u001b[A\n",
      " 50%|█████     | 2/4 [00:12<00:12,  6.33s/it]\u001b[A\n",
      " 75%|███████▌  | 3/4 [00:18<00:06,  6.28s/it]\u001b[A\n",
      "100%|██████████| 4/4 [00:25<00:00,  6.29s/it]\u001b[A\n",
      "2it [00:50, 25.39s/it]\n",
      "  0%|          | 0/4 [00:00<?, ?it/s]\u001b[A"
     ]
    },
    {
     "name": "stdout",
     "output_type": "stream",
     "text": [
      "(4800,)\n",
      "(4800,)\n",
      "(4800,)\n",
      "(4800,)\n"
     ]
    },
    {
     "name": "stderr",
     "output_type": "stream",
     "text": [
      "\n",
      " 25%|██▌       | 1/4 [00:06<00:18,  6.20s/it]\u001b[A\n",
      " 50%|█████     | 2/4 [00:12<00:12,  6.26s/it]\u001b[A\n",
      " 75%|███████▌  | 3/4 [00:18<00:06,  6.22s/it]\u001b[A\n",
      "100%|██████████| 4/4 [00:24<00:00,  6.24s/it]\u001b[A\n",
      "3it [01:15, 25.25s/it]\n",
      "  0%|          | 0/4 [00:00<?, ?it/s]\u001b[A"
     ]
    },
    {
     "name": "stdout",
     "output_type": "stream",
     "text": [
      "(4800,)\n",
      "(4800,)\n",
      "(4800,)\n",
      "(4800,)\n"
     ]
    },
    {
     "name": "stderr",
     "output_type": "stream",
     "text": [
      "\n",
      " 25%|██▌       | 1/4 [00:06<00:19,  6.35s/it]\u001b[A\n",
      " 50%|█████     | 2/4 [00:12<00:12,  6.24s/it]\u001b[A\n",
      " 75%|███████▌  | 3/4 [00:18<00:06,  6.21s/it]\u001b[A\n",
      "100%|██████████| 4/4 [00:24<00:00,  6.23s/it]\u001b[A\n",
      "4it [01:40, 25.17s/it]\n",
      "  0%|          | 0/4 [00:00<?, ?it/s]\u001b[A"
     ]
    },
    {
     "name": "stdout",
     "output_type": "stream",
     "text": [
      "(4800,)\n",
      "(4800,)\n",
      "(4800,)\n",
      "(4800,)\n"
     ]
    },
    {
     "name": "stderr",
     "output_type": "stream",
     "text": [
      "\n",
      " 25%|██▌       | 1/4 [00:06<00:20,  6.81s/it]\u001b[A\n",
      " 50%|█████     | 2/4 [00:13<00:13,  6.56s/it]\u001b[A\n",
      " 75%|███████▌  | 3/4 [00:19<00:06,  6.53s/it]\u001b[A\n",
      "100%|██████████| 4/4 [00:25<00:00,  6.46s/it]\u001b[A\n",
      "5it [02:06, 25.31s/it]\n",
      "  0%|          | 0/4 [00:00<?, ?it/s]\u001b[A"
     ]
    },
    {
     "name": "stdout",
     "output_type": "stream",
     "text": [
      "(4800,)\n",
      "(4800,)\n",
      "(4800,)\n",
      "(4800,)\n"
     ]
    },
    {
     "name": "stderr",
     "output_type": "stream",
     "text": [
      "\n",
      " 25%|██▌       | 1/4 [00:06<00:19,  6.48s/it]\u001b[A\n",
      " 50%|█████     | 2/4 [00:12<00:12,  6.44s/it]\u001b[A\n",
      " 75%|███████▌  | 3/4 [00:19<00:06,  6.34s/it]\u001b[A\n",
      "100%|██████████| 4/4 [00:25<00:00,  6.31s/it]\u001b[A\n",
      "6it [02:31, 25.30s/it]\n",
      "  0%|          | 0/4 [00:00<?, ?it/s]\u001b[A"
     ]
    },
    {
     "name": "stdout",
     "output_type": "stream",
     "text": [
      "(4800,)\n",
      "(4800,)\n",
      "(4800,)\n",
      "(4800,)\n"
     ]
    },
    {
     "name": "stderr",
     "output_type": "stream",
     "text": [
      "\n",
      " 25%|██▌       | 1/4 [00:06<00:19,  6.48s/it]\u001b[A\n",
      " 50%|█████     | 2/4 [00:12<00:12,  6.31s/it]\u001b[A\n",
      " 75%|███████▌  | 3/4 [00:18<00:06,  6.26s/it]\u001b[A\n",
      "100%|██████████| 4/4 [00:25<00:00,  6.26s/it]\u001b[A\n",
      "7it [02:56, 25.27s/it]\n",
      "  0%|          | 0/4 [00:00<?, ?it/s]\u001b[A"
     ]
    },
    {
     "name": "stdout",
     "output_type": "stream",
     "text": [
      "(4800,)\n",
      "(4800,)\n",
      "(4800,)\n",
      "(4800,)\n"
     ]
    },
    {
     "name": "stderr",
     "output_type": "stream",
     "text": [
      "\n",
      " 25%|██▌       | 1/4 [00:06<00:18,  6.33s/it]\u001b[A\n",
      " 50%|█████     | 2/4 [00:12<00:12,  6.38s/it]\u001b[A\n",
      " 75%|███████▌  | 3/4 [00:19<00:06,  6.34s/it]\u001b[A\n",
      "100%|██████████| 4/4 [00:25<00:00,  6.35s/it]\u001b[A\n",
      "8it [03:22, 25.29s/it]\n",
      "  0%|          | 0/4 [00:00<?, ?it/s]\u001b[A"
     ]
    },
    {
     "name": "stdout",
     "output_type": "stream",
     "text": [
      "(4800,)\n",
      "(4800,)\n",
      "(4800,)\n",
      "(4800,)\n"
     ]
    },
    {
     "name": "stderr",
     "output_type": "stream",
     "text": [
      "\n",
      " 25%|██▌       | 1/4 [00:06<00:18,  6.32s/it]\u001b[A\n",
      " 50%|█████     | 2/4 [00:12<00:12,  6.23s/it]\u001b[A\n",
      " 75%|███████▌  | 3/4 [00:18<00:06,  6.20s/it]\u001b[A\n",
      "100%|██████████| 4/4 [00:24<00:00,  6.21s/it]\u001b[A\n",
      "9it [03:47, 25.24s/it]\n",
      "  0%|          | 0/4 [00:00<?, ?it/s]\u001b[A"
     ]
    },
    {
     "name": "stdout",
     "output_type": "stream",
     "text": [
      "(4800,)\n",
      "(4800,)\n",
      "(4800,)\n",
      "(4800,)\n"
     ]
    },
    {
     "name": "stderr",
     "output_type": "stream",
     "text": [
      "\n",
      " 25%|██▌       | 1/4 [00:06<00:19,  6.56s/it]\u001b[A\n",
      " 50%|█████     | 2/4 [00:12<00:12,  6.44s/it]\u001b[A\n",
      " 75%|███████▌  | 3/4 [00:19<00:06,  6.43s/it]\u001b[A\n",
      "100%|██████████| 4/4 [00:25<00:00,  6.41s/it]\u001b[A\n",
      "10it [04:12, 25.28s/it]\n",
      "  0%|          | 0/4 [00:00<?, ?it/s]\u001b[A"
     ]
    },
    {
     "name": "stdout",
     "output_type": "stream",
     "text": [
      "(4800,)\n",
      "(4800,)\n",
      "(4800,)\n",
      "(4800,)\n"
     ]
    },
    {
     "name": "stderr",
     "output_type": "stream",
     "text": [
      "\n",
      " 25%|██▌       | 1/4 [00:06<00:19,  6.42s/it]\u001b[A\n",
      " 50%|█████     | 2/4 [00:12<00:12,  6.41s/it]\u001b[A\n",
      " 75%|███████▌  | 3/4 [00:19<00:06,  6.38s/it]\u001b[A\n",
      "100%|██████████| 4/4 [00:25<00:00,  6.36s/it]\u001b[A\n",
      "11it [04:38, 25.30s/it]\n",
      "  0%|          | 0/4 [00:00<?, ?it/s]\u001b[A"
     ]
    },
    {
     "name": "stdout",
     "output_type": "stream",
     "text": [
      "(4800,)\n",
      "(4800,)\n",
      "(4800,)\n",
      "(4800,)\n"
     ]
    },
    {
     "name": "stderr",
     "output_type": "stream",
     "text": [
      "\n",
      " 25%|██▌       | 1/4 [00:06<00:19,  6.50s/it]\u001b[A\n",
      " 50%|█████     | 2/4 [00:12<00:12,  6.32s/it]\u001b[A\n",
      " 75%|███████▌  | 3/4 [00:18<00:06,  6.26s/it]\u001b[A\n",
      "100%|██████████| 4/4 [00:25<00:00,  6.26s/it]\u001b[A\n",
      "12it [05:03, 25.28s/it]\n",
      "  0%|          | 0/4 [00:00<?, ?it/s]\u001b[A"
     ]
    },
    {
     "name": "stdout",
     "output_type": "stream",
     "text": [
      "(4800,)\n",
      "(4800,)\n",
      "(4800,)\n",
      "(4800,)\n"
     ]
    },
    {
     "name": "stderr",
     "output_type": "stream",
     "text": [
      "\n",
      " 25%|██▌       | 1/4 [00:06<00:19,  6.49s/it]\u001b[A\n",
      " 50%|█████     | 2/4 [00:12<00:12,  6.32s/it]\u001b[A\n",
      " 75%|███████▌  | 3/4 [00:18<00:06,  6.26s/it]\u001b[A\n",
      "100%|██████████| 4/4 [00:25<00:00,  6.25s/it]\u001b[A\n",
      "13it [05:28, 25.26s/it]\n",
      "  0%|          | 0/4 [00:00<?, ?it/s]\u001b[A"
     ]
    },
    {
     "name": "stdout",
     "output_type": "stream",
     "text": [
      "(4800,)\n",
      "(4800,)\n",
      "(4800,)\n",
      "(4800,)\n"
     ]
    },
    {
     "name": "stderr",
     "output_type": "stream",
     "text": [
      "\n",
      " 25%|██▌       | 1/4 [00:06<00:18,  6.33s/it]\u001b[A\n",
      " 50%|█████     | 2/4 [00:12<00:12,  6.31s/it]\u001b[A\n",
      " 75%|███████▌  | 3/4 [00:18<00:06,  6.25s/it]\u001b[A\n",
      "100%|██████████| 4/4 [00:25<00:00,  6.25s/it]\u001b[A\n",
      "14it [05:53, 25.24s/it]\n",
      "  0%|          | 0/4 [00:00<?, ?it/s]\u001b[A"
     ]
    },
    {
     "name": "stdout",
     "output_type": "stream",
     "text": [
      "(4800,)\n",
      "(4800,)\n",
      "(4800,)\n",
      "(4800,)\n"
     ]
    },
    {
     "name": "stderr",
     "output_type": "stream",
     "text": [
      "\n",
      " 25%|██▌       | 1/4 [00:06<00:18,  6.33s/it]\u001b[A\n",
      " 50%|█████     | 2/4 [00:12<00:12,  6.23s/it]\u001b[A\n",
      " 75%|███████▌  | 3/4 [00:18<00:06,  6.21s/it]\u001b[A\n",
      "100%|██████████| 4/4 [00:24<00:00,  6.21s/it]\u001b[A\n",
      "15it [06:18, 25.22s/it]\n",
      "  0%|          | 0/4 [00:00<?, ?it/s]\u001b[A"
     ]
    },
    {
     "name": "stdout",
     "output_type": "stream",
     "text": [
      "(4800,)\n",
      "(4800,)\n",
      "(4800,)\n",
      "(4800,)\n"
     ]
    },
    {
     "name": "stderr",
     "output_type": "stream",
     "text": [
      "\n",
      " 25%|██▌       | 1/4 [00:06<00:19,  6.50s/it]\u001b[A\n",
      " 50%|█████     | 2/4 [00:12<00:12,  6.40s/it]\u001b[A\n",
      " 75%|███████▌  | 3/4 [00:18<00:06,  6.32s/it]\u001b[A\n",
      "100%|██████████| 4/4 [00:25<00:00,  6.30s/it]\u001b[A\n",
      "16it [06:43, 25.22s/it]\n",
      "  0%|          | 0/4 [00:00<?, ?it/s]\u001b[A"
     ]
    },
    {
     "name": "stdout",
     "output_type": "stream",
     "text": [
      "(4800,)\n",
      "(4800,)\n",
      "(4800,)\n",
      "(4800,)\n"
     ]
    },
    {
     "name": "stderr",
     "output_type": "stream",
     "text": [
      "\n",
      " 25%|██▌       | 1/4 [00:06<00:18,  6.31s/it]\u001b[A\n",
      " 50%|█████     | 2/4 [00:12<00:12,  6.30s/it]\u001b[A\n",
      " 75%|███████▌  | 3/4 [00:18<00:06,  6.24s/it]\u001b[A\n",
      "100%|██████████| 4/4 [00:24<00:00,  6.24s/it]\u001b[A\n",
      "17it [07:08, 25.20s/it]\n",
      "  0%|          | 0/4 [00:00<?, ?it/s]\u001b[A"
     ]
    },
    {
     "name": "stdout",
     "output_type": "stream",
     "text": [
      "(4800,)\n",
      "(4800,)\n",
      "(4800,)\n",
      "(4800,)\n"
     ]
    },
    {
     "name": "stderr",
     "output_type": "stream",
     "text": [
      "\n",
      " 25%|██▌       | 1/4 [00:06<00:18,  6.15s/it]\u001b[A\n",
      " 50%|█████     | 2/4 [00:12<00:12,  6.21s/it]\u001b[A\n",
      " 75%|███████▌  | 3/4 [00:18<00:06,  6.19s/it]\u001b[A\n",
      "100%|██████████| 4/4 [00:24<00:00,  6.20s/it]\u001b[A\n",
      "18it [07:33, 25.18s/it]\n",
      "  0%|          | 0/4 [00:00<?, ?it/s]\u001b[A"
     ]
    },
    {
     "name": "stdout",
     "output_type": "stream",
     "text": [
      "(4800,)\n",
      "(4800,)\n",
      "(4800,)\n",
      "(4800,)\n"
     ]
    },
    {
     "name": "stderr",
     "output_type": "stream",
     "text": [
      "\n",
      " 25%|██▌       | 1/4 [00:06<00:18,  6.16s/it]\u001b[A\n",
      " 50%|█████     | 2/4 [00:12<00:12,  6.15s/it]\u001b[A\n",
      " 75%|███████▌  | 3/4 [00:18<00:06,  6.14s/it]\u001b[A\n",
      "100%|██████████| 4/4 [00:24<00:00,  6.17s/it]\u001b[A\n",
      "19it [07:57, 25.15s/it]\n",
      "  0%|          | 0/4 [00:00<?, ?it/s]\u001b[A"
     ]
    },
    {
     "name": "stdout",
     "output_type": "stream",
     "text": [
      "(4800,)\n",
      "(4800,)\n",
      "(4800,)\n",
      "(4800,)\n"
     ]
    },
    {
     "name": "stderr",
     "output_type": "stream",
     "text": [
      "\n",
      " 25%|██▌       | 1/4 [00:06<00:18,  6.31s/it]\u001b[A\n",
      " 50%|█████     | 2/4 [00:12<00:12,  6.30s/it]\u001b[A\n",
      " 75%|███████▌  | 3/4 [00:18<00:06,  6.24s/it]\u001b[A\n",
      "100%|██████████| 4/4 [00:24<00:00,  6.24s/it]\u001b[A\n",
      "20it [08:22, 25.14s/it]\n",
      "  0%|          | 0/4 [00:00<?, ?it/s]\u001b[A"
     ]
    },
    {
     "name": "stdout",
     "output_type": "stream",
     "text": [
      "(4800,)\n",
      "(4800,)\n",
      "(4800,)\n",
      "(4800,)\n"
     ]
    },
    {
     "name": "stderr",
     "output_type": "stream",
     "text": [
      "\n",
      " 25%|██▌       | 1/4 [00:06<00:18,  6.29s/it]\u001b[A\n",
      " 50%|█████     | 2/4 [00:12<00:12,  6.30s/it]\u001b[A\n",
      " 75%|███████▌  | 3/4 [00:18<00:06,  6.26s/it]\u001b[A\n",
      "100%|██████████| 4/4 [00:25<00:00,  6.26s/it]\u001b[A\n",
      "21it [08:47, 25.14s/it]\n",
      "  0%|          | 0/4 [00:00<?, ?it/s]\u001b[A"
     ]
    },
    {
     "name": "stdout",
     "output_type": "stream",
     "text": [
      "(4800,)\n",
      "(4800,)\n",
      "(4800,)\n",
      "(4800,)\n"
     ]
    },
    {
     "name": "stderr",
     "output_type": "stream",
     "text": [
      "\n",
      " 25%|██▌       | 1/4 [00:06<00:19,  6.48s/it]\u001b[A\n",
      " 50%|█████     | 2/4 [00:12<00:12,  6.38s/it]\u001b[A\n",
      " 75%|███████▌  | 3/4 [00:18<00:06,  6.30s/it]\u001b[A\n",
      "100%|██████████| 4/4 [00:25<00:00,  6.27s/it]\u001b[A\n",
      "22it [09:13, 25.14s/it]\n",
      "  0%|          | 0/4 [00:00<?, ?it/s]\u001b[A"
     ]
    },
    {
     "name": "stdout",
     "output_type": "stream",
     "text": [
      "(4800,)\n",
      "(4800,)\n",
      "(4800,)\n",
      "(4800,)\n"
     ]
    },
    {
     "name": "stderr",
     "output_type": "stream",
     "text": [
      "\n",
      " 25%|██▌       | 1/4 [00:06<00:18,  6.16s/it]\u001b[A\n",
      " 50%|█████     | 2/4 [00:12<00:12,  6.15s/it]\u001b[A\n",
      " 75%|███████▌  | 3/4 [00:18<00:06,  6.14s/it]\u001b[A\n",
      "100%|██████████| 4/4 [00:24<00:00,  6.15s/it]\u001b[A\n",
      "23it [09:37, 25.11s/it]\n",
      "  0%|          | 0/4 [00:00<?, ?it/s]\u001b[A"
     ]
    },
    {
     "name": "stdout",
     "output_type": "stream",
     "text": [
      "(4800,)\n",
      "(4800,)\n",
      "(4800,)\n",
      "(4800,)\n"
     ]
    },
    {
     "name": "stderr",
     "output_type": "stream",
     "text": [
      "\n",
      " 25%|██▌       | 1/4 [00:06<00:18,  6.16s/it]\u001b[A\n",
      " 50%|█████     | 2/4 [00:12<00:12,  6.14s/it]\u001b[A\n",
      " 75%|███████▌  | 3/4 [00:18<00:06,  6.13s/it]\u001b[A\n",
      "100%|██████████| 4/4 [00:24<00:00,  6.15s/it]\u001b[A\n",
      "24it [10:02, 25.09s/it]\n",
      "  0%|          | 0/4 [00:00<?, ?it/s]\u001b[A"
     ]
    },
    {
     "name": "stdout",
     "output_type": "stream",
     "text": [
      "(4800,)\n",
      "(4800,)\n",
      "(4800,)\n",
      "(4800,)\n"
     ]
    },
    {
     "name": "stderr",
     "output_type": "stream",
     "text": [
      "\n",
      " 25%|██▌       | 1/4 [00:06<00:19,  6.47s/it]\u001b[A\n",
      " 50%|█████     | 2/4 [00:12<00:12,  6.30s/it]\u001b[A\n",
      " 75%|███████▌  | 3/4 [00:18<00:06,  6.25s/it]\u001b[A\n",
      "100%|██████████| 4/4 [00:24<00:00,  6.22s/it]\u001b[A\n",
      "25it [10:27, 25.09s/it]\n",
      "  0%|          | 0/4 [00:00<?, ?it/s]\u001b[A"
     ]
    },
    {
     "name": "stdout",
     "output_type": "stream",
     "text": [
      "(4800,)\n",
      "(4800,)\n",
      "(4800,)\n",
      "(4800,)\n"
     ]
    },
    {
     "name": "stderr",
     "output_type": "stream",
     "text": [
      "\n",
      " 25%|██▌       | 1/4 [00:06<00:18,  6.31s/it]\u001b[A\n",
      " 50%|█████     | 2/4 [00:12<00:12,  6.31s/it]\u001b[A\n",
      " 75%|███████▌  | 3/4 [00:18<00:06,  6.25s/it]\u001b[A\n",
      "100%|██████████| 4/4 [00:24<00:00,  6.23s/it]\u001b[A\n",
      "26it [10:52, 25.08s/it]\n",
      "  0%|          | 0/4 [00:00<?, ?it/s]\u001b[A"
     ]
    },
    {
     "name": "stdout",
     "output_type": "stream",
     "text": [
      "(4800,)\n",
      "(4800,)\n",
      "(4800,)\n",
      "(4800,)\n"
     ]
    },
    {
     "name": "stderr",
     "output_type": "stream",
     "text": [
      "\n",
      " 25%|██▌       | 1/4 [00:06<00:19,  6.49s/it]\u001b[A\n",
      " 50%|█████     | 2/4 [00:12<00:12,  6.33s/it]\u001b[A\n",
      " 75%|███████▌  | 3/4 [00:18<00:06,  6.29s/it]\u001b[A\n",
      "100%|██████████| 4/4 [00:25<00:00,  6.30s/it]\u001b[A\n",
      "27it [11:17, 25.09s/it]\n",
      "  0%|          | 0/4 [00:00<?, ?it/s]\u001b[A"
     ]
    },
    {
     "name": "stdout",
     "output_type": "stream",
     "text": [
      "(4800,)\n",
      "(4800,)\n",
      "(4800,)\n",
      "(4800,)\n"
     ]
    },
    {
     "name": "stderr",
     "output_type": "stream",
     "text": [
      "\n",
      " 25%|██▌       | 1/4 [00:06<00:18,  6.16s/it]\u001b[A\n",
      " 50%|█████     | 2/4 [00:12<00:12,  6.23s/it]\u001b[A\n",
      " 75%|███████▌  | 3/4 [00:18<00:06,  6.20s/it]\u001b[A\n",
      "100%|██████████| 4/4 [00:24<00:00,  6.20s/it]\u001b[A\n",
      "28it [11:42, 25.08s/it]\n",
      "  0%|          | 0/4 [00:00<?, ?it/s]\u001b[A"
     ]
    },
    {
     "name": "stdout",
     "output_type": "stream",
     "text": [
      "(4800,)\n",
      "(4800,)\n",
      "(4800,)\n",
      "(4800,)\n"
     ]
    },
    {
     "name": "stderr",
     "output_type": "stream",
     "text": [
      "\n",
      " 25%|██▌       | 1/4 [00:06<00:18,  6.15s/it]\u001b[A\n",
      " 50%|█████     | 2/4 [00:12<00:12,  6.22s/it]\u001b[A\n",
      " 75%|███████▌  | 3/4 [00:18<00:06,  6.18s/it]\u001b[A\n",
      "100%|██████████| 4/4 [00:24<00:00,  6.19s/it]\u001b[A\n",
      "29it [12:06, 25.07s/it]\n",
      "  0%|          | 0/4 [00:00<?, ?it/s]\u001b[A"
     ]
    },
    {
     "name": "stdout",
     "output_type": "stream",
     "text": [
      "(4800,)\n",
      "(4800,)\n",
      "(4800,)\n",
      "(4800,)\n"
     ]
    },
    {
     "name": "stderr",
     "output_type": "stream",
     "text": [
      "\n",
      " 25%|██▌       | 1/4 [00:06<00:18,  6.14s/it]\u001b[A\n",
      " 50%|█████     | 2/4 [00:12<00:12,  6.13s/it]\u001b[A\n",
      " 75%|███████▌  | 3/4 [00:18<00:06,  6.12s/it]\u001b[A\n",
      "100%|██████████| 4/4 [00:24<00:00,  6.14s/it]\u001b[A\n",
      "30it [12:31, 25.05s/it]\n",
      "  0%|          | 0/4 [00:00<?, ?it/s]\u001b[A"
     ]
    },
    {
     "name": "stdout",
     "output_type": "stream",
     "text": [
      "(4800,)\n",
      "(4800,)\n",
      "(4800,)\n",
      "(4800,)\n"
     ]
    },
    {
     "name": "stderr",
     "output_type": "stream",
     "text": [
      "\n",
      " 25%|██▌       | 1/4 [00:06<00:19,  6.54s/it]\u001b[A\n",
      " 50%|█████     | 2/4 [00:12<00:12,  6.38s/it]\u001b[A\n",
      " 75%|███████▌  | 3/4 [00:18<00:06,  6.30s/it]\u001b[A\n",
      "100%|██████████| 4/4 [00:25<00:00,  6.28s/it]\u001b[A\n",
      "31it [12:56, 25.05s/it]\n",
      "  0%|          | 0/4 [00:00<?, ?it/s]\u001b[A"
     ]
    },
    {
     "name": "stdout",
     "output_type": "stream",
     "text": [
      "(4800,)\n",
      "(4800,)\n",
      "(4800,)\n",
      "(4800,)\n"
     ]
    },
    {
     "name": "stderr",
     "output_type": "stream",
     "text": [
      "\n",
      " 25%|██▌       | 1/4 [00:06<00:18,  6.25s/it]\u001b[A\n",
      " 50%|█████     | 2/4 [00:12<00:12,  6.26s/it]\u001b[A\n",
      " 75%|███████▌  | 3/4 [00:18<00:06,  6.21s/it]\u001b[A\n",
      "100%|██████████| 4/4 [00:24<00:00,  6.20s/it]\u001b[A\n",
      "32it [13:21, 25.05s/it]\n",
      "  0%|          | 0/4 [00:00<?, ?it/s]\u001b[A"
     ]
    },
    {
     "name": "stdout",
     "output_type": "stream",
     "text": [
      "(4800,)\n",
      "(4800,)\n",
      "(4800,)\n",
      "(4800,)\n"
     ]
    },
    {
     "name": "stderr",
     "output_type": "stream",
     "text": [
      "\n",
      " 25%|██▌       | 1/4 [00:06<00:18,  6.32s/it]\u001b[A\n",
      " 50%|█████     | 2/4 [00:12<00:12,  6.23s/it]\u001b[A\n",
      " 75%|███████▌  | 3/4 [00:18<00:06,  6.20s/it]\u001b[A\n",
      "100%|██████████| 4/4 [00:24<00:00,  6.21s/it]\u001b[A\n",
      "33it [13:46, 25.04s/it]\n",
      "  0%|          | 0/4 [00:00<?, ?it/s]\u001b[A"
     ]
    },
    {
     "name": "stdout",
     "output_type": "stream",
     "text": [
      "(4800,)\n",
      "(4800,)\n",
      "(4800,)\n",
      "(4800,)\n"
     ]
    },
    {
     "name": "stderr",
     "output_type": "stream",
     "text": [
      "\n",
      " 25%|██▌       | 1/4 [00:06<00:18,  6.16s/it]\u001b[A\n",
      " 50%|█████     | 2/4 [00:12<00:12,  6.23s/it]\u001b[A\n",
      " 75%|███████▌  | 3/4 [00:18<00:06,  6.20s/it]\u001b[A\n",
      "100%|██████████| 4/4 [00:24<00:00,  6.21s/it]\u001b[A\n",
      "34it [14:11, 25.03s/it]\n",
      "  0%|          | 0/4 [00:00<?, ?it/s]\u001b[A"
     ]
    },
    {
     "name": "stdout",
     "output_type": "stream",
     "text": [
      "(4800,)\n",
      "(4800,)\n",
      "(4800,)\n",
      "(4800,)\n"
     ]
    },
    {
     "name": "stderr",
     "output_type": "stream",
     "text": [
      "\n",
      " 25%|██▌       | 1/4 [00:06<00:18,  6.33s/it]\u001b[A\n",
      " 50%|█████     | 2/4 [00:12<00:12,  6.31s/it]\u001b[A\n",
      " 75%|███████▌  | 3/4 [00:18<00:06,  6.25s/it]\u001b[A\n",
      "100%|██████████| 4/4 [00:25<00:00,  6.25s/it]\u001b[A\n",
      "35it [14:36, 25.03s/it]\n",
      "  0%|          | 0/4 [00:00<?, ?it/s]\u001b[A"
     ]
    },
    {
     "name": "stdout",
     "output_type": "stream",
     "text": [
      "(4800,)\n",
      "(4800,)\n",
      "(4800,)\n",
      "(4800,)\n"
     ]
    },
    {
     "name": "stderr",
     "output_type": "stream",
     "text": [
      "\n",
      " 25%|██▌       | 1/4 [00:06<00:18,  6.33s/it]\u001b[A\n",
      " 50%|█████     | 2/4 [00:12<00:12,  6.32s/it]\u001b[A\n",
      " 75%|███████▌  | 3/4 [00:18<00:06,  6.26s/it]\u001b[A\n",
      "100%|██████████| 4/4 [00:25<00:00,  6.25s/it]\u001b[A\n",
      "36it [15:01, 25.03s/it]\n",
      "  0%|          | 0/4 [00:00<?, ?it/s]\u001b[A"
     ]
    },
    {
     "name": "stdout",
     "output_type": "stream",
     "text": [
      "(4800,)\n",
      "(4800,)\n",
      "(4800,)\n",
      "(4800,)\n"
     ]
    },
    {
     "name": "stderr",
     "output_type": "stream",
     "text": [
      "\n",
      " 25%|██▌       | 1/4 [00:06<00:19,  6.52s/it]\u001b[A\n",
      " 50%|█████     | 2/4 [00:12<00:12,  6.33s/it]\u001b[A\n",
      " 75%|███████▌  | 3/4 [00:18<00:06,  6.28s/it]\u001b[A\n",
      "100%|██████████| 4/4 [00:25<00:00,  6.26s/it]\u001b[A\n",
      "37it [15:26, 25.03s/it]\n",
      "  0%|          | 0/4 [00:00<?, ?it/s]\u001b[A"
     ]
    },
    {
     "name": "stdout",
     "output_type": "stream",
     "text": [
      "(4800,)\n",
      "(4800,)\n",
      "(4800,)\n",
      "(4800,)\n"
     ]
    },
    {
     "name": "stderr",
     "output_type": "stream",
     "text": [
      "\n",
      " 25%|██▌       | 1/4 [00:06<00:18,  6.33s/it]\u001b[A\n",
      " 50%|█████     | 2/4 [00:12<00:12,  6.23s/it]\u001b[A\n",
      " 75%|███████▌  | 3/4 [00:18<00:06,  6.19s/it]\u001b[A\n",
      "100%|██████████| 4/4 [00:24<00:00,  6.21s/it]\u001b[A\n",
      "38it [15:51, 25.03s/it]\n",
      "  0%|          | 0/4 [00:00<?, ?it/s]\u001b[A"
     ]
    },
    {
     "name": "stdout",
     "output_type": "stream",
     "text": [
      "(4800,)\n",
      "(4800,)\n",
      "(4800,)\n",
      "(4800,)\n"
     ]
    },
    {
     "name": "stderr",
     "output_type": "stream",
     "text": [
      "\n",
      " 25%|██▌       | 1/4 [00:06<00:19,  6.47s/it]\u001b[A\n",
      " 50%|█████     | 2/4 [00:12<00:12,  6.30s/it]\u001b[A\n",
      " 75%|███████▌  | 3/4 [00:18<00:06,  6.24s/it]\u001b[A\n",
      "100%|██████████| 4/4 [00:24<00:00,  6.23s/it]\u001b[A\n",
      "39it [16:16, 25.03s/it]\n",
      "  0%|          | 0/4 [00:00<?, ?it/s]\u001b[A"
     ]
    },
    {
     "name": "stdout",
     "output_type": "stream",
     "text": [
      "(4800,)\n",
      "(4800,)\n",
      "(4800,)\n",
      "(4800,)\n"
     ]
    },
    {
     "name": "stderr",
     "output_type": "stream",
     "text": [
      "\n",
      " 25%|██▌       | 1/4 [00:06<00:18,  6.30s/it]\u001b[A\n",
      " 50%|█████     | 2/4 [00:12<00:12,  6.29s/it]\u001b[A\n",
      " 75%|███████▌  | 3/4 [00:18<00:06,  6.24s/it]\u001b[A\n",
      "100%|██████████| 4/4 [00:24<00:00,  6.23s/it]\u001b[A\n",
      "40it [16:40, 25.02s/it]\n"
     ]
    }
   ],
   "source": [
    "f_fam_orig_reps = glob.glob('/home/brad/DailyLog/20200120/JSpop_fast_B1083Split-1-1-20_LvsR-fam-orig-*.pkl')\n",
    "f_fam_shuff_reps = glob.glob('/home/brad/DailyLog/20200122/JSpop_fast_B1083Split-1-1-20_LvsR-fam-shuff-*.pkl')\n",
    "c_fam_orig_reps = glob.glob('/home/brad/DailyLog/20200123/new2_Correl_B1083_fam_orig_split_*.pkl')\n",
    "c_fam_shuff_reps = glob.glob('/home/brad/DailyLog/20200123/new2_Correl_B1083_fam_shuff_split_*.pkl')\n",
    "from tqdm import tqdm\n",
    "scsv_reps = []\n",
    "scsv_shuff = []\n",
    "for f_fam_orig, f_fam_shuff, c_fam_orig, c_fam_shuff in tqdm(zip(f_fam_orig_reps, f_fam_shuff_reps, c_fam_orig_reps, c_fam_shuff_reps)):\n",
    "    \n",
    "\n",
    "    with open(f_fam_orig, 'rb') as f:\n",
    "        div = pickle.load(f)\n",
    "\n",
    "    with open(f_fam_shuff, 'rb') as f:\n",
    "        divs = pickle.load(f)\n",
    "    with open(c_fam_orig, 'rb') as f:\n",
    "        cdiv = pickle.load(f)\n",
    "\n",
    "    with open(c_fam_shuff, 'rb') as f:\n",
    "        cdivs = pickle.load(f)\n",
    "        \n",
    "\n",
    "\n",
    "\n",
    "    dataset = build_lmm_dataset(div)\n",
    "    dataset_s = build_lmm_dataset(divs)\n",
    "    dataset_c = build_lmm_dataset(cdiv)\n",
    "    dataset_cs = build_lmm_dataset(cdivs)\n",
    "\n",
    "    csss = [dataset, dataset_s, dataset_c, dataset_cs]\n",
    "    #csss = [dataset]\n",
    "\n",
    "    scsv = []\n",
    "    for ds in tqdm(csss):\n",
    "\n",
    "        N_tests = 240\n",
    "        train_pct = 0.8\n",
    "        test_pct = 1 - train_pct\n",
    "        targ = ds['cond'].values\n",
    "        feat = ds['JS'].values\n",
    "        scores = []\n",
    "        for test in range(N_tests):\n",
    "            ntarg = int(train_pct*len(targ))\n",
    "            perm = np.random.permutation(np.arange(len(targ)))\n",
    "            targ_train = targ[perm[0:ntarg]]\n",
    "            feat_train = feat[perm[0:ntarg]][:, np.newaxis]\n",
    "            targ_test = targ[perm[ntarg:]]\n",
    "            feat_test = feat[perm[ntarg:]][:, np.newaxis]\n",
    "            lr = LogisticRegression()\n",
    "            lr.fit(feat_train, targ_train)\n",
    "\n",
    "            scores.append(lr.score(feat_test, targ_test))\n",
    "        scsv.append(scores)\n",
    "    scsv_reps.append(scsv)\n",
    "\n"
   ]
  },
  {
   "cell_type": "code",
   "execution_count": 16,
   "metadata": {},
   "outputs": [
    {
     "data": {
      "text/plain": [
       "4"
      ]
     },
     "execution_count": 16,
     "metadata": {},
     "output_type": "execute_result"
    }
   ],
   "source": [
    "len(scsv_reps[0])"
   ]
  },
  {
   "cell_type": "code",
   "execution_count": 17,
   "metadata": {},
   "outputs": [],
   "source": [
    "f = lambda x: list(map(np.mean, x))\n",
    "test = np.transpose(list(map(f, scsv_reps)))\n"
   ]
  },
  {
   "cell_type": "code",
   "execution_count": 19,
   "metadata": {},
   "outputs": [
    {
     "data": {
      "text/plain": [
       "array([[0.70982205, 0.71203559, 0.48869575, 0.64101997, 0.72475694,\n",
       "        0.72181641, 0.6852105 , 0.59179253, 0.60119792, 0.74843533,\n",
       "        0.54850043, 0.67017144, 0.66514323, 0.59933594, 0.5630447 ,\n",
       "        0.7207487 , 0.63482422, 0.50532552, 0.47562717, 0.61468099,\n",
       "        0.53669488, 0.64187717, 0.48559245, 0.46906033, 0.68969618,\n",
       "        0.57311415, 0.74726563, 0.46704644, 0.58797743, 0.4851454 ,\n",
       "        0.71802951, 0.53807726, 0.56518446, 0.49459635, 0.60204861,\n",
       "        0.5880013 , 0.68571832, 0.64318142, 0.67284071, 0.59186849],\n",
       "       [0.58583767, 0.53257378, 0.55737196, 0.59409505, 0.59129774,\n",
       "        0.57344184, 0.49609375, 0.57283637, 0.47992622, 0.50118273,\n",
       "        0.541875  , 0.57539497, 0.5209375 , 0.55017144, 0.50609809,\n",
       "        0.56622179, 0.59688368, 0.5872526 , 0.49991319, 0.59711589,\n",
       "        0.5441276 , 0.58565755, 0.57117405, 0.57858507, 0.52729601,\n",
       "        0.60618056, 0.51450738, 0.58457899, 0.58924913, 0.51316406,\n",
       "        0.48429036, 0.58012587, 0.5065191 , 0.55656467, 0.54003472,\n",
       "        0.59179036, 0.54085937, 0.53273003, 0.49484592, 0.59177951],\n",
       "       [0.5816645 , 0.58965278, 0.5836046 , 0.58713325, 0.57604601,\n",
       "        0.58503906, 0.5865625 , 0.58511936, 0.58782118, 0.58316406,\n",
       "        0.58053819, 0.58054688, 0.58246094, 0.58518012, 0.57923828,\n",
       "        0.58575521, 0.58207248, 0.58494575, 0.58273872, 0.58736979,\n",
       "        0.58513889, 0.58442057, 0.58528429, 0.57766059, 0.58384332,\n",
       "        0.58224826, 0.59156467, 0.57367839, 0.58125868, 0.58307075,\n",
       "        0.56901259, 0.58677734, 0.58521918, 0.58605903, 0.58593967,\n",
       "        0.58323568, 0.57505859, 0.58524306, 0.58078342, 0.58875434],\n",
       "       [0.57340061, 0.5780816 , 0.58221788, 0.58083984, 0.57487196,\n",
       "        0.56356554, 0.58620877, 0.57187066, 0.57546007, 0.56595486,\n",
       "        0.58068576, 0.57334852, 0.58812066, 0.55266059, 0.58337674,\n",
       "        0.57638672, 0.57704644, 0.57699653, 0.5729579 , 0.57490885,\n",
       "        0.57715061, 0.58327908, 0.58671441, 0.57750217, 0.57321615,\n",
       "        0.58322917, 0.58459852, 0.57636502, 0.57016059, 0.5644553 ,\n",
       "        0.58465929, 0.57707465, 0.57939236, 0.57835069, 0.57350043,\n",
       "        0.57205295, 0.57756293, 0.5757487 , 0.58271267, 0.57903212]])"
      ]
     },
     "execution_count": 19,
     "metadata": {},
     "output_type": "execute_result"
    }
   ],
   "source": [
    "test"
   ]
  },
  {
   "cell_type": "code",
   "execution_count": 29,
   "metadata": {},
   "outputs": [
    {
     "data": {
      "image/png": "[encoded data removed]",
      "text/plain": [
       "<matplotlib.figure.Figure at 0x7ff80cfa9940>"
      ]
     },
     "metadata": {},
     "output_type": "display_data"
    }
   ],
   "source": [
    "\n",
    "colors = ['#111111', '#111111', '#111111', '#111111']\n",
    "marker_style = ['o', 'x', 'o', 'x']\n",
    "colors = np.tile(['#111111', '#111111'], 2)\n",
    "marker_style = np.tile(['o', 'x'], 2)\n",
    "(fig, pos) = grouped_boxplot_with_scatter(test, order=range(4), ngroups=2, labels=['JS', 'Corr'], colors=colors, scatter_style=marker_style, figsize=(5,5), marker_size=40)\n",
    "\n",
    "\n",
    "# significance_bar(pos[0],pos[1], 0.97 , '***',linewidth = 1,markersize = 8,boxpad  =0.01,fontsize = 26,color = 'k')\n",
    "# significance_bar(pos[0], pos[2], 1.03, '***', linewidth = 1,markersize = 8,boxpad  =0.01,fontsize = 26,color = 'k')\n",
    "# significance_bar(pos[2], pos[3], 0.97, '***', linewidth = 1,markersize = 8,boxpad  =0.01,fontsize = 26,color = 'k')\n",
    "\n",
    "# significance_bar(pos[4],pos[5], 0.97 , '***',linewidth = 1,markersize = 8,boxpad  =0.01,fontsize = 26,color = 'k')\n",
    "# significance_bar(pos[4], pos[6], 1.03, '***',  linewidth = 1,markersize = 8,boxpad  =0.01,fontsize = 26,color = 'k')\n",
    "# significance_bar(pos[6], pos[7], 0.97, '***', linewidth = 1,markersize = 8,boxpad  =0.01,fontsize = 26,color = 'k')\n",
    "plt.ylim([0.40, 1.1])\n",
    "\n",
    "plt.savefig(os.path.join(figsavepth, 'B1083_Split_JSDIVSTATS.pdf'))"
   ]
  },
  {
   "cell_type": "code",
   "execution_count": 32,
   "metadata": {},
   "outputs": [
    {
     "name": "stdout",
     "output_type": "stream",
     "text": [
      "TEST: Pop1JS-Shuffle\n",
      "Ttest_indResult(statistic=3.9440678662583397, pvalue=0.00023632733695164103)\n",
      "TEST: Pop1JS-Pop1Corr\n",
      "Ttest_indResult(statistic=1.9663849226061356, pvalue=0.056362710846148766)\n",
      "TEST: Pop1Corr-Shuffle\n",
      "Ttest_indResult(statistic=5.108509031906927, pvalue=2.9617701602884057e-06)\n"
     ]
    }
   ],
   "source": [
    "from scipy.stats import ttest_ind\n",
    "ttests =[(0,1), (0, 2), (2,3)]\n",
    "ttest_names = ['Pop1JS-Shuffle', 'Pop1JS-Pop1Corr', 'Pop1Corr-Shuffle']\n",
    "for t, n in zip(ttests, ttest_names):\n",
    "    res = ttest_ind(test[t[0]], test[t[1]], equal_var=False)\n",
    "    print('TEST: {}'.format(n))\n",
    "    print(res)"
   ]
  },
  {
   "cell_type": "markdown",
   "metadata": {},
   "source": []
  },
  {
   "cell_type": "code",
   "execution_count": 9,
   "metadata": {},
   "outputs": [
    {
     "name": "stderr",
     "output_type": "stream",
     "text": [
      "0it [00:00, ?it/s]\n",
      "  0%|          | 0/2 [00:00<?, ?it/s]\u001b[A"
     ]
    },
    {
     "name": "stdout",
     "output_type": "stream",
     "text": [
      "['/home/brad/DailyLog/20200123/new2_Correl_B1083_fam_orig_split_37.pkl', '/home/brad/DailyLog/20200123/new2_Correl_B1083_fam_orig_split_29.pkl', '/home/brad/DailyLog/20200123/new2_Correl_B1083_fam_orig_split_36.pkl', '/home/brad/DailyLog/20200123/new2_Correl_B1083_fam_orig_split_28.pkl', '/home/brad/DailyLog/20200123/new2_Correl_B1083_fam_orig_split_22.pkl', '/home/brad/DailyLog/20200123/new2_Correl_B1083_fam_orig_split_39.pkl', '/home/brad/DailyLog/20200123/new2_Correl_B1083_fam_orig_split_10.pkl', '/home/brad/DailyLog/20200123/new2_Correl_B1083_fam_orig_split_21.pkl', '/home/brad/DailyLog/20200123/new2_Correl_B1083_fam_orig_split_34.pkl', '/home/brad/DailyLog/20200123/new2_Correl_B1083_fam_orig_split_0.pkl', '/home/brad/DailyLog/20200123/new2_Correl_B1083_fam_orig_split_7.pkl', '/home/brad/DailyLog/20200123/new2_Correl_B1083_fam_orig_split_11.pkl', '/home/brad/DailyLog/20200123/new2_Correl_B1083_fam_orig_split_9.pkl', '/home/brad/DailyLog/20200123/new2_Correl_B1083_fam_orig_split_5.pkl', '/home/brad/DailyLog/20200123/new2_Correl_B1083_fam_orig_split_25.pkl', '/home/brad/DailyLog/20200123/new2_Correl_B1083_fam_orig_split_14.pkl', '/home/brad/DailyLog/20200123/new2_Correl_B1083_fam_orig_split_17.pkl', '/home/brad/DailyLog/20200123/new2_Correl_B1083_fam_orig_split_2.pkl', '/home/brad/DailyLog/20200123/new2_Correl_B1083_fam_orig_split_8.pkl', '/home/brad/DailyLog/20200123/new2_Correl_B1083_fam_orig_split_4.pkl', '/home/brad/DailyLog/20200123/new2_Correl_B1083_fam_orig_split_20.pkl', '/home/brad/DailyLog/20200123/new2_Correl_B1083_fam_orig_split_23.pkl', '/home/brad/DailyLog/20200123/new2_Correl_B1083_fam_orig_split_19.pkl', '/home/brad/DailyLog/20200123/new2_Correl_B1083_fam_orig_split_13.pkl', '/home/brad/DailyLog/20200123/new2_Correl_B1083_fam_orig_split_24.pkl', '/home/brad/DailyLog/20200123/new2_Correl_B1083_fam_orig_split_26.pkl', '/home/brad/DailyLog/20200123/new2_Correl_B1083_fam_orig_split_3.pkl', '/home/brad/DailyLog/20200123/new2_Correl_B1083_fam_orig_split_38.pkl', '/home/brad/DailyLog/20200123/new2_Correl_B1083_fam_orig_split_18.pkl', '/home/brad/DailyLog/20200123/new2_Correl_B1083_fam_orig_split_27.pkl', '/home/brad/DailyLog/20200123/new2_Correl_B1083_fam_orig_split_12.pkl', '/home/brad/DailyLog/20200123/new2_Correl_B1083_fam_orig_split_1.pkl', '/home/brad/DailyLog/20200123/new2_Correl_B1083_fam_orig_split_35.pkl', '/home/brad/DailyLog/20200123/new2_Correl_B1083_fam_orig_split_33.pkl', '/home/brad/DailyLog/20200123/new2_Correl_B1083_fam_orig_split_16.pkl', '/home/brad/DailyLog/20200123/new2_Correl_B1083_fam_orig_split_31.pkl', '/home/brad/DailyLog/20200123/new2_Correl_B1083_fam_orig_split_15.pkl', '/home/brad/DailyLog/20200123/new2_Correl_B1083_fam_orig_split_6.pkl', '/home/brad/DailyLog/20200123/new2_Correl_B1083_fam_orig_split_32.pkl', '/home/brad/DailyLog/20200123/new2_Correl_B1083_fam_orig_split_1.0.pkl', '/home/brad/DailyLog/20200123/new2_Correl_B1083_fam_orig_split_30.pkl']\n",
      "['/home/brad/DailyLog/20200123/new2_Correl_B1083_fam_shuff_split_3.pkl', '/home/brad/DailyLog/20200123/new2_Correl_B1083_fam_shuff_split_26.pkl', '/home/brad/DailyLog/20200123/new2_Correl_B1083_fam_shuff_split_14.pkl', '/home/brad/DailyLog/20200123/new2_Correl_B1083_fam_shuff_split_24.pkl', '/home/brad/DailyLog/20200123/new2_Correl_B1083_fam_shuff_split_13.pkl', '/home/brad/DailyLog/20200123/new2_Correl_B1083_fam_shuff_split_15.pkl', '/home/brad/DailyLog/20200123/new2_Correl_B1083_fam_shuff_split_36.pkl', '/home/brad/DailyLog/20200123/new2_Correl_B1083_fam_shuff_split_20.pkl', '/home/brad/DailyLog/20200123/new2_Correl_B1083_fam_shuff_split_19.pkl', '/home/brad/DailyLog/20200123/new2_Correl_B1083_fam_shuff_split_23.pkl', '/home/brad/DailyLog/20200123/new2_Correl_B1083_fam_shuff_split_37.pkl', '/home/brad/DailyLog/20200123/new2_Correl_B1083_fam_shuff_split_22.pkl', '/home/brad/DailyLog/20200123/new2_Correl_B1083_fam_shuff_split_18.pkl', '/home/brad/DailyLog/20200123/new2_Correl_B1083_fam_shuff_split_39.pkl', '/home/brad/DailyLog/20200123/new2_Correl_B1083_fam_shuff_split_4.pkl', '/home/brad/DailyLog/20200123/new2_Correl_B1083_fam_shuff_split_32.pkl', '/home/brad/DailyLog/20200123/new2_Correl_B1083_fam_shuff_split_30.pkl', '/home/brad/DailyLog/20200123/new2_Correl_B1083_fam_shuff_split_12.pkl', '/home/brad/DailyLog/20200123/new2_Correl_B1083_fam_shuff_split_27.pkl', '/home/brad/DailyLog/20200123/new2_Correl_B1083_fam_shuff_split_1.0.pkl', '/home/brad/DailyLog/20200123/new2_Correl_B1083_fam_shuff_split_38.pkl', '/home/brad/DailyLog/20200123/new2_Correl_B1083_fam_shuff_split_25.pkl', '/home/brad/DailyLog/20200123/new2_Correl_B1083_fam_shuff_split_16.pkl', '/home/brad/DailyLog/20200123/new2_Correl_B1083_fam_shuff_split_11.pkl', '/home/brad/DailyLog/20200123/new2_Correl_B1083_fam_shuff_split_8.pkl', '/home/brad/DailyLog/20200123/new2_Correl_B1083_fam_shuff_split_17.pkl', '/home/brad/DailyLog/20200123/new2_Correl_B1083_fam_shuff_split_6.pkl', '/home/brad/DailyLog/20200123/new2_Correl_B1083_fam_shuff_split_5.pkl', '/home/brad/DailyLog/20200123/new2_Correl_B1083_fam_shuff_split_33.pkl', '/home/brad/DailyLog/20200123/new2_Correl_B1083_fam_shuff_split_10.pkl', '/home/brad/DailyLog/20200123/new2_Correl_B1083_fam_shuff_split_28.pkl', '/home/brad/DailyLog/20200123/new2_Correl_B1083_fam_shuff_split_1.pkl', '/home/brad/DailyLog/20200123/new2_Correl_B1083_fam_shuff_split_2.pkl', '/home/brad/DailyLog/20200123/new2_Correl_B1083_fam_shuff_split_0.pkl', '/home/brad/DailyLog/20200123/new2_Correl_B1083_fam_shuff_split_31.pkl', '/home/brad/DailyLog/20200123/new2_Correl_B1083_fam_shuff_split_9.pkl', '/home/brad/DailyLog/20200123/new2_Correl_B1083_fam_shuff_split_29.pkl', '/home/brad/DailyLog/20200123/new2_Correl_B1083_fam_shuff_split_35.pkl', '/home/brad/DailyLog/20200123/new2_Correl_B1083_fam_shuff_split_34.pkl', '/home/brad/DailyLog/20200123/new2_Correl_B1083_fam_shuff_split_7.pkl', '/home/brad/DailyLog/20200123/new2_Correl_B1083_fam_shuff_split_21.pkl']\n",
      "(4800,)\n",
      "(4800,)\n"
     ]
    },
    {
     "name": "stderr",
     "output_type": "stream",
     "text": [
      "\n",
      " 50%|█████     | 1/2 [00:06<00:06,  6.23s/it]\u001b[A\n",
      "100%|██████████| 2/2 [00:12<00:00,  6.25s/it]\u001b[A\n",
      "1it [00:12, 12.51s/it]\n",
      "  0%|          | 0/2 [00:00<?, ?it/s]\u001b[A"
     ]
    },
    {
     "name": "stdout",
     "output_type": "stream",
     "text": [
      "(4800,)\n",
      "(4800,)\n"
     ]
    },
    {
     "name": "stderr",
     "output_type": "stream",
     "text": [
      "\n",
      " 50%|█████     | 1/2 [00:06<00:06,  6.14s/it]\u001b[A\n",
      "100%|██████████| 2/2 [00:12<00:00,  6.20s/it]\u001b[A\n",
      "2it [00:24, 12.46s/it]\n",
      "  0%|          | 0/2 [00:00<?, ?it/s]\u001b[A"
     ]
    },
    {
     "name": "stdout",
     "output_type": "stream",
     "text": [
      "(4800,)\n",
      "(4800,)\n"
     ]
    },
    {
     "name": "stderr",
     "output_type": "stream",
     "text": [
      "\n",
      " 50%|█████     | 1/2 [00:06<00:06,  6.20s/it]\u001b[A\n",
      "100%|██████████| 2/2 [00:12<00:00,  6.22s/it]\u001b[A\n",
      "3it [00:37, 12.46s/it]\n",
      "  0%|          | 0/2 [00:00<?, ?it/s]\u001b[A"
     ]
    },
    {
     "name": "stdout",
     "output_type": "stream",
     "text": [
      "(4800,)\n",
      "(4800,)\n"
     ]
    },
    {
     "name": "stderr",
     "output_type": "stream",
     "text": [
      "\n",
      " 50%|█████     | 1/2 [00:06<00:06,  6.16s/it]\u001b[A\n",
      "100%|██████████| 2/2 [00:12<00:00,  6.22s/it]\u001b[A\n",
      "4it [00:49, 12.45s/it]\n",
      "  0%|          | 0/2 [00:00<?, ?it/s]\u001b[A"
     ]
    },
    {
     "name": "stdout",
     "output_type": "stream",
     "text": [
      "(4800,)\n",
      "(4800,)\n"
     ]
    },
    {
     "name": "stderr",
     "output_type": "stream",
     "text": [
      "\n",
      " 50%|█████     | 1/2 [00:06<00:06,  6.15s/it]\u001b[A\n",
      "100%|██████████| 2/2 [00:12<00:00,  6.19s/it]\u001b[A\n",
      "5it [01:02, 12.44s/it]\n",
      "  0%|          | 0/2 [00:00<?, ?it/s]\u001b[A"
     ]
    },
    {
     "name": "stdout",
     "output_type": "stream",
     "text": [
      "(4800,)\n",
      "(4800,)\n"
     ]
    },
    {
     "name": "stderr",
     "output_type": "stream",
     "text": [
      "\n",
      " 50%|█████     | 1/2 [00:06<00:06,  6.17s/it]\u001b[A\n",
      "100%|██████████| 2/2 [00:12<00:00,  6.20s/it]\u001b[A\n",
      "6it [01:14, 12.44s/it]\n",
      "  0%|          | 0/2 [00:00<?, ?it/s]\u001b[A"
     ]
    },
    {
     "name": "stdout",
     "output_type": "stream",
     "text": [
      "(4800,)\n",
      "(4800,)\n"
     ]
    },
    {
     "name": "stderr",
     "output_type": "stream",
     "text": [
      "\n",
      " 50%|█████     | 1/2 [00:06<00:06,  6.21s/it]\u001b[A\n",
      "100%|██████████| 2/2 [00:12<00:00,  6.23s/it]\u001b[A\n",
      "7it [01:27, 12.44s/it]\n",
      "  0%|          | 0/2 [00:00<?, ?it/s]\u001b[A"
     ]
    },
    {
     "name": "stdout",
     "output_type": "stream",
     "text": [
      "(4800,)\n",
      "(4800,)\n"
     ]
    },
    {
     "name": "stderr",
     "output_type": "stream",
     "text": [
      "\n",
      " 50%|█████     | 1/2 [00:06<00:06,  6.22s/it]\u001b[A\n",
      "100%|██████████| 2/2 [00:12<00:00,  6.23s/it]\u001b[A\n",
      "8it [01:39, 12.44s/it]\n",
      "  0%|          | 0/2 [00:00<?, ?it/s]\u001b[A"
     ]
    },
    {
     "name": "stdout",
     "output_type": "stream",
     "text": [
      "(4800,)\n",
      "(4800,)\n"
     ]
    },
    {
     "name": "stderr",
     "output_type": "stream",
     "text": [
      "\n",
      " 50%|█████     | 1/2 [00:06<00:06,  6.16s/it]\u001b[A\n",
      "100%|██████████| 2/2 [00:12<00:00,  6.22s/it]\u001b[A\n",
      "9it [01:51, 12.44s/it]\n",
      "  0%|          | 0/2 [00:00<?, ?it/s]\u001b[A"
     ]
    },
    {
     "name": "stdout",
     "output_type": "stream",
     "text": [
      "(4800,)\n",
      "(4800,)\n"
     ]
    },
    {
     "name": "stderr",
     "output_type": "stream",
     "text": [
      "\n",
      " 50%|█████     | 1/2 [00:06<00:06,  6.14s/it]\u001b[A\n",
      "100%|██████████| 2/2 [00:12<00:00,  6.20s/it]\u001b[A\n",
      "10it [02:04, 12.44s/it]\n",
      "  0%|          | 0/2 [00:00<?, ?it/s]\u001b[A"
     ]
    },
    {
     "name": "stdout",
     "output_type": "stream",
     "text": [
      "(4800,)\n",
      "(4800,)\n"
     ]
    },
    {
     "name": "stderr",
     "output_type": "stream",
     "text": [
      "\n",
      " 50%|█████     | 1/2 [00:06<00:06,  6.25s/it]\u001b[A\n",
      "100%|██████████| 2/2 [00:12<00:00,  6.26s/it]\u001b[A\n",
      "11it [02:16, 12.45s/it]\n",
      "  0%|          | 0/2 [00:00<?, ?it/s]\u001b[A"
     ]
    },
    {
     "name": "stdout",
     "output_type": "stream",
     "text": [
      "(4800,)\n",
      "(4800,)\n"
     ]
    },
    {
     "name": "stderr",
     "output_type": "stream",
     "text": [
      "\n",
      " 50%|█████     | 1/2 [00:06<00:06,  6.16s/it]\u001b[A\n",
      "100%|██████████| 2/2 [00:12<00:00,  6.22s/it]\u001b[A\n",
      "12it [02:29, 12.45s/it]\n",
      "  0%|          | 0/2 [00:00<?, ?it/s]\u001b[A"
     ]
    },
    {
     "name": "stdout",
     "output_type": "stream",
     "text": [
      "(4800,)\n",
      "(4800,)\n"
     ]
    },
    {
     "name": "stderr",
     "output_type": "stream",
     "text": [
      "\n",
      " 50%|█████     | 1/2 [00:06<00:06,  6.15s/it]\u001b[A\n",
      "100%|██████████| 2/2 [00:12<00:00,  6.19s/it]\u001b[A\n",
      "13it [02:41, 12.44s/it]\n",
      "  0%|          | 0/2 [00:00<?, ?it/s]\u001b[A"
     ]
    },
    {
     "name": "stdout",
     "output_type": "stream",
     "text": [
      "(4800,)\n",
      "(4800,)\n"
     ]
    },
    {
     "name": "stderr",
     "output_type": "stream",
     "text": [
      "\n",
      " 50%|█████     | 1/2 [00:06<00:06,  6.20s/it]\u001b[A\n",
      "100%|██████████| 2/2 [00:12<00:00,  6.34s/it]\u001b[A\n",
      "14it [02:54, 12.46s/it]\n",
      "  0%|          | 0/2 [00:00<?, ?it/s]\u001b[A"
     ]
    },
    {
     "name": "stdout",
     "output_type": "stream",
     "text": [
      "(4800,)\n",
      "(4800,)\n"
     ]
    },
    {
     "name": "stderr",
     "output_type": "stream",
     "text": [
      "\n",
      " 50%|█████     | 1/2 [00:06<00:06,  6.22s/it]\u001b[A\n",
      "100%|██████████| 2/2 [00:12<00:00,  6.23s/it]\u001b[A\n",
      "15it [03:06, 12.46s/it]\n",
      "  0%|          | 0/2 [00:00<?, ?it/s]\u001b[A"
     ]
    },
    {
     "name": "stdout",
     "output_type": "stream",
     "text": [
      "(4800,)\n",
      "(4800,)\n"
     ]
    },
    {
     "name": "stderr",
     "output_type": "stream",
     "text": [
      "\n",
      " 50%|█████     | 1/2 [00:06<00:06,  6.13s/it]\u001b[A\n",
      "100%|██████████| 2/2 [00:12<00:00,  6.19s/it]\u001b[A\n",
      "16it [03:19, 12.46s/it]\n",
      "  0%|          | 0/2 [00:00<?, ?it/s]\u001b[A"
     ]
    },
    {
     "name": "stdout",
     "output_type": "stream",
     "text": [
      "(4800,)\n",
      "(4800,)\n"
     ]
    },
    {
     "name": "stderr",
     "output_type": "stream",
     "text": [
      "\n",
      " 50%|█████     | 1/2 [00:06<00:06,  6.18s/it]\u001b[A\n",
      "100%|██████████| 2/2 [00:12<00:00,  6.21s/it]\u001b[A\n",
      "17it [03:31, 12.46s/it]\n",
      "  0%|          | 0/2 [00:00<?, ?it/s]\u001b[A"
     ]
    },
    {
     "name": "stdout",
     "output_type": "stream",
     "text": [
      "(4800,)\n",
      "(4800,)\n"
     ]
    },
    {
     "name": "stderr",
     "output_type": "stream",
     "text": [
      "\n",
      " 50%|█████     | 1/2 [00:06<00:06,  6.17s/it]\u001b[A\n",
      "100%|██████████| 2/2 [00:12<00:00,  6.21s/it]\u001b[A\n",
      "18it [03:44, 12.45s/it]\n",
      "  0%|          | 0/2 [00:00<?, ?it/s]\u001b[A"
     ]
    },
    {
     "name": "stdout",
     "output_type": "stream",
     "text": [
      "(4800,)\n",
      "(4800,)\n"
     ]
    },
    {
     "name": "stderr",
     "output_type": "stream",
     "text": [
      "\n",
      " 50%|█████     | 1/2 [00:06<00:06,  6.14s/it]\u001b[A\n",
      "100%|██████████| 2/2 [00:12<00:00,  6.20s/it]\u001b[A\n",
      "19it [03:56, 12.45s/it]\n",
      "  0%|          | 0/2 [00:00<?, ?it/s]\u001b[A"
     ]
    },
    {
     "name": "stdout",
     "output_type": "stream",
     "text": [
      "(4800,)\n",
      "(4800,)\n"
     ]
    },
    {
     "name": "stderr",
     "output_type": "stream",
     "text": [
      "\n",
      " 50%|█████     | 1/2 [00:06<00:06,  6.16s/it]\u001b[A\n",
      "100%|██████████| 2/2 [00:12<00:00,  6.21s/it]\u001b[A\n",
      "20it [04:09, 12.45s/it]\n",
      "  0%|          | 0/2 [00:00<?, ?it/s]\u001b[A"
     ]
    },
    {
     "name": "stdout",
     "output_type": "stream",
     "text": [
      "(4800,)\n",
      "(4800,)\n"
     ]
    },
    {
     "name": "stderr",
     "output_type": "stream",
     "text": [
      "\n",
      " 50%|█████     | 1/2 [00:06<00:06,  6.18s/it]\u001b[A\n",
      "100%|██████████| 2/2 [00:12<00:00,  6.21s/it]\u001b[A\n",
      "21it [04:21, 12.45s/it]\n",
      "  0%|          | 0/2 [00:00<?, ?it/s]\u001b[A"
     ]
    },
    {
     "name": "stdout",
     "output_type": "stream",
     "text": [
      "(4800,)\n",
      "(4800,)\n"
     ]
    },
    {
     "name": "stderr",
     "output_type": "stream",
     "text": [
      "\n",
      " 50%|█████     | 1/2 [00:06<00:06,  6.14s/it]\u001b[A\n",
      "100%|██████████| 2/2 [00:12<00:00,  6.17s/it]\u001b[A\n",
      "22it [04:33, 12.44s/it]\n",
      "  0%|          | 0/2 [00:00<?, ?it/s]\u001b[A"
     ]
    },
    {
     "name": "stdout",
     "output_type": "stream",
     "text": [
      "(4800,)\n",
      "(4800,)\n"
     ]
    },
    {
     "name": "stderr",
     "output_type": "stream",
     "text": [
      "\n",
      " 50%|█████     | 1/2 [00:06<00:06,  6.14s/it]\u001b[A\n",
      "100%|██████████| 2/2 [00:12<00:00,  6.18s/it]\u001b[A\n",
      "23it [04:46, 12.44s/it]\n",
      "  0%|          | 0/2 [00:00<?, ?it/s]\u001b[A"
     ]
    },
    {
     "name": "stdout",
     "output_type": "stream",
     "text": [
      "(4800,)\n",
      "(4800,)\n"
     ]
    },
    {
     "name": "stderr",
     "output_type": "stream",
     "text": [
      "\n",
      " 50%|█████     | 1/2 [00:06<00:06,  6.16s/it]\u001b[A\n",
      "100%|██████████| 2/2 [00:12<00:00,  6.22s/it]\u001b[A\n",
      "24it [04:58, 12.44s/it]\n",
      "  0%|          | 0/2 [00:00<?, ?it/s]\u001b[A"
     ]
    },
    {
     "name": "stdout",
     "output_type": "stream",
     "text": [
      "(4800,)\n",
      "(4800,)\n"
     ]
    },
    {
     "name": "stderr",
     "output_type": "stream",
     "text": [
      "\n",
      " 50%|█████     | 1/2 [00:06<00:06,  6.16s/it]\u001b[A\n",
      "100%|██████████| 2/2 [00:12<00:00,  6.16s/it]\u001b[A\n",
      "25it [05:10, 12.44s/it]\n",
      "  0%|          | 0/2 [00:00<?, ?it/s]\u001b[A"
     ]
    },
    {
     "name": "stdout",
     "output_type": "stream",
     "text": [
      "(4800,)\n",
      "(4800,)\n"
     ]
    },
    {
     "name": "stderr",
     "output_type": "stream",
     "text": [
      "\n",
      " 50%|█████     | 1/2 [00:06<00:06,  6.18s/it]\u001b[A\n",
      "100%|██████████| 2/2 [00:12<00:00,  6.20s/it]\u001b[A\n",
      "26it [05:23, 12.44s/it]\n",
      "  0%|          | 0/2 [00:00<?, ?it/s]\u001b[A"
     ]
    },
    {
     "name": "stdout",
     "output_type": "stream",
     "text": [
      "(4800,)\n",
      "(4800,)\n"
     ]
    },
    {
     "name": "stderr",
     "output_type": "stream",
     "text": [
      "\n",
      " 50%|█████     | 1/2 [00:06<00:06,  6.29s/it]\u001b[A\n",
      "100%|██████████| 2/2 [00:12<00:00,  6.29s/it]\u001b[A\n",
      "27it [05:35, 12.44s/it]\n",
      "  0%|          | 0/2 [00:00<?, ?it/s]\u001b[A"
     ]
    },
    {
     "name": "stdout",
     "output_type": "stream",
     "text": [
      "(4800,)\n",
      "(4800,)\n"
     ]
    },
    {
     "name": "stderr",
     "output_type": "stream",
     "text": [
      "\n",
      " 50%|█████     | 1/2 [00:06<00:06,  6.23s/it]\u001b[A\n",
      "100%|██████████| 2/2 [00:12<00:00,  6.25s/it]\u001b[A\n",
      "28it [05:48, 12.44s/it]\n",
      "  0%|          | 0/2 [00:00<?, ?it/s]\u001b[A"
     ]
    },
    {
     "name": "stdout",
     "output_type": "stream",
     "text": [
      "(4800,)\n",
      "(4800,)\n"
     ]
    },
    {
     "name": "stderr",
     "output_type": "stream",
     "text": [
      "\n",
      " 50%|█████     | 1/2 [00:06<00:06,  6.16s/it]\u001b[A\n",
      "100%|██████████| 2/2 [00:12<00:00,  6.20s/it]\u001b[A\n",
      "29it [06:00, 12.44s/it]\n",
      "  0%|          | 0/2 [00:00<?, ?it/s]\u001b[A"
     ]
    },
    {
     "name": "stdout",
     "output_type": "stream",
     "text": [
      "(4800,)\n",
      "(4800,)\n"
     ]
    },
    {
     "name": "stderr",
     "output_type": "stream",
     "text": [
      "\n",
      " 50%|█████     | 1/2 [00:06<00:06,  6.15s/it]\u001b[A\n",
      "100%|██████████| 2/2 [00:12<00:00,  6.18s/it]\u001b[A\n",
      "30it [06:13, 12.44s/it]\n",
      "  0%|          | 0/2 [00:00<?, ?it/s]\u001b[A"
     ]
    },
    {
     "name": "stdout",
     "output_type": "stream",
     "text": [
      "(4800,)\n",
      "(4800,)\n"
     ]
    },
    {
     "name": "stderr",
     "output_type": "stream",
     "text": [
      "\n",
      " 50%|█████     | 1/2 [00:06<00:06,  6.16s/it]\u001b[A\n",
      "100%|██████████| 2/2 [00:12<00:00,  6.20s/it]\u001b[A\n",
      "31it [06:25, 12.44s/it]\n",
      "  0%|          | 0/2 [00:00<?, ?it/s]\u001b[A"
     ]
    },
    {
     "name": "stdout",
     "output_type": "stream",
     "text": [
      "(4800,)\n",
      "(4800,)\n"
     ]
    },
    {
     "name": "stderr",
     "output_type": "stream",
     "text": [
      "\n",
      " 50%|█████     | 1/2 [00:06<00:06,  6.26s/it]\u001b[A\n",
      "100%|██████████| 2/2 [00:12<00:00,  6.36s/it]\u001b[A\n",
      "32it [06:38, 12.45s/it]\n",
      "  0%|          | 0/2 [00:00<?, ?it/s]\u001b[A"
     ]
    },
    {
     "name": "stdout",
     "output_type": "stream",
     "text": [
      "(4800,)\n",
      "(4800,)\n"
     ]
    },
    {
     "name": "stderr",
     "output_type": "stream",
     "text": [
      "\n",
      " 50%|█████     | 1/2 [00:06<00:06,  6.23s/it]\u001b[A\n",
      "100%|██████████| 2/2 [00:12<00:00,  6.29s/it]\u001b[A\n",
      "33it [06:50, 12.45s/it]\n",
      "  0%|          | 0/2 [00:00<?, ?it/s]\u001b[A"
     ]
    },
    {
     "name": "stdout",
     "output_type": "stream",
     "text": [
      "(4800,)\n",
      "(4800,)\n"
     ]
    },
    {
     "name": "stderr",
     "output_type": "stream",
     "text": [
      "\n",
      " 50%|█████     | 1/2 [00:06<00:06,  6.50s/it]\u001b[A\n",
      "100%|██████████| 2/2 [00:12<00:00,  6.39s/it]\u001b[A\n",
      "34it [07:03, 12.46s/it]\n",
      "  0%|          | 0/2 [00:00<?, ?it/s]\u001b[A"
     ]
    },
    {
     "name": "stdout",
     "output_type": "stream",
     "text": [
      "(4800,)\n",
      "(4800,)\n"
     ]
    },
    {
     "name": "stderr",
     "output_type": "stream",
     "text": [
      "\n",
      " 50%|█████     | 1/2 [00:06<00:06,  6.44s/it]\u001b[A\n",
      "100%|██████████| 2/2 [00:12<00:00,  6.47s/it]\u001b[A\n",
      "35it [07:16, 12.48s/it]\n",
      "  0%|          | 0/2 [00:00<?, ?it/s]\u001b[A"
     ]
    },
    {
     "name": "stdout",
     "output_type": "stream",
     "text": [
      "(4800,)\n",
      "(4800,)\n"
     ]
    },
    {
     "name": "stderr",
     "output_type": "stream",
     "text": [
      "\n",
      " 50%|█████     | 1/2 [00:06<00:06,  6.39s/it]\u001b[A\n",
      "100%|██████████| 2/2 [00:12<00:00,  6.33s/it]\u001b[A\n",
      "36it [07:29, 12.48s/it]\n",
      "  0%|          | 0/2 [00:00<?, ?it/s]\u001b[A"
     ]
    },
    {
     "name": "stdout",
     "output_type": "stream",
     "text": [
      "(4800,)\n",
      "(4800,)\n"
     ]
    },
    {
     "name": "stderr",
     "output_type": "stream",
     "text": [
      "\n",
      " 50%|█████     | 1/2 [00:06<00:06,  6.19s/it]\u001b[A\n",
      "100%|██████████| 2/2 [00:12<00:00,  6.20s/it]\u001b[A\n",
      "37it [07:41, 12.48s/it]\n",
      "  0%|          | 0/2 [00:00<?, ?it/s]\u001b[A"
     ]
    },
    {
     "name": "stdout",
     "output_type": "stream",
     "text": [
      "(4800,)\n",
      "(4800,)\n"
     ]
    },
    {
     "name": "stderr",
     "output_type": "stream",
     "text": [
      "\n",
      " 50%|█████     | 1/2 [00:06<00:06,  6.16s/it]\u001b[A\n",
      "100%|██████████| 2/2 [00:12<00:00,  6.20s/it]\u001b[A\n",
      "38it [07:54, 12.48s/it]\n",
      "  0%|          | 0/2 [00:00<?, ?it/s]\u001b[A"
     ]
    },
    {
     "name": "stdout",
     "output_type": "stream",
     "text": [
      "(4800,)\n",
      "(4800,)\n"
     ]
    },
    {
     "name": "stderr",
     "output_type": "stream",
     "text": [
      "\n",
      " 50%|█████     | 1/2 [00:06<00:06,  6.15s/it]\u001b[A\n",
      "100%|██████████| 2/2 [00:12<00:00,  6.18s/it]\u001b[A\n",
      "39it [08:06, 12.48s/it]\n",
      "  0%|          | 0/2 [00:00<?, ?it/s]\u001b[A"
     ]
    },
    {
     "name": "stdout",
     "output_type": "stream",
     "text": [
      "(4800,)\n",
      "(4800,)\n"
     ]
    },
    {
     "name": "stderr",
     "output_type": "stream",
     "text": [
      "\n",
      " 50%|█████     | 1/2 [00:06<00:06,  6.13s/it]\u001b[A\n",
      "100%|██████████| 2/2 [00:12<00:00,  6.19s/it]\u001b[A\n",
      "40it [08:18, 12.47s/it]\n",
      "  0%|          | 0/2 [00:00<?, ?it/s]\u001b[A"
     ]
    },
    {
     "name": "stdout",
     "output_type": "stream",
     "text": [
      "(4800,)\n",
      "(4800,)\n"
     ]
    },
    {
     "name": "stderr",
     "output_type": "stream",
     "text": [
      "\n",
      " 50%|█████     | 1/2 [00:06<00:06,  6.19s/it]\u001b[A\n",
      "100%|██████████| 2/2 [00:12<00:00,  6.21s/it]\u001b[A\n",
      "41it [08:31, 12.47s/it]\n"
     ]
    }
   ],
   "source": [
    "# Now for correlation\n",
    "f_fam_orig_reps = glob.glob('/home/brad/DailyLog/20200123/new2_Correl_B1083_fam_orig_split_*.pkl')\n",
    "f_fam_shuff_reps = glob.glob('/home/brad/DailyLog/20200123/new2_Correl_B1083_fam_shuff_split_*.pkl')\n",
    "print(f_fam_orig_reps)\n",
    "print(f_fam_shuff_reps)\n",
    "from tqdm import tqdm\n",
    "scsv_reps = []\n",
    "scsv_shuff = []\n",
    "for f_fam_orig, f_fam_shuff in tqdm(zip(f_fam_orig_reps, f_fam_shuff_reps)):\n",
    "    \n",
    "\n",
    "    with open(f_fam_orig, 'rb') as f:\n",
    "        div = pickle.load(f)\n",
    "\n",
    "    with open(f_fam_shuff, 'rb') as f:\n",
    "        divs = pickle.load(f)\n",
    "\n",
    "\n",
    "\n",
    "    dataset = build_lmm_dataset(div)\n",
    "    dataset_s = build_lmm_dataset(divs)\n",
    "\n",
    "    csss = [dataset, dataset_s]\n",
    "    #csss = [dataset]\n",
    "\n",
    "    scsv = []\n",
    "    for ds in tqdm(csss):\n",
    "\n",
    "        N_tests = 240\n",
    "        train_pct = 0.8\n",
    "        test_pct = 1 - train_pct\n",
    "        targ = ds['cond'].values\n",
    "        feat = ds['JS'].values\n",
    "        scores = []\n",
    "        for test in range(N_tests):\n",
    "            ntarg = int(train_pct*len(targ))\n",
    "            perm = np.random.permutation(np.arange(len(targ)))\n",
    "            targ_train = targ[perm[0:ntarg]]\n",
    "            feat_train = feat[perm[0:ntarg]][:, np.newaxis]\n",
    "            targ_test = targ[perm[ntarg:]]\n",
    "            feat_test = feat[perm[ntarg:]][:, np.newaxis]\n",
    "            lr = LogisticRegression()\n",
    "            lr.fit(feat_train, targ_train)\n",
    "\n",
    "            scores.append(lr.score(feat_test, targ_test))\n",
    "        scsv.append(scores)\n",
    "    scsv_reps.append(scsv)\n",
    "\n"
   ]
  },
  {
   "cell_type": "code",
   "execution_count": 11,
   "metadata": {},
   "outputs": [
    {
     "ename": "TypeError",
     "evalue": "list indices must be integers or slices, not range",
     "output_type": "error",
     "traceback": [
      "\u001b[0;31m---------------------------------------------------------------------------\u001b[0m",
      "\u001b[0;31mTypeError\u001b[0m                                 Traceback (most recent call last)",
      "\u001b[0;32m<ipython-input-11-5c7e8c1e4995>\u001b[0m in \u001b[0;36m<module>\u001b[0;34m()\u001b[0m\n\u001b[1;32m      4\u001b[0m \u001b[0mcolors\u001b[0m \u001b[0;34m=\u001b[0m \u001b[0;34m[\u001b[0m\u001b[0;34m'#111111'\u001b[0m\u001b[0;34m,\u001b[0m \u001b[0;34m'#111111'\u001b[0m\u001b[0;34m]\u001b[0m\u001b[0;34m\u001b[0m\u001b[0m\n\u001b[1;32m      5\u001b[0m \u001b[0mmarker_style\u001b[0m \u001b[0;34m=\u001b[0m \u001b[0;34m[\u001b[0m\u001b[0;34m'o'\u001b[0m\u001b[0;34m,\u001b[0m \u001b[0;34m'x'\u001b[0m\u001b[0;34m]\u001b[0m\u001b[0;34m\u001b[0m\u001b[0m\n\u001b[0;32m----> 6\u001b[0;31m \u001b[0;34m(\u001b[0m\u001b[0mfig\u001b[0m\u001b[0;34m,\u001b[0m \u001b[0mpos\u001b[0m\u001b[0;34m)\u001b[0m \u001b[0;34m=\u001b[0m \u001b[0mgrouped_boxplot_with_scatter\u001b[0m\u001b[0;34m(\u001b[0m\u001b[0mtest\u001b[0m\u001b[0;34m,\u001b[0m \u001b[0morder\u001b[0m\u001b[0;34m=\u001b[0m\u001b[0mrange\u001b[0m\u001b[0;34m(\u001b[0m\u001b[0;36m2\u001b[0m\u001b[0;34m)\u001b[0m\u001b[0;34m,\u001b[0m \u001b[0mngroups\u001b[0m\u001b[0;34m=\u001b[0m\u001b[0;36m1\u001b[0m\u001b[0;34m,\u001b[0m \u001b[0mlabels\u001b[0m\u001b[0;34m=\u001b[0m\u001b[0;34m[\u001b[0m\u001b[0;34m'Pop. 1'\u001b[0m\u001b[0;34m]\u001b[0m\u001b[0;34m,\u001b[0m \u001b[0mcolors\u001b[0m\u001b[0;34m=\u001b[0m\u001b[0mcolors\u001b[0m\u001b[0;34m,\u001b[0m \u001b[0mscatter_style\u001b[0m\u001b[0;34m=\u001b[0m\u001b[0mmarker_style\u001b[0m\u001b[0;34m,\u001b[0m \u001b[0mfigsize\u001b[0m\u001b[0;34m=\u001b[0m\u001b[0;34m(\u001b[0m\u001b[0;36m5\u001b[0m\u001b[0;34m,\u001b[0m\u001b[0;36m8\u001b[0m\u001b[0;34m)\u001b[0m\u001b[0;34m,\u001b[0m \u001b[0mmarker_size\u001b[0m\u001b[0;34m=\u001b[0m\u001b[0;36m40\u001b[0m\u001b[0;34m)\u001b[0m\u001b[0;34m\u001b[0m\u001b[0m\n\u001b[0m\u001b[1;32m      7\u001b[0m \u001b[0;34m\u001b[0m\u001b[0m\n\u001b[1;32m      8\u001b[0m \u001b[0;34m\u001b[0m\u001b[0m\n",
      "\u001b[0;32m<ipython-input-2-5a31d59e0e3f>\u001b[0m in \u001b[0;36mgrouped_boxplot_with_scatter\u001b[0;34m(data, order, ngroups, group_spacing, fig_path, colors, alphas, labels, positions, scatter_style, marker_size, figsize)\u001b[0m\n\u001b[1;32m    115\u001b[0m     \u001b[0max\u001b[0m\u001b[0;34m.\u001b[0m\u001b[0mtick_params\u001b[0m\u001b[0;34m(\u001b[0m\u001b[0maxis\u001b[0m\u001b[0;34m=\u001b[0m\u001b[0;34m'both'\u001b[0m\u001b[0;34m,\u001b[0m \u001b[0mlabelsize\u001b[0m\u001b[0;34m=\u001b[0m\u001b[0;36m18\u001b[0m\u001b[0;34m)\u001b[0m\u001b[0;34m\u001b[0m\u001b[0m\n\u001b[1;32m    116\u001b[0m     \u001b[0;32mif\u001b[0m \u001b[0mcolors\u001b[0m \u001b[0;32mis\u001b[0m \u001b[0;32mnot\u001b[0m \u001b[0;32mNone\u001b[0m\u001b[0;34m:\u001b[0m\u001b[0;34m\u001b[0m\u001b[0m\n\u001b[0;32m--> 117\u001b[0;31m         \u001b[0;32mfor\u001b[0m \u001b[0mpatch\u001b[0m\u001b[0;34m,\u001b[0m \u001b[0mcolor\u001b[0m\u001b[0;34m,\u001b[0m \u001b[0malpha\u001b[0m \u001b[0;32min\u001b[0m \u001b[0mzip\u001b[0m\u001b[0;34m(\u001b[0m\u001b[0mscatter_plots\u001b[0m\u001b[0;34m,\u001b[0m \u001b[0mcolors\u001b[0m\u001b[0;34m[\u001b[0m\u001b[0morder\u001b[0m\u001b[0;34m]\u001b[0m\u001b[0;34m,\u001b[0m \u001b[0malphas\u001b[0m\u001b[0;34m[\u001b[0m\u001b[0morder\u001b[0m\u001b[0;34m]\u001b[0m\u001b[0;34m)\u001b[0m\u001b[0;34m:\u001b[0m\u001b[0;34m\u001b[0m\u001b[0m\n\u001b[0m\u001b[1;32m    118\u001b[0m                 \u001b[0mpatch\u001b[0m\u001b[0;34m.\u001b[0m\u001b[0mset_facecolor\u001b[0m\u001b[0;34m(\u001b[0m\u001b[0mcolor\u001b[0m\u001b[0;34m)\u001b[0m\u001b[0;34m\u001b[0m\u001b[0m\n\u001b[1;32m    119\u001b[0m                 \u001b[0;31m#patch.set_alpha(0.0)\u001b[0m\u001b[0;34m\u001b[0m\u001b[0;34m\u001b[0m\u001b[0m\n",
      "\u001b[0;31mTypeError\u001b[0m: list indices must be integers or slices, not range"
     ]
    },
    {
     "data": {
      "image/png": "[encoded data removed]",
      "text/plain": [
       "<matplotlib.figure.Figure at 0x7ff80d1c6b38>"
      ]
     },
     "metadata": {},
     "output_type": "display_data"
    }
   ],
   "source": [
    "f = lambda x: [np.mean(x[0]), np.mean(x[1])]\n",
    "test = np.transpose(list(map(f, scsv_reps)))\n",
    "\n",
    "colors = ['#111111', '#111111']\n",
    "marker_style = ['o', 'x']\n",
    "(fig, pos) = grouped_boxplot_with_scatter(test, order=range(2), ngroups=1, labels=['Pop. 1'], colors=colors, scatter_style=marker_style, figsize=(5,8), marker_size=40)\n",
    "\n",
    "\n",
    "significance_bar(pos[0],pos[1], 0.97 , '***',linewidth = 1,markersize = 8,boxpad  =0.01,fontsize = 26,color = 'k')\n",
    "significance_bar(pos[0], pos[2], 1.03, '***', linewidth = 1,markersize = 8,boxpad  =0.01,fontsize = 26,color = 'k')\n",
    "significance_bar(pos[2], pos[3], 0.97, '***', linewidth = 1,markersize = 8,boxpad  =0.01,fontsize = 26,color = 'k')\n",
    "\n",
    "significance_bar(pos[4],pos[5], 0.97 , '***',linewidth = 1,markersize = 8,boxpad  =0.01,fontsize = 26,color = 'k')\n",
    "significance_bar(pos[4], pos[6], 1.03, '***',  linewidth = 1,markersize = 8,boxpad  =0.01,fontsize = 26,color = 'k')\n",
    "significance_bar(pos[6], pos[7], 0.97, '***', linewidth = 1,markersize = 8,boxpad  =0.01,fontsize = 26,color = 'k')\n",
    "plt.ylim([0.30, 1.1])\n",
    "\n",
    "plt.savefig(os.path.join(figsavepth, 'B1083_Split_CorrDIVSTATS.pdf'.format(correlation_type)))"
   ]
  },
  {
   "cell_type": "code",
   "execution_count": 12,
   "metadata": {},
   "outputs": [
    {
     "name": "stdout",
     "output_type": "stream",
     "text": [
      "TEST: Pop1JS-Shuffle\n",
      "Ttest_indResult(statistic=5.534185047653182, pvalue=3.838314688195683e-07)\n"
     ]
    }
   ],
   "source": [
    "from scipy.stats import ttest_ind\n",
    "ttests =[(0,1)]\n",
    "ttest_names = ['Pop1JS-Shuffle']\n",
    "for t, n in zip(ttests, ttest_names):\n",
    "    res = ttest_ind(test[t[0]], test[t[1]])\n",
    "    print('TEST: {}'.format(n))\n",
    "    print(res)"
   ]
  },
  {
   "cell_type": "code",
   "execution_count": null,
   "metadata": {},
   "outputs": [],
   "source": []
  }
 ],
 "metadata": {
  "kernelspec": {
   "display_name": "Python 3",
   "language": "python",
   "name": "python3"
  },
  "language_info": {
   "codemirror_mode": {
    "name": "ipython",
    "version": 3
   },
   "file_extension": ".py",
   "mimetype": "text/x-python",
   "name": "python",
   "nbconvert_exporter": "python",
   "pygments_lexer": "ipython3",
   "version": "3.6.2"
  }
 },
 "nbformat": 4,
 "nbformat_minor": 2
}
