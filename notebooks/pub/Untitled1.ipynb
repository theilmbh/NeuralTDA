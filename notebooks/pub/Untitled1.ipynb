{
 "cells": [
  {
   "cell_type": "code",
   "execution_count": 1,
   "metadata": {},
   "outputs": [],
   "source": [
    "import numpy as np\n"
   ]
  },
  {
   "cell_type": "code",
   "execution_count": 3,
   "metadata": {},
   "outputs": [],
   "source": [
    "poptens = np.random.randn(101, 1600, 20)\n",
    "\n",
    "split_indices = np.random.permutation(poptens.shape[0])\n",
    "split_index = int(np.round(poptens.shape[0]/2.))\n",
    "poptens1_indices = split_indices[0:split_index]\n",
    "poptens2_indices = split_indices[split_index:]\n",
    "\n",
    "poptens1 = poptens[poptens1_indices, :, :]\n",
    "poptens2 = poptens[poptens2_indices, :, :]"
   ]
  },
  {
   "cell_type": "code",
   "execution_count": 4,
   "metadata": {},
   "outputs": [
    {
     "data": {
      "text/plain": [
       "(50, 1600, 20)"
      ]
     },
     "execution_count": 4,
     "metadata": {},
     "output_type": "execute_result"
    }
   ],
   "source": [
    "poptens1.shape"
   ]
  },
  {
   "cell_type": "code",
   "execution_count": 5,
   "metadata": {},
   "outputs": [
    {
     "data": {
      "text/plain": [
       "(51, 1600, 20)"
      ]
     },
     "execution_count": 5,
     "metadata": {},
     "output_type": "execute_result"
    }
   ],
   "source": [
    "poptens2.shape"
   ]
  },
  {
   "cell_type": "code",
   "execution_count": 6,
   "metadata": {},
   "outputs": [
    {
     "data": {
      "text/plain": [
       "array([ 35,  29,   5,  39,  74,  90,  30,  77,  98,  41,  99,  13,  82,\n",
       "        81,  12,  60,  16,  23,  95,   0,  42,  57,   2,  69,  87,  65,\n",
       "        24,  62,  31,  63,  47,  55,  97,  66,  15,  93,  36,  52,  26,\n",
       "        85,  59,  83,   3,   1,  92,  75,  78,   9,  37, 100,   4,  61,\n",
       "        89,   8,  96,  44,  94,  14,  53,  68,  17,  27,  86,  25,  76,\n",
       "        38,  49,  20,  50,  79,  45,   6,  32,  72,  73,  67,  33,  11,\n",
       "        84,  64,  91,  70,  54,  28,  19,  88,  22,  18,  58,  21,  48,\n",
       "        10,  71,  80,  40,  56,  46,  34,   7,  51,  43])"
      ]
     },
     "execution_count": 6,
     "metadata": {},
     "output_type": "execute_result"
    }
   ],
   "source": [
    "split_indices"
   ]
  },
  {
   "cell_type": "code",
   "execution_count": null,
   "metadata": {},
   "outputs": [],
   "source": []
  }
 ],
 "metadata": {
  "kernelspec": {
   "display_name": "Python 3",
   "language": "python",
   "name": "python3"
  },
  "language_info": {
   "codemirror_mode": {
    "name": "ipython",
    "version": 3
   },
   "file_extension": ".py",
   "mimetype": "text/x-python",
   "name": "python",
   "nbconvert_exporter": "python",
   "pygments_lexer": "ipython3",
   "version": "3.6.2"
  }
 },
 "nbformat": 4,
 "nbformat_minor": 2
}
