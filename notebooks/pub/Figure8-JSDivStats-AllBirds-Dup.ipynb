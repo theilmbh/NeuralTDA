{
 "cells": [
  {
   "cell_type": "code",
   "execution_count": 34,
   "metadata": {},
   "outputs": [
    {
     "name": "stdout",
     "output_type": "stream",
     "text": [
      "/home/brad/DailyLog/20191205/\n"
     ]
    }
   ],
   "source": [
    "import numpy as np\n",
    "import pickle\n",
    "import matplotlib.pyplot as plt\n",
    "import os\n",
    "import datetime\n",
    "import pandas as pd\n",
    "import glob\n",
    "from sklearn.linear_model import LogisticRegression\n",
    "%matplotlib inline\n",
    "\n",
    "daystr = datetime.datetime.now().strftime('%Y%m%d')\n",
    "figsavepth = '/home/brad/DailyLog/'+daystr+'/'\n",
    "print(figsavepth)\n",
    "plt.style.use('/home/brad/code/NeuralTDA/gentnerlab.mplstyle')"
   ]
  },
  {
   "cell_type": "code",
   "execution_count": 113,
   "metadata": {},
   "outputs": [
    {
     "name": "stdout",
     "output_type": "stream",
     "text": [
      "['/home/brad/tmpdata/B1056_familiar_original.pkl', '/home/brad/tmpdata/B1083-2_familiar_original.pkl', '/home/brad/tmpdata/B1083_familiar_original.pkl', '/home/brad/tmpdata/B1235_familiar_original.pkl']\n",
      "['/home/brad/DailyLog/20191205/covmtx_Correl_B1056_fam_orig.pkl', '/home/brad/DailyLog/20191205/covmtx_Correl_B1083-5_fam_orig.pkl', '/home/brad/DailyLog/20191205/covmtx_Correl_B1083_fam_orig.pkl', '/home/brad/DailyLog/20191205/covmtx_Correl_B1235_fam_orig.pkl']\n"
     ]
    }
   ],
   "source": [
    "\n",
    "correlation_type = 'covmtx'\n",
    "\n",
    "\n",
    "f_familiar_originals = sorted(glob.glob('/home/brad/tmpdata/*_familiar_original.pkl'))\n",
    "\n",
    "f_familiar_shuffleds = sorted(glob.glob('/home/brad/tmpdata/*_familiar_shuffled.pkl'))\n",
    "\n",
    "f_unfamiliar_originals = sorted(glob.glob('/home/brad/tmpdata/*_unfamiliar_original.pkl'))\n",
    "\n",
    "f_unfamiliar_shuffleds = sorted(glob.glob('/home/brad/tmpdata/*_unfamiliar_shuffled.pkl'))\n",
    "\n",
    "c_familiar_originals = sorted(glob.glob('/home/brad/DailyLog/20191205/{}_Correl_*_fam_orig.pkl'.format(correlation_type)))\n",
    "\n",
    "c_familiar_shuffleds = sorted(glob.glob('/home/brad/DailyLog/20191205/{}_Correl_*_fam_shuf.pkl'.format(correlation_type)))\n",
    "\n",
    "c_unfamiliar_originals = sorted(glob.glob('/home/brad/DailyLog/20191205/{}_Correl_*_unfam_orig.pkl'.format(correlation_type)))\n",
    "\n",
    "c_unfamiliar_shuffleds = sorted(glob.glob('/home/brad/DailyLog/20191205/{}_Correl_*_unfam_shuf.pkl'.format(correlation_type)))\n",
    "\n",
    "print(sorted(f_familiar_originals))\n",
    "print(sorted(c_familiar_originals))\n",
    "\n",
    "plot_titles = ('B1083 Population 1 Familiar', 'B1083 Population 2 Familiar',\n",
    "               'B1083 Population 1 Familiar Shuffled', 'B1083 Population 2 Familiar Shuffled',\n",
    "               'B1083 Population 1 Unfamiliar', 'B1083 Population 2 Unfamiliar',\n",
    "               'B1083 Population 1 Unfamiliar Shuffled', 'B1083 Population 2 Unfamiliar Shuffled')"
   ]
  },
  {
   "cell_type": "code",
   "execution_count": 114,
   "metadata": {},
   "outputs": [],
   "source": [
    "# cond: -1 = different, 1 = same class\n",
    "def build_lmm_dataset(div_matrix):\n",
    "    n, _ = np.shape(div_matrix)\n",
    "    h = int(n/4)\n",
    "    \n",
    "    LR_mask = np.zeros((n, n))\n",
    "    LR_mask[0:h, 3*h:n] = 1\n",
    "    LR_mask[h:2*h, 2*h:3*h] = 1\n",
    "    LR_inds = np.nonzero(LR_mask)\n",
    "    LR_data = div_matrix[LR_inds]\n",
    "    print(LR_data.shape)\n",
    "    LR_condition = len(LR_inds[0])*['different']\n",
    "\n",
    "    \n",
    "    LL_data = div_matrix[0:h, h:2*h].flatten()\n",
    "    LL_condition = len(LL_data)*['same']\n",
    "\n",
    "    \n",
    "    RR_data = div_matrix[2*h:3*h, 3*h:n].flatten()\n",
    "\n",
    "    RR_condition = len(RR_data)*['same']\n",
    "\n",
    "    \n",
    "    dat_cat = np.concatenate((LL_data, LR_data.flatten(), RR_data))\n",
    "\n",
    "    cond_cat = np.concatenate((LL_condition, LR_condition, RR_condition))\n",
    "    \n",
    "    df_out = pd.DataFrame(data={'JS': dat_cat,'cond': cond_cat})\n",
    "    return df_out\n",
    "\n",
    "\n",
    "def build_LRpredict_dataset(div_matrix):\n",
    "    n, _ = div_matrix.shape\n",
    "    print(n)\n",
    "    LR_classes = np.concatenate([int(n/2)*['L'], int(n/2)*['R']])\n",
    "    featmat = np.zeros((n, n-1))\n",
    "    for trial in range(n):\n",
    "        trialdat = div_matrix[trial, :]\n",
    "        trialdat = np.concatenate([trialdat[0:trial], trialdat[trial+1:]])\n",
    "        featmat[trial, :] = trialdat\n",
    "    return (LR_classes, featmat)\n",
    "    \n",
    "    \n",
    "def grouped_boxplot_with_scatter(data, order, ngroups=1, group_spacing=2, fig_path=None, colors=None, alphas=None, labels=None, positions=None, scatter_style=None, marker_size = 1, figsize=(5,4)):\n",
    "    ''' From Zeke \n",
    "        Plot grouped boxplots\n",
    "        data is in the form of a list of arrays, Ngroups*nboxes/group\n",
    "    \n",
    "    '''\n",
    "    #colors = np.array(['pink', 'lightblue', 'lightgreen', 'pink', 'lightblue', 'lightgreen'])\n",
    "    #alphas = np.array([0.25, 0.25, 0.25, 0.75, 0.75, 0.75])\n",
    "    #labels = np.array(['CON/BOS', 'CON/Mot-wise', 'CON/Pc-wise', 'BOS/BOS', 'BOS/Mot-wise', 'BOS/Pc-wise'])\n",
    "   \n",
    "    nboxes = len(data)\n",
    "    if alphas is None:\n",
    "        alphas = np.array(nboxes*[1.0])\n",
    "        \n",
    "    dat_plot = [data[i] for i in order]\n",
    "    \n",
    "    # compute positions\n",
    "    nboxes_per_group = int(int(len(data)) / int(ngroups))\n",
    "    positions = np.arange(nboxes_per_group) +1\n",
    "    for group in range(1, ngroups):\n",
    "        positions = np.concatenate([positions, np.arange(max(positions)+group_spacing, max(positions)+group_spacing+nboxes_per_group)])\n",
    "        \n",
    "    \n",
    "    box_plot_fig = plt.figure(figsize=figsize)\n",
    "    ax = box_plot_fig.add_subplot(111)\n",
    "    \n",
    "    medianprops = dict(color='black')\n",
    "    if positions is not None:\n",
    "        box_plot = ax.boxplot(dat_plot, 0, '', positions=positions, patch_artist=False, whis='range', widths=1,\n",
    "                              medianprops=medianprops)\n",
    "        xlim1 = max(positions)+1\n",
    "    else:\n",
    "        box_plot = ax.boxplot(dat_plot, 0, '', patch_artist=False, whis='range', widths=1, medianprops=medianprops)\n",
    "        xlim1 = max(order)+1\n",
    "\n",
    "        \n",
    "    # Do scatter\n",
    "    scatter_plots = []\n",
    "    \n",
    "    for i in order:\n",
    "        xs = np.array(len(data[i])*[positions[i]])+0.1*np.random.randn(len(data[i]))\n",
    "        if scatter_style is None:\n",
    "            scatter_plot = ax.scatter(xs, data[i], s=marker_size, alpha=1) \n",
    "        else:\n",
    "            scatter_plot = ax.scatter(xs, data[i], s=marker_size, alpha=1, marker=scatter_style[i])\n",
    "        scatter_plots.append(scatter_plot)\n",
    "        \n",
    "    # Compute group label positions\n",
    "    labelpos =[]\n",
    "    for group in range(ngroups):\n",
    "        pos = positions[group*(nboxes_per_group):group*(nboxes_per_group)+nboxes_per_group]\n",
    "        labelpos.append(np.mean(pos))\n",
    "    \n",
    "    plt.xticks(labelpos, labels, rotation=0)\n",
    "    plt.grid(False)\n",
    "    plt.ylim(0.0, 1)\n",
    "    plt.xlim(0.0, xlim1)\n",
    "    ax.tick_params(axis='both', labelsize=18)\n",
    "    if colors is not None:\n",
    "        for patch, color, alpha in zip(scatter_plots, colors[order], alphas[order]):\n",
    "                patch.set_facecolor(color)\n",
    "                #patch.set_alpha(0.0)\n",
    "    \n",
    "    #label_diff(1, 2, '**', dat_plot[0], dat_plot[1], ax)\n",
    "    #plt.savefig(fig_path)\n",
    "    return (box_plot_fig, positions)\n",
    "\n",
    "def label_diff(i,j,text,X,Y, ax):\n",
    "    x = (X[i]+X[j])/2.0\n",
    "    y = 1.01*max(max(Y[i]), max(Y[j]))\n",
    "    dx = abs(X[i]-X[j])\n",
    "    print(x, y, dx)\n",
    "    props = {'connectionstyle':'bar','arrowstyle':'-',\\\n",
    "                 'shrinkA':50,'shrinkB':50,'linewidth':1}\n",
    "    #props = {'connectionstyle':'bar','arrowstyle':'-','linewidth':1}\n",
    "    ax.annotate(text, xy=(X[i], y), zorder=10)\n",
    "    ax.annotate('', xy=(X[i],y), xytext=(X[j],y), arrowprops=props)\n",
    "    print(X[j], y)\n",
    "    \n",
    "from matplotlib.markers import TICKDOWN\n",
    "def significance_bar(start,end,height,displaystring, stringheightfactor=1.0075, linewidth = 1.2,markersize = 8,boxpad  =0.3,fontsize = 15,color = 'k'):\n",
    "    # draw a line with downticks at the ends\n",
    "    plt.plot([start,end],[height]*2,'-',color = color,lw=linewidth,marker = TICKDOWN,markeredgewidth=linewidth,markersize = markersize)\n",
    "    # draw the text with a bounding box covering up the line\n",
    "    plt.text(0.5*(start+end),stringheightfactor*height,displaystring,ha = 'center',va='center',size = fontsize)\n",
    "    #bbox=dict(facecolor='1.', edgecolor='none',boxstyle='Square,pad='+str(boxpad))\n"
   ]
  },
  {
   "cell_type": "code",
   "execution_count": 115,
   "metadata": {},
   "outputs": [],
   "source": [
    "div = []\n",
    "for z in f_familiar_originals:\n",
    "    with open(z, 'rb') as f:\n",
    "        div.append(pickle.load(f))\n",
    "    \n",
    "divs = []\n",
    "for z in f_familiar_shuffleds:\n",
    "    with open(z, 'rb') as f:\n",
    "        divs.append(pickle.load(f))\n",
    "        \n",
    "cor = []\n",
    "for z in c_familiar_originals:\n",
    "    with open(z, 'rb') as f:\n",
    "        cor.append(pickle.load(f))\n",
    "cors = []\n",
    "for z in c_unfamiliar_shuffleds:\n",
    "    with open(z, 'rb') as f:\n",
    "        cors.append(pickle.load(f))\n",
    "        \n",
    "\n",
    "        "
   ]
  },
  {
   "cell_type": "code",
   "execution_count": 116,
   "metadata": {},
   "outputs": [
    {
     "name": "stdout",
     "output_type": "stream",
     "text": [
      "(800,)\n",
      "(800,)\n",
      "(800,)\n",
      "(800,)\n",
      "(800,)\n",
      "(800,)\n",
      "(800,)\n",
      "(800,)\n",
      "(800,)\n",
      "(800,)\n",
      "(800,)\n",
      "(800,)\n",
      "(800,)\n",
      "(800,)\n",
      "(800,)\n",
      "(800,)\n"
     ]
    }
   ],
   "source": [
    "dataset = []\n",
    "for d in div:\n",
    "    dataset.append(build_lmm_dataset(d))\n",
    "    \n",
    "dataset_s = []\n",
    "for d in divs:\n",
    "    dataset_s.append(build_lmm_dataset(d))\n",
    "    \n",
    "cataset = []\n",
    "for c in cor:\n",
    "    cataset.append(build_lmm_dataset(c))\n",
    "    \n",
    "cataset_s = []\n",
    "for cs in cors:\n",
    "    cataset_s.append(build_lmm_dataset(cs))"
   ]
  },
  {
   "cell_type": "code",
   "execution_count": 117,
   "metadata": {},
   "outputs": [],
   "source": [
    "comps = list(zip(dataset, dataset_s, cataset, cataset_s))\n"
   ]
  },
  {
   "cell_type": "code",
   "execution_count": 118,
   "metadata": {},
   "outputs": [],
   "source": [
    "\n",
    "scsv = []\n",
    "for comp in comps:\n",
    "    comp_scsv = []\n",
    "    for ds in comp:\n",
    "\n",
    "        N_tests = 240\n",
    "        train_pct = 0.8\n",
    "        test_pct = 1 - train_pct\n",
    "        targ = ds['cond'].values\n",
    "        feat = ds['JS'].values\n",
    "        scores = []\n",
    "        for test in range(N_tests):\n",
    "            ntarg = int(train_pct*len(targ))\n",
    "            perm = np.random.permutation(np.arange(len(targ)))\n",
    "            targ_train = targ[perm[0:ntarg]]\n",
    "            feat_train = feat[perm[0:ntarg]][:, np.newaxis]\n",
    "            targ_test = targ[perm[ntarg:]]\n",
    "            feat_test = feat[perm[ntarg:]][:, np.newaxis]\n",
    "            lr = LogisticRegression()\n",
    "            lr.fit(feat_train, targ_train)\n",
    "\n",
    "            scores.append(lr.score(feat_test, targ_test))\n",
    "        comp_scsv.append(scores)\n",
    "    scsv.append(comp_scsv)"
   ]
  },
  {
   "cell_type": "code",
   "execution_count": 119,
   "metadata": {},
   "outputs": [
    {
     "data": {
      "image/png": "[encoded data removed]",
      "text/plain": [
       "<matplotlib.figure.Figure at 0x7fae3cf25438>"
      ]
     },
     "metadata": {},
     "output_type": "display_data"
    }
   ],
   "source": [
    "colors = np.tile([\"#4878CF\", \"#6ACC65\", \"#D65F5F\",\"#B47CC7\"], 4)\n",
    "colors = np.tile(['#111111', '#111111', 'gray', 'gray'], 4)\n",
    "marker_style = np.tile(['o', 'x', 'o', 'x'], 4)\n",
    "scsv = sum(scsv, [])\n",
    "(fig, pos) = grouped_boxplot_with_scatter(scsv, order=range(4*4), ngroups=4, labels=['B1056', 'B1083-2', 'B1083', 'B1235'], colors=colors, scatter_style=marker_style, figsize=(10,8), marker_size=40)\n",
    "\n",
    "\n",
    "# significance_bar(pos[0],pos[1], 0.97 , '***',linewidth = 1,markersize = 8,boxpad  =0.01,fontsize = 26,color = 'k')\n",
    "# significance_bar(pos[0], pos[2], 1.03, '***', linewidth = 1,markersize = 8,boxpad  =0.01,fontsize = 26,color = 'k')\n",
    "# significance_bar(pos[2], pos[3], 0.97, '***', linewidth = 1,markersize = 8,boxpad  =0.01,fontsize = 26,color = 'k')\n",
    "\n",
    "# significance_bar(pos[4],pos[5], 0.97 , '***',linewidth = 1,markersize = 8,boxpad  =0.01,fontsize = 26,color = 'k')\n",
    "# significance_bar(pos[4], pos[6], 1.03, '***',  linewidth = 1,markersize = 8,boxpad  =0.01,fontsize = 26,color = 'k')\n",
    "# significance_bar(pos[6], pos[7], 0.97, '***', linewidth = 1,markersize = 8,boxpad  =0.01,fontsize = 26,color = 'k')\n",
    "# plt.ylim([0.30, 1.1])\n",
    "\n",
    "plt.savefig(os.path.join(figsavepth, 'JSDIVSTATSALL_dup_{}.pdf'.format(correlation_type)))"
   ]
  },
  {
   "cell_type": "code",
   "execution_count": 120,
   "metadata": {},
   "outputs": [
    {
     "name": "stdout",
     "output_type": "stream",
     "text": [
      "TEST: 0\n",
      "Ttest_indResult(statistic=7.064887432359796, pvalue=5.71266744186471e-12)\n",
      "TEST: 1\n",
      "Ttest_indResult(statistic=89.57006022407339, pvalue=6.560547454757592e-301)\n",
      "TEST: 2\n",
      "Ttest_indResult(statistic=97.76836515668073, pvalue=3.767606e-318)\n",
      "TEST: 3\n",
      "Ttest_indResult(statistic=6.880945158439452, pvalue=1.8724339602149327e-11)\n"
     ]
    }
   ],
   "source": [
    "from scipy.stats import ttest_ind\n",
    "ttests =[(0,2), (4,6), (8,10), (12, 14)]\n",
    "ttest_names = ['Pop1JS-Shuffle', 'Pop1JS-Pop1Corr', 'Pop1Corr-Shuffle', 'Pop2JS-Shuffle', 'Pop2JS-Pop2Corr', 'Pop2Corr-Shuffle']\n",
    "ttest_names = ['B']\n",
    "ttest_names = range(12)\n",
    "for t, n in zip(ttests, ttest_names):\n",
    "    res = ttest_ind(scsv[t[0]], scsv[t[1]])\n",
    "    print('TEST: {}'.format(n))\n",
    "    print(res)"
   ]
  },
  {
   "cell_type": "markdown",
   "metadata": {},
   "source": []
  },
  {
   "cell_type": "code",
   "execution_count": 85,
   "metadata": {},
   "outputs": [
    {
     "name": "stdout",
     "output_type": "stream",
     "text": [
      "TEST: 0\n",
      "Ttest_indResult(statistic=11.473808294552303, pvalue=4.3742948318999306e-27)\n",
      "TEST: 1\n",
      "Ttest_indResult(statistic=6.281845521476538, pvalue=7.531907005342552e-10)\n",
      "TEST: 2\n",
      "Ttest_indResult(statistic=3.526925372398028, pvalue=0.00046096708715621324)\n",
      "TEST: 3\n",
      "Ttest_indResult(statistic=103.35410349243809, pvalue=0.0)\n",
      "TEST: 4\n",
      "Ttest_indResult(statistic=34.89768847900457, pvalue=1.5606069837534374e-133)\n",
      "TEST: 5\n",
      "Ttest_indResult(statistic=46.792963615637696, pvalue=1.3990069972399369e-180)\n",
      "TEST: 6\n",
      "Ttest_indResult(statistic=125.5825656074468, pvalue=0.0)\n",
      "TEST: 7\n",
      "Ttest_indResult(statistic=97.8410889082578, pvalue=2.685583e-318)\n",
      "TEST: 8\n",
      "Ttest_indResult(statistic=10.376667353401459, pvalue=6.90431756812474e-23)\n",
      "TEST: 9\n",
      "Ttest_indResult(statistic=-9.510325724329991, pvalue=9.310693926598152e-20)\n",
      "TEST: 10\n",
      "Ttest_indResult(statistic=11.539457609299033, pvalue=2.4104490284960358e-27)\n",
      "TEST: 11\n",
      "Ttest_indResult(statistic=-8.474671975338188, pvalue=2.942435362273028e-16)\n"
     ]
    }
   ],
   "source": [
    "from scipy.stats import ttest_ind\n",
    "ttests =[(0,1), (0,2), (2,3), (4,5), (4, 6), (6, 7), (8,9), (8,10), (10, 11), (12, 13), (12, 14), (14, 15)]\n",
    "ttest_names = ['Pop1JS-Shuffle', 'Pop1JS-Pop1Corr', 'Pop1Corr-Shuffle', 'Pop2JS-Shuffle', 'Pop2JS-Pop2Corr', 'Pop2Corr-Shuffle']\n",
    "ttest_names = ['B']\n",
    "ttest_names = range(12)\n",
    "for t, n in zip(ttests, ttest_names):\n",
    "    res = ttest_ind(scsv[t[0]], scsv[t[1]])\n",
    "    print('TEST: {}'.format(n))\n",
    "    print(res)\n"
   ]
  },
  {
   "cell_type": "code",
   "execution_count": null,
   "metadata": {},
   "outputs": [],
   "source": [
    "from scipy.stats import ttest_ind\n",
    "ttests =[(0,1), (0,2), (2,3) ]\n",
    "scsv_test = scsv[12:]\n",
    "ttest_names = ['Pop1JS-Shuffle', 'Pop1JS-Pop1Corr', 'Pop1Corr-Shuffle']\n",
    "for t, n in zip(ttests, ttest_names):\n",
    "    res = ttest_ind(scsv_test[t[0]], scsv_test[t[1]])\n",
    "    print('TEST: {}'.format(n))\n",
    "    print(res)\n"
   ]
  },
  {
   "cell_type": "code",
   "execution_count": null,
   "metadata": {},
   "outputs": [],
   "source": [
    "lr.get_params()"
   ]
  },
  {
   "cell_type": "code",
   "execution_count": null,
   "metadata": {},
   "outputs": [],
   "source": [
    "test = build_LRpredict_dataset(div2+div2.T)\n",
    "tests = build_LRpredict_dataset(divs2+divs2.T)"
   ]
  },
  {
   "cell_type": "code",
   "execution_count": null,
   "metadata": {},
   "outputs": [],
   "source": [
    "N_tests = 120\n",
    "train_pct = 0.8\n",
    "test_pct = 1 - train_pct\n",
    "targ = test[0]\n",
    "feat = test[1]\n",
    "targs = tests[0]\n",
    "feats = tests[1]\n",
    "scores = []\n",
    "scores_s = []\n",
    "for test in range(N_tests):\n",
    "    ntarg = int(train_pct*len(targ))\n",
    "    perm = np.random.permutation(np.arange(len(targ)))\n",
    "    targ_train = targ[perm[0:ntarg]]\n",
    "    feat_train = feat[perm[0:ntarg],:]\n",
    "    targ_test = targ[perm[ntarg:]]\n",
    "    feat_test = feat[perm[ntarg:], :]\n",
    "    lr = LogisticRegression()\n",
    "    lr.fit(feat_train, targ_train)\n",
    "    \n",
    "    perms = np.random.permutation(np.arange(len(targ)))\n",
    "    targs_train = targs[perms[0:ntarg]]\n",
    "    feats_train = feats[perms[0:ntarg],:]\n",
    "    targs_test = targs[perms[ntarg:]]\n",
    "    feats_test = feats[perms[ntarg:], :]\n",
    "    lrs = LogisticRegression()\n",
    "    lrs.fit(feat_train, targ_train)\n",
    "    \n",
    "    scores.append(lr.score(feat_test, targ_test))\n",
    "    scores_s.append(lrs.score(feats_test, targs_test))"
   ]
  },
  {
   "cell_type": "code",
   "execution_count": null,
   "metadata": {},
   "outputs": [],
   "source": [
    "plt.boxplot([scores, scores_s])"
   ]
  },
  {
   "cell_type": "code",
   "execution_count": null,
   "metadata": {},
   "outputs": [],
   "source": [
    "scores"
   ]
  },
  {
   "cell_type": "code",
   "execution_count": null,
   "metadata": {},
   "outputs": [],
   "source": [
    "scores_s"
   ]
  },
  {
   "cell_type": "code",
   "execution_count": 87,
   "metadata": {},
   "outputs": [
    {
     "ename": "TypeError",
     "evalue": "list indices must be integers or slices, not tuple",
     "output_type": "error",
     "traceback": [
      "\u001b[0;31m---------------------------------------------------------------------------\u001b[0m",
      "\u001b[0;31mTypeError\u001b[0m                                 Traceback (most recent call last)",
      "\u001b[0;32m<ipython-input-87-c47a32497ced>\u001b[0m in \u001b[0;36m<module>\u001b[0;34m()\u001b[0m\n\u001b[0;32m----> 1\u001b[0;31m \u001b[0mscsv\u001b[0m\u001b[0;34m[\u001b[0m\u001b[0;36m1\u001b[0m\u001b[0;34m,\u001b[0m\u001b[0;36m2\u001b[0m\u001b[0;34m,\u001b[0m \u001b[0;36m3\u001b[0m\u001b[0;34m,\u001b[0m \u001b[0;36m0\u001b[0m\u001b[0;34m]\u001b[0m\u001b[0;34m\u001b[0m\u001b[0m\n\u001b[0m",
      "\u001b[0;31mTypeError\u001b[0m: list indices must be integers or slices, not tuple"
     ]
    }
   ],
   "source": []
  },
  {
   "cell_type": "code",
   "execution_count": null,
   "metadata": {},
   "outputs": [],
   "source": []
  }
 ],
 "metadata": {
  "kernelspec": {
   "display_name": "Python 3",
   "language": "python",
   "name": "python3"
  },
  "language_info": {
   "codemirror_mode": {
    "name": "ipython",
    "version": 3
   },
   "file_extension": ".py",
   "mimetype": "text/x-python",
   "name": "python",
   "nbconvert_exporter": "python",
   "pygments_lexer": "ipython3",
   "version": "3.6.2"
  }
 },
 "nbformat": 4,
 "nbformat_minor": 2
}
