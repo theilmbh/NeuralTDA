{
 "cells": [
  {
   "cell_type": "code",
   "execution_count": null,
   "metadata": {},
   "outputs": [],
   "source": [
    "import numpy as np\n",
    "import scipy as sp\n",
    "from importlib import reload\n",
    "import neuraltda.topology2 as tp2\n",
    "import glob\n",
    "import os\n",
    "import pickle\n",
    "import matplotlib.pyplot as plt\n",
    "import h5py as h5\n",
    "%matplotlib inline\n",
    "\n",
    "import seaborn as sns\n",
    "import pandas as pd\n",
    "from neuraltda import TPLCP\n",
    "from neuraltda import FRLCP\n",
    "reload(TPLCP)\n",
    "\n",
    "import datetime\n",
    "daystr = datetime.datetime.now().strftime('%Y%m%d')\n",
    "figsavepth = '/home/brad/DailyLog/'+daystr+'/'\n",
    "print(figsavepth)"
   ]
  },
  {
   "cell_type": "code",
   "execution_count": null,
   "metadata": {},
   "outputs": [],
   "source": [
    "birds = ['B1083','B1056','B1235', 'B1075']\n",
    "\n",
    "# Block Paths for each bird\n",
    "bps = {'B1083': '/home/brad/krista/B1083/P03S03/', 'B1075': '/home/brad/krista/B1075/P01S03/',\n",
    "       'B1235': '/home/brad/krista/B1235/P02S01/', 'B1056': '/home/brad/krista/B1056/klusta/phy020516/Pen01_Lft_AP100_ML1300__Site03_Z2500__B1056_cat_P01_S03_1/'}\n",
    "\n",
    "# Ground Truth Stimuli classes\n",
    "B1083_classes = {'M_40k': 'R', 'N_40k':'L', 'O_40k':'R', 'P_40k':'L'}\n",
    "B1075_classes = {'E_40k': 'R', 'F_40k':'L', 'G_40k':'R', 'H_40k':'L'}\n",
    "B1087_classes = {'M_40k': 'R', 'N_40k':'L', 'O_40k':'R', 'P_40k':'L'}\n",
    "B1235_classes = {'E_scaled_burung': 'R', 'F_scaled_burung':'L', 'G_scaled_burung':'R', 'H_scaled_burung':'L'}\n",
    "B1056_classes = {'A_scaled_burung': 'R', 'B_scaled_burung':'L', 'C_scaled_burung':'R', 'D_scaled_burung':'L'}\n",
    "\n",
    "# Familiar stims for each bird\n",
    "B1083_stims = ['M_40k', 'N_40k', 'O_40k', 'P_40k']\n",
    "B1075_stims = ['E_40k', 'F_40k', 'G_40k', 'H_40k']\n",
    "B1235_stims = ['E_scaled_burung', 'F_scaled_burung', 'G_scaled_burung', 'H_scaled_burung']\n",
    "B1056_stims = ['A_scaled_burung', 'B_scaled_burung', 'C_scaled_burung', 'D_scaled_burung']\n",
    "\n",
    "# Bird Dictionaries\n",
    "stim_classes = {'B1083': B1083_classes, 'B1075': B1075_classes,\n",
    "                'B1235': B1235_classes, 'B1056': B1056_classes}\n",
    "bird_stims = {'B1083': B1083_stims, 'B1075': B1075_stims,\n",
    "              'B1235': B1235_stims, 'B1056': B1056_stims}"
   ]
  },
  {
   "cell_type": "code",
   "execution_count": null,
   "metadata": {},
   "outputs": [],
   "source": [
    "# Bin the data\n",
    "# Binning Parameters\n",
    "winsize = 10.0                # Window size, 10.0 ms is standard for what I've done so far\n",
    "dtovr = winsize*0.5           # Overlap. I always set to 50% window size\n",
    "comment = 'ForLogisticPrediction'   # Logistic Prediction\n",
    "segment_info = [0,0]          # Look only when stimulus is playing\n",
    "\n",
    "# Bin the data from each bird\n",
    "bdfs = []\n",
    "for bird in birds:\n",
    "    block_path = bps[bird]\n",
    "    bfdict = tp2.dag_bin(block_path, winsize, segment_info, cluster_group=['Good'], dt_overlap=dtovr, comment=comment)\n",
    "    bdf = glob.glob(os.path.join(bfdict['raw'], '*.binned'))[0]\n",
    "    print(bdf)\n",
    "    bdfs.append([bird, bdf])"
   ]
  },
  {
   "cell_type": "code",
   "execution_count": null,
   "metadata": {},
   "outputs": [],
   "source": [
    "# Set parameters for logistic prediction analysis\n",
    "# Betti and Logistic Parameters\n",
    "reload(tp2)\n",
    "analysis_id = 'LogisticPredictionBetti'\n",
    "thresh = 4.0                               # Threshold\n",
    "nperms = 20                                # 20 permutations of...\n",
    "ncellsperm = 30                            # 30 cells each\n",
    "dims = [0,1,2,3,4]                         # Compute the first five betti numbers\n",
    "Ntimes = 10                                # 10 time points equally spaced.  This makes a 50 dimensional feature vector (5 bettis * 10 time points)\n",
    "twin = np.linspace(0, 6000, Ntimes)        # Setup time vector\n",
    "p_test = 0.2                               # Train on 80% of data, test on 20%\n",
    "N_tests = 60                               # Do sixty independent regressions"
   ]
  },
  {
   "cell_type": "code",
   "execution_count": null,
   "metadata": {},
   "outputs": [],
   "source": [
    "# Behavioral class decoder accuracy:  Real vs shuffled. \n",
    "name = 'BehavioralClass'\n",
    "acframe_behavioralclass = pd.DataFrame(columns=['Bird', 'Accuracy', 'Shuffle'])\n",
    "for b in bdfs:\n",
    "    bird = b[0]\n",
    "    bdf = b[1]\n",
    "    stimc = stim_classes[bird]\n",
    "    stims = bird_stims[bird]\n",
    "    (bcAll, t, t_ms) = tp2.compute_betti_curves(analysis_id, block_path, bdf, thresh, nperms, ncellsperm, dims, twin, winsize, dtovr)\n",
    " \n",
    "    accuracies = TPLCP.predict_stimuli_classes(bcAll, Ntimes, stims, stimc, p_test, N_tests)\n",
    "    accuracies_shuff = TPLCP.predict_stimuli_classes(bcAll, Ntimes, stims, stimc, p_test, N_tests, shuff_Y=True)\n",
    "    acframeapp = pd.DataFrame({'Bird': N_tests*[bird], 'Accuracy': accuracies, 'Shuffle': N_tests*['No'] })\n",
    "    acframeapps = pd.DataFrame({'Bird': N_tests*[bird], 'Accuracy': accuracies_shuff, 'Shuffle': N_tests*['Yes'] })\n",
    "    acframe_behavioralclass = acframe_behavioralclass.append(acframeapp)\n",
    "    acframe_behavioralclass = acframe_behavioralclass.append(acframeapps)   "
   ]
  },
  {
   "cell_type": "code",
   "execution_count": null,
   "metadata": {},
   "outputs": [],
   "source": [
    "# Save the output \n",
    "with open(os.path.join(figsavepth, 'acframe_behavioralclass.pkl'), 'wb') as f:\n",
    "    pickle.dump(acframe_behavioralclass, f)"
   ]
  },
  {
   "cell_type": "code",
   "execution_count": null,
   "metadata": {},
   "outputs": [],
   "source": [
    "# Stimulus ID decoder Accuracy\n",
    "name = 'PredictStimulusID'\n",
    "acframe_stimulusID = pd.DataFrame(columns=['Bird', 'Accuracy', 'Shuffle'])\n",
    "for b in bdfs:\n",
    "    bird = b[0]\n",
    "    bdf = b[1]\n",
    "    print(bird)\n",
    "    (bcAll, t, t_ms) =tp2.compute_betti_curves(analysis_id, block_path, bdf, thresh, nperms, ncellsperm, dims, twin, winsize, dtovr)\n",
    "    print('Completed Betti Computation...')\n",
    "\n",
    "    stims = list(bcAll.keys())[0:8]\n",
    "    stimc = {x: x for x in stims}\n",
    "    accuracies = TPLCP.predict_stimuli_classes(bcAll, Ntimes, stims, stimc, p_test, N_tests)\n",
    "    accuracies_shuff = TPLCP.predict_stimuli_classes(bcAll, Ntimes, stims, stimc, p_test, N_tests, shuff_Y=True)\n",
    "    acframeapp = pd.DataFrame({'Bird': N_tests*[bird], 'Accuracy': accuracies, 'Shuffle': N_tests*['No'] })\n",
    "    acframeapps = pd.DataFrame({'Bird': N_tests*[bird], 'Accuracy': accuracies_shuff, 'Shuffle': N_tests*['Yes'] })\n",
    "    acframe_stimulusID = acframe_stimulusID.append(acframeapp)\n",
    "    acframe_stimulusID = acframe_stimulusID.append(acframeapps)"
   ]
  },
  {
   "cell_type": "code",
   "execution_count": null,
   "metadata": {},
   "outputs": [],
   "source": [
    "with open(os.path.join(figsavepth, 'acframe_stimulusID_8stims.pkl'), 'wb') as f:\n",
    "    pickle.dump(acframe_stimulusID, f)"
   ]
  },
  {
   "cell_type": "code",
   "execution_count": null,
   "metadata": {},
   "outputs": [],
   "source": [
    "ame = 'PredictArbitraryUnfamiliar'\n",
    "acframe_arbunf = pd.DataFrame(columns=['Bird', 'Accuracy', 'Shuffle'])\n",
    "for b in bdfs:\n",
    "    bird = b[0]\n",
    "    bdf = b[1]\n",
    "    print(bird)\n",
    "    #stimc = stim_classes[bird]\n",
    "    stims = bird_unf_stims[bird]\n",
    "    (bcAll, t, t_ms) =tp2.compute_betti_curves(analysis_id, block_path, bdf, thresh, nperms, ncellsperm, dims, twin, winsize, dtovr)\n",
    "    print('Completed Betti Computation...')\n",
    "\n",
    "    #bc2s, ts, ts_ms) = tp2.compute_betti_curves(analysis_id, block_path, bdf, thresh, nperms, ncellsperm, 2, twin, winsize, dtovr, shuffle=True)\n",
    "    #bc1s, ts, ts_ms) = tp2.compute_betti_curves(analysis_id, block_path, bdf, thresh, nperms, ncellsperm, 1, twin, winsize, dtovr, shuffle=True)\n",
    "    #bc0s, ts, ts_ms) = tp2.compute_betti_curves(analysis_id, block_path, bdf, thresh, nperms, ncellsperm, 0, twin, winsize, dtovr, shuffle=True)\n",
    "    #bc3s, ts, ts_ms) = tp2.compute_betti_curves(analysis_id, block_path, bdf, thresh, nperms, ncellsperm, 3, twin, winsize, dtovr, shuffle=True)\n",
    "    \n",
    "    \n",
    "    #stims = bcAll.keys()\n",
    "    \n",
    "    accuracies = TPLCP.predict_arbitrary_classes(bcAll, stims, stimclab, p_test, N_tests)\n",
    "    accuracies_shuff = TPLCP.predict_arbitrary_classes(bcAll, stims, stimclab, p_test, N_tests, shuff_Y=True)\n",
    "    acframeapp = pd.DataFrame({'Bird': N_tests*[bird], 'Accuracy': accuracies, 'Shuffle': N_tests*['No'] })\n",
    "    acframeapps = pd.DataFrame({'Bird': N_tests*[bird], 'Accuracy': accuracies_shuff, 'Shuffle': N_tests*['Yes'] })\n",
    "    acframe_arbunf = acframe_arbunf.append(acframeapp)\n",
    "    acframe_arbunf = acframe_arbunf.append(acframeapps)\n",
    "    \n",
    "with open(os.path.join(figsavepth, 'acframe_arbunf.pkl'), 'wb') as f:\n",
    "    pickle.dump(acframe_arbunf, f)"
   ]
  },
  {
   "cell_type": "code",
   "execution_count": null,
   "metadata": {},
   "outputs": [],
   "source": [
    "with open(os.path.join(figsavepth, 'acframe_arbunf.pkl'), 'rb') as f:\n",
    "    acframe_arbunf = pickle.load(f)"
   ]
  },
  {
   "cell_type": "code",
   "execution_count": null,
   "metadata": {},
   "outputs": [],
   "source": [
    "reload(FRLCP)\n",
    "name = 'FiringRate'\n",
    "acframe_FR = pd.DataFrame(columns=['Bird', 'Accuracy', 'Shuffle', 'Type'])\n",
    "for b in bdfs:\n",
    "    bird = b[0]\n",
    "    bdf = b[1]\n",
    "    print(bird)\n",
    "    poptensors = {}\n",
    "    with h5.File(bdf, 'r') as f:\n",
    "        for stim in list(f.keys()):\n",
    "            poptensors[stim] = tp2.build_permuted_data_tensor(np.array(f[stim]['pop_tens']), ncellsperm, nperms)\n",
    "    stims = bird_stims[bird]\n",
    "    stimc = stim_classes[bird]\n",
    "    accuracies = FRLCP.predict_stimuli_classes_population_FR(poptensors, Ntimes, stims, stimc, p_test, N_tests)\n",
    "    accuracies_shuff = FRLCP.predict_stimuli_classes_population_FR(poptensors, Ntimes, stims, stimc, p_test, N_tests, shuff_Y=True)\n",
    "    acframeapp = pd.DataFrame({'Bird': N_tests*[bird], 'Accuracy': accuracies, 'Shuffle': N_tests*['No'], 'Type': N_tests*['FR']})\n",
    "    acframeapps = pd.DataFrame({'Bird': N_tests*[bird], 'Accuracy': accuracies_shuff, 'Shuffle': N_tests*['Yes'], 'Type': N_tests*['FR']})\n",
    "    acframe_FR = acframe_FR.append(acframeapp)\n",
    "    acframe_FR = acframe_FR.append(acframeapps)\n",
    "\n",
    "\n",
    "with open(os.path.join(figsavepth, 'acframe_FR.pkl'), 'wb') as f:\n",
    "    pickle.dump(acframe_FR, f)"
   ]
  }
 ],
 "metadata": {
  "kernelspec": {
   "display_name": "Python 3",
   "language": "python",
   "name": "python3"
  },
  "language_info": {
   "codemirror_mode": {
    "name": "ipython",
    "version": 3
   },
   "file_extension": ".py",
   "mimetype": "text/x-python",
   "name": "python",
   "nbconvert_exporter": "python",
   "pygments_lexer": "ipython3",
   "version": "3.6.2"
  }
 },
 "nbformat": 4,
 "nbformat_minor": 2
}
