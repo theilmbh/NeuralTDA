{
 "cells": [
  {
   "cell_type": "markdown",
   "metadata": {},
   "source": [
    "We need to understand how the JS Divergence behaves as a function of beta.  \n",
    "So we will generate two groups of trials, using poisson populations with fixed rates, different for each group.\n"
   ]
  },
  {
   "cell_type": "code",
   "execution_count": 1,
   "metadata": {},
   "outputs": [],
   "source": [
    "import numpy as np\n",
    "import neuraltda.simpComp as sc\n",
    "from joblib import Parallel, delayed\n",
    "import matplotlib.pyplot as plt\n",
    "%matplotlib inline\n"
   ]
  },
  {
   "cell_type": "code",
   "execution_count": 16,
   "metadata": {},
   "outputs": [],
   "source": [
    "def generate_poisson_population(ncells, ntimes, rate):\n",
    "    samps = np.random.rand(ncells, ntimes)\n",
    "    binmat = np.greater(rate, samps).astype(int)\n",
    "    return binmat\n",
    "\n",
    "def generate_trials(ncells, ntimes, trials_per_group, ngroups, rates):\n",
    "    trials = []\n",
    "    for ind, grp in enumerate(range(ngroups)):\n",
    "        for t in range(trials_per_group):\n",
    "            tx = generate_poisson_population(ncells, ntimes, rates[ind])\n",
    "            trials.append(tx)\n",
    "    return trials\n",
    "\n",
    "def lapspectrum(trial, dim):\n",
    "    ms = sc.binarytomaxsimplex(trial, rDup=True)\n",
    "    scg = sc.simplicialChainGroups(ms)\n",
    "    lap = sc.sparse_laplacian(scg, dim)\n",
    "    lapspectra = sc.sparse_spectrum(lap)\n",
    "    return (lap, lapspectra)\n",
    "\n",
    "def get_laplacian_spectra(trials, dim):\n",
    "    dat = Parallel(n_jobs=24)(delayed(lapspectrum)(t, dim) for t in trials)\n",
    "    laps = [x[0] for x in dat]\n",
    "    lapspectra = [x[1] for x in dat]\n",
    "    return (laps, lapspectra)\n",
    "        \n",
    "def get_M(i, j, L1, L2):\n",
    "    mspec = sc.compute_M_spec(L1, L2)\n",
    "    print((i, j))\n",
    "    return (i, j, mspec)\n",
    "\n",
    "def get_m_spectra(laps):\n",
    "    # Precompute M spectra\n",
    "    N = len(laps)\n",
    "    pairs = [(i, j) for i in range(N) for j in range(i, N)]\n",
    "    print('Computing M spectra...')\n",
    "    M_spec = Parallel(n_jobs=24)(delayed(get_M)(i, j, laps[i], laps[j]) for (i, j) in pairs)\n",
    "    M_spec = {(p[0], p[1]): p[2] for p in M_spec}\n",
    "    return M_spec\n",
    "\n",
    "def get_JS_spec(i, j, speci, specj, specm, beta):\n",
    "    js = (i, j, sc.sparse_JS_divergence2_spec(speci, specj, specm, beta))\n",
    "    return js\n",
    "\n",
    "def compute_JS_div_mtx(lapspectra, Mspectra, beta):\n",
    "    N = len(lapspectra)\n",
    "    pairs = [(i, j) for i in range(N) for j in range(i, N)]\n",
    "    #print('Computing JS Divergences with beta {}...'.format(beta))\n",
    "    jsmat = np.zeros((N, N))\n",
    "\n",
    "    jsdat = Parallel(n_jobs=24)(delayed(get_JS_spec)(i, j, lapspectra[i], lapspectra[j], Mspectra[(i,j)], beta) for (i, j) in pairs)\n",
    "    for d in jsdat:\n",
    "        jsmat[d[0], d[1]] = d[2]\n",
    "    return jsmat\n",
    "\n",
    "\n",
    "def compute_within_vs_between(mtx, ntrials, nstim, diag=0):\n",
    "    stim_per_group = int(nstim//2)\n",
    "    \n",
    "    btwn_data = mtx[0:stim_per_group*ntrials, stim_per_group*ntrials:]\n",
    "    within1 = mtx[0:stim_per_group*ntrials, 0:stim_per_group*ntrials][np.triu_indices(stim_per_group*ntrials, diag)]\n",
    "    within2 = mtx[stim_per_group*ntrials:, stim_per_group*ntrials:][np.triu_indices(stim_per_group*ntrials, diag)]\n",
    "    \n",
    "    within = np.concatenate((within1, within2))\n",
    "    return (btwn_data, within)\n",
    "\n",
    "def compute_withins_vs_between(mtx, ntrials, nstim, diag=0):\n",
    "    stim_per_group = int(nstim//2)\n",
    "    \n",
    "    btwn_data = mtx[0:stim_per_group*ntrials, stim_per_group*ntrials:]\n",
    "    within1 = mtx[0:stim_per_group*ntrials, 0:stim_per_group*ntrials][np.triu_indices(stim_per_group*ntrials, diag)]\n",
    "    within2 = mtx[stim_per_group*ntrials:, stim_per_group*ntrials:][np.triu_indices(stim_per_group*ntrials, diag)]\n",
    "    \n",
    "    within = np.concatenate((within1, within2))\n",
    "    return (btwn_data, within1, within2)"
   ]
  },
  {
   "cell_type": "code",
   "execution_count": 6,
   "metadata": {},
   "outputs": [
    {
     "name": "stdout",
     "output_type": "stream",
     "text": [
      "Computing M spectra...\n"
     ]
    },
    {
     "name": "stderr",
     "output_type": "stream",
     "text": [
      "/home/AD/btheilma/anaconda3/envs/neuraltda-4/lib/python3.7/site-packages/joblib/externals/loky/process_executor.py:706: UserWarning: A worker stopped while some jobs were given to the executor. This can be caused by a too short worker timeout or by a memory leak.\n",
      "  \"timeout or by a memory leak.\", UserWarning\n"
     ]
    }
   ],
   "source": [
    "trials = generate_trials(100, 1000, 20, 2, [0.01, 0.02])\n",
    "(laps, lapspectra) = get_laplacian_spectra(trials, 1)\n",
    "mspectra = get_m_spectra(laps)"
   ]
  },
  {
   "cell_type": "code",
   "execution_count": 28,
   "metadata": {},
   "outputs": [
    {
     "data": {
      "application/vnd.jupyter.widget-view+json": {
       "model_id": "f6255a359de64adaa32133d4323b377e",
       "version_major": 2,
       "version_minor": 0
      },
      "text/plain": [
       "HBox(children=(IntProgress(value=0, max=50), HTML(value='')))"
      ]
     },
     "metadata": {},
     "output_type": "display_data"
    },
    {
     "name": "stdout",
     "output_type": "stream",
     "text": [
      "\n"
     ]
    }
   ],
   "source": [
    "betas = np.logspace(-1, 2)\n",
    "nstim = 2\n",
    "ntrials=20\n",
    "\n",
    "btwn_means = np.zeros(len(betas))\n",
    "btwn_stds = np.zeros(len(betas))\n",
    "wthn_means = np.zeros(len(betas))\n",
    "wthn_stds = np.zeros(len(betas))\n",
    "wthn1_means = np.zeros(len(betas))\n",
    "wthn1_stds = np.zeros(len(betas))\n",
    "wthn2_means = np.zeros(len(betas))\n",
    "wthn2_stds = np.zeros(len(betas))\n",
    "from tqdm import tqdm_notebook as tqdm\n",
    "\n",
    "for ind, beta in enumerate(tqdm(betas)):\n",
    "    mat = compute_JS_div_mtx(lapspectra, mspectra, beta)\n",
    "    (btwn, wthn1, wthn2) = compute_withins_vs_between(mat, ntrials, nstim, diag=1)\n",
    "#     btwn = np.sqrt(btwn)\n",
    "#     wthn1 = np.sqrt(wthn1)\n",
    "#     wthn2 = np.sqrt(wthn2)\n",
    "    wthn = np.concatenate((wthn1, wthn2))\n",
    "    btwn_means[ind] = np.mean(btwn)\n",
    "    btwn_stds[ind] = np.std(btwn) / np.sqrt(len(btwn))\n",
    "    wthn_means[ind] = np.mean(wthn)\n",
    "    wthn_stds[ind] = np.std(wthn) / np.sqrt(len(wthn))\n",
    "    wthn1_means[ind] = np.mean(wthn1)\n",
    "    wthn1_stds[ind] = np.std(wthn1) / np.sqrt(len(wthn1))\n",
    "    wthn2_means[ind] = np.mean(wthn2)\n",
    "    wthn2_stds[ind] = np.std(wthn2) / np.sqrt(len(wthn2))"
   ]
  },
  {
   "cell_type": "code",
   "execution_count": 29,
   "metadata": {},
   "outputs": [
    {
     "data": {
      "text/plain": [
       "<matplotlib.legend.Legend at 0x7f4038383b00>"
      ]
     },
     "execution_count": 29,
     "metadata": {},
     "output_type": "execute_result"
    },
    {
     "data": {
      "image/png": "[encoded data removed]",
      "text/plain": [
       "<Figure size 432x288 with 1 Axes>"
      ]
     },
     "metadata": {
      "needs_background": "light"
     },
     "output_type": "display_data"
    }
   ],
   "source": [
    "plt.style.use('/home/btheilma/code/NeuralTDA/gentnerlab.mplstyle')\n",
    "ax = plt.subplot(111)\n",
    "ax.set_xscale(\"log\", nonposx='clip')\n",
    "plt.errorbar(betas, btwn_means, yerr=btwn_stds)\n",
    "plt.errorbar(betas, wthn_means, yerr=wthn_stds)\n",
    "plt.errorbar(betas, wthn1_means, yerr=wthn1_stds)\n",
    "plt.errorbar(betas, wthn2_means, yerr=wthn2_stds)\n",
    "plt.title('JS Divergence vs Beta')\n",
    "plt.xlabel('Beta')\n",
    "plt.ylabel('JS Divergence')\n",
    "plt.legend(['Between', 'Within', 'Left', 'Right'])"
   ]
  },
  {
   "cell_type": "code",
   "execution_count": 25,
   "metadata": {},
   "outputs": [
    {
     "data": {
      "text/plain": [
       "array([ 0.00000000e+00,  3.16001696e+00,  2.90054601e+00,  3.34007724e+00,\n",
       "        3.18450689e+00,  3.31343234e+00,  3.24267614e+00,  2.86816662e+00,\n",
       "        3.22446927e+00,  3.21621382e+00,  2.84681955e+00,  3.34307302e+00,\n",
       "        2.96398786e+00,  3.29040621e+00,  3.11341063e+00,  3.33409391e+00,\n",
       "        3.26784342e+00,  2.80674887e+00,  2.94685087e+00,  3.77512596e+00,\n",
       "        0.00000000e+00,  3.03872954e+00,  3.19238042e+00,  3.01807675e+00,\n",
       "        3.11540206e+00,  2.99823886e+00,  2.71430419e+00,  3.03595408e+00,\n",
       "        2.69690579e+00,  3.01905179e+00,  2.98385871e+00,  3.28260517e+00,\n",
       "        2.89798134e+00,  3.11774700e+00,  2.98972338e+00,  3.11823120e+00,\n",
       "        2.56121346e+00,  2.64228617e+00,  3.17395297e+00,  0.00000000e+00,\n",
       "        2.98767106e+00,  3.29439660e+00,  3.17030149e+00,  3.08256871e+00,\n",
       "        2.83700888e+00,  3.03900871e+00,  3.00420804e+00,  3.11376919e+00,\n",
       "        3.31138324e+00,  2.97691200e+00,  3.10272352e+00,  2.68764683e+00,\n",
       "        3.16104350e+00,  3.50371086e+00,  2.96545903e+00,  3.00267050e+00,\n",
       "        2.99127489e+00,  0.00000000e+00,  3.14682602e+00,  3.26941021e+00,\n",
       "        3.21272188e+00,  2.90027969e+00,  3.20617371e+00,  2.81169130e+00,\n",
       "        2.80939445e+00,  3.10118970e+00,  2.77480545e+00,  3.18778741e+00,\n",
       "        2.86495495e+00,  2.89032866e+00,  3.35792239e+00,  2.76759163e+00,\n",
       "        3.14002415e+00,  3.47677554e+00,  0.00000000e+00,  3.46740283e+00,\n",
       "        2.88781063e+00,  3.03198513e+00,  3.06070614e+00,  3.17753032e+00,\n",
       "        3.04136986e+00,  3.33906319e+00,  2.83683147e+00,  3.34872760e+00,\n",
       "        2.94850358e+00,  3.23452046e+00,  3.51985048e+00,  3.06836964e+00,\n",
       "        3.26077748e+00,  3.14476463e+00,  0.00000000e+00,  3.35055931e+00,\n",
       "        3.06950754e+00,  3.05274520e+00,  2.96247217e+00,  2.94376151e+00,\n",
       "        3.15413066e+00,  2.90520638e+00,  3.05826782e+00,  3.06952489e+00,\n",
       "        3.04355087e+00,  3.31129947e+00,  2.73800321e+00,  2.95903759e+00,\n",
       "        3.33795853e+00,  0.00000000e+00,  2.98880040e+00,  3.06599356e+00,\n",
       "        3.03434669e+00,  2.90013729e+00,  3.04907839e+00,  2.97721485e+00,\n",
       "        3.01216431e+00,  3.14007770e+00,  3.21648750e+00,  3.17323294e+00,\n",
       "        2.70689541e+00,  2.95805303e+00,  3.27554013e+00,  0.00000000e+00,\n",
       "        3.01547678e+00,  3.40992588e+00,  3.48054673e+00,  3.28272526e+00,\n",
       "        2.49763082e+00,  2.90838339e+00,  2.61610079e+00,  3.13951008e+00,\n",
       "        3.25475973e+00,  3.28564211e+00,  3.00321887e+00,  3.26954253e+00,\n",
       "        0.00000000e+00,  2.86525748e+00,  2.83904250e+00,  3.13892790e+00,\n",
       "        2.87583421e+00,  3.25943054e+00,  2.81220671e+00,  3.20942559e+00,\n",
       "        3.01005346e+00,  2.69282634e+00,  2.96680644e+00,  3.13757533e+00,\n",
       "        0.00000000e+00,  3.19154867e+00,  3.32624519e+00,  2.38042269e+00,\n",
       "        2.96635305e+00,  2.71035055e+00,  3.18120387e+00,  3.12203070e+00,\n",
       "        3.11676609e+00,  3.08822579e+00,  3.03696816e+00,  0.00000000e+00,\n",
       "        3.14296874e+00,  2.67163807e+00,  2.92293528e+00,  2.56749971e+00,\n",
       "        3.09963994e+00,  2.98302954e+00,  3.10859640e+00,  3.03914761e+00,\n",
       "        3.05454672e+00,  0.00000000e+00,  2.85831411e+00,  3.31589548e+00,\n",
       "        2.95381664e+00,  3.23824057e+00,  3.38945616e+00,  3.01333934e+00,\n",
       "        3.26066714e+00,  3.42927441e+00,  0.00000000e+00,  2.78197305e+00,\n",
       "        2.87735925e+00,  2.68873163e+00,  2.77961968e+00,  2.38809191e+00,\n",
       "        2.87627406e+00,  3.00316454e+00,  0.00000000e+00,  2.82831017e+00,\n",
       "        3.43001441e+00,  3.42789466e+00,  2.64216783e+00,  3.02076646e+00,\n",
       "        3.12386312e+00,  0.00000000e+00,  2.82576334e+00,  2.96183631e+00,\n",
       "        2.49946368e+00,  2.84504159e+00,  3.19521743e+00,  0.00000000e+00,\n",
       "        3.36756581e+00,  2.98724089e+00,  3.26931198e+00,  3.40825207e+00,\n",
       "        0.00000000e+00,  2.84771942e+00,  3.37446430e+00,  3.24449888e+00,\n",
       "        0.00000000e+00,  2.94744443e+00,  3.10318365e+00,  0.00000000e+00,\n",
       "        3.25842824e+00,  0.00000000e+00,  0.00000000e+00,  3.45078151e+00,\n",
       "        3.39469576e+00,  3.43765942e+00,  3.44648655e+00,  3.56362809e+00,\n",
       "        3.37043864e+00,  3.44102484e+00,  3.43541028e+00,  3.42073514e+00,\n",
       "        3.41903936e+00,  3.35270261e+00,  3.41398677e+00,  3.37719267e+00,\n",
       "        3.46563049e+00,  3.47729989e+00,  3.34490312e+00,  3.39231906e+00,\n",
       "        3.55334851e+00,  3.45721903e+00,  0.00000000e+00,  3.52558382e+00,\n",
       "        3.44792393e+00,  3.48069067e+00,  3.55729145e+00,  3.52352044e+00,\n",
       "        3.40159454e+00,  3.56889559e+00,  3.58128903e+00,  3.54407681e+00,\n",
       "        3.60085387e+00,  3.41120263e+00,  3.43992942e+00,  3.50585940e+00,\n",
       "        3.59796003e+00,  3.52573730e+00,  3.56891487e+00,  3.53385851e+00,\n",
       "        3.38290777e+00,  0.00000000e+00,  3.45492162e+00,  3.39656608e+00,\n",
       "        3.40750984e+00,  3.45261437e+00,  3.48677901e+00,  3.51096991e+00,\n",
       "        3.55294139e+00,  3.33057993e+00,  3.39866871e+00,  3.45228664e+00,\n",
       "        3.49201139e+00,  3.42393670e+00,  3.52694881e+00,  3.42894020e+00,\n",
       "        3.46038475e+00,  3.50289620e+00,  3.40991563e+00,  0.00000000e+00,\n",
       "        3.55490094e+00,  3.51505753e+00,  3.27986086e+00,  3.35912883e+00,\n",
       "        3.40492111e+00,  3.42687309e+00,  3.32109334e+00,  3.39600803e+00,\n",
       "        3.38105042e+00,  3.43898256e+00,  3.46251862e+00,  3.46590335e+00,\n",
       "        3.34006257e+00,  3.40537559e+00,  3.34023836e+00,  3.33776269e+00,\n",
       "        0.00000000e+00,  3.59341415e+00,  3.49945703e+00,  3.46549841e+00,\n",
       "        3.45878390e+00,  3.44964296e+00,  3.50692948e+00,  3.42722936e+00,\n",
       "        3.52159586e+00,  3.47362290e+00,  3.47521485e+00,  3.50363602e+00,\n",
       "        3.48701579e+00,  3.49161154e+00,  3.51088775e+00,  3.40505442e+00,\n",
       "        0.00000000e+00,  3.51824606e+00,  3.44353893e+00,  3.43332543e+00,\n",
       "        3.50089439e+00,  3.48662044e+00,  3.56126595e+00,  3.53945095e+00,\n",
       "        3.54626317e+00,  3.46605732e+00,  3.48894097e+00,  3.42593349e+00,\n",
       "        3.57528736e+00,  3.53223646e+00,  3.52280585e+00,  0.00000000e+00,\n",
       "        3.41571158e+00,  3.37089643e+00,  3.39240796e+00,  3.39885760e+00,\n",
       "        3.53620500e+00,  3.41042111e+00,  3.54685005e+00,  3.47875530e+00,\n",
       "        3.41213882e+00,  3.47403585e+00,  3.52363148e+00,  3.44081691e+00,\n",
       "        3.47157152e+00,  0.00000000e+00,  3.39462553e+00,  3.45443911e+00,\n",
       "        3.43350279e+00,  3.41110800e+00,  3.36028431e+00,  3.50576447e+00,\n",
       "        3.41729358e+00,  3.53777769e+00,  3.36932832e+00,  3.50351742e+00,\n",
       "        3.50992456e+00,  3.37184534e+00,  0.00000000e+00,  3.48846553e+00,\n",
       "        3.48716315e+00,  3.48770312e+00,  3.49155002e+00,  3.52259187e+00,\n",
       "        3.43303734e+00,  3.42188142e+00,  3.50094229e+00,  3.46933341e+00,\n",
       "        3.46023436e+00,  3.59739529e+00,  0.00000000e+00,  3.38430443e+00,\n",
       "        3.49486459e+00,  3.49210062e+00,  3.45545745e+00,  3.47881603e+00,\n",
       "        3.48199307e+00,  3.45314202e+00,  3.48541001e+00,  3.51881120e+00,\n",
       "        3.56919672e+00,  0.00000000e+00,  3.44322205e+00,  3.40786525e+00,\n",
       "        3.49641274e+00,  3.51935345e+00,  3.44260323e+00,  3.48012767e+00,\n",
       "        3.35225849e+00,  3.28735689e+00,  3.39857747e+00,  0.00000000e+00,\n",
       "        3.47836651e+00,  3.51482535e+00,  3.35709678e+00,  3.51375601e+00,\n",
       "        3.45886738e+00,  3.46516899e+00,  3.42779650e+00,  3.47727496e+00,\n",
       "        0.00000000e+00,  3.48371606e+00,  3.47788064e+00,  3.48084851e+00,\n",
       "        3.37130460e+00,  3.47911929e+00,  3.48453029e+00,  3.45189026e+00,\n",
       "        0.00000000e+00,  3.41035825e+00,  3.54320559e+00,  3.57498602e+00,\n",
       "        3.41386910e+00,  3.55429635e+00,  3.44294816e+00,  0.00000000e+00,\n",
       "        3.44052722e+00,  3.41818221e+00,  3.59086667e+00,  3.49199042e+00,\n",
       "        3.50089239e+00,  0.00000000e+00,  3.45148712e+00,  3.39080069e+00,\n",
       "        3.40621509e+00,  3.41289088e+00,  0.00000000e+00,  3.36252538e+00,\n",
       "        3.44046160e+00,  3.47183315e+00,  0.00000000e+00,  3.39977366e+00,\n",
       "        3.49493294e+00,  0.00000000e+00,  3.47547368e+00, -9.20974468e-25])"
      ]
     },
     "execution_count": 25,
     "metadata": {},
     "output_type": "execute_result"
    }
   ],
   "source": [
    "wthn"
   ]
  },
  {
   "cell_type": "code",
   "execution_count": null,
   "metadata": {},
   "outputs": [],
   "source": []
  }
 ],
 "metadata": {
  "kernelspec": {
   "display_name": "Python 3",
   "language": "python",
   "name": "python3"
  },
  "language_info": {
   "codemirror_mode": {
    "name": "ipython",
    "version": 3
   },
   "file_extension": ".py",
   "mimetype": "text/x-python",
   "name": "python",
   "nbconvert_exporter": "python",
   "pygments_lexer": "ipython3",
   "version": "3.7.1"
  }
 },
 "nbformat": 4,
 "nbformat_minor": 2
}
