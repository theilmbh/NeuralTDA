{
 "cells": [
  {
   "cell_type": "code",
   "execution_count": 1,
   "metadata": {},
   "outputs": [
    {
     "name": "stderr",
     "output_type": "stream",
     "text": [
      "/home/brad/.conda/envs/neuraltda-4/lib/python3.6/site-packages/h5py/__init__.py:36: FutureWarning: Conversion of the second argument of issubdtype from `float` to `np.floating` is deprecated. In future, it will be treated as `np.float64 == np.dtype(float).type`.\n",
      "  from ._conv import register_converters as _register_converters\n"
     ]
    },
    {
     "name": "stdout",
     "output_type": "stream",
     "text": [
      "/home/brad/DailyLog/20190314/\n"
     ]
    }
   ],
   "source": [
    "###\n",
    "# The goal of this notebook is to:\n",
    "# - Take two neural populations\n",
    "# - Compute the JS divergence between stimuli pairs for each population (the same stimuli pairs)\n",
    "# - Compute the mutual information between the distributions of JS divergences\n",
    "\n",
    "import glob\n",
    "import os\n",
    "from importlib import reload\n",
    "import pickle\n",
    "import datetime\n",
    "\n",
    "import numpy as np\n",
    "import scipy as sp\n",
    "import pandas as pd\n",
    "import h5py as h5\n",
    "from tqdm import tqdm_notebook as tqdm\n",
    "import matplotlib.pyplot as plt\n",
    "%matplotlib inline\n",
    "\n",
    "import neuraltda.topology2 as tp2\n",
    "import neuraltda.spectralAnalysis as sa\n",
    "import neuraltda.simpComp as sc\n",
    "import pycuslsa as pyslsa\n",
    "\n",
    "daystr = datetime.datetime.now().strftime('%Y%m%d')\n",
    "figsavepth = '/home/brad/DailyLog/'+daystr+'/'\n",
    "print(figsavepth)"
   ]
  },
  {
   "cell_type": "code",
   "execution_count": 8,
   "metadata": {},
   "outputs": [],
   "source": [
    "# Set up birds and block_paths\n",
    "birds = ['B1083', 'B1056', 'B1235', 'B1075']\n",
    "bps = {'B1083': '/home/brad/krista/B1083/P03S03/', 'B1075': '/home/brad/krista/B1075/P01S03/',\n",
    "       'B1235': '/home/brad/krista/B1235/P02S01/', 'B1056': '/home/brad/krista/B1056/klusta/phy020516/Pen01_Lft_AP100_ML1300__Site03_Z2500__B1056_cat_P01_S03_1/',\n",
    "       'B1056': '/home/brad/krista/B1056/klusta/phy020516/Pen01_Lft_AP100_ML1300__Site03_Z2500__B1056_cat_P01_S03_1/',\n",
    "       'B1083-5': '/home/brad/krista/B1083/P03S05/'}\n",
    "\n",
    "\n",
    "learned_stimuli = {'B1083': ['M_scaled_burung', 'N_scaled_burung', 'O_scaled_burung', 'P_scaled_burung'], 'B1056': ['A_scaled_burung', 'B_scaled_burung', 'C_scaled_burung', 'D_scaled_burung'], 'B1235': [], 'B1075': []}\n",
    "peck_stimuli = {'B1083': {'L': ['N_40k','P_40k'], 'R': ['M_40k', 'O_40k']}, 'B1056': {'L': ['B_scaled_burung', 'D_scaled_burung'], 'R': ['A_scaled_burung', 'C_scaled_burung']}, \n",
    "                'B1235': {'L': ['F_scaled_burung', 'H_scaled_burung'], 'R': ['E_scaled_burung', 'G_scaled_burung'],}, 'B1075': {'L': ['F_40k', 'H_40k'], 'R': ['E_40k', 'G_40k']},\n",
    "               'B1083-5': {'L': ['N_40k','P_40k'], 'R': ['M_40k', 'O_40k']}}\n",
    "\n",
    "unfamiliar_stimuli = {'B1083': ['I_40k', 'J_40k', 'K_40k', 'L_40k'], \n",
    "                      'B1083-5': ['I_40k', 'J_40k', 'K_40k', 'L_40k'],\n",
    "                      'B1235': ['A_scaled_burung', 'B_scaled_burung', 'C_scaled_burung', 'D_scaled_burung'], \n",
    "                      'B1075': ['A_40k', 'B_40k', 'C_40k', 'D_40k'], \n",
    "                      'B1056': ['E_scaled_burung', 'F_scaled_burung', 'G_scaled_burung', 'H_scaled_burung']\n",
    "                     }\n",
    "\n",
    "#bps =  {'B1056': '/home/AD/btheilma/krista/B1056/klusta/phy020516/Pen01_Lft_AP100_ML1300__Site03_Z2500__B1056_cat_P01_S03_1/',\n",
    "#        'B1235': '/home/AD/btheilma/krista/B1235/P02S01/'}\n",
    "#test_birds = ['B1056', 'B1235']\n",
    "#test_birds = ['B1075', 'B1235']\n",
    "#test_birds = ['B1056', 'B1235']\n",
    "#test_birds =['B1056', 'B1083']\n",
    "#test_birds = ['B1083']\n",
    "#test_birds = ['B1083', 'B1083-5']\n",
    "test_birds = ['B1056', 'B1235', 'B1083', 'B1083-5']\n",
    "test_birds = ['B1056']\n",
    "# Binning Parameters\n",
    "windt = 10.0                      # milliseconds\n",
    "dtovr = 0.5*windt                 # milliseconds\n",
    "segment_info = [0, 0]             # use full Trial\n",
    "cluster_group = ['Good']          # use just good clusters\n",
    "comment = 'JS_MI_TEST'            # BootStrap Populations\n",
    "bdfs = {}                         # Dictionary to store bdf"
   ]
  },
  {
   "cell_type": "code",
   "execution_count": 9,
   "metadata": {},
   "outputs": [
    {
     "name": "stdout",
     "output_type": "stream",
     "text": [
      "/home/brad/krista/B1056/klusta/phy020516/Pen01_Lft_AP100_ML1300__Site03_Z2500__B1056_cat_P01_S03_1/binned_data/win-10.0_dtovr-5.0_seg-0-0-JS_MI_TEST/20180525T180834Z-10.0-5.0.binned\n"
     ]
    }
   ],
   "source": [
    "# Loop through each bird in our list and bin the data\n",
    "for bird in test_birds:\n",
    "    block_path = bps[bird]\n",
    "    bfdict = tp2.dag_bin(block_path, windt, segment_info, cluster_group=cluster_group, dt_overlap=dtovr, comment=comment)\n",
    "    bdf = glob.glob(os.path.join(bfdict['raw'], '*.binned'))[0]\n",
    "    print(bdf)\n",
    "    bdfs[bird] = bdf"
   ]
  },
  {
   "cell_type": "code",
   "execution_count": 10,
   "metadata": {},
   "outputs": [
    {
     "name": "stdout",
     "output_type": "stream",
     "text": [
      "['B_scaled_burung', 'D_scaled_burung', 'A_scaled_burung', 'C_scaled_burung']\n",
      "['A_scaled_burung', 'B_scaled_burung', 'C_scaled_burung', 'D_scaled_burung', 'E_scaled_burung', 'F_scaled_burung', 'G_scaled_burung', 'H_scaled_burung', 'I_scaled_burung', 'J_scaled_burung', 'K_scaled_burung', 'L_scaled_burung', 'M_scaled_burung', 'N_scaled_burung', 'O_scaled_burung', 'P_scaled_burung']\n"
     ]
    }
   ],
   "source": [
    "# extract left vs right stims\n",
    "# extract population tensors for the populations of interest\n",
    "# Do not sort the stims\n",
    "population_tensors_familiar = {}\n",
    "stimuli = []\n",
    "\n",
    "for bird in test_birds:\n",
    "    stimuli = peck_stimuli[bird]['L'] + peck_stimuli[bird]['R']\n",
    "    print(stimuli)\n",
    "    bdf = bdfs[bird]\n",
    "    population_tensors_familiar[bird] = []\n",
    "    # open the binned data file\n",
    "    with h5.File(bdf, 'r') as f:\n",
    "        #stimuli = f.keys()\n",
    "        print(list(f.keys()))\n",
    "        for stim in stimuli:\n",
    "            poptens = np.array(f[stim]['pop_tens'])\n",
    "            population_tensors_familiar[bird].append([poptens, stim])"
   ]
  },
  {
   "cell_type": "code",
   "execution_count": 11,
   "metadata": {},
   "outputs": [
    {
     "name": "stdout",
     "output_type": "stream",
     "text": [
      "['E_scaled_burung', 'F_scaled_burung', 'G_scaled_burung', 'H_scaled_burung']\n",
      "['A_scaled_burung', 'B_scaled_burung', 'C_scaled_burung', 'D_scaled_burung', 'E_scaled_burung', 'F_scaled_burung', 'G_scaled_burung', 'H_scaled_burung', 'I_scaled_burung', 'J_scaled_burung', 'K_scaled_burung', 'L_scaled_burung', 'M_scaled_burung', 'N_scaled_burung', 'O_scaled_burung', 'P_scaled_burung']\n"
     ]
    }
   ],
   "source": [
    "# extract Unfamiliar stims\n",
    "# extract population tensors for the populations of interest\n",
    "# Do not sort the stims\n",
    "population_tensors_unfamiliar = {}\n",
    "stimuli = []\n",
    "\n",
    "for bird in test_birds:\n",
    "    stimuli = unfamiliar_stimuli[bird]\n",
    "    print(stimuli)\n",
    "    bdf = bdfs[bird]\n",
    "    population_tensors_unfamiliar[bird] = []\n",
    "    # open the binned data file\n",
    "    with h5.File(bdf, 'r') as f:\n",
    "        #stimuli = f.keys()\n",
    "        print(list(f.keys()))\n",
    "        for stim in stimuli:\n",
    "            poptens = np.array(f[stim]['pop_tens'])\n",
    "            population_tensors_unfamiliar[bird].append([poptens, stim])"
   ]
  },
  {
   "cell_type": "code",
   "execution_count": 17,
   "metadata": {},
   "outputs": [],
   "source": [
    "# flatten the list of population tensors for each population\n",
    "threshold = 6\n",
    "\n",
    "def threshold_poptens(tens, thresh):\n",
    "    ncell, nwins, ntrials = tens.shape\n",
    "    frs = np.mean(tens, axis=1)\n",
    "    tfr = thresh*frs\n",
    "    tfrtens = np.tile(tfr[:, np.newaxis, :], (1, nwins, 1))\n",
    "    bintens = 1*np.greater(tens, tfrtens)\n",
    "    return bintens\n",
    "\n",
    "def shuffle_binmat(binmat):\n",
    "    ncells, nwin = binmat.shape\n",
    "    for i in range(ncells):\n",
    "        binmat[i, :] = np.random.permutation(binmat[i, :])\n",
    "    return binmat\n",
    "\n",
    "def get_JS(i, j, Li, Lj, speci, specj, beta):\n",
    "    js = (i, j, sc.sparse_JS_divergence2_fast(Li, Lj, speci, specj, beta))\n",
    "    print((i, j))\n",
    "    return js"
   ]
  },
  {
   "cell_type": "code",
   "execution_count": 13,
   "metadata": {},
   "outputs": [],
   "source": [
    "\n",
    "poptens = {'familiar': population_tensors_familiar, 'unfamiliar': population_tensors_unfamiliar}"
   ]
  },
  {
   "cell_type": "code",
   "execution_count": null,
   "metadata": {},
   "outputs": [],
   "source": [
    "# Compute JS popA:\n",
    "#Left vs right\n",
    "\n",
    "dim = 1\n",
    "beta = 1.0\n",
    "\n",
    "for bird in test_birds:\n",
    "    for sh in ['original', 'shuffled']:\n",
    "        for fam in ['familiar', 'unfamiliar']:\n",
    "            ntrials = 10 # Only do half the trials for each stim\n",
    "            bird_tensors = poptens[fam][bird]\n",
    "            SCG = []\n",
    "            spectra = []\n",
    "            for bird_tensor, stim in bird_tensors:\n",
    "                binmatlist = []\n",
    "                print(bird, stim)\n",
    "                ncells, nwin, _ = bird_tensor.shape\n",
    "                bin_tensor = threshold_poptens(bird_tensor, threshold)\n",
    "                for trial in tqdm(range(ntrials)):\n",
    "                    if sh == 'shuffled':\n",
    "                        binmatlist.append(shuffle_binmat(bin_tensor[:, :, trial]))\n",
    "                    else:\n",
    "                        binmatlist.append(bin_tensor[:, :, trial])\n",
    "                    ms = sc.binarytomaxsimplex(bin_tensor[:, :, trial], rDup=True)\n",
    "                    scg1 = sc.simplicialChainGroups(ms)\n",
    "                    SCG.append(scg1)\n",
    "                    L = sc.sparse_laplacian(scg1, dim)\n",
    "                    rho = sc.sparse_density_matrix(L, beta)\n",
    "                    r = sc.sparse_density_spectrum(rho)\n",
    "                    spectra.append(r)\n",
    "            N = len(SCG)\n",
    "            # compute density matrices\n",
    "            \n",
    "            jsmat = np.zeros((N, N))\n",
    "            for i in tqdm(range(N)):\n",
    "                for j in range(i, N):\n",
    "                    jsmat[i, j] = sc.sparse_reconciled_spectrum_JS(spectra[i], spectra[j])\n",
    "            with open(os.path.join(figsavepth, 'JSpop_{}-{}-{}-{}_LvsR-{}-{}'.format(bird, dim, beta, ntrials, fam, sh)), 'wb') as f:\n",
    "                pickle.dump(jsmat, f)\n",
    "            \n"
   ]
  },
  {
   "cell_type": "code",
   "execution_count": 25,
   "metadata": {
    "scrolled": false
   },
   "outputs": [
    {
     "name": "stdout",
     "output_type": "stream",
     "text": [
      "Computing Laplacians and Spectra for B1056 original familiar...\n",
      "B1056 B_scaled_burung\n"
     ]
    },
    {
     "data": {
      "application/vnd.jupyter.widget-view+json": {
       "model_id": "de61342afc46416495cbaf5a112662a7",
       "version_major": 2,
       "version_minor": 0
      },
      "text/plain": [
       "HBox(children=(IntProgress(value=0, max=5), HTML(value='')))"
      ]
     },
     "metadata": {},
     "output_type": "display_data"
    },
    {
     "name": "stdout",
     "output_type": "stream",
     "text": [
      "B1056 D_scaled_burung\n"
     ]
    },
    {
     "data": {
      "application/vnd.jupyter.widget-view+json": {
       "model_id": "086fe94f04fa48ac8063709ce55c274f",
       "version_major": 2,
       "version_minor": 0
      },
      "text/plain": [
       "HBox(children=(IntProgress(value=0, max=5), HTML(value='')))"
      ]
     },
     "metadata": {},
     "output_type": "display_data"
    },
    {
     "name": "stdout",
     "output_type": "stream",
     "text": [
      "B1056 A_scaled_burung\n"
     ]
    },
    {
     "data": {
      "application/vnd.jupyter.widget-view+json": {
       "model_id": "b8b95b1dde5948f896aaa84bd8916123",
       "version_major": 2,
       "version_minor": 0
      },
      "text/plain": [
       "HBox(children=(IntProgress(value=0, max=5), HTML(value='')))"
      ]
     },
     "metadata": {},
     "output_type": "display_data"
    },
    {
     "name": "stdout",
     "output_type": "stream",
     "text": [
      "B1056 C_scaled_burung\n"
     ]
    },
    {
     "data": {
      "application/vnd.jupyter.widget-view+json": {
       "model_id": "34d481c9d42e413ea6aa74b663e78fa7",
       "version_major": 2,
       "version_minor": 0
      },
      "text/plain": [
       "HBox(children=(IntProgress(value=0, max=5), HTML(value='')))"
      ]
     },
     "metadata": {},
     "output_type": "display_data"
    },
    {
     "name": "stdout",
     "output_type": "stream",
     "text": [
      "\n"
     ]
    },
    {
     "name": "stderr",
     "output_type": "stream",
     "text": [
      "Exception in thread Thread-41:\n",
      "Traceback (most recent call last):\n",
      "  File \"/home/brad/.conda/envs/neuraltda-4/lib/python3.6/threading.py\", line 916, in _bootstrap_inner\n",
      "    self.run()\n",
      "  File \"/home/brad/.conda/envs/neuraltda-4/lib/python3.6/site-packages/tqdm/_tqdm.py\", line 144, in run\n",
      "    for instance in self.tqdm_cls._instances:\n",
      "  File \"/home/brad/.conda/envs/neuraltda-4/lib/python3.6/_weakrefset.py\", line 60, in __iter__\n",
      "    for itemref in self.data:\n",
      "RuntimeError: Set changed size during iteration\n",
      "\n"
     ]
    },
    {
     "name": "stdout",
     "output_type": "stream",
     "text": [
      "\n",
      "Computing JS Divergences with beta 1...\n",
      "(0, 0)\n",
      "(0, 4)\n",
      "(0, 3)\n",
      "(0, 2)\n",
      "(1, 1)\n",
      "(0, 1)\n",
      "(0, 10)\n",
      "(1, 3)\n",
      "(1, 2)\n",
      "(1, 4)\n",
      "(0, 7)\n",
      "(0, 6)\n",
      "(0, 11)\n",
      "(0, 8)\n",
      "(0, 14)\n",
      "(0, 16)\n",
      "(0, 12)\n",
      "(1, 10)\n",
      "(0, 17)\n",
      "(0, 18)\n",
      "(1, 7)\n",
      "(1, 11)\n",
      "(1, 6)\n",
      "(0, 13)\n",
      "(0, 19)\n",
      "(0, 15)\n",
      "(1, 8)\n",
      "(2, 2)\n",
      "(0, 9)\n",
      "(2, 8)\n",
      "(1, 12)\n",
      "(2, 4)\n",
      "(0, 5)\n",
      "(2, 3)\n",
      "(1, 14)\n",
      "(1, 16)\n",
      "(1, 15)\n",
      "(1, 5)\n",
      "(1, 9)\n",
      "(2, 10)\n",
      "(3, 3)\n",
      "(1, 17)\n",
      "(1, 13)\n",
      "(2, 6)\n",
      "(1, 18)\n",
      "(2, 11)\n",
      "(2, 7)\n",
      "(3, 4)\n",
      "(2, 15)\n",
      "(2, 14)\n",
      "(2, 16)\n",
      "(2, 12)\n",
      "(1, 19)\n",
      "(2, 9)\n",
      "(3, 10)\n",
      "(2, 18)\n",
      "(3, 8)\n",
      "(3, 7)\n",
      "(2, 13)\n",
      "(4, 4)\n",
      "(2, 17)\n",
      "(3, 6)\n",
      "(3, 11)\n",
      "(2, 5)\n",
      "(2, 19)\n",
      "(3, 14)\n",
      "(3, 16)\n",
      "(3, 5)\n",
      "(3, 12)\n",
      "(4, 6)\n",
      "(4, 10)\n",
      "(4, 7)\n",
      "(3, 15)\n",
      "(4, 8)\n",
      "(3, 17)\n",
      "(3, 9)\n",
      "(3, 13)\n",
      "(3, 18)\n",
      "(4, 11)\n",
      "(4, 16)\n",
      "(3, 19)\n",
      "(4, 9)\n",
      "(4, 13)\n",
      "(4, 14)\n",
      "(4, 12)\n",
      "(4, 18)\n",
      "(4, 5)\n",
      "(6, 10)\n",
      "(4, 17)\n",
      "(4, 19)\n",
      "(4, 15)\n",
      "(6, 6)\n",
      "(6, 11)\n",
      "(6, 8)\n",
      "(5, 18)\n",
      "(5, 5)\n",
      "(6, 7)\n",
      "(5, 10)\n",
      "(5, 11)\n",
      "(5, 19)\n",
      "(5, 6)\n",
      "(5, 8)\n",
      "(5, 15)\n",
      "(5, 7)\n",
      "(5, 12)\n",
      "(5, 16)\n",
      "(5, 9)\n",
      "(5, 14)\n",
      "(6, 16)\n",
      "(5, 17)\n",
      "(6, 9)\n",
      "(5, 13)\n",
      "(6, 14)\n",
      "(7, 7)\n",
      "(6, 15)\n",
      "(6, 12)\n",
      "(7, 8)\n",
      "(6, 13)\n",
      "(7, 10)\n",
      "(7, 11)\n",
      "(7, 14)\n",
      "(6, 18)\n",
      "(6, 17)\n",
      "(7, 16)\n",
      "(8, 8)\n",
      "(7, 12)\n",
      "(6, 19)\n",
      "(7, 13)\n",
      "(7, 17)\n",
      "(7, 9)\n",
      "(8, 10)\n",
      "(7, 15)\n",
      "(8, 11)\n",
      "(7, 18)\n",
      "(8, 14)\n",
      "(8, 12)\n",
      "(8, 13)\n",
      "(7, 19)\n",
      "(8, 19)\n",
      "(8, 16)\n",
      "(8, 15)\n",
      "(8, 9)\n",
      "(8, 17)\n",
      "(9, 9)\n",
      "(10, 10)\n",
      "(10, 11)\n",
      "(8, 18)\n",
      "(9, 10)\n",
      "(9, 12)\n",
      "(10, 12)\n",
      "(9, 16)\n",
      "(11, 11)\n",
      "(9, 11)\n",
      "(9, 15)\n",
      "(10, 14)\n",
      "(10, 18)\n",
      "(9, 13)\n",
      "(10, 16)\n",
      "(11, 14)\n",
      "(9, 18)\n",
      "(9, 19)\n",
      "(9, 14)\n",
      "(10, 17)\n",
      "(10, 13)\n",
      "(11, 13)\n",
      "(10, 15)\n",
      "(9, 17)\n",
      "(11, 16)\n",
      "(11, 12)\n",
      "(10, 19)\n",
      "(11, 15)\n",
      "(11, 17)\n",
      "(11, 18)\n",
      "(12, 12)\n",
      "(12, 14)\n",
      "(14, 14)\n",
      "(11, 19)\n",
      "(12, 13)\n",
      "(12, 16)\n",
      "(12, 18)\n",
      "(12, 15)\n",
      "(12, 17)\n",
      "(14, 16)\n",
      "(13, 13)\n",
      "(13, 15)\n",
      "(13, 18)\n",
      "(13, 17)\n",
      "(12, 19)\n",
      "(13, 14)\n",
      "(14, 15)\n",
      "(13, 16)\n",
      "(13, 19)\n",
      "(14, 18)\n",
      "(15, 15)\n",
      "(14, 17)\n",
      "(15, 17)\n",
      "(16, 16)\n",
      "(14, 19)\n",
      "(19, 19)\n",
      "(15, 19)\n",
      "(15, 16)\n",
      "(18, 18)\n",
      "(17, 18)\n",
      "(16, 17)\n",
      "(18, 19)\n",
      "(15, 18)\n",
      "(16, 18)\n",
      "(16, 19)\n",
      "(17, 17)\n",
      "(17, 19)\n"
     ]
    }
   ],
   "source": [
    "# mirroring cuda code\n",
    "#Left vs right\n",
    "reload(sc)\n",
    "dim = 1\n",
    "beta = 3\n",
    "\n",
    "betas = [1]\n",
    "\n",
    "for bird in test_birds:\n",
    "    for sh in ['original']:\n",
    "        for fam in ['familiar']:\n",
    "            ntrials = 5 # Only do half the trials for each stim\n",
    "            bird_tensors = poptens[fam][bird]\n",
    "            SCG = []\n",
    "            spectra = []\n",
    "            laplacians = []\n",
    "            print('Computing Laplacians and Spectra for {} {} {}...'.format(bird, sh, fam))\n",
    "            for bird_tensor, stim in bird_tensors:\n",
    "                binmatlist = []\n",
    "                print(bird, stim)\n",
    "                ncells, nwin, _ = bird_tensor.shape\n",
    "                bin_tensor = threshold_poptens(bird_tensor, threshold)\n",
    "                for trial in tqdm(range(ntrials)):\n",
    "                    if sh == 'shuffled':\n",
    "                        binmatlist.append(shuffle_binmat(bin_tensor[:, :, trial]))\n",
    "                    else:\n",
    "                        binmatlist.append(bin_tensor[:, :, trial])\n",
    "                    ms = sc.binarytomaxsimplex(bin_tensor[:, :, trial], rDup=True)\n",
    "                    scg1 = sc.simplicialChainGroups(ms)\n",
    "                    SCG.append(scg1)\n",
    "                    L = sc.sparse_laplacian(scg1, dim)\n",
    "#                     rho = sc.sparse_density_matrix(L, beta)\n",
    "#                     r = sc.sparse_density_spectrum(rho)\n",
    "                    laplacians.append(L)\n",
    "                    spectra.append(sc.sparse_spectrum(L))\n",
    "            N = len(SCG)\n",
    "            # compute density matrices\n",
    "            pairs = [(i, j) for i in range(N) for j in range(i, N)]\n",
    "            for beta in betas:\n",
    "                print('Computing JS Divergences with beta {}...'.format(beta))\n",
    "                jsmat = np.zeros((N, N))\n",
    "                \n",
    "                jsdat = Parallel(n_jobs=23)(delayed(get_JS)(i, j, laplacians[i], laplacians[j], spectra[i], spectra[j], beta) for (i, j) in pairs)\n",
    "                for d in jsdat:\n",
    "                    jsmat[d[0], d[1]] = d[2]\n",
    "            \n",
    "                with open(os.path.join(figsavepth, 'JSpop_fast_{}-{}-{}-{}_LvsR-{}-{}.pkl'.format(bird, dim, beta, ntrials, fam, sh)), 'wb') as f:\n",
    "                    pickle.dump(jsmat, f)\n",
    "            \n"
   ]
  },
  {
   "cell_type": "code",
   "execution_count": 15,
   "metadata": {},
   "outputs": [],
   "source": [
    "from joblib import Parallel, delayed\n"
   ]
  },
  {
   "cell_type": "code",
   "execution_count": null,
   "metadata": {},
   "outputs": [],
   "source": [
    "test"
   ]
  },
  {
   "cell_type": "code",
   "execution_count": null,
   "metadata": {},
   "outputs": [],
   "source": []
  }
 ],
 "metadata": {
  "kernelspec": {
   "display_name": "Python 3",
   "language": "python",
   "name": "python3"
  },
  "language_info": {
   "codemirror_mode": {
    "name": "ipython",
    "version": 3
   },
   "file_extension": ".py",
   "mimetype": "text/x-python",
   "name": "python",
   "nbconvert_exporter": "python",
   "pygments_lexer": "ipython3",
   "version": "3.6.2"
  }
 },
 "nbformat": 4,
 "nbformat_minor": 2
}
