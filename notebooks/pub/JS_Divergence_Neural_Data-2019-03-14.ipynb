{
 "cells": [
  {
   "cell_type": "code",
   "execution_count": 1,
   "metadata": {},
   "outputs": [
    {
     "name": "stderr",
     "output_type": "stream",
     "text": [
      "/home/brad/.conda/envs/neuraltda-4/lib/python3.6/site-packages/h5py/__init__.py:36: FutureWarning: Conversion of the second argument of issubdtype from `float` to `np.floating` is deprecated. In future, it will be treated as `np.float64 == np.dtype(float).type`.\n",
      "  from ._conv import register_converters as _register_converters\n"
     ]
    },
    {
     "name": "stdout",
     "output_type": "stream",
     "text": [
      "/home/brad/DailyLog/20190314/\n"
     ]
    }
   ],
   "source": [
    "###\n",
    "# The goal of this notebook is to:\n",
    "# - Take two neural populations\n",
    "# - Compute the JS divergence between stimuli pairs for each population (the same stimuli pairs)\n",
    "# - Compute the mutual information between the distributions of JS divergences\n",
    "\n",
    "import glob\n",
    "import os\n",
    "from importlib import reload\n",
    "import pickle\n",
    "import datetime\n",
    "\n",
    "import numpy as np\n",
    "import scipy as sp\n",
    "import pandas as pd\n",
    "import h5py as h5\n",
    "from tqdm import tqdm_notebook as tqdm\n",
    "import matplotlib.pyplot as plt\n",
    "%matplotlib inline\n",
    "\n",
    "import neuraltda.topology2 as tp2\n",
    "import neuraltda.spectralAnalysis as sa\n",
    "import neuraltda.simpComp as sc\n",
    "import pycuslsa as pyslsa\n",
    "\n",
    "daystr = datetime.datetime.now().strftime('%Y%m%d')\n",
    "figsavepth = '/home/brad/DailyLog/'+daystr+'/'\n",
    "print(figsavepth)"
   ]
  },
  {
   "cell_type": "code",
   "execution_count": 8,
   "metadata": {},
   "outputs": [],
   "source": [
    "# Set up birds and block_paths\n",
    "birds = ['B1083', 'B1056', 'B1235', 'B1075']\n",
    "bps = {'B1083': '/home/brad/krista/B1083/P03S03/', 'B1075': '/home/brad/krista/B1075/P01S03/',\n",
    "       'B1235': '/home/brad/krista/B1235/P02S01/', 'B1056': '/home/brad/krista/B1056/klusta/phy020516/Pen01_Lft_AP100_ML1300__Site03_Z2500__B1056_cat_P01_S03_1/',\n",
    "       'B1056': '/home/brad/krista/B1056/klusta/phy020516/Pen01_Lft_AP100_ML1300__Site03_Z2500__B1056_cat_P01_S03_1/',\n",
    "       'B1083-5': '/home/brad/krista/B1083/P03S05/'}\n",
    "\n",
    "\n",
    "learned_stimuli = {'B1083': ['M_scaled_burung', 'N_scaled_burung', 'O_scaled_burung', 'P_scaled_burung'], 'B1056': ['A_scaled_burung', 'B_scaled_burung', 'C_scaled_burung', 'D_scaled_burung'], 'B1235': [], 'B1075': []}\n",
    "peck_stimuli = {'B1083': {'L': ['N_40k','P_40k'], 'R': ['M_40k', 'O_40k']}, 'B1056': {'L': ['B_scaled_burung', 'D_scaled_burung'], 'R': ['A_scaled_burung', 'C_scaled_burung']}, \n",
    "                'B1235': {'L': ['F_scaled_burung', 'H_scaled_burung'], 'R': ['E_scaled_burung', 'G_scaled_burung'],}, 'B1075': {'L': ['F_40k', 'H_40k'], 'R': ['E_40k', 'G_40k']},\n",
    "               'B1083-5': {'L': ['N_40k','P_40k'], 'R': ['M_40k', 'O_40k']}}\n",
    "\n",
    "unfamiliar_stimuli = {'B1083': ['I_40k', 'J_40k', 'K_40k', 'L_40k'], \n",
    "                      'B1083-5': ['I_40k', 'J_40k', 'K_40k', 'L_40k'],\n",
    "                      'B1235': ['A_scaled_burung', 'B_scaled_burung', 'C_scaled_burung', 'D_scaled_burung'], \n",
    "                      'B1075': ['A_40k', 'B_40k', 'C_40k', 'D_40k'], \n",
    "                      'B1056': ['E_scaled_burung', 'F_scaled_burung', 'G_scaled_burung', 'H_scaled_burung']\n",
    "                     }\n",
    "\n",
    "#bps =  {'B1056': '/home/AD/btheilma/krista/B1056/klusta/phy020516/Pen01_Lft_AP100_ML1300__Site03_Z2500__B1056_cat_P01_S03_1/',\n",
    "#        'B1235': '/home/AD/btheilma/krista/B1235/P02S01/'}\n",
    "#test_birds = ['B1056', 'B1235']\n",
    "#test_birds = ['B1075', 'B1235']\n",
    "#test_birds = ['B1056', 'B1235']\n",
    "#test_birds =['B1056', 'B1083']\n",
    "#test_birds = ['B1083']\n",
    "#test_birds = ['B1083', 'B1083-5']\n",
    "test_birds = ['B1056', 'B1235', 'B1083', 'B1083-5']\n",
    "test_birds = ['B1056']\n",
    "# Binning Parameters\n",
    "windt = 10.0                      # milliseconds\n",
    "dtovr = 0.5*windt                 # milliseconds\n",
    "segment_info = [0, 0]             # use full Trial\n",
    "cluster_group = ['Good']          # use just good clusters\n",
    "comment = 'JS_MI_TEST'            # BootStrap Populations\n",
    "bdfs = {}                         # Dictionary to store bdf"
   ]
  },
  {
   "cell_type": "code",
   "execution_count": 9,
   "metadata": {},
   "outputs": [
    {
     "name": "stdout",
     "output_type": "stream",
     "text": [
      "/home/brad/krista/B1056/klusta/phy020516/Pen01_Lft_AP100_ML1300__Site03_Z2500__B1056_cat_P01_S03_1/binned_data/win-10.0_dtovr-5.0_seg-0-0-JS_MI_TEST/20180525T180834Z-10.0-5.0.binned\n"
     ]
    }
   ],
   "source": [
    "# Loop through each bird in our list and bin the data\n",
    "for bird in test_birds:\n",
    "    block_path = bps[bird]\n",
    "    bfdict = tp2.dag_bin(block_path, windt, segment_info, cluster_group=cluster_group, dt_overlap=dtovr, comment=comment)\n",
    "    bdf = glob.glob(os.path.join(bfdict['raw'], '*.binned'))[0]\n",
    "    print(bdf)\n",
    "    bdfs[bird] = bdf"
   ]
  },
  {
   "cell_type": "code",
   "execution_count": 10,
   "metadata": {},
   "outputs": [
    {
     "name": "stdout",
     "output_type": "stream",
     "text": [
      "['B_scaled_burung', 'D_scaled_burung', 'A_scaled_burung', 'C_scaled_burung']\n",
      "['A_scaled_burung', 'B_scaled_burung', 'C_scaled_burung', 'D_scaled_burung', 'E_scaled_burung', 'F_scaled_burung', 'G_scaled_burung', 'H_scaled_burung', 'I_scaled_burung', 'J_scaled_burung', 'K_scaled_burung', 'L_scaled_burung', 'M_scaled_burung', 'N_scaled_burung', 'O_scaled_burung', 'P_scaled_burung']\n"
     ]
    }
   ],
   "source": [
    "# extract left vs right stims\n",
    "# extract population tensors for the populations of interest\n",
    "# Do not sort the stims\n",
    "population_tensors_familiar = {}\n",
    "stimuli = []\n",
    "\n",
    "for bird in test_birds:\n",
    "    stimuli = peck_stimuli[bird]['L'] + peck_stimuli[bird]['R']\n",
    "    print(stimuli)\n",
    "    bdf = bdfs[bird]\n",
    "    population_tensors_familiar[bird] = []\n",
    "    # open the binned data file\n",
    "    with h5.File(bdf, 'r') as f:\n",
    "        #stimuli = f.keys()\n",
    "        print(list(f.keys()))\n",
    "        for stim in stimuli:\n",
    "            poptens = np.array(f[stim]['pop_tens'])\n",
    "            population_tensors_familiar[bird].append([poptens, stim])"
   ]
  },
  {
   "cell_type": "code",
   "execution_count": 11,
   "metadata": {},
   "outputs": [
    {
     "name": "stdout",
     "output_type": "stream",
     "text": [
      "['E_scaled_burung', 'F_scaled_burung', 'G_scaled_burung', 'H_scaled_burung']\n",
      "['A_scaled_burung', 'B_scaled_burung', 'C_scaled_burung', 'D_scaled_burung', 'E_scaled_burung', 'F_scaled_burung', 'G_scaled_burung', 'H_scaled_burung', 'I_scaled_burung', 'J_scaled_burung', 'K_scaled_burung', 'L_scaled_burung', 'M_scaled_burung', 'N_scaled_burung', 'O_scaled_burung', 'P_scaled_burung']\n"
     ]
    }
   ],
   "source": [
    "# extract Unfamiliar stims\n",
    "# extract population tensors for the populations of interest\n",
    "# Do not sort the stims\n",
    "population_tensors_unfamiliar = {}\n",
    "stimuli = []\n",
    "\n",
    "for bird in test_birds:\n",
    "    stimuli = unfamiliar_stimuli[bird]\n",
    "    print(stimuli)\n",
    "    bdf = bdfs[bird]\n",
    "    population_tensors_unfamiliar[bird] = []\n",
    "    # open the binned data file\n",
    "    with h5.File(bdf, 'r') as f:\n",
    "        #stimuli = f.keys()\n",
    "        print(list(f.keys()))\n",
    "        for stim in stimuli:\n",
    "            poptens = np.array(f[stim]['pop_tens'])\n",
    "            population_tensors_unfamiliar[bird].append([poptens, stim])"
   ]
  },
  {
   "cell_type": "code",
   "execution_count": 26,
   "metadata": {},
   "outputs": [],
   "source": [
    "# flatten the list of population tensors for each population\n",
    "threshold = 6\n",
    "\n",
    "def threshold_poptens(tens, thresh):\n",
    "    ncell, nwins, ntrials = tens.shape\n",
    "    frs = np.mean(tens, axis=1)\n",
    "    tfr = thresh*frs\n",
    "    tfrtens = np.tile(tfr[:, np.newaxis, :], (1, nwins, 1))\n",
    "    bintens = 1*np.greater(tens, tfrtens)\n",
    "    return bintens\n",
    "\n",
    "def shuffle_binmat(binmat):\n",
    "    ncells, nwin = binmat.shape\n",
    "    for i in range(ncells):\n",
    "        binmat[i, :] = np.random.permutation(binmat[i, :])\n",
    "    return binmat\n",
    "\n",
    "def get_JS(i, j, Li, Lj, speci, specj, beta):\n",
    "    js = (i, j, sc.sparse_JS_divergence2_fast(Li, Lj, speci, specj, beta))\n",
    "    print((i, j))\n",
    "    return js\n",
    "\n",
    "def get_Lap(trial_matrix, sh):\n",
    "    if sh == 'shuffled':\n",
    "        mat = shuffle_binmat(trial_matrix)\n",
    "    else:\n",
    "        mat = trial_matrix\n",
    "    ms = sc.binarytomaxsimplex(trial_matrix, rDup=True)\n",
    "    scg1 = sc.simplicialChainGroups(ms)\n",
    "    L = sc.sparse_laplacian(scg1, dim)\n",
    "    return L\n",
    "\n"
   ]
  },
  {
   "cell_type": "code",
   "execution_count": 13,
   "metadata": {},
   "outputs": [],
   "source": [
    "\n",
    "poptens = {'familiar': population_tensors_familiar, 'unfamiliar': population_tensors_unfamiliar}"
   ]
  },
  {
   "cell_type": "code",
   "execution_count": null,
   "metadata": {},
   "outputs": [],
   "source": [
    "# Compute JS popA:\n",
    "#Left vs right\n",
    "\n",
    "dim = 1\n",
    "beta = 1.0\n",
    "\n",
    "for bird in test_birds:\n",
    "    for sh in ['original', 'shuffled']:\n",
    "        for fam in ['familiar', 'unfamiliar']:\n",
    "            ntrials = 10 # Only do half the trials for each stim\n",
    "            bird_tensors = poptens[fam][bird]\n",
    "            SCG = []\n",
    "            spectra = []\n",
    "            for bird_tensor, stim in bird_tensors:\n",
    "                binmatlist = []\n",
    "                print(bird, stim)\n",
    "                ncells, nwin, _ = bird_tensor.shape\n",
    "                bin_tensor = threshold_poptens(bird_tensor, threshold)\n",
    "                for trial in tqdm(range(ntrials)):\n",
    "                    if sh == 'shuffled':\n",
    "                        binmatlist.append(shuffle_binmat(bin_tensor[:, :, trial]))\n",
    "                    else:\n",
    "                        binmatlist.append(bin_tensor[:, :, trial])\n",
    "                    ms = sc.binarytomaxsimplex(bin_tensor[:, :, trial], rDup=True)\n",
    "                    scg1 = sc.simplicialChainGroups(ms)\n",
    "                    SCG.append(scg1)\n",
    "                    L = sc.sparse_laplacian(scg1, dim)\n",
    "                    rho = sc.sparse_density_matrix(L, beta)\n",
    "                    r = sc.sparse_density_spectrum(rho)\n",
    "                    spectra.append(r)\n",
    "            N = len(SCG)\n",
    "            # compute density matrices\n",
    "            \n",
    "            jsmat = np.zeros((N, N))\n",
    "            for i in tqdm(range(N)):\n",
    "                for j in range(i, N):\n",
    "                    jsmat[i, j] = sc.sparse_reconciled_spectrum_JS(spectra[i], spectra[j])\n",
    "            with open(os.path.join(figsavepth, 'JSpop_{}-{}-{}-{}_LvsR-{}-{}'.format(bird, dim, beta, ntrials, fam, sh)), 'wb') as f:\n",
    "                pickle.dump(jsmat, f)\n",
    "            \n"
   ]
  },
  {
   "cell_type": "code",
   "execution_count": 27,
   "metadata": {
    "scrolled": false
   },
   "outputs": [
    {
     "name": "stdout",
     "output_type": "stream",
     "text": [
      "Computing Laplacians and Spectra for B1056 original familiar...\n",
      "B1056 B_scaled_burung\n",
      "B1056 D_scaled_burung\n",
      "B1056 A_scaled_burung\n",
      "B1056 C_scaled_burung\n",
      "Computing Spectra...\n",
      "Computing JS Divergences with beta 1...\n",
      "(1, 1)\n",
      "(0, 1)\n",
      "(2, 2)\n",
      "(1, 4)\n",
      "(4, 4)\n",
      "(3, 3)\n",
      "(2, 3)\n",
      "(0, 0)\n",
      "(3, 4)\n",
      "(1, 3)\n",
      "(0, 2)\n",
      "(1, 2)\n",
      "(0, 3)\n",
      "(2, 4)\n",
      "(0, 4)\n"
     ]
    }
   ],
   "source": [
    "# mirroring cuda code\n",
    "#Left vs right\n",
    "reload(sc)\n",
    "dim = 1\n",
    "beta = 3\n",
    "\n",
    "betas = [1]\n",
    "\n",
    "for bird in test_birds:\n",
    "    for sh in ['original']:\n",
    "        for fam in ['familiar']:\n",
    "            ntrials = 5 # Only do half the trials for each stim\n",
    "            bird_tensors = poptens[fam][bird]\n",
    "            SCG = []\n",
    "            spectra = []\n",
    "            laplacians = []\n",
    "            print('Computing Laplacians and Spectra for {} {} {}...'.format(bird, sh, fam))\n",
    "            for bird_tensor, stim in bird_tensors:\n",
    "                binmatlist = []\n",
    "                print(bird, stim)\n",
    "                ncells, nwin, _ = bird_tensor.shape\n",
    "                bin_tensor = threshold_poptens(bird_tensor, threshold)\n",
    "                laplacians = Parallel(n_jobs=23)(delayed(get_Lap)(bin_tensor[:, :, trial], sh) for trial in range(ntrials))\n",
    "            N = len(laplacians)\n",
    "            \n",
    "            # compute spectra\n",
    "            print('Computing Spectra...')\n",
    "            spectra = Parallel(n_jobs=23)(delayed(sc.sparse_spectrum)(L) for L in laplacians)\n",
    "            # compute density matrices\n",
    "            pairs = [(i, j) for i in range(N) for j in range(i, N)]\n",
    "            for beta in betas:\n",
    "                print('Computing JS Divergences with beta {}...'.format(beta))\n",
    "                jsmat = np.zeros((N, N))\n",
    "                \n",
    "                jsdat = Parallel(n_jobs=23)(delayed(get_JS)(i, j, laplacians[i], laplacians[j], spectra[i], spectra[j], beta) for (i, j) in pairs)\n",
    "                for d in jsdat:\n",
    "                    jsmat[d[0], d[1]] = d[2]\n",
    "            \n",
    "                with open(os.path.join(figsavepth, 'JSpop_fast_{}-{}-{}-{}_LvsR-{}-{}.pkl'.format(bird, dim, beta, ntrials, fam, sh)), 'wb') as f:\n",
    "                    pickle.dump(jsmat, f)\n",
    "            \n"
   ]
  },
  {
   "cell_type": "code",
   "execution_count": 15,
   "metadata": {},
   "outputs": [],
   "source": [
    "from joblib import Parallel, delayed\n"
   ]
  },
  {
   "cell_type": "code",
   "execution_count": null,
   "metadata": {},
   "outputs": [],
   "source": [
    "test"
   ]
  },
  {
   "cell_type": "code",
   "execution_count": null,
   "metadata": {},
   "outputs": [],
   "source": []
  }
 ],
 "metadata": {
  "kernelspec": {
   "display_name": "Python 3",
   "language": "python",
   "name": "python3"
  },
  "language_info": {
   "codemirror_mode": {
    "name": "ipython",
    "version": 3
   },
   "file_extension": ".py",
   "mimetype": "text/x-python",
   "name": "python",
   "nbconvert_exporter": "python",
   "pygments_lexer": "ipython3",
   "version": "3.6.2"
  }
 },
 "nbformat": 4,
 "nbformat_minor": 2
}
