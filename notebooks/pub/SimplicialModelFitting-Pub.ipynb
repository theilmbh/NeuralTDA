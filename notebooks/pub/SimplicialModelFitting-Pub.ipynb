{
 "cells": [
  {
   "cell_type": "code",
   "execution_count": 3,
   "metadata": {},
   "outputs": [
    {
     "name": "stdout",
     "output_type": "stream",
     "text": [
      "/home/brad/DailyLog/20180228/\n"
     ]
    }
   ],
   "source": [
    "# My code\n",
    "import neuraltda.simpComp as sc\n",
    "import neuraltda.topology2 as tp2\n",
    "import neuraltda.spectralAnalysis as sa\n",
    "from ephys import rasters\n",
    "import pyslsa\n",
    "\n",
    "# System Libs\n",
    "from importlib import reload\n",
    "import pickle\n",
    "import glob\n",
    "import os\n",
    "\n",
    "# Scientific Libs\n",
    "import numpy as np\n",
    "from scipy.optimize import brentq\n",
    "import tqdm\n",
    "\n",
    "# Plotting libs\n",
    "import matplotlib.pyplot as plt\n",
    "\n",
    "# Set some parameters\n",
    "%matplotlib inline\n",
    "reload(sa)\n",
    "reload(sc)\n",
    "reload(pyslsa)\n",
    "import time\n",
    "np.random.seed(int(time.time()))\n",
    "\n",
    "import datetime\n",
    "daystr = datetime.datetime.now().strftime('%Y%m%d')\n",
    "figsavepth = '/home/brad/DailyLog/'+daystr+'/'\n",
    "print(figsavepth)\n"
   ]
  },
  {
   "cell_type": "code",
   "execution_count": 4,
   "metadata": {},
   "outputs": [],
   "source": [
    "def binmat_to_scg_C(sptrain):\n",
    "    msimps = sc.binarytomaxsimplex(sptrain, True)\n",
    "    return pyslsa.build_SCG(msimps)\n",
    "def loss_C(a, beta, Etarget, dim, ncells, nwin, nsamples2):\n",
    "    # take a probabilities,\n",
    "    # generate random configurations, \n",
    "    # measure KL divergence to data, \n",
    "    # report loss\n",
    "    \n",
    "    # Declare variables\n",
    "    KLsave = []\n",
    "    JSsave = []\n",
    "    probs = (a*np.ones((ncells, 1)))\n",
    "\n",
    "    # Generate new spike trains\n",
    "    samples = np.random.rand(ncells, nwin, nsamples2)\n",
    "    probmat = np.tile(probs,  (1, nwin))[:, :, np.newaxis]\n",
    "    probmat = np.tile(probmat, (1, 1, nsamples2))\n",
    "    binMatsamples = np.greater(probmat, samples).astype(int)\n",
    "    #Emodels = precompute_test_scg(binMatsamples)\n",
    "    \n",
    "    # Compute simplicial complex \n",
    "    SCGs = []\n",
    "    for ind in range(nsamples2):\n",
    "        maxsimps = sc.binarytomaxsimplex(binMatsamples[:, :, ind], rDup=True)\n",
    "        # Compute SCG for test spike trains\n",
    "        #Emodel = Emodels[ind]\n",
    "        Emodel = pyslsa.build_SCG(maxsimps)\n",
    "\n",
    "        # Compute KL divergence for this test spike train and store it. \n",
    "        #%time div = pyslsa.KL(Etarget, Emodel, dim, beta)\n",
    "        div = pyslsa.KL(Etarget, Emodel, dim, beta)\n",
    "        KLsave.append(div)\n",
    "    \n",
    "    # Compute mean and stderr over all the test spike trains\n",
    "    m = np.mean(KLsave)\n",
    "    std = np.std(KLsave)\n",
    "    stderr = std / np.sqrt(nsamples2)\n",
    "    return (m, stderr)\n",
    "\n",
    "def run_simulation(alphas):\n",
    "    KLS = []\n",
    "    for alpha in alphas:\n",
    "        # Generate binary matrix with given probabilities for each \"cell\"\n",
    "        ncells = 20\n",
    "        nwin = 1000\n",
    "        nsamples2 = 25\n",
    "        dim=1\n",
    "        a = alpha\n",
    "        print(a)\n",
    "        probs = (a*np.ones((ncells, 1)))\n",
    "        nsamples = 2\n",
    "        samples = np.random.rand(ncells, nwin, nsamples)\n",
    "        probmat = np.tile(probs,  (1, nwin))[:, :, np.newaxis]\n",
    "        probmat = np.tile(probmat, (1, 1, nsamples))\n",
    "        binMatsamples = np.greater(probmat, samples).astype(int)\n",
    "        # Compute SCG for each sample\n",
    "        SCGs = []\n",
    "        for ind in range(nsamples):\n",
    "            E = binmat_to_scg_C(binMatsamples[:, :, ind])\n",
    "            SCGs.append(E)\n",
    "        Etarget = SCGs[0]\n",
    "        Etest = SCGs[1]\n",
    "\n",
    "        SCGs_old = []\n",
    "        for ind in range(nsamples):\n",
    "            msimps = sc.binarytomaxsimplex(binMat=binMatsamples[:, :, ind], rDup=True)\n",
    "            E = sc.simplicialChainGroups(msimps)\n",
    "            SCGs_old.append(E)\n",
    "        Etarget_old = SCGs_old[0]\n",
    "        Etest_old = SCGs_old[1]\n",
    "        \n",
    "        est_save = []\n",
    "        ntrials = 1\n",
    "        X = np.linspace(0.001, 0.1, 50)\n",
    "        beta = 0.2\n",
    "        #print(t)\n",
    "        KL=[]\n",
    "        JS = []\n",
    "        KLerr = []\n",
    "        JSerr = []\n",
    "        for i, x in tqdm.tqdm(enumerate(X)):\n",
    "            #print(x)\n",
    "            (m, stderr) = loss_C(x, beta, Etarget, dim, ncells, nwin, nsamples2)\n",
    "            KL.append(m)\n",
    "            KLerr.append(stderr)\n",
    "        KLS.append((KL, KLerr))\n",
    "        \n",
    "    return KLS, X"
   ]
  },
  {
   "cell_type": "code",
   "execution_count": 10,
   "metadata": {},
   "outputs": [
    {
     "name": "stderr",
     "output_type": "stream",
     "text": [
      "2it [00:00, 19.21it/s]"
     ]
    },
    {
     "name": "stdout",
     "output_type": "stream",
     "text": [
      "0.01\n"
     ]
    },
    {
     "name": "stderr",
     "output_type": "stream",
     "text": [
      "50it [00:32,  1.55it/s]\n",
      "2it [00:00, 18.22it/s]"
     ]
    },
    {
     "name": "stdout",
     "output_type": "stream",
     "text": [
      "0.02\n"
     ]
    },
    {
     "name": "stderr",
     "output_type": "stream",
     "text": [
      "50it [00:33,  1.48it/s]\n",
      "0it [00:00, ?it/s]"
     ]
    },
    {
     "name": "stdout",
     "output_type": "stream",
     "text": [
      "0.03\n"
     ]
    },
    {
     "name": "stderr",
     "output_type": "stream",
     "text": [
      "50it [00:35,  1.40it/s]\n",
      "1it [00:00,  7.73it/s]"
     ]
    },
    {
     "name": "stdout",
     "output_type": "stream",
     "text": [
      "0.04\n"
     ]
    },
    {
     "name": "stderr",
     "output_type": "stream",
     "text": [
      "50it [00:38,  1.31it/s]\n"
     ]
    }
   ],
   "source": [
    "alphas = [0.01, 0.02, 0.03, 0.04]\n",
    "kls, X = run_simulation(alphas)"
   ]
  },
  {
   "cell_type": "code",
   "execution_count": 11,
   "metadata": {},
   "outputs": [
    {
     "data": {
      "image/png": "[encoded data removed]",
      "text/plain": [
       "<matplotlib.figure.Figure at 0x7f3bd54496a0>"
      ]
     },
     "metadata": {},
     "output_type": "display_data"
    }
   ],
   "source": [
    "\n",
    "#sns.set_style('white')\n",
    "fig = plt.figure(figsize=(5,4))\n",
    "ax = fig.add_subplot(111)\n",
    "for ind, (KL, KLerr) in enumerate(kls):\n",
    "\n",
    "    p, _, _ = ax.errorbar(X, KL, yerr=KLerr, linewidth=2, capsize=4, capthick=1)\n",
    "    ax.plot([alphas[ind], alphas[ind]], [-2, 2], color=p.get_color(), linestyle='--', linewidth=2)\n",
    "    \n",
    "ax.tick_params(which='both', labelsize=18, length=8)\n",
    "for tick in ax.get_xticklabels():\n",
    "    tick.set_fontname('helvetica')\n",
    "for tick in ax.get_yticklabels():\n",
    "    tick.set_fontname('helvetica')\n",
    "    \n",
    "ax.set_ylim(-0.01, 0.4)\n",
    "ax.set_xlim(0.0, 0.05)\n",
    "figpath = os.path.join(figsavepth, 'PoissonModelFit1Group.eps')\n",
    "plt.savefig(figpath)"
   ]
  },
  {
   "cell_type": "code",
   "execution_count": 14,
   "metadata": {},
   "outputs": [
    {
     "name": "stdout",
     "output_type": "stream",
     "text": [
      "/home/brad/DailyLog/20180206/\n"
     ]
    },
    {
     "data": {
      "text/plain": [
       "<matplotlib.figure.Figure at 0x7f138916acc0>"
      ]
     },
     "metadata": {},
     "output_type": "display_data"
    }
   ],
   "source": [
    "import os\n",
    "import datetime\n",
    "daystr = datetime.datetime.now().strftime('%Y%m%d')\n",
    "figsavepth = '/home/brad/DailyLog/'+daystr+'/'\n",
    "print(figsavepth)\n",
    "figpath = os.path.join(figsavepth, 'PoissonModelFit1Group.eps')\n",
    "plt.savefig(figpath)\n"
   ]
  },
  {
   "cell_type": "code",
   "execution_count": 12,
   "metadata": {},
   "outputs": [],
   "source": [
    "def loss_C_2group(a, b, beta, Etarget, dim, ncells, nwin, nsamples2):\n",
    "    # take a probabilities,\n",
    "    # generate random configurations, \n",
    "    # measure KL divergence to data, \n",
    "    # report loss\n",
    "    \n",
    "    # Declare variables\n",
    "    KLsave = []\n",
    "    JSsave = []\n",
    "    probs = np.vstack((a*np.ones((ncells, 1)), b*np.ones((ncells, 1))))\n",
    "\n",
    "    # Generate new spike trains\n",
    "    samples = np.random.rand(2*ncells, nwin, nsamples2)\n",
    "    probmat = np.tile(probs,  (1, nwin))[:, :, np.newaxis]\n",
    "    probmat = np.tile(probmat, (1, 1, nsamples2))\n",
    "    binMatsamples = np.greater(probmat, samples).astype(int)\n",
    "    #Emodels = precompute_test_scg(binMatsamples)\n",
    "    \n",
    "    # Compute simplicial complex \n",
    "    SCGs = []\n",
    "    for ind in range(nsamples2):\n",
    "        maxsimps = sc.binarytomaxsimplex(binMatsamples[:, :, ind], rDup=True)\n",
    "        # Compute SCG for test spike trains\n",
    "        #Emodel = Emodels[ind]\n",
    "        Emodel = pyslsa.build_SCG(maxsimps)\n",
    "\n",
    "        # Compute KL divergence for this test spike train and store it. \n",
    "        #%time div = pyslsa.KL(Etarget, Emodel, dim, beta)\n",
    "        div = pyslsa.KL(Etarget, Emodel, dim, beta)\n",
    "        KLsave.append(div)\n",
    "    \n",
    "    # Compute mean and stderr over all the test spike trains\n",
    "    m = np.mean(KLsave)\n",
    "    std = np.std(KLsave)\n",
    "    stderr = std / np.sqrt(nsamples2)\n",
    "    return (m, stderr)\n",
    "\n",
    "def run_simulation_2group(alphas):\n",
    "    KLS = []\n",
    "    for alphap in alphas:\n",
    "        a = alphap[0]\n",
    "        b = alphap[1]\n",
    "        # Generate binary matrix with given probabilities for each \"cell\"\n",
    "        ncells = 10\n",
    "        nwin = 1000\n",
    "        nsamples2 = 5\n",
    "        dim=1\n",
    "        nsamples = 2\n",
    "        probs = np.vstack((a*np.ones((ncells, 1)), b*np.ones((ncells, 1))))\n",
    "        samples = np.random.rand(2*ncells, nwin, nsamples2)\n",
    "        probmat = np.tile(probs,  (1, nwin))[:, :, np.newaxis]\n",
    "        probmat = np.tile(probmat, (1, 1, nsamples2))\n",
    "        binMatsamples = np.greater(probmat, samples).astype(int)\n",
    "        # Compute SCG for each sample\n",
    "        SCGs = []\n",
    "        for ind in range(nsamples):\n",
    "            E = binmat_to_scg_C(binMatsamples[:, :, ind])\n",
    "            SCGs.append(E)\n",
    "        Etarget = SCGs[0]\n",
    "        Etest = SCGs[1]\n",
    "\n",
    "        SCGs_old = []\n",
    "        for ind in range(nsamples):\n",
    "            msimps = sc.binarytomaxsimplex(binMat=binMatsamples[:, :, ind], rDup=True)\n",
    "            E = sc.simplicialChainGroups(msimps)\n",
    "            SCGs_old.append(E)\n",
    "        Etarget_old = SCGs_old[0]\n",
    "        Etest_old = SCGs_old[1]\n",
    "        \n",
    "        est_save = []\n",
    "        ntrials = 1\n",
    "        X = np.linspace(0.001, 0.1, 50)\n",
    "        Y = np.linspace(0.001, 0.1, 50)\n",
    "        Xs, Ys = np.meshgrid(X, Y)\n",
    "        beta = 0.2\n",
    "        #print(t)\n",
    "        KL=[]\n",
    "        JS = []\n",
    "        KLerr = []\n",
    "        JSerr = []\n",
    "        for x in tqdm.tqdm(X):\n",
    "            #print(x)\n",
    "            for y in Y:\n",
    "                #print(y)\n",
    "                (m, stderr) = loss_C_2group(x, y, beta, Etarget, dim, ncells, nwin, nsamples2)\n",
    "                KL.append(m)\n",
    "                KLerr.append(stderr)\n",
    "        KLS.append((KL, KLerr))\n",
    "        \n",
    "    return KLS, X\n"
   ]
  },
  {
   "cell_type": "code",
   "execution_count": 24,
   "metadata": {},
   "outputs": [
    {
     "name": "stderr",
     "output_type": "stream",
     "text": [
      "100%|██████████| 50/50 [04:27<00:00,  5.36s/it]\n"
     ]
    }
   ],
   "source": [
    "alphas = [(0.02, 0.05)]\n",
    "kls, x = run_simulation_2group(alphas)"
   ]
  },
  {
   "cell_type": "code",
   "execution_count": 9,
   "metadata": {},
   "outputs": [],
   "source": [
    "import pickle\n",
    "with open('/home/brad/2grouptest20180206.pkl', 'wb') as f:\n",
    "    pickle.dump((kls, x), f)"
   ]
  },
  {
   "cell_type": "code",
   "execution_count": 29,
   "metadata": {},
   "outputs": [
    {
     "data": {
      "image/png": "[encoded data removed]",
      "text/plain": [
       "<matplotlib.figure.Figure at 0x7f3bd4bae080>"
      ]
     },
     "metadata": {},
     "output_type": "display_data"
    }
   ],
   "source": [
    "KL = [x[0] for x in kls]\n",
    "KL = np.reshape(KL, (50, 50))\n",
    "plt.figure(figsize=(4, 4))\n",
    "plt.imshow(KL, interpolation='none', origin='lower',\n",
    "                cmap='hot', extent=(0.001, 0.1, 0.001, 0.1),vmin=0.02, vmax=0.18)\n",
    "plt.plot([alphas[0][0]], [alphas[0][1]], 'wo', markersize=2)\n",
    "plt.plot([alphas[0][1]], [alphas[0][0]], 'wo', markersize=2)\n",
    "cbar = plt.colorbar()\n",
    "cbar.ax.tick_params(labelsize=16, )\n",
    "for t in cbar.ax.yaxis.get_ticklabels():\n",
    "    t.set_family('helvetica')\n",
    "levels = np.linspace(0.001, 0.07, 12)\n",
    "#CS = plt.contour(KL, origin='lower', levels=levels, linewidths=2,extent=(0.001, 0.1, 0.001, 0.1), cmap='jet')\n",
    "ax = plt.gca()\n",
    "ax.set_xticks(np.arange(0.01, 0.1, 0.02))\n",
    "ax.set_yticks(np.arange(0.01, 0.1, 0.02))\n",
    "for i in ax.get_xticklabels():\n",
    "    i.set_fontsize(14)\n",
    "    i.set_fontname('helvetica')\n",
    "for i in ax.get_yticklabels():\n",
    "    i.set_fontsize(14)\n",
    "    i.set_fontname('helvetica')\n",
    "\n",
    "figpath = os.path.join(figsavepth, 'PoissonModelFit2GroupAlt2.eps')\n",
    "plt.savefig(figpath)"
   ]
  },
  {
   "cell_type": "code",
   "execution_count": 98,
   "metadata": {},
   "outputs": [
    {
     "name": "stdout",
     "output_type": "stream",
     "text": [
      "/home/brad/DailyLog/20180207/\n"
     ]
    },
    {
     "data": {
      "text/plain": [
       "<matplotlib.figure.Figure at 0x7f1eb989d518>"
      ]
     },
     "metadata": {},
     "output_type": "display_data"
    }
   ],
   "source": [
    "import os\n",
    "import datetime\n",
    "daystr = datetime.datetime.now().strftime('%Y%m%d')\n",
    "figsavepth = '/home/brad/DailyLog/'+daystr+'/'\n",
    "print(figsavepth)\n",
    "figpath = os.path.join(figsavepth, 'PoissonModelFit2GroupAlt2_LogScale.eps')\n",
    "plt.savefig(figpath)"
   ]
  },
  {
   "cell_type": "code",
   "execution_count": 36,
   "metadata": {},
   "outputs": [
    {
     "data": {
      "text/plain": [
       "0.007982494935981735"
      ]
     },
     "execution_count": 36,
     "metadata": {},
     "output_type": "execute_result"
    }
   ],
   "source": [
    "np.amin(KL)"
   ]
  },
  {
   "cell_type": "code",
   "execution_count": 26,
   "metadata": {},
   "outputs": [
    {
     "data": {
      "text/plain": [
       "array([0.01])"
      ]
     },
     "execution_count": 26,
     "metadata": {},
     "output_type": "execute_result"
    }
   ],
   "source": [
    "np.arange(0.01, 1.4, 50)"
   ]
  },
  {
   "cell_type": "code",
   "execution_count": null,
   "metadata": {},
   "outputs": [],
   "source": []
  }
 ],
 "metadata": {
  "kernelspec": {
   "display_name": "Python 3",
   "language": "python",
   "name": "python3"
  },
  "language_info": {
   "codemirror_mode": {
    "name": "ipython",
    "version": 3
   },
   "file_extension": ".py",
   "mimetype": "text/x-python",
   "name": "python",
   "nbconvert_exporter": "python",
   "pygments_lexer": "ipython3",
   "version": "3.7.3"
  }
 },
 "nbformat": 4,
 "nbformat_minor": 2
}
