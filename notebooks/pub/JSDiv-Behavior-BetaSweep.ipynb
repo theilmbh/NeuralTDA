{
 "cells": [
  {
   "cell_type": "code",
   "execution_count": 1,
   "metadata": {},
   "outputs": [
    {
     "name": "stdout",
     "output_type": "stream",
     "text": [
      "/home/brad/DailyLog/20190318/\n"
     ]
    }
   ],
   "source": [
    "import numpy as np\n",
    "import pickle\n",
    "import matplotlib.pyplot as plt\n",
    "import os\n",
    "import glob\n",
    "import datetime\n",
    "from joblib import Parallel, delayed\n",
    "from neuraltda import simpComp as sc\n",
    "from tqdm import tqdm_notebook as tqdm\n",
    "%matplotlib inline\n",
    "\n",
    "daystr = datetime.datetime.now().strftime('%Y%m%d')\n",
    "figsavepth = '/home/brad/DailyLog/'+daystr+'/'\n",
    "print(figsavepth)\n",
    "plt.style.use('/home/brad/code/NeuralTDA/gentnerlab.mplstyle')"
   ]
  },
  {
   "cell_type": "code",
   "execution_count": 28,
   "metadata": {},
   "outputs": [],
   "source": [
    "def get_JS_spec(i, j, speci, specj, specm, beta):\n",
    "    js = (i, j, sc.sparse_JS_divergence2_spec(speci, specj, specm, beta))\n",
    "    return js\n",
    "\n",
    "def compute_JS_div_mtx(lapspectra, Mspectra, beta):\n",
    "    N = len(lapspectra)\n",
    "    pairs = [(i, j) for i in range(N) for j in range(i, N)]\n",
    "    #print('Computing JS Divergences with beta {}...'.format(beta))\n",
    "    jsmat = np.zeros((N, N))\n",
    "\n",
    "    jsdat = Parallel(n_jobs=24)(delayed(get_JS_spec)(i, j, lapspectra[i], lapspectra[j], Mspectra[(i,j)], beta) for (i, j) in pairs)\n",
    "    for d in jsdat:\n",
    "        jsmat[d[0], d[1]] = d[2]\n",
    "    return jsmat\n",
    "\n",
    "\n",
    "def compute_within_vs_between(mtx, ntrials, nstim, diag=0):\n",
    "    stim_per_group = int(nstim//2)\n",
    "    \n",
    "    btwn_data = mtx[0:stim_per_group*ntrials, stim_per_group*ntrials:]\n",
    "    within1 = mtx[0:stim_per_group*ntrials, 0:stim_per_group*ntrials][np.triu_indices(stim_per_group*ntrials, diag)]\n",
    "    within2 = mtx[stim_per_group*ntrials:, stim_per_group*ntrials:][np.triu_indices(stim_per_group*ntrials, diag)]\n",
    "    \n",
    "    within = np.concatenate((within1, within2))\n",
    "    return (btwn_data, within)\n",
    "\n",
    "def get_lapfile_params(lapfile):\n",
    "    lap_filename = os.path.splitext(os.path.split(lapfile)[-1])[0]\n",
    "    params = lap_filename.split('Lapsectra_')[-1].split('-')\n",
    "    fam = params[-1]\n",
    "    shuf = params[-2]\n",
    "    ntrials = params[-3]\n",
    "    bird = params[-4]\n",
    "    return {'bird': bird, 'ntrials': ntrials, 'shuf': shuf, 'fam': fam}\n",
    "\n",
    "def compute_withins_vs_between(mtx, ntrials, nstim, diag=0):\n",
    "    stim_per_group = int(nstim//2)\n",
    "    \n",
    "    btwn_data = mtx[0:stim_per_group*ntrials, stim_per_group*ntrials:]\n",
    "    within1 = mtx[0:stim_per_group*ntrials, 0:stim_per_group*ntrials][np.triu_indices(stim_per_group*ntrials, diag)]\n",
    "    within2 = mtx[stim_per_group*ntrials:, stim_per_group*ntrials:][np.triu_indices(stim_per_group*ntrials, diag)]\n",
    "    \n",
    "    within = np.concatenate((within1, within2))\n",
    "    return (btwn_data, within1, within2)"
   ]
  },
  {
   "cell_type": "code",
   "execution_count": 29,
   "metadata": {},
   "outputs": [
    {
     "name": "stdout",
     "output_type": "stream",
     "text": [
      "[('/home/brad/DailyLog/20190318/Lapspectra_B1056-20-original-familiar.pkl', '/home/brad/DailyLog/20190318/Mspectra_B1056-20-original-familiar.pkl'), ('/home/brad/DailyLog/20190318/Lapspectra_B1056-20-original-unfamiliar.pkl', '/home/brad/DailyLog/20190318/Mspectra_B1056-20-original-unfamiliar.pkl'), ('/home/brad/DailyLog/20190318/Lapspectra_B1056-20-shuffled-familiar.pkl', '/home/brad/DailyLog/20190318/Mspectra_B1056-20-shuffled-familiar.pkl'), ('/home/brad/DailyLog/20190318/Lapspectra_B1056-20-shuffled-unfamiliar.pkl', '/home/brad/DailyLog/20190318/Mspectra_B1056-20-shuffled-unfamiliar.pkl'), ('/home/brad/DailyLog/20190318/Lapspectra_B1083-20-original-familiar.pkl', '/home/brad/DailyLog/20190318/Mspectra_B1083-20-original-familiar.pkl'), ('/home/brad/DailyLog/20190318/Lapspectra_B1083-20-original-unfamiliar.pkl', '/home/brad/DailyLog/20190318/Mspectra_B1083-20-original-unfamiliar.pkl'), ('/home/brad/DailyLog/20190318/Lapspectra_B1083-20-shuffled-familiar.pkl', '/home/brad/DailyLog/20190318/Mspectra_B1083-20-shuffled-familiar.pkl'), ('/home/brad/DailyLog/20190318/Lapspectra_B1083-20-shuffled-unfamiliar.pkl', '/home/brad/DailyLog/20190318/Mspectra_B1083-20-shuffled-unfamiliar.pkl'), ('/home/brad/DailyLog/20190318/Lapspectra_B1083-5-20-original-familiar.pkl', '/home/brad/DailyLog/20190318/Mspectra_B1083-5-20-original-familiar.pkl'), ('/home/brad/DailyLog/20190318/Lapspectra_B1083-5-20-original-unfamiliar.pkl', '/home/brad/DailyLog/20190318/Mspectra_B1083-5-20-original-unfamiliar.pkl'), ('/home/brad/DailyLog/20190318/Lapspectra_B1083-5-20-shuffled-familiar.pkl', '/home/brad/DailyLog/20190318/Mspectra_B1083-5-20-shuffled-familiar.pkl'), ('/home/brad/DailyLog/20190318/Lapspectra_B1083-5-20-shuffled-unfamiliar.pkl', '/home/brad/DailyLog/20190318/Mspectra_B1083-5-20-shuffled-unfamiliar.pkl'), ('/home/brad/DailyLog/20190318/Lapspectra_B1235-20-original-familiar.pkl', '/home/brad/DailyLog/20190318/Mspectra_B1235-20-original-familiar.pkl'), ('/home/brad/DailyLog/20190318/Lapspectra_B1235-20-original-unfamiliar.pkl', '/home/brad/DailyLog/20190318/Mspectra_B1235-20-original-unfamiliar.pkl'), ('/home/brad/DailyLog/20190318/Lapspectra_B1235-20-shuffled-familiar.pkl', '/home/brad/DailyLog/20190318/Mspectra_B1235-20-shuffled-familiar.pkl'), ('/home/brad/DailyLog/20190318/Lapspectra_B1235-20-shuffled-unfamiliar.pkl', '/home/brad/DailyLog/20190318/Mspectra_B1235-20-shuffled-unfamiliar.pkl')]\n"
     ]
    }
   ],
   "source": [
    "betas = np.logspace(-1, 2)\n",
    "nstim = 4\n",
    "ntrials=20\n",
    "\n",
    "lap_file = '/home/brad/DailyLog/20190314/Lapspectra_B1083-20-original-familiar.pkl'\n",
    "m_file = '/home/brad/DailyLog/20190314/Mspectra_B1083-20-original-familiar.pkl'\n",
    "\n",
    "lap_files = glob.glob('/home/brad/DailyLog/20190318/Lapspectra*.pkl')\n",
    "m_files = glob.glob('/home/brad/DailyLog/20190318/Mspectra*.pkl')\n",
    "\n",
    "file_pairs = []\n",
    "for lap_file in lap_files:\n",
    "    lap_filename = os.path.split(lap_file)[-1]\n",
    "    params = lap_filename.split('Lapspectra')[-1]\n",
    "    m_files = glob.glob(os.path.join('/home/brad/DailyLog/20190318/', 'Mspectra'+params))\n",
    "    if m_files:\n",
    "        file_pairs.append((lap_file, m_files[0]))\n",
    "\n",
    "file_pairs = sorted(file_pairs)\n",
    "print(file_pairs)"
   ]
  },
  {
   "cell_type": "code",
   "execution_count": 31,
   "metadata": {
    "scrolled": false
   },
   "outputs": [
    {
     "data": {
      "application/vnd.jupyter.widget-view+json": {
       "model_id": "5d63437d065f4be3815ba6f144424700",
       "version_major": 2,
       "version_minor": 0
      },
      "text/plain": [
       "HBox(children=(IntProgress(value=0, max=16), HTML(value='')))"
      ]
     },
     "metadata": {},
     "output_type": "display_data"
    },
    {
     "data": {
      "application/vnd.jupyter.widget-view+json": {
       "model_id": "8c8c6b2a01ee4f8e9a9e13f5db2fc7f1",
       "version_major": 2,
       "version_minor": 0
      },
      "text/plain": [
       "HBox(children=(IntProgress(value=0, max=50), HTML(value='')))"
      ]
     },
     "metadata": {},
     "output_type": "display_data"
    },
    {
     "name": "stdout",
     "output_type": "stream",
     "text": [
      "\n"
     ]
    },
    {
     "ename": "KeyboardInterrupt",
     "evalue": "",
     "output_type": "error",
     "traceback": [
      "\u001b[0;31m---------------------------------------------------------------------------\u001b[0m",
      "\u001b[0;31mKeyboardInterrupt\u001b[0m                         Traceback (most recent call last)",
      "\u001b[0;32m<ipython-input-31-3e9b6cdb278a>\u001b[0m in \u001b[0;36m<module>\u001b[0;34m()\u001b[0m\n\u001b[1;32m     17\u001b[0m \u001b[0;34m\u001b[0m\u001b[0m\n\u001b[1;32m     18\u001b[0m     \u001b[0;32mfor\u001b[0m \u001b[0mind\u001b[0m\u001b[0;34m,\u001b[0m \u001b[0mbeta\u001b[0m \u001b[0;32min\u001b[0m \u001b[0menumerate\u001b[0m\u001b[0;34m(\u001b[0m\u001b[0mtqdm\u001b[0m\u001b[0;34m(\u001b[0m\u001b[0mbetas\u001b[0m\u001b[0;34m)\u001b[0m\u001b[0;34m)\u001b[0m\u001b[0;34m:\u001b[0m\u001b[0;34m\u001b[0m\u001b[0m\n\u001b[0;32m---> 19\u001b[0;31m         \u001b[0mmat\u001b[0m \u001b[0;34m=\u001b[0m \u001b[0mcompute_JS_div_mtx\u001b[0m\u001b[0;34m(\u001b[0m\u001b[0mlapspectra\u001b[0m\u001b[0;34m,\u001b[0m \u001b[0mMspectra\u001b[0m\u001b[0;34m,\u001b[0m \u001b[0mbeta\u001b[0m\u001b[0;34m)\u001b[0m\u001b[0;34m\u001b[0m\u001b[0m\n\u001b[0m\u001b[1;32m     20\u001b[0m         \u001b[0;34m(\u001b[0m\u001b[0mbtwn\u001b[0m\u001b[0;34m,\u001b[0m \u001b[0mwthn1\u001b[0m\u001b[0;34m,\u001b[0m \u001b[0mwthn2\u001b[0m\u001b[0;34m)\u001b[0m \u001b[0;34m=\u001b[0m \u001b[0mcompute_withins_vs_between\u001b[0m\u001b[0;34m(\u001b[0m\u001b[0mmat\u001b[0m\u001b[0;34m,\u001b[0m \u001b[0mntrials\u001b[0m\u001b[0;34m,\u001b[0m \u001b[0mnstim\u001b[0m\u001b[0;34m,\u001b[0m \u001b[0mdiag\u001b[0m\u001b[0;34m=\u001b[0m\u001b[0;36m1\u001b[0m\u001b[0;34m)\u001b[0m\u001b[0;34m\u001b[0m\u001b[0m\n\u001b[1;32m     21\u001b[0m     \u001b[0;31m#     btwn = np.sqrt(btwn)\u001b[0m\u001b[0;34m\u001b[0m\u001b[0;34m\u001b[0m\u001b[0m\n",
      "\u001b[0;32m<ipython-input-28-6686d50df076>\u001b[0m in \u001b[0;36mcompute_JS_div_mtx\u001b[0;34m(lapspectra, Mspectra, beta)\u001b[0m\n\u001b[1;32m      9\u001b[0m     \u001b[0mjsmat\u001b[0m \u001b[0;34m=\u001b[0m \u001b[0mnp\u001b[0m\u001b[0;34m.\u001b[0m\u001b[0mzeros\u001b[0m\u001b[0;34m(\u001b[0m\u001b[0;34m(\u001b[0m\u001b[0mN\u001b[0m\u001b[0;34m,\u001b[0m \u001b[0mN\u001b[0m\u001b[0;34m)\u001b[0m\u001b[0;34m)\u001b[0m\u001b[0;34m\u001b[0m\u001b[0m\n\u001b[1;32m     10\u001b[0m \u001b[0;34m\u001b[0m\u001b[0m\n\u001b[0;32m---> 11\u001b[0;31m     \u001b[0mjsdat\u001b[0m \u001b[0;34m=\u001b[0m \u001b[0mParallel\u001b[0m\u001b[0;34m(\u001b[0m\u001b[0mn_jobs\u001b[0m\u001b[0;34m=\u001b[0m\u001b[0;36m24\u001b[0m\u001b[0;34m)\u001b[0m\u001b[0;34m(\u001b[0m\u001b[0mdelayed\u001b[0m\u001b[0;34m(\u001b[0m\u001b[0mget_JS_spec\u001b[0m\u001b[0;34m)\u001b[0m\u001b[0;34m(\u001b[0m\u001b[0mi\u001b[0m\u001b[0;34m,\u001b[0m \u001b[0mj\u001b[0m\u001b[0;34m,\u001b[0m \u001b[0mlapspectra\u001b[0m\u001b[0;34m[\u001b[0m\u001b[0mi\u001b[0m\u001b[0;34m]\u001b[0m\u001b[0;34m,\u001b[0m \u001b[0mlapspectra\u001b[0m\u001b[0;34m[\u001b[0m\u001b[0mj\u001b[0m\u001b[0;34m]\u001b[0m\u001b[0;34m,\u001b[0m \u001b[0mMspectra\u001b[0m\u001b[0;34m[\u001b[0m\u001b[0;34m(\u001b[0m\u001b[0mi\u001b[0m\u001b[0;34m,\u001b[0m\u001b[0mj\u001b[0m\u001b[0;34m)\u001b[0m\u001b[0;34m]\u001b[0m\u001b[0;34m,\u001b[0m \u001b[0mbeta\u001b[0m\u001b[0;34m)\u001b[0m \u001b[0;32mfor\u001b[0m \u001b[0;34m(\u001b[0m\u001b[0mi\u001b[0m\u001b[0;34m,\u001b[0m \u001b[0mj\u001b[0m\u001b[0;34m)\u001b[0m \u001b[0;32min\u001b[0m \u001b[0mpairs\u001b[0m\u001b[0;34m)\u001b[0m\u001b[0;34m\u001b[0m\u001b[0m\n\u001b[0m\u001b[1;32m     12\u001b[0m     \u001b[0;32mfor\u001b[0m \u001b[0md\u001b[0m \u001b[0;32min\u001b[0m \u001b[0mjsdat\u001b[0m\u001b[0;34m:\u001b[0m\u001b[0;34m\u001b[0m\u001b[0m\n\u001b[1;32m     13\u001b[0m         \u001b[0mjsmat\u001b[0m\u001b[0;34m[\u001b[0m\u001b[0md\u001b[0m\u001b[0;34m[\u001b[0m\u001b[0;36m0\u001b[0m\u001b[0;34m]\u001b[0m\u001b[0;34m,\u001b[0m \u001b[0md\u001b[0m\u001b[0;34m[\u001b[0m\u001b[0;36m1\u001b[0m\u001b[0;34m]\u001b[0m\u001b[0;34m]\u001b[0m \u001b[0;34m=\u001b[0m \u001b[0md\u001b[0m\u001b[0;34m[\u001b[0m\u001b[0;36m2\u001b[0m\u001b[0;34m]\u001b[0m\u001b[0;34m\u001b[0m\u001b[0m\n",
      "\u001b[0;32m~/.conda/envs/neuraltda-4/lib/python3.6/site-packages/joblib/parallel.py\u001b[0m in \u001b[0;36m__call__\u001b[0;34m(self, iterable)\u001b[0m\n\u001b[1;32m    787\u001b[0m                 \u001b[0;31m# consumption.\u001b[0m\u001b[0;34m\u001b[0m\u001b[0;34m\u001b[0m\u001b[0m\n\u001b[1;32m    788\u001b[0m                 \u001b[0mself\u001b[0m\u001b[0;34m.\u001b[0m\u001b[0m_iterating\u001b[0m \u001b[0;34m=\u001b[0m \u001b[0;32mFalse\u001b[0m\u001b[0;34m\u001b[0m\u001b[0m\n\u001b[0;32m--> 789\u001b[0;31m             \u001b[0mself\u001b[0m\u001b[0;34m.\u001b[0m\u001b[0mretrieve\u001b[0m\u001b[0;34m(\u001b[0m\u001b[0;34m)\u001b[0m\u001b[0;34m\u001b[0m\u001b[0m\n\u001b[0m\u001b[1;32m    790\u001b[0m             \u001b[0;31m# Make sure that we get a last message telling us we are done\u001b[0m\u001b[0;34m\u001b[0m\u001b[0;34m\u001b[0m\u001b[0m\n\u001b[1;32m    791\u001b[0m             \u001b[0melapsed_time\u001b[0m \u001b[0;34m=\u001b[0m \u001b[0mtime\u001b[0m\u001b[0;34m.\u001b[0m\u001b[0mtime\u001b[0m\u001b[0;34m(\u001b[0m\u001b[0;34m)\u001b[0m \u001b[0;34m-\u001b[0m \u001b[0mself\u001b[0m\u001b[0;34m.\u001b[0m\u001b[0m_start_time\u001b[0m\u001b[0;34m\u001b[0m\u001b[0m\n",
      "\u001b[0;32m~/.conda/envs/neuraltda-4/lib/python3.6/site-packages/joblib/parallel.py\u001b[0m in \u001b[0;36mretrieve\u001b[0;34m(self)\u001b[0m\n\u001b[1;32m    697\u001b[0m             \u001b[0;32mtry\u001b[0m\u001b[0;34m:\u001b[0m\u001b[0;34m\u001b[0m\u001b[0m\n\u001b[1;32m    698\u001b[0m                 \u001b[0;32mif\u001b[0m \u001b[0mgetattr\u001b[0m\u001b[0;34m(\u001b[0m\u001b[0mself\u001b[0m\u001b[0;34m.\u001b[0m\u001b[0m_backend\u001b[0m\u001b[0;34m,\u001b[0m \u001b[0;34m'supports_timeout'\u001b[0m\u001b[0;34m,\u001b[0m \u001b[0;32mFalse\u001b[0m\u001b[0;34m)\u001b[0m\u001b[0;34m:\u001b[0m\u001b[0;34m\u001b[0m\u001b[0m\n\u001b[0;32m--> 699\u001b[0;31m                     \u001b[0mself\u001b[0m\u001b[0;34m.\u001b[0m\u001b[0m_output\u001b[0m\u001b[0;34m.\u001b[0m\u001b[0mextend\u001b[0m\u001b[0;34m(\u001b[0m\u001b[0mjob\u001b[0m\u001b[0;34m.\u001b[0m\u001b[0mget\u001b[0m\u001b[0;34m(\u001b[0m\u001b[0mtimeout\u001b[0m\u001b[0;34m=\u001b[0m\u001b[0mself\u001b[0m\u001b[0;34m.\u001b[0m\u001b[0mtimeout\u001b[0m\u001b[0;34m)\u001b[0m\u001b[0;34m)\u001b[0m\u001b[0;34m\u001b[0m\u001b[0m\n\u001b[0m\u001b[1;32m    700\u001b[0m                 \u001b[0;32melse\u001b[0m\u001b[0;34m:\u001b[0m\u001b[0;34m\u001b[0m\u001b[0m\n\u001b[1;32m    701\u001b[0m                     \u001b[0mself\u001b[0m\u001b[0;34m.\u001b[0m\u001b[0m_output\u001b[0m\u001b[0;34m.\u001b[0m\u001b[0mextend\u001b[0m\u001b[0;34m(\u001b[0m\u001b[0mjob\u001b[0m\u001b[0;34m.\u001b[0m\u001b[0mget\u001b[0m\u001b[0;34m(\u001b[0m\u001b[0;34m)\u001b[0m\u001b[0;34m)\u001b[0m\u001b[0;34m\u001b[0m\u001b[0m\n",
      "\u001b[0;32m~/.conda/envs/neuraltda-4/lib/python3.6/multiprocessing/pool.py\u001b[0m in \u001b[0;36mget\u001b[0;34m(self, timeout)\u001b[0m\n\u001b[1;32m    636\u001b[0m \u001b[0;34m\u001b[0m\u001b[0m\n\u001b[1;32m    637\u001b[0m     \u001b[0;32mdef\u001b[0m \u001b[0mget\u001b[0m\u001b[0;34m(\u001b[0m\u001b[0mself\u001b[0m\u001b[0;34m,\u001b[0m \u001b[0mtimeout\u001b[0m\u001b[0;34m=\u001b[0m\u001b[0;32mNone\u001b[0m\u001b[0;34m)\u001b[0m\u001b[0;34m:\u001b[0m\u001b[0;34m\u001b[0m\u001b[0m\n\u001b[0;32m--> 638\u001b[0;31m         \u001b[0mself\u001b[0m\u001b[0;34m.\u001b[0m\u001b[0mwait\u001b[0m\u001b[0;34m(\u001b[0m\u001b[0mtimeout\u001b[0m\u001b[0;34m)\u001b[0m\u001b[0;34m\u001b[0m\u001b[0m\n\u001b[0m\u001b[1;32m    639\u001b[0m         \u001b[0;32mif\u001b[0m \u001b[0;32mnot\u001b[0m \u001b[0mself\u001b[0m\u001b[0;34m.\u001b[0m\u001b[0mready\u001b[0m\u001b[0;34m(\u001b[0m\u001b[0;34m)\u001b[0m\u001b[0;34m:\u001b[0m\u001b[0;34m\u001b[0m\u001b[0m\n\u001b[1;32m    640\u001b[0m             \u001b[0;32mraise\u001b[0m \u001b[0mTimeoutError\u001b[0m\u001b[0;34m\u001b[0m\u001b[0m\n",
      "\u001b[0;32m~/.conda/envs/neuraltda-4/lib/python3.6/multiprocessing/pool.py\u001b[0m in \u001b[0;36mwait\u001b[0;34m(self, timeout)\u001b[0m\n\u001b[1;32m    633\u001b[0m \u001b[0;34m\u001b[0m\u001b[0m\n\u001b[1;32m    634\u001b[0m     \u001b[0;32mdef\u001b[0m \u001b[0mwait\u001b[0m\u001b[0;34m(\u001b[0m\u001b[0mself\u001b[0m\u001b[0;34m,\u001b[0m \u001b[0mtimeout\u001b[0m\u001b[0;34m=\u001b[0m\u001b[0;32mNone\u001b[0m\u001b[0;34m)\u001b[0m\u001b[0;34m:\u001b[0m\u001b[0;34m\u001b[0m\u001b[0m\n\u001b[0;32m--> 635\u001b[0;31m         \u001b[0mself\u001b[0m\u001b[0;34m.\u001b[0m\u001b[0m_event\u001b[0m\u001b[0;34m.\u001b[0m\u001b[0mwait\u001b[0m\u001b[0;34m(\u001b[0m\u001b[0mtimeout\u001b[0m\u001b[0;34m)\u001b[0m\u001b[0;34m\u001b[0m\u001b[0m\n\u001b[0m\u001b[1;32m    636\u001b[0m \u001b[0;34m\u001b[0m\u001b[0m\n\u001b[1;32m    637\u001b[0m     \u001b[0;32mdef\u001b[0m \u001b[0mget\u001b[0m\u001b[0;34m(\u001b[0m\u001b[0mself\u001b[0m\u001b[0;34m,\u001b[0m \u001b[0mtimeout\u001b[0m\u001b[0;34m=\u001b[0m\u001b[0;32mNone\u001b[0m\u001b[0;34m)\u001b[0m\u001b[0;34m:\u001b[0m\u001b[0;34m\u001b[0m\u001b[0m\n",
      "\u001b[0;32m~/.conda/envs/neuraltda-4/lib/python3.6/threading.py\u001b[0m in \u001b[0;36mwait\u001b[0;34m(self, timeout)\u001b[0m\n\u001b[1;32m    549\u001b[0m             \u001b[0msignaled\u001b[0m \u001b[0;34m=\u001b[0m \u001b[0mself\u001b[0m\u001b[0;34m.\u001b[0m\u001b[0m_flag\u001b[0m\u001b[0;34m\u001b[0m\u001b[0m\n\u001b[1;32m    550\u001b[0m             \u001b[0;32mif\u001b[0m \u001b[0;32mnot\u001b[0m \u001b[0msignaled\u001b[0m\u001b[0;34m:\u001b[0m\u001b[0;34m\u001b[0m\u001b[0m\n\u001b[0;32m--> 551\u001b[0;31m                 \u001b[0msignaled\u001b[0m \u001b[0;34m=\u001b[0m \u001b[0mself\u001b[0m\u001b[0;34m.\u001b[0m\u001b[0m_cond\u001b[0m\u001b[0;34m.\u001b[0m\u001b[0mwait\u001b[0m\u001b[0;34m(\u001b[0m\u001b[0mtimeout\u001b[0m\u001b[0;34m)\u001b[0m\u001b[0;34m\u001b[0m\u001b[0m\n\u001b[0m\u001b[1;32m    552\u001b[0m             \u001b[0;32mreturn\u001b[0m \u001b[0msignaled\u001b[0m\u001b[0;34m\u001b[0m\u001b[0m\n\u001b[1;32m    553\u001b[0m \u001b[0;34m\u001b[0m\u001b[0m\n",
      "\u001b[0;32m~/.conda/envs/neuraltda-4/lib/python3.6/threading.py\u001b[0m in \u001b[0;36mwait\u001b[0;34m(self, timeout)\u001b[0m\n\u001b[1;32m    293\u001b[0m         \u001b[0;32mtry\u001b[0m\u001b[0;34m:\u001b[0m    \u001b[0;31m# restore state no matter what (e.g., KeyboardInterrupt)\u001b[0m\u001b[0;34m\u001b[0m\u001b[0m\n\u001b[1;32m    294\u001b[0m             \u001b[0;32mif\u001b[0m \u001b[0mtimeout\u001b[0m \u001b[0;32mis\u001b[0m \u001b[0;32mNone\u001b[0m\u001b[0;34m:\u001b[0m\u001b[0;34m\u001b[0m\u001b[0m\n\u001b[0;32m--> 295\u001b[0;31m                 \u001b[0mwaiter\u001b[0m\u001b[0;34m.\u001b[0m\u001b[0macquire\u001b[0m\u001b[0;34m(\u001b[0m\u001b[0;34m)\u001b[0m\u001b[0;34m\u001b[0m\u001b[0m\n\u001b[0m\u001b[1;32m    296\u001b[0m                 \u001b[0mgotit\u001b[0m \u001b[0;34m=\u001b[0m \u001b[0;32mTrue\u001b[0m\u001b[0;34m\u001b[0m\u001b[0m\n\u001b[1;32m    297\u001b[0m             \u001b[0;32melse\u001b[0m\u001b[0;34m:\u001b[0m\u001b[0;34m\u001b[0m\u001b[0m\n",
      "\u001b[0;31mKeyboardInterrupt\u001b[0m: "
     ]
    }
   ],
   "source": [
    "for indf, pair in enumerate(tqdm(file_pairs)):\n",
    "    lap_file, m_file = pair\n",
    "    \n",
    "    params = get_lapfile_params(lap_file)\n",
    "    with open(lap_file, 'rb') as f:\n",
    "        lapspectra = pickle.load(f)\n",
    "    with open(m_file, 'rb') as f:\n",
    "        Mspectra = pickle.load(f)\n",
    "    btwn_means = np.zeros(len(betas))\n",
    "    btwn_stds = np.zeros(len(betas))\n",
    "    wthn_means = np.zeros(len(betas))\n",
    "    wthn_stds = np.zeros(len(betas))\n",
    "    wthn1_means = np.zeros(len(betas))\n",
    "    wthn1_stds = np.zeros(len(betas))\n",
    "    wthn2_means = np.zeros(len(betas))\n",
    "    wthn2_stds = np.zeros(len(betas))\n",
    "\n",
    "    for ind, beta in enumerate(tqdm(betas)):\n",
    "        mat = compute_JS_div_mtx(lapspectra, Mspectra, beta)\n",
    "        (btwn, wthn1, wthn2) = compute_withins_vs_between(mat, ntrials, nstim, diag=1)\n",
    "    #     btwn = np.sqrt(btwn)\n",
    "    #     wthn1 = np.sqrt(wthn1)\n",
    "    #     wthn2 = np.sqrt(wthn2)\n",
    "        wthn = np.concatenate((wthn1, wthn2))\n",
    "        btwn_means[ind] = np.mean(btwn)\n",
    "        btwn_stds[ind] = np.std(btwn) / np.sqrt(len(btwn))\n",
    "        wthn_means[ind] = np.mean(wthn)\n",
    "        wthn_stds[ind] = np.std(wthn) / np.sqrt(len(wthn))\n",
    "        wthn1_means[ind] = np.mean(wthn1)\n",
    "        wthn1_stds[ind] = np.std(wthn1) / np.sqrt(len(wthn1))\n",
    "        wthn2_means[ind] = np.mean(wthn2)\n",
    "        wthn2_stds[ind] = np.std(wthn2) / np.sqrt(len(wthn2))\n",
    "    plt.figure()\n",
    "    ax = plt.subplot(111)\n",
    "    ax.set_xscale(\"log\", nonposx='clip')\n",
    "    plt.errorbar(betas, btwn_means, yerr=btwn_stds)\n",
    "    plt.errorbar(betas, wthn_means, yerr=wthn_stds)\n",
    "    plt.errorbar(betas, wthn1_means, yerr=wthn1_stds)\n",
    "    plt.errorbar(betas, wthn2_means, yerr=wthn2_stds)\n",
    "    plt.title('{} {} {} JS Divergence vs Beta'.format(params['bird'], params['fam'], params['shuf']))\n",
    "    plt.xlabel('Beta')\n",
    "    plt.ylabel('JS Divergence')\n",
    "    plt.legend(['Between', 'Within', 'Left', 'Right'])\n",
    "    plt.savefig(os.path.join(figsavepth, '{}-{}-{}-JSDivVsBeta-nodiag.pdf'.format(params['bird'], params['fam'], params['shuf'])))"
   ]
  },
  {
   "cell_type": "code",
   "execution_count": 6,
   "metadata": {},
   "outputs": [
    {
     "data": {
      "text/plain": [
       "Text(0,0.5,'JS Divergence')"
      ]
     },
     "execution_count": 6,
     "metadata": {},
     "output_type": "execute_result"
    },
    {
     "data": {
      "image/png": "[encoded data removed]",
      "text/plain": [
       "<matplotlib.figure.Figure at 0x7f5d29192390>"
      ]
     },
     "metadata": {},
     "output_type": "display_data"
    }
   ],
   "source": [
    "ax = plt.subplot(111)\n",
    "ax.set_xscale(\"log\", nonposx='clip')\n",
    "plt.errorbar(betas, btwn_means, yerr=btwn_stds)\n",
    "plt.errorbar(betas, wthn_means, yerr=wthn_stds)\n",
    "plt.title('B1083 JS Divergence vs Beta')\n",
    "plt.xlabel('Beta')\n",
    "plt.ylabel('JS Divergence')"
   ]
  },
  {
   "cell_type": "code",
   "execution_count": 11,
   "metadata": {},
   "outputs": [
    {
     "data": {
      "text/plain": [
       "(1640,)"
      ]
     },
     "execution_count": 11,
     "metadata": {},
     "output_type": "execute_result"
    }
   ],
   "source": [
    "wthn.shape"
   ]
  },
  {
   "cell_type": "code",
   "execution_count": 15,
   "metadata": {},
   "outputs": [],
   "source": [
    "mat.shape\n",
    "mtx = mat"
   ]
  },
  {
   "cell_type": "code",
   "execution_count": 23,
   "metadata": {},
   "outputs": [],
   "source": [
    "stim_per_group = int(nstim//2)\n",
    "\n",
    "btwn_data = mtx[0:stim_per_group*ntrials, stim_per_group*ntrials:]\n",
    "within1 = mtx[0:stim_per_group*ntrials, 0:stim_per_group*ntrials][np.triu_indices(stim_per_group*ntrials,1)]\n",
    "within2 = mtx[stim_per_group*ntrials:, stim_per_group*ntrials:][np.triu_indices(stim_per_group*ntrials,1)]\n",
    "\n",
    "within = np.concatenate((within1, within2))\n"
   ]
  },
  {
   "cell_type": "code",
   "execution_count": 24,
   "metadata": {},
   "outputs": [
    {
     "data": {
      "text/plain": [
       "(1560,)"
      ]
     },
     "execution_count": 24,
     "metadata": {},
     "output_type": "execute_result"
    }
   ],
   "source": [
    "within.shape"
   ]
  },
  {
   "cell_type": "code",
   "execution_count": 20,
   "metadata": {},
   "outputs": [
    {
     "data": {
      "text/plain": [
       "(40, 40)"
      ]
     },
     "execution_count": 20,
     "metadata": {},
     "output_type": "execute_result"
    }
   ],
   "source": [
    "mtx[0:stim_per_group*ntrials, 0:stim_per_group*ntrials].shape"
   ]
  },
  {
   "cell_type": "code",
   "execution_count": 22,
   "metadata": {},
   "outputs": [
    {
     "data": {
      "text/plain": [
       "(780,)"
      ]
     },
     "execution_count": 22,
     "metadata": {},
     "output_type": "execute_result"
    }
   ],
   "source": [
    "np.triu_indices(40, 1)[0].shape"
   ]
  },
  {
   "cell_type": "code",
   "execution_count": null,
   "metadata": {},
   "outputs": [],
   "source": []
  }
 ],
 "metadata": {
  "kernelspec": {
   "display_name": "Python 3",
   "language": "python",
   "name": "python3"
  },
  "language_info": {
   "codemirror_mode": {
    "name": "ipython",
    "version": 3
   },
   "file_extension": ".py",
   "mimetype": "text/x-python",
   "name": "python",
   "nbconvert_exporter": "python",
   "pygments_lexer": "ipython3",
   "version": "3.6.2"
  }
 },
 "nbformat": 4,
 "nbformat_minor": 2
}
