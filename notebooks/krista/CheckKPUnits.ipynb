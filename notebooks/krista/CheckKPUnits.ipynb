{
 "cells": [
  {
   "cell_type": "code",
   "execution_count": 9,
   "metadata": {},
   "outputs": [],
   "source": [
    "from ephys import core, events, rasters\n",
    "\n",
    "\n",
    "\n",
    "# Set up birds and block_paths\n",
    "birds = ['B1083', 'B1056', 'B1235', 'B1075', 'B1083-5']\n",
    "bps = {'B1083': '/home/brad/krista/B1083/P03S03/', 'B1075': '/home/brad/krista/B1075/P01S03/',\n",
    "       'B1235': '/home/brad/krista/B1235/P02S01/', 'B1056': '/home/brad/krista/B1056/klusta/phy020516/Pen01_Lft_AP100_ML1300__Site03_Z2500__B1056_cat_P01_S03_1/',\n",
    "       'B1056': '/home/brad/krista/B1056/klusta/phy020516/Pen01_Lft_AP100_ML1300__Site03_Z2500__B1056_cat_P01_S03_1/',\n",
    "        'B1083-5': '/home/brad/krista/B1083/P03S05'}\n",
    "\n",
    "\n",
    "bird = 'B1075'\n",
    "bird='B1083-5'\n",
    "\n",
    "block_path = bps[bird]\n",
    "spikes     = core.load_spikes(block_path)\n",
    "clusters   = core.load_clusters(block_path)\n",
    "digmarks = events.load_events(block_path, 'DigMark')\n",
    "fs         = core.load_fs(block_path)\n",
    "trials     = events.load_trials(block_path)\n",
    "rec        = 0 "
   ]
  },
  {
   "cell_type": "code",
   "execution_count": 5,
   "metadata": {},
   "outputs": [
    {
     "name": "stdout",
     "output_type": "stream",
     "text": [
      "Bird B1083 stimuli:   ['I_40k', 'J_40k', 'K_40k', 'L_40k', 'M_40k', 'N_40k', 'O_40k', 'P_40k']\n",
      "Bird B1056 stimuli:   ['A_scaled_burung', 'B_scaled_burung', 'C_scaled_burung', 'D_scaled_burung', 'E_scaled_burung', 'F_scaled_burung', 'G_scaled_burung', 'H_scaled_burung', 'I_scaled_burung', 'J_scaled_burung', 'K_scaled_burung', 'L_scaled_burung', 'M_scaled_burung', 'N_scaled_burung', 'O_scaled_burung', 'P_scaled_burung']\n",
      "Bird B1235 stimuli:   ['A_scaled_burung', 'B_scaled_burung', 'C_scaled_burung', 'D_scaled_burung', 'E_scaled_burung', 'F_scaled_burung', 'G_scaled_burung', 'H_scaled_burung', 'I_scaled_burung', 'J_scaled_burung', 'K_scaled_burung', 'L_scaled_burung', 'M_scaled_burung', 'N_scaled_burung', 'O_scaled_burung', 'P_scaled_burung']\n",
      "Bird B1075 stimuli:   ['A_40k', 'B_40k', 'C_40k', 'D_40k', 'E_40k', 'F_40k', 'G_40k', 'H_40k', 'I_40k', 'J_40k', 'K_40k', 'L_40k', 'M_40k', 'N_40k', 'O_40k', 'P_40k']\n"
     ]
    }
   ],
   "source": [
    "for bird in birds:\n",
    "    block_path = bps[bird]\n",
    "    trials = events.load_trials(block_path)\n",
    "    stims = sorted(trials['stimulus'].unique())\n",
    "    print(\"Bird {} stimuli:  \".format(bird),stims)"
   ]
  },
  {
   "cell_type": "code",
   "execution_count": 10,
   "metadata": {},
   "outputs": [
    {
     "name": "stdout",
     "output_type": "stream",
     "text": [
      "     cluster quality\n",
      "1          2    Good\n",
      "2          3    Good\n",
      "4          5    Good\n",
      "5          6    Good\n",
      "6          7    Good\n",
      "8          9    Good\n",
      "9         10    Good\n",
      "11        12    Good\n",
      "12        13    Good\n",
      "14        15    Good\n",
      "15        16    Good\n",
      "17        18    Good\n",
      "18        19    Good\n",
      "20        21    Good\n",
      "21        22    Good\n",
      "22        23    Good\n",
      "23        24    Good\n",
      "24        25    Good\n",
      "25        26    Good\n",
      "26        27    Good\n",
      "27        28    Good\n",
      "28        29    Good\n",
      "29        30    Good\n",
      "30        31    Good\n",
      "31        32    Good\n",
      "32        33    Good\n",
      "33        34    Good\n",
      "34        35    Good\n",
      "35        36    Good\n",
      "36        37    Good\n",
      "..       ...     ...\n",
      "73        74    Good\n",
      "74        75    Good\n",
      "75        76    Good\n",
      "76        77    Good\n",
      "77        78    Good\n",
      "78        79    Good\n",
      "79        80    Good\n",
      "80        81    Good\n",
      "81        82    Good\n",
      "82        83    Good\n",
      "83        84    Good\n",
      "84        85    Good\n",
      "85        86    Good\n",
      "86        87    Good\n",
      "87        88    Good\n",
      "88        89    Good\n",
      "89        90    Good\n",
      "90        91    Good\n",
      "91        92    Good\n",
      "93        95    Good\n",
      "95        97    Good\n",
      "96        98    Good\n",
      "97        99    Good\n",
      "98       100    Good\n",
      "99       101    Good\n",
      "100      102    Good\n",
      "101      103    Good\n",
      "102      105    Good\n",
      "103      106    Good\n",
      "104      107    Good\n",
      "\n",
      "[95 rows x 2 columns]\n"
     ]
    }
   ],
   "source": [
    "clusters_to_plot = clusters[clusters['quality'].isin(['Good', 'MUA'])]\n",
    "print(clusters_to_plot)"
   ]
  },
  {
   "cell_type": "code",
   "execution_count": 8,
   "metadata": {},
   "outputs": [
    {
     "data": {
      "text/plain": [
       "54"
      ]
     },
     "execution_count": 8,
     "metadata": {},
     "output_type": "execute_result"
    }
   ],
   "source": [
    "len(clusters_to_plot)"
   ]
  },
  {
   "cell_type": "code",
   "execution_count": null,
   "metadata": {},
   "outputs": [],
   "source": []
  }
 ],
 "metadata": {
  "kernelspec": {
   "display_name": "Python 3",
   "language": "python",
   "name": "python3"
  },
  "language_info": {
   "codemirror_mode": {
    "name": "ipython",
    "version": 3
   },
   "file_extension": ".py",
   "mimetype": "text/x-python",
   "name": "python",
   "nbconvert_exporter": "python",
   "pygments_lexer": "ipython3",
   "version": "3.6.2"
  }
 },
 "nbformat": 4,
 "nbformat_minor": 2
}
