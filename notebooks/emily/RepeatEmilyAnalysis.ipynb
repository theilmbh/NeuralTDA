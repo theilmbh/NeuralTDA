{
 "cells": [
  {
   "cell_type": "code",
   "execution_count": 2,
   "metadata": {},
   "outputs": [],
   "source": [
    "import neuraltda.topology2 as tp2\n",
    "import pandas as pd\n",
    "from joblib import Parallel, delayed\n",
    "import neuraltda.simpComp as sc\n",
    "import neuraltda.topology2 as tp2\n",
    "import neuraltda.spectralAnalysis as sa\n",
    "import datetime\n",
    "import pickle\n",
    "import glob\n",
    "import os\n",
    "from ephys import core, events, clust\n",
    "import numpy as np\n",
    "import tqdm\n",
    "import matplotlib.pyplot as plt\n",
    "import h5py as h5\n",
    "%matplotlib inline\n",
    "import seaborn as sns\n",
    "sns.set_context('poster')\n",
    "sns.set_style('white')"
   ]
  },
  {
   "cell_type": "markdown",
   "metadata": {},
   "source": [
    "# Set the parameters for the histograms and bin the spikes"
   ]
  },
  {
   "cell_type": "code",
   "execution_count": 3,
   "metadata": {
    "collapsed": true
   },
   "outputs": [],
   "source": [
    "# Rebin with 5ms, no overlap, start+2500ms to end+300ms, correct trials\n",
    "block_path = '/home/brad/emily/P01S15/'\n",
    "block_path = '/home/brad/emily/P01S13/'\n",
    "block_path = '/home/brad/emily/P01S18/'\n",
    "winsize = 5.0\n",
    "dtover = 0.0\n",
    "segment = [2500, 300]\n",
    "\n",
    "cluster_group = ['Good', 'MUA']\n",
    "#widenarrow_threshold = 0.000230 # sw threshold in seconds P01S15\n",
    "widenarrow_threshold = 0.000240 #P01S18"
   ]
  },
  {
   "cell_type": "code",
   "execution_count": 4,
   "metadata": {},
   "outputs": [
    {
     "name": "stdout",
     "output_type": "stream",
     "text": [
      "['Repeat_15_1052sec5_sqzdn_65db' 'Repeat_58_1052sec3_sqzup_65db'\n",
      " 'Repeat_23_C22sec2_sqzdn_65db' 'Repeat_44_B32sec1_sqzup_65db' 'T58S58D-1'\n",
      " 'T58S58D23' 'T58S44D23' 'T58S44D-1' 'T-1S-1D23' 'T58S44D21' 'T58S58D7'\n",
      " 'T23S15D-1' 'T23S23D58' 'T23S23D-1' 'T-1S-1D58' 'T23S15D58' 'T23S23D52'\n",
      " 'T23S15D60' 'T58S58D15' 'T58S44D15' 'T-1S-1D15' 'T23S15D44' 'T23S23D44'\n",
      " 'T-1S-1D44']\n",
      "BDF: /home/brad/emily/P01S18/binned_data/win-5.0_dtovr-0.0_seg-2500-300-SD-emily-reanalysis-correct/20170717T171936Z-5.0-0.0.binned\n",
      "BDF: /home/brad/emily/P01S18/binned_data/win-5.0_dtovr-0.0_seg-2500-300-SD-emily-reanalysis-incorrect/20170717T171950Z-5.0-0.0.binned\n",
      "BDF: /home/brad/emily/P01S18/binned_data/win-5.0_dtovr-0.0_seg-2500-300-SD-emily-reanalysis-incorrect/20170717T171950Z-5.0-0.0.binned\n"
     ]
    }
   ],
   "source": [
    "spikes = core.load_spikes(block_path)\n",
    "trials = events.load_trials(block_path)\n",
    "fs = core.load_fs(block_path)\n",
    "\n",
    "# Get wide/narrow clusters\n",
    "clusters = core.load_clusters(block_path)\n",
    "clusters_list = clusters[clusters.quality.isin(cluster_group)]['cluster'].unique()\n",
    "(wide, narrow) = clust.get_wide_narrow(block_path, clusters_list, widenarrow_threshold)\n",
    "\n",
    "# Get Correct/Incorrect Trials\n",
    "correctTrials = trials[trials['correct']==True]\n",
    "incorrectTrials = trials[trials['correct']==False]\n",
    "passiveTrials = trials[-(trials['correct'].isin([True, False]))]\n",
    "\n",
    "print(trials['stimulus'].unique())\n",
    "\n",
    "# Bin Correct Trials\n",
    "bfdict = tp2.do_dag_bin_lazy(block_path, spikes, correctTrials, clusters, fs, winsize,\n",
    "                                    segment, cluster_group=['Good', 'MUA'],\n",
    "                                    dt_overlap=dtover, comment='SD-emily-reanalysis-correct')\n",
    "bdf_correct = glob.glob(os.path.join(bfdict['raw'], '*.binned'))[0]\n",
    "print('BDF: {}'.format(bdf_correct))\n",
    "\n",
    "# Bin Incorrect Trials\n",
    "bfdict = tp2.do_dag_bin_lazy(block_path, spikes, incorrectTrials, clusters, fs, winsize,\n",
    "                                    segment, cluster_group=['Good', 'MUA'],\n",
    "                                    dt_overlap=dtover, comment='SD-emily-reanalysis-incorrect')\n",
    "bdf_incorrect = glob.glob(os.path.join(bfdict['raw'], '*.binned'))[0]\n",
    "print('BDF: {}'.format(bdf_incorrect))\n",
    "\n",
    "# Bin Passive Trials\n",
    "bfdict = tp2.do_dag_bin_lazy(block_path, spikes, passiveTrials, clusters, fs, winsize,\n",
    "                                    segment, cluster_group=['Good', 'MUA'],\n",
    "                                    dt_overlap=dtover, comment='SD-emily-reanalysis-passive')\n",
    "bdf_passive = glob.glob(os.path.join(bfdict['raw'], '*.binned'))[0]\n",
    "print('BDF: {}'.format(bdf_incorrect))"
   ]
  },
  {
   "cell_type": "markdown",
   "metadata": {},
   "source": [
    "- - - \n",
    "# Setup contexts"
   ]
  },
  {
   "cell_type": "code",
   "execution_count": 7,
   "metadata": {
    "collapsed": true
   },
   "outputs": [],
   "source": [
    "# contexts:\n",
    "P01S15_context_stimuli = {\n",
    "    'A_hi': 'T40S40D3',\n",
    "    'A_lo': 'T3S3D40',\n",
    "    'AS_hi': 'T40S40D-1',\n",
    "    'AS_lo': 'T3S3D-1',\n",
    "    'ASX_hi': 'T40S40D-1',\n",
    "    'ASX_lo': 'T3S3D-1',\n",
    "    'AX_hi': 'T40S40D3',\n",
    "    'AX_lo': 'T3S3D40',\n",
    "    'P_hi': 'T40S40D3',\n",
    "    'P_lo': 'T3S3D40'\n",
    "}\n",
    "\n",
    "P01S13_context_stimuli = {\n",
    "    'A_hi': 'T40S40D3',\n",
    "    'A_lo': 'T3S3D40',\n",
    "    'AS_hi': 'T40S40D-1',\n",
    "    'AS_lo': 'T3S3D-1',\n",
    "    'ASX_hi': 'T40S40D-1',\n",
    "    'ASX_lo': 'T3S3D-1',\n",
    "    'AX_hi': 'T40S40D3',\n",
    "    'AX_lo': 'T3S3D40',\n",
    "    'P_hi': 'T40S40D3',\n",
    "    'P_lo': 'T3S3D40'\n",
    "}\n",
    "\n",
    "P01S18_context_stimuli = {\n",
    "    'A_hi': 'T58S58D23',\n",
    "    'A_lo': 'T23S23D58',\n",
    "    'AS_hi': 'T58S58D-1',\n",
    "    'AS_lo': 'T23S23D-1',\n",
    "    'ASX_hi': 'T58S58D-1',\n",
    "    'ASX_lo': 'T23S23D-1',\n",
    "    'AX_hi': 'T58S58D23',\n",
    "    'AX_lo': 'T23S23D58',\n",
    "    'P_hi': 'T58S58D23',\n",
    "    'P_lo': 'T23S23D58'\n",
    "}\n",
    "context_bdf = {\n",
    "    'A_hi': bdf_correct,\n",
    "    'A_lo': bdf_correct,\n",
    "    'AS_hi': bdf_correct,\n",
    "    'AS_lo': bdf_correct,\n",
    "    'ASX_hi': bdf_incorrect,\n",
    "    'ASX_lo': bdf_incorrect,\n",
    "    'AX_hi': bdf_incorrect,\n",
    "    'AX_lo': bdf_incorrect,\n",
    "    'P_hi': bdf_passive,\n",
    "    'P_lo': bdf_passive\n",
    "}\n",
    "contexts = [\n",
    "    'A_hi',\n",
    "    'A_lo',\n",
    "    'AS_hi',\n",
    "    'AS_lo',\n",
    "    #'AX_hi',\n",
    "    #'AX_lo',\n",
    "    #'ASX_hi',\n",
    "    #'ASX_lo',\n",
    "    'P_hi',\n",
    "    'P_lo'\n",
    "]\n",
    "context_stimuli = P01S18_context_stimuli"
   ]
  },
  {
   "cell_type": "markdown",
   "metadata": {},
   "source": [
    "## Compute Average PSTHs"
   ]
  },
  {
   "cell_type": "code",
   "execution_count": 8,
   "metadata": {},
   "outputs": [],
   "source": [
    "# compute average psths\n",
    "avg_psths = {}\n",
    "for context in contexts:\n",
    "    with h5.File(context_bdf[context], 'r') as binned_data:\n",
    "        stim = context_stimuli[context]\n",
    "        fulldata = np.array(binned_data[stim]['pop_tens'])\n",
    "        avg_psth = np.mean(fulldata, axis=2)\n",
    "        avg_psths[str(context)] = avg_psth\n",
    "        binned_clusters = np.array(binned_data[stim]['clusters'])"
   ]
  },
  {
   "cell_type": "markdown",
   "metadata": {},
   "source": [
    "##  Mean-squared-error functions"
   ]
  },
  {
   "cell_type": "code",
   "execution_count": 9,
   "metadata": {
    "collapsed": true
   },
   "outputs": [],
   "source": [
    "# Compute MSEs:\n",
    "from scipy import signal\n",
    "\n",
    "def mse(psth_a, psth_b, psth_c, psth_d):\n",
    "    la = psth_a.shape\n",
    "    lb = psth_b.shape\n",
    "    lc = psth_c.shape\n",
    "    ld = psth_d.shape\n",
    "    \n",
    "    new_a = np.zeros((la[0], max(la[1], lb[1])))\n",
    "    new_b = np.zeros((lb[0], max(la[1], lb[1])))\n",
    "    new_a[:la[0], :la[1]] = psth_a\n",
    "    new_b[:lb[0], :lb[1]] = psth_b\n",
    "    \n",
    "    new_c = np.zeros((lc[0], max(lc[1], ld[1])))\n",
    "    new_d = np.zeros((ld[0], max(lc[1], ld[1])))\n",
    "    new_c[:lc[0], :lc[1]] = psth_c\n",
    "    new_d[:ld[0], :ld[1]] = psth_d\n",
    "    \n",
    "    mse_ab = np.sum(np.square(psth_a - psth_b), axis=1) /  (psth_a.shape[1])\n",
    "    mse_cd = np.sum(np.square(psth_c - psth_d), axis=1) /  (psth_c.shape[1])\n",
    "    return mse_ab + mse_cd\n",
    "\n",
    "def mse_vec(psth_a, psth_b, psth_c, psth_d):\n",
    "    \n",
    "    la = psth_a.shape\n",
    "    lb = psth_b.shape\n",
    "    lc = psth_c.shape\n",
    "    ld = psth_d.shape\n",
    "    new_a = np.zeros((la[0], max(la[1], lb[1])))\n",
    "    new_b = np.zeros((lb[0], max(la[1], lb[1])))\n",
    "    new_a[:la[0], :la[1]] = psth_a\n",
    "    new_b[:lb[0], :lb[1]] = psth_b\n",
    "    \n",
    "    new_c = np.zeros((lc[0], max(lc[1], ld[1])))\n",
    "    new_d = np.zeros((ld[0], max(lc[1], ld[1])))\n",
    "    new_c[:lc[0], :lc[1]] = psth_c\n",
    "    new_d[:ld[0], :ld[1]] = psth_d\n",
    "    \n",
    "    mse_ab = np.square(new_a - new_b)\n",
    "    mse_cd = np.square(new_c - new_d)\n",
    "    return mse_ab + mse_cd\n",
    "\n",
    "def exp_filt(vec, tau):\n",
    "    M=51\n",
    "    win = signal.exponential(M, 0, tau, False)\n",
    "    return np.convolve(vec, win, mode='same')\n",
    "    "
   ]
  },
  {
   "cell_type": "markdown",
   "metadata": {},
   "source": [
    "## Compute Response Biases"
   ]
  },
  {
   "cell_type": "code",
   "execution_count": 11,
   "metadata": {},
   "outputs": [
    {
     "name": "stderr",
     "output_type": "stream",
     "text": [
      "/home/brad/.conda/envs/neuraltda-3/lib/python3.6/site-packages/ipykernel_launcher.py:21: RuntimeWarning: divide by zero encountered in true_divide\n",
      "/home/brad/.conda/envs/neuraltda-3/lib/python3.6/site-packages/ipykernel_launcher.py:21: RuntimeWarning: invalid value encountered in true_divide\n",
      "/home/brad/.conda/envs/neuraltda-3/lib/python3.6/site-packages/ipykernel_launcher.py:22: RuntimeWarning: Mean of empty slice\n",
      "/home/brad/.conda/envs/neuraltda-3/lib/python3.6/site-packages/ipykernel_launcher.py:26: RuntimeWarning: divide by zero encountered in true_divide\n",
      "/home/brad/.conda/envs/neuraltda-3/lib/python3.6/site-packages/ipykernel_launcher.py:26: RuntimeWarning: invalid value encountered in true_divide\n",
      "/home/brad/.conda/envs/neuraltda-3/lib/python3.6/site-packages/ipykernel_launcher.py:27: RuntimeWarning: Mean of empty slice\n"
     ]
    }
   ],
   "source": [
    "MSE_targ = mse(avg_psths['A_hi'], avg_psths['AS_hi'], avg_psths['A_lo'], avg_psths['AS_lo'])\n",
    "MSE_dist = mse(avg_psths['A_hi'], avg_psths['AS_lo'], avg_psths['A_lo'], avg_psths['AS_hi'])\n",
    "MSE_diff = MSE_dist - MSE_targ\n",
    "\n",
    "MSE_targ_vec = mse_vec(avg_psths['A_hi'], avg_psths['AS_hi'], avg_psths['A_lo'], avg_psths['AS_lo'])\n",
    "MSE_dist_vec = mse_vec(avg_psths['A_hi'], avg_psths['AS_lo'], avg_psths['A_lo'], avg_psths['AS_hi'])\n",
    "MSE_diffC_vec = MSE_dist_vec - MSE_targ_vec\n",
    "\n",
    "#MSE_targX_vec = mse_vec(avg_psths['AX_hi'], avg_psths['AS_hi'], avg_psths['AX_lo'], avg_psths['AS_lo'])\n",
    "#MSE_distX_vec = mse_vec(avg_psths['AX_hi'], avg_psths['AS_lo'], avg_psths['AX_lo'], avg_psths['AS_hi'])\n",
    "#MSE_diffX_vec = MSE_dist_vec - MSE_targ_vec\n",
    "\n",
    "MSE_targP_vec = mse_vec(avg_psths['P_hi'], avg_psths['AS_hi'], avg_psths['P_lo'], avg_psths['AS_lo'])\n",
    "MSE_distP_vec = mse_vec(avg_psths['P_hi'], avg_psths['AS_lo'], avg_psths['P_lo'], avg_psths['AS_hi'])\n",
    "MSE_diffP_vec = MSE_dist_vec - MSE_targ_vec\n",
    "\n",
    "MSE_diffs = np.stack([MSE_diffC_vec, \n",
    "                      #MSE_diffX_vec, \n",
    "                      MSE_diffP_vec], axis=-1)\n",
    "MSE_max = np.amax(MSE_diffs, axis=(1,2)) #get absolute maximum across bins/conditions for each cell\n",
    "MSE_diffs_normalized = np.divide(MSE_diffs, np.tile(MSE_max[:, np.newaxis, np.newaxis], (1, MSE_diffs.shape[1], 2)))\n",
    "MSE_diffs_norm_mean = np.nanmean(MSE_diffs_normalized, axis=1)\n",
    "\n",
    "MSE_diffs = MSE_diffC_vec\n",
    "MSE_max = np.amax(MSE_diffs, axis=1)\n",
    "MSE_diffs_normalized = np.divide(MSE_diffs, np.tile(MSE_max[:, np.newaxis], (1, MSE_diffs.shape[1])))\n",
    "MSE_diffs_norm_mean = np.nanmean(MSE_diffs_normalized, axis=1)"
   ]
  },
  {
   "cell_type": "markdown",
   "metadata": {},
   "source": [
    "##  Compute Attention Modulation"
   ]
  },
  {
   "cell_type": "code",
   "execution_count": 12,
   "metadata": {},
   "outputs": [
    {
     "name": "stdout",
     "output_type": "stream",
     "text": [
      "p: 0.000000     Effect Size:    688.1  X\n",
      "p: 0.571913     Effect Size:     18.5  \n",
      "p: 0.772716     Effect Size:     28.9  \n",
      "p: 0.741393     Effect Size:      1.6  \n",
      "p: 0.011545     Effect Size:    717.7  X\n",
      "p: 0.103491     Effect Size:      0.2  \n",
      "p: 0.000015     Effect Size:    721.2  X\n",
      "p: 0.076940     Effect Size:    589.9  \n",
      "p: 0.571422     Effect Size:     84.1  \n",
      "p: 0.500134     Effect Size:    125.6  \n",
      "p: 0.000000     Effect Size:    573.5  X\n",
      "p: 0.051407     Effect Size:    245.2  \n",
      "p: 0.000006     Effect Size:    743.5  X\n",
      "p: 0.126799     Effect Size:    278.8  \n",
      "p: 0.328443     Effect Size:      0.4  \n",
      "p: 0.362160     Effect Size:      5.5  \n",
      "p: 0.637844     Effect Size:    215.3  \n",
      "p: 0.000000     Effect Size:    674.9  X\n",
      "p: 0.402466     Effect Size:     75.6  \n",
      "p: 0.279983     Effect Size:      0.4  \n",
      "p: 0.000235     Effect Size:      0.5  X\n",
      "p: 0.000000     Effect Size:    390.8  X\n",
      "p: 0.382033     Effect Size:      0.8  \n",
      "p: 0.081682     Effect Size:      6.0  \n",
      "p: 0.866258     Effect Size:     44.7  \n",
      "p: 0.053402     Effect Size:     42.7  \n",
      "p: 0.013527     Effect Size:    153.9  X\n",
      "p: 0.000000     Effect Size:    203.3  X\n",
      "p: 0.169002     Effect Size:    495.4  \n",
      "p: 0.153657     Effect Size:     17.7  \n",
      "p: 0.000000     Effect Size:    497.9  X\n",
      "p: 0.812668     Effect Size:      0.7  \n",
      "p: 0.000245     Effect Size:    625.6  X\n",
      "p: 0.000000     Effect Size:    747.9  X\n",
      "p: 0.417218     Effect Size:    240.6  \n",
      "p: 0.615666     Effect Size:     25.2  \n",
      "p: 0.000900     Effect Size:     11.9  X\n",
      "p: 0.174922     Effect Size:      8.0  \n",
      "p: 0.523718     Effect Size:      6.9  \n",
      "p: 0.002853     Effect Size:      3.7  X\n",
      "p: 0.181748     Effect Size:    326.6  \n",
      "p: 0.586705     Effect Size:    566.7  \n",
      "p: 0.019913     Effect Size:    199.3  X\n",
      "p: 0.001311     Effect Size:     15.1  X\n",
      "p: 0.001145     Effect Size:    500.2  X\n",
      "p: 0.025693     Effect Size:     34.4  X\n",
      "p: 0.001141     Effect Size:      8.2  X\n",
      "p: 0.633299     Effect Size:     90.1  \n",
      "p: 0.001950     Effect Size:      5.5  X\n",
      "p: 0.000486     Effect Size:      1.1  X\n",
      "p: 0.614505     Effect Size:      1.3  \n",
      "p: 0.019322     Effect Size:      6.9  X\n",
      "p: 0.142654     Effect Size:    351.1  \n",
      "p: 0.301594     Effect Size:     64.7  \n",
      "p: 0.326259     Effect Size:    114.4  \n",
      "p: 0.250853     Effect Size:      4.6  \n",
      "p: 0.000032     Effect Size:    811.6  X\n",
      "p: 0.754431     Effect Size:      2.3  \n",
      "p: 0.343420     Effect Size:      6.1  \n",
      "p: 0.230387     Effect Size:     32.7  \n",
      "p: 0.002011     Effect Size:    336.2  X\n",
      "p: 0.591930     Effect Size:    346.9  \n",
      "p: 0.030439     Effect Size:      0.2  X\n",
      "p: 0.069027     Effect Size:      2.7  \n",
      "p: 0.006633     Effect Size:     65.0  X\n",
      "p: 0.509895     Effect Size:     48.6  \n",
      "p: 0.033812     Effect Size:      8.0  X\n",
      "p: 0.015612     Effect Size:      2.2  X\n",
      "p: 0.069852     Effect Size:    246.0  \n",
      "p: 0.973558     Effect Size:     24.0  \n",
      "p: 0.016937     Effect Size:      0.7  X\n",
      "p: 0.288388     Effect Size:     67.9  \n",
      "p: 0.285240     Effect Size:     46.2  \n",
      "p: 0.268614     Effect Size:     10.0  \n",
      "p: 0.000000     Effect Size:    624.1  X\n",
      "p: 0.000000     Effect Size:    705.8  X\n",
      "p: 0.216474     Effect Size:    118.8  \n",
      "p: 0.097832     Effect Size:      3.5  \n",
      "p: 0.591637     Effect Size:     62.9  \n",
      "p: 0.000000     Effect Size:    756.8  X\n",
      "Proportion: 0.412500\n"
     ]
    },
    {
     "name": "stderr",
     "output_type": "stream",
     "text": [
      "/home/brad/.conda/envs/neuraltda-3/lib/python3.6/site-packages/scipy/stats/morestats.py:2397: UserWarning: Warning: sample size too small for normal approximation.\n",
      "  warnings.warn(\"Warning: sample size too small for normal approximation.\")\n"
     ]
    }
   ],
   "source": [
    "# compute attention modulation\n",
    "from scipy.stats import wilcoxon\n",
    "\n",
    "\n",
    "MSE_psth_passive = mse_vec(avg_psths['P_hi'], avg_psths['P_lo'], avg_psths['P_hi'], avg_psths['P_lo'])/2.0\n",
    "MSE_psth_correct = mse_vec(avg_psths['A_hi'], avg_psths['A_lo'], avg_psths['A_hi'], avg_psths['A_lo'])/2.0\n",
    "mt = np.amin([MSE_psth_correct.shape[1], MSE_psth_passive.shape[1]])\n",
    "nsig = 0\n",
    "sig_cells = []\n",
    "for cell in range(MSE_psth_correct.shape[0]):\n",
    "    \n",
    "    (T, p) = wilcoxon(MSE_psth_passive[cell, :mt], MSE_psth_correct[cell, :mt])\n",
    "    eff_size = T / np.sqrt(2500)\n",
    "    sig = ''\n",
    "    if p < 0.05:\n",
    "        nsig += 1\n",
    "        sig = 'X'\n",
    "        sig_cells.append(cell)\n",
    "    print('p: {:6.6f}     Effect Size: {:8.1f}  '.format(p, eff_size)+sig)\n",
    "    \n",
    "print('Proportion: {:6.6f}'.format(nsig/MSE_psth_correct.shape[0]))"
   ]
  },
  {
   "cell_type": "markdown",
   "metadata": {},
   "source": [
    "## Filter Wide/Narrow Response Biases"
   ]
  },
  {
   "cell_type": "code",
   "execution_count": 13,
   "metadata": {},
   "outputs": [
    {
     "name": "stdout",
     "output_type": "stream",
     "text": [
      "Wide Clusters\n",
      "Cluster:   0    MSE Diff:        nan\n",
      "Cluster:   1    MSE Diff:    -0.0011\n",
      "Cluster:   2    MSE Diff:     0.0070\n",
      "Cluster:   3    MSE Diff:    -0.0003\n",
      "Cluster:   4    MSE Diff:    -0.0097\n",
      "Cluster:   5    MSE Diff:        nan\n",
      "Cluster:   6    MSE Diff:       -inf\n",
      "Cluster:   7    MSE Diff:     0.0006\n",
      "Cluster:   8    MSE Diff:     0.0002\n",
      "Cluster:   9    MSE Diff:        nan\n",
      "Cluster:  10    MSE Diff:     0.0022\n",
      "Cluster:  11    MSE Diff:     0.0059\n",
      "Cluster:  12    MSE Diff:     0.0024\n",
      "Cluster:  13    MSE Diff:     0.0025\n",
      "Cluster:  14    MSE Diff:     0.0028\n",
      "Cluster:  15    MSE Diff:    -0.0034\n",
      "Cluster:  16    MSE Diff:     0.0035\n",
      "Cluster:  17    MSE Diff:        nan\n",
      "Cluster:  18    MSE Diff:    -0.0053\n",
      "Cluster:  19    MSE Diff:    -0.0221\n",
      "Cluster:  20    MSE Diff:     0.0036\n",
      "Cluster:  21    MSE Diff:    -0.0025\n",
      "Cluster:  22    MSE Diff:     0.0054\n",
      "Cluster:  23    MSE Diff:     0.0055\n",
      "Cluster:  24    MSE Diff:       -inf\n",
      "Cluster:  25    MSE Diff:    -0.0189\n",
      "Cluster:  26    MSE Diff:    -0.0128\n",
      "Cluster:  27    MSE Diff:    -0.0120\n",
      "Cluster:  28    MSE Diff:     0.0123\n",
      "Cluster:  29    MSE Diff:     0.0019\n",
      "Cluster:  30    MSE Diff:     0.0011\n",
      "Cluster:  31    MSE Diff:     0.0051\n",
      "Cluster:  32    MSE Diff:     0.0028\n",
      "Cluster:  33    MSE Diff:    -0.0022\n",
      "Cluster:  34    MSE Diff:        nan\n",
      "Cluster:  35    MSE Diff:     0.0045\n",
      "Cluster:  36    MSE Diff:    -0.0025\n",
      "Cluster:  37    MSE Diff:     0.0051\n",
      "Cluster:  38    MSE Diff:     0.0078\n",
      "Cluster:  39    MSE Diff:    -0.0028\n",
      "Cluster:  40    MSE Diff:     0.0022\n",
      "Cluster:  41    MSE Diff:     0.0056\n",
      "Cluster:  42    MSE Diff:     0.0043\n",
      "Narrow Clusters\n",
      "Cluster:   0    MSE Diff:    -0.0042\n",
      "Cluster:   1    MSE Diff:     0.0014\n",
      "Cluster:   2    MSE Diff:    -0.0005\n",
      "Cluster:   3    MSE Diff:        nan\n",
      "Cluster:   4    MSE Diff:     0.0068\n",
      "Cluster:   5    MSE Diff:     0.0010\n",
      "Cluster:   6    MSE Diff:     0.0001\n",
      "Cluster:   7    MSE Diff:    -0.0049\n",
      "Cluster:   8    MSE Diff:     0.0012\n",
      "Cluster:   9    MSE Diff:    -0.0169\n",
      "Cluster:  10    MSE Diff:        nan\n",
      "Cluster:  11    MSE Diff:     0.0084\n",
      "Cluster:  12    MSE Diff:    -0.0067\n",
      "Cluster:  13    MSE Diff:     0.0017\n",
      "Cluster:  14    MSE Diff:    -0.0006\n",
      "Cluster:  15    MSE Diff:    -0.0036\n",
      "Cluster:  16    MSE Diff:     0.0137\n",
      "Cluster:  17    MSE Diff:    -0.0011\n",
      "Cluster:  18    MSE Diff:    -0.0130\n",
      "Cluster:  19    MSE Diff:        nan\n",
      "Cluster:  20    MSE Diff:        nan\n",
      "Cluster:  21    MSE Diff:    -0.0177\n",
      "Cluster:  22    MSE Diff:        nan\n",
      "Cluster:  23    MSE Diff:    -0.0019\n",
      "Cluster:  24    MSE Diff:     0.0096\n",
      "Cluster:  25    MSE Diff:        nan\n",
      "Cluster:  26    MSE Diff:     0.0022\n",
      "Cluster:  27    MSE Diff:     0.0008\n",
      "Cluster:  28    MSE Diff:     0.0022\n",
      "Cluster:  29    MSE Diff:       -inf\n",
      "Cluster:  30    MSE Diff:    -0.0027\n",
      "Cluster:  31    MSE Diff:    -0.0034\n",
      "Cluster:  32    MSE Diff:     0.0013\n",
      "Cluster:  33    MSE Diff:     0.0040\n",
      "Cluster:  34    MSE Diff:    -0.0021\n",
      "Cluster:  35    MSE Diff:    -0.0097\n",
      "Cluster:  36    MSE Diff:     0.0165\n",
      "Wide Clusters\n",
      "Cluster:   0    MSE Diff:    -0.0011\n",
      "Cluster:   1    MSE Diff:    -0.0097\n",
      "Cluster:   2    MSE Diff:     0.0022\n",
      "Cluster:   3    MSE Diff:     0.0059\n",
      "Cluster:   4    MSE Diff:    -0.0034\n",
      "Cluster:   5    MSE Diff:    -0.0053\n",
      "Cluster:   6    MSE Diff:    -0.0221\n",
      "Cluster:   7    MSE Diff:     0.0054\n",
      "Cluster:   8    MSE Diff:       -inf\n",
      "Cluster:   9    MSE Diff:    -0.0189\n",
      "Cluster:  10    MSE Diff:    -0.0128\n",
      "Cluster:  11    MSE Diff:    -0.0120\n",
      "Cluster:  12    MSE Diff:     0.0019\n",
      "Cluster:  13    MSE Diff:     0.0011\n",
      "Cluster:  14    MSE Diff:     0.0051\n",
      "Cluster:  15    MSE Diff:     0.0022\n",
      "Narrow Clusters\n",
      "Cluster:   0    MSE Diff:    -0.0042\n",
      "Cluster:   1    MSE Diff:     0.0068\n",
      "Cluster:   2    MSE Diff:    -0.0049\n",
      "Cluster:   3    MSE Diff:    -0.0169\n",
      "Cluster:   4    MSE Diff:     0.0084\n",
      "Cluster:   5    MSE Diff:     0.0017\n",
      "Cluster:   6    MSE Diff:    -0.0011\n",
      "Cluster:   7    MSE Diff:    -0.0130\n",
      "Cluster:   8    MSE Diff:        nan\n",
      "Cluster:   9    MSE Diff:    -0.0177\n",
      "Cluster:  10    MSE Diff:     0.0096\n",
      "Cluster:  11    MSE Diff:        nan\n",
      "Cluster:  12    MSE Diff:     0.0008\n",
      "Cluster:  13    MSE Diff:       -inf\n",
      "Cluster:  14    MSE Diff:     0.0013\n",
      "Cluster:  15    MSE Diff:     0.0040\n",
      "Cluster:  16    MSE Diff:     0.0165\n"
     ]
    }
   ],
   "source": [
    "# Break into wide/narrow\n",
    "wide_mse_diff = MSE_diffs_norm_mean[np.in1d(binned_clusters, wide)]\n",
    "narrow_mse_diff = MSE_diffs_norm_mean[np.in1d(binned_clusters, narrow)]\n",
    "\n",
    "#Print wide\n",
    "print('Wide Clusters')\n",
    "for ind, val in enumerate(wide_mse_diff):\n",
    "    print(\"Cluster: {:3.0f}    MSE Diff: {:10.4f}\".format(float(ind), val))\n",
    "    \n",
    "#Print Narrow\n",
    "print('Narrow Clusters')\n",
    "for ind, val in enumerate(narrow_mse_diff):\n",
    "    print(\"Cluster: {:3.0f}    MSE Diff: {:10.4f}\".format(float(ind), val))\n",
    "    \n",
    "# only attn modulate:\n",
    "\n",
    "attn_clus = binned_clusters[sig_cells]\n",
    "MSE_d_attn = MSE_diffs_norm_mean[sig_cells]\n",
    "wide_attn_mse_diff = MSE_d_attn[np.in1d(attn_clus, wide)]\n",
    "narrow_attn_mse_diff = MSE_d_attn[np.in1d(attn_clus, narrow)]\n",
    "\n",
    "#Print wide\n",
    "print('Wide Clusters')\n",
    "for ind, val in enumerate(wide_attn_mse_diff):\n",
    "    print(\"Cluster: {:3.0f}    MSE Diff: {:10.4f}\".format(float(ind), val))\n",
    "    \n",
    "#Print Narrow\n",
    "print('Narrow Clusters')\n",
    "for ind, val in enumerate(narrow_attn_mse_diff):\n",
    "    print(\"Cluster: {:3.0f}    MSE Diff: {:10.4f}\".format(float(ind), val))"
   ]
  },
  {
   "cell_type": "markdown",
   "metadata": {},
   "source": [
    "## Response Bias Histogram over All Cells"
   ]
  },
  {
   "cell_type": "code",
   "execution_count": 14,
   "metadata": {},
   "outputs": [
    {
     "name": "stdout",
     "output_type": "stream",
     "text": [
      "-0.00060639069242\n",
      "-3.18364356391e-05\n",
      "0.254397965865\n"
     ]
    },
    {
     "data": {
      "image/png": "[encoded data removed]",
      "text/plain": [
       "<matplotlib.figure.Figure at 0x7fbd1ca6d470>"
      ]
     },
     "metadata": {},
     "output_type": "display_data"
    }
   ],
   "source": [
    "nbins = 20\n",
    "wide_finite = wide_mse_diff[~np.logical_or(np.isnan(wide_mse_diff), np.isinf(wide_mse_diff))]\n",
    "narrow_finite = narrow_mse_diff[~np.logical_or(np.isnan(narrow_mse_diff), np.isinf(narrow_mse_diff))]\n",
    "(n1, bin1, p1) = plt.hist(wide_mse_diff[~np.logical_or(np.isnan(wide_mse_diff), np.isinf(wide_mse_diff))], nbins, facecolor='k', normed=False)\n",
    "(n2, bin2, p2) = plt.hist(narrow_mse_diff[~np.logical_or(np.isnan(narrow_mse_diff), np.isinf(narrow_mse_diff))], nbins, facecolor='b', normed=False)\n",
    "narrow_mean = np.mean(narrow_mse_diff[~np.logical_or(np.isnan(narrow_mse_diff), np.isinf(narrow_mse_diff))])\n",
    "wide_mean = np.mean(wide_mse_diff[~np.logical_or(np.isnan(wide_mse_diff), np.isinf(wide_mse_diff))])\n",
    "plt.plot([narrow_mean, narrow_mean], [0, 200], 'b--')\n",
    "plt.plot([wide_mean, wide_mean], [0, 200], 'k--')\n",
    "plt.ylim([0, np.amax(np.stack([n1, n2], axis=-1))+1])\n",
    "plt.title('Response Bias  WinSize={}'.format(winsize))\n",
    "plt.xlabel('Response Bias')\n",
    "plt.ylabel('Proportion')\n",
    "plt.legend(['Narrow', 'Wide'])\n",
    "plt.savefig(os.path.join(block_path, 'ResponseBiasHistogram_{}.png'.format(winsize)))\n",
    "\n",
    "print(narrow_mean)\n",
    "print(wide_mean)\n",
    "\n",
    "from scipy.stats import mannwhitneyu\n",
    "(U, p) = mannwhitneyu(wide_finite, narrow_finite, alternative='two-sided')\n",
    "print(p)"
   ]
  },
  {
   "cell_type": "markdown",
   "metadata": {},
   "source": [
    "## Response Bias Histogram over Significantly Attention-Modulated Cells"
   ]
  },
  {
   "cell_type": "code",
   "execution_count": 15,
   "metadata": {},
   "outputs": [
    {
     "name": "stdout",
     "output_type": "stream",
     "text": [
      "-0.000633325759923\n",
      "-0.00409813274108\n",
      "0.419375222696\n"
     ]
    },
    {
     "data": {
      "image/png": "[encoded data removed]",
      "text/plain": [
       "<matplotlib.figure.Figure at 0x7fbd1818eb00>"
      ]
     },
     "metadata": {},
     "output_type": "display_data"
    }
   ],
   "source": [
    "nbins = 20\n",
    "wide_attn_finite = wide_attn_mse_diff[~np.logical_or(np.isnan(wide_attn_mse_diff), np.isinf(wide_attn_mse_diff))]\n",
    "narrow_attn_finite = narrow_attn_mse_diff[~np.logical_or(np.isnan(narrow_attn_mse_diff), np.isinf(narrow_attn_mse_diff))]\n",
    "(n1, bin1, p1) = plt.hist(wide_attn_finite, nbins, facecolor='k', normed=False)\n",
    "(n2, bin2, p2) = plt.hist(narrow_attn_finite, nbins, facecolor='b', normed=False)\n",
    "narrow_mean = np.mean(narrow_attn_finite)\n",
    "wide_mean = np.mean(wide_attn_finite)\n",
    "plt.plot([narrow_mean, narrow_mean], [0, 200], 'b--')\n",
    "plt.plot([wide_mean, wide_mean], [0, 200], 'k--')\n",
    "plt.ylim([0, np.amax(np.stack([n1, n2], axis=-1))+1])\n",
    "plt.title('Response Bias  WinSize={}'.format(winsize))\n",
    "plt.xlabel('Response Bias')\n",
    "plt.ylabel('Proportion')\n",
    "plt.legend(['Narrow', 'Wide'])\n",
    "plt.savefig(os.path.join(block_path, 'ResponseBiasHistogram_AttnUnits_{}.png'.format(winsize)))\n",
    "\n",
    "print(narrow_mean)\n",
    "print(wide_mean)\n",
    "from scipy.stats import mannwhitneyu\n",
    "(U, p) = mannwhitneyu(wide_attn_finite, narrow_attn_finite, alternative='two-sided')\n",
    "print(p)"
   ]
  },
  {
   "cell_type": "code",
   "execution_count": null,
   "metadata": {
    "collapsed": true
   },
   "outputs": [],
   "source": [
    "# compute max firing rate from each cell\n",
    "\n",
    "psths = np.stack([avg_psths[x] for x in avg_psths.keys()], axis=-1)\n",
    "maxfr = np.amax(psths, axis=(1,2))"
   ]
  },
  {
   "cell_type": "code",
   "execution_count": null,
   "metadata": {
    "collapsed": true
   },
   "outputs": [],
   "source": [
    "# Stimulus Response Error\n",
    "\n",
    "SRE_C_hi = np.mean(np.square(avg_psths['AS_hi'] - avg_psths['A_hi']), axis=1)\n",
    "SRE_C_lo = np.mean(np.square(avg_psths['AS_lo'] - avg_psths['A_lo']), axis=1)\n",
    "SRE_X_hi = np.mean(np.square(avg_psths['ASX_hi'] - avg_psths['AX_hi']), axis=1)\n",
    "SRE_X_lo = np.mean(np.square(avg_psths['ASX_lo'] - avg_psths['AX_lo']), axis=1)\n",
    "SRE_C = np.mean(np.stack([SRE_C_hi, SRE_C_lo], axis=-1), axis=1)\n",
    "SRE_X = np.mean(np.stack([SRE_X_hi, SRE_X_lo], axis=-1), axis=1)\n",
    "\n",
    "SRE_C_norm = np.divide(SRE_C, maxfr)\n",
    "SRE_X_norm = np.divide(SRE_X, maxfr)\n",
    "plt.plot(SRE_C_norm, SRE_X_norm, 'k.')\n",
    "plt.plot(np.arange(np.amax(SRE_C_norm)), np.arange(np.amax(SRE_C_norm)), 'k--')\n",
    "plt.xlabel('Correct Trial SRE')\n",
    "plt.ylabel('Incorrect Trial SRE')\n",
    "plt.title('SRE   Winsize: {}'.format(winsize))\n",
    "plt.savefig(os.path.join(block_path, 'StimulusResponseErrorScatter_{}.png'.format(winsize)))\n"
   ]
  },
  {
   "cell_type": "code",
   "execution_count": null,
   "metadata": {
    "collapsed": true
   },
   "outputs": [],
   "source": [
    "mean_SRE_C = np.mean(SRE_C_norm)\n",
    "mean_SRE_X = np.mean(SRE_X_norm)\n",
    "index = np.arange(2)/2\n",
    "bar_width = 0.15\n",
    "std_C = np.std(SRE_C_norm) / np.sqrt(len(SRE_C_norm))\n",
    "std_X = np.std(SRE_X_norm) / np.sqrt(len(SRE_X_norm))\n",
    "\n",
    "plt.figure()\n",
    "plt.bar(index, [mean_SRE_C, mean_SRE_X], bar_width, yerr=(std_C, std_X))\n",
    "plt.xlabel('Trial')\n",
    "plt.ylabel('Stimulus Response Error')\n",
    "plt.title('Stimulus Response Error')\n",
    "plt.xticks(index, ('C', 'X'))\n",
    "plt.legend()\n",
    "\n",
    "plt.tight_layout()\n",
    "plt.show()\n",
    "plt.savefig(os.path.join(block_path, 'SREBar_{}.png'.format(winsize)))\n"
   ]
  },
  {
   "cell_type": "code",
   "execution_count": null,
   "metadata": {
    "collapsed": true
   },
   "outputs": [],
   "source": [
    "def subtract_mean(arr, axis):\n",
    "    \n",
    "    shp = arr.shape\n",
    "    means = np.mean(arr, axis=axis)\n",
    "    meanmat = np.tile(means[:, np.newaxis], (1, shp[1]))\n",
    "    return np.subtract(arr,meanmat)\n",
    "\n",
    "# PSTH Correlation\n",
    "\n",
    "P_hi = subtract_mean(avg_psths['P_hi'], 1)\n",
    "P_lo = subtract_mean(avg_psths['P_lo'], 1)\n",
    "A_hi = subtract_mean(avg_psths['A_hi'], 1)\n",
    "A_lo = subtract_mean(avg_psths['A_lo'], 1)\n",
    "\n",
    "P = np.diag(np.dot(P_hi, P_lo.T))\n",
    "P_norm = np.sqrt(np.multiply(np.diag(np.dot(P_hi, P_hi.T)), np.diag(np.dot(P_lo, P_lo.T))))\n",
    "P_corr = np.divide(P, P_norm)\n",
    "\n",
    "A = np.diag(np.dot(A_hi, A_lo.T))\n",
    "A_norm = np.sqrt(np.multiply(np.diag(np.dot(A_hi, A_hi.T)), np.diag(np.dot(A_lo, A_lo.T))))\n",
    "A_corr = np.divide(A, A_norm)\n",
    "\n",
    "plt.figure(figsize=(7,7))\n",
    "plt.plot(P_corr, A_corr, 'k.')\n",
    "plt.plot(np.arange(-0.1, 1), np.arange(-0.1, 1), 'k--')\n",
    "plt.xlim([-0.05, 0.5])\n",
    "plt.ylim([-0.05, 0.5])\n",
    "plt.xlabel('r passive')\n",
    "plt.ylabel('r correct attention')\n",
    "plt.title('Correlation   Winsize: {}'.format(winsize))\n",
    "plt.savefig(os.path.join(block_path, 'PSTHCorrelationScatter_{}.png'.format(winsize)))\n"
   ]
  },
  {
   "cell_type": "code",
   "execution_count": null,
   "metadata": {
    "collapsed": true
   },
   "outputs": [],
   "source": [
    "a_h = np.random.standard_normal((20, 100))\n",
    "as_h = np.random.standard_normal((20, 100))\n",
    "a_l = np.random.standard_normal((20, 100))\n",
    "as_l = np.random.standard_normal((20, 100))\n",
    "\n",
    "mse_t = mse(a_h, as_h, a_l, as_l)\n",
    "mse_d = mse(a_h, as_l, a_l, as_h)\n",
    "mse_diff = mse_d - mse_t"
   ]
  },
  {
   "cell_type": "code",
   "execution_count": null,
   "metadata": {
    "collapsed": true
   },
   "outputs": [],
   "source": [
    "# compute significantly modulated bins:\n",
    "\n",
    "filt_poptens = {}\n",
    "for context in contexts:\n",
    "    with h5.File(context_bdf[context], 'r') as binned_data:\n",
    "        stim = context_stimuli[context]\n",
    "        fulldata = np.array(binned_data[stim]['pop_tens'])\n",
    "        filt_data = np.zeros(np.shape(fulldata))\n",
    "        for cell in range(fulldata.shape[0]):\n",
    "            for trial in range(fulldata.shape[2]):\n",
    "                filt_data[cell, :, trial] = exp_filt(fulldata[cell, :, trial], 8.0)\n",
    "                \n",
    "        filt_poptens[str(context)] = filt_data\n",
    "        binned_clusters = np.array(binned_data[stim]['clusters'])\n",
    "        \n",
    "dprimes = (np.mean(filt_poptens['A_hi'], axis=2) - np.mean(filt_poptens['A_lo'], axis=2))\n",
    "dprimes = np.divide(dprimes, np.sqrt(np.var(filt_poptens['A_hi'], axis=2) + np.var(filt_poptens['A_lo'], axis=2) / 2 ))\n"
   ]
  }
 ],
 "metadata": {
  "kernelspec": {
   "display_name": "Python 3",
   "language": "python",
   "name": "python3"
  },
  "language_info": {
   "codemirror_mode": {
    "name": "ipython",
    "version": 3
   },
   "file_extension": ".py",
   "mimetype": "text/x-python",
   "name": "python",
   "nbconvert_exporter": "python",
   "pygments_lexer": "ipython3",
   "version": "3.6.2"
  }
 },
 "nbformat": 4,
 "nbformat_minor": 2
}
