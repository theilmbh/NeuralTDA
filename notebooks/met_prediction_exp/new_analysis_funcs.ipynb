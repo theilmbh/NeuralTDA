{
 "cells": [
  {
   "cell_type": "code",
   "execution_count": 36,
   "metadata": {},
   "outputs": [],
   "source": [
    "import numpy as np\n",
    "from collections import Counter\n",
    "from itertools import repeat\n",
    "import os\n",
    "import subprocess"
   ]
  },
  {
   "cell_type": "code",
   "execution_count": 42,
   "metadata": {},
   "outputs": [],
   "source": [
    "def get_windows(t_start, t_end, win_len, skip):\n",
    "    '''\n",
    "    Given a time interval [t_start, t_end], \n",
    "    compute lists of window start and end times.\n",
    "    Windows start every 'skip' samples and are 'win_len' samples long\n",
    "    -checked\n",
    "    '''\n",
    "    assert(skip > 0)\n",
    "    win_starts = np.arange(t_start, t_end, skip)\n",
    "    win_ends = win_starts + win_len -1\n",
    "    return (win_starts, win_ends)\n",
    "\n",
    "def spikes_in_interval(spikes, t_lo, t_hi, cell_group):\n",
    "    ''' \n",
    "    Given an array of spikes, find all the spikes whose time is between t_lo and t_hi inclusive\n",
    "    store them in the \n",
    "    '''\n",
    "    if len(spikes) == 0:\n",
    "        return\n",
    "    \n",
    "    m = int(np.floor((len(spikes)) / 2))\n",
    "    \n",
    "    if t_lo < spikes[m, 0]:\n",
    "        spikes_in_interval(spikes[0:m], t_lo, t_hi, cell_group)\n",
    "    if t_lo <= spikes[m, 0] and t_hi >= spikes[m,0]:\n",
    "        cell_group.append(spikes[m, 1])  \n",
    "    if t_hi > spikes[m, 0]:\n",
    "        spikes_in_interval(spikes[m+1:], t_lo, t_hi, cell_group)\n",
    "        \n",
    "def total_firing_rates(spikes, stim_start, stim_end):\n",
    "    \n",
    "    stim_spikes = []\n",
    "    spikes_in_interval(spikes, stim_start, stim_end, stim_spikes)\n",
    "    c = Counter(stim_spikes)\n",
    "    return c\n",
    "    \n",
    "def spike_list_to_cell_group(spike_list, clu_rates, thresh, dt, T):\n",
    "    ''' \n",
    "    Given a spike list, first counts number of each spikes from each cluster\n",
    "    then given a dictionary that maps clusters to total firing rates, computes whether the cluster's firing\n",
    "    rate in the spike list exceeded some threshold by dividing the cluster's number of in-window spikes by the \n",
    "    window length in seconds and then checking if that value is greater than the threshold times the cluster total firing rate givne in clu_rates\n",
    "    '''\n",
    "    \n",
    "    c = Counter(spike_list)\n",
    "    cg = set()\n",
    "    \n",
    "    for clu in clu_rates.keys():\n",
    "        if (c[clu] / dt) >= (thresh*clu_rates[clu] / T):\n",
    "            cg.add(clu)\n",
    "    return cg\n",
    "\n",
    "def spikes_to_cell_groups(spikes, stim_start, stim_end, win_len, fs):\n",
    "    \n",
    "    total_frs = total_firing_rates(spikes, stim_start, stim_end)\n",
    "    win_starts, win_ends = get_windows(stim_start, stim_end, win_len, win_len)\n",
    "    cell_groups = []\n",
    "    for ind, (ws, we) in enumerate(zip(win_starts, win_ends)):\n",
    "        spike_list = []\n",
    "        spikes_in_interval(spikes, ws, we, spike_list)\n",
    "        if spike_list:\n",
    "            window_time = (we + ws) / 2 - stim_start\n",
    "            cell_groups.append((ind, window_time, sorted(tuple(spike_list_to_cell_group(spike_list, total_frs, dt, 1, T)))))\n",
    "    return cell_groups\n",
    "\n",
    "def cell_groups_to_bin_mat(cell_groups, ncells, nwins):\n",
    "    \n",
    "    bin_mat = np.zeros((ncells, nwins))\n",
    "    for cg in cell_groups:\n",
    "        bin_mat[cg[2], cg[0]] = 1\n",
    "    return bin_mat\n",
    "\n",
    "def build_perseus_persistent_input(cell_groups, savefile):\n",
    "    \"\"\"\n",
    "    Formats cell group information as an input file\n",
    "    for the Perseus persistent homology software, but assigns filtration\n",
    "    levels for each cell group based on the time order of their appearance\n",
    "    in the signal.\n",
    "\n",
    "    Parameters\n",
    "    ----------\n",
    "    cell_groups : list\n",
    "        cell_group information returned by spikes_to_cell_groups\n",
    "    savefile : str\n",
    "        File in which to put the formatted cellgroup information\n",
    "\n",
    "    Yields\n",
    "    ------\n",
    "    savefile : text File\n",
    "        file suitable for running perseus on\n",
    "    \"\"\"\n",
    "    with open(savefile, \"w+\") as pfile:\n",
    "        pfile.write(\"1\\n\")\n",
    "        for cell_group in cell_groups:\n",
    "            grp = list(cell_group[2])\n",
    "            grp_dim = len(grp) - 1\n",
    "            if grp_dim < 0:\n",
    "                continue\n",
    "            vert_str = str(grp)\n",
    "            vert_str = vert_str.replace(\"[\", \"\")\n",
    "            vert_str = vert_str.replace(\"]\", \"\")\n",
    "            vert_str = vert_str.replace(\" \", \"\")\n",
    "            vert_str = vert_str.replace(\",\", \" \")\n",
    "            out_str = str(grp_dim) + \" \" + vert_str + \" {}\\n\".format(str(cell_group[0] + 1))\n",
    "            pfile.write(out_str)\n",
    "    return savefile\n",
    "\n",
    "def run_perseus(pfile):\n",
    "    \"\"\"\n",
    "    Runs Perseus persistent homology software on the data in pfile\n",
    "\n",
    "    Parameters\n",
    "    ------\n",
    "    pfile : str\n",
    "        File on which to compute homology\n",
    "\n",
    "    Returns\n",
    "    ------\n",
    "    betti_file : str\n",
    "        File containing resultant betti numbers\n",
    "\n",
    "    \"\"\"\n",
    "    pfile_split = os.path.splitext(pfile)\n",
    "    of_string = pfile_split[0]\n",
    "    perseus_command = \"perseus\"\n",
    "    perseus_return_code = subprocess.call(\n",
    "        [perseus_command, \"nmfsimtop\", pfile, of_string]\n",
    "    )\n",
    "\n",
    "    betti_file = of_string + \"_betti.txt\"\n",
    "    # betti_file = os.path.join(os.path.split(pfile)[0], betti_file)\n",
    "\n",
    "    return betti_file\n",
    "\n",
    "def read_perseus_result(betti_file):\n",
    "    bettis = []\n",
    "    f_time = []\n",
    "    try:\n",
    "        with open(betti_file, \"r\") as bf:\n",
    "            for bf_line in bf:\n",
    "                if len(bf_line) < 2:\n",
    "                    continue\n",
    "                betti_data = bf_line.split()\n",
    "                filtration_time = int(betti_data[0])\n",
    "                betti_numbers = list(map(int, betti_data[1:]))\n",
    "                bettis.append([filtration_time, betti_numbers])\n",
    "    except:\n",
    "        bettis.append([-1, [-1]])\n",
    "    return bettis\n",
    "\n",
    "def compute_bettis(spikes, stim_start, stim_end, win_len, fs):\n",
    "    \n",
    "    win_starts, win_ends = get_windows(stim_start, stim_end, win_len, win_len)\n",
    "    cell_groups = spikes_to_cell_groups(spikes, stim_start, stim_end, win_len, fs)\n",
    "    build_perseus_persistent_input(cell_groups, './test.betti')\n",
    "    betti_file = run_perseus('./test.betti')\n",
    "    betti_nums = read_perseus_result(betti_file)\n",
    "    \n",
    "    betti_nums = [[win_starts[x[0]] - stim_start, x[0], x[1]] for x in betti_nums]\n",
    "    return betti_nums\n",
    "    \n",
    "    \n",
    "    "
   ]
  },
  {
   "cell_type": "code",
   "execution_count": 31,
   "metadata": {},
   "outputs": [
    {
     "name": "stdout",
     "output_type": "stream",
     "text": [
      "99.9939917773181\n",
      "3495\n"
     ]
    }
   ],
   "source": [
    "n_t = 1048563\n",
    "fr = 100\n",
    "n_sp = int(fr * (n_t / 30000))\n",
    "ts = sorted(np.random.randint(n_t, size=n_sp))\n",
    "s = np.random.randint(10, size=n_sp)\n",
    "spikes = np.vstack((ts, s))\n",
    "spikes =spikes.T\n",
    "print(n_sp/n_t * 30000)\n",
    "print(n_sp)"
   ]
  },
  {
   "cell_type": "code",
   "execution_count": 51,
   "metadata": {},
   "outputs": [],
   "source": [
    "# get total firing rates:\n",
    "\n",
    "stim_start = 500\n",
    "stim_end = 123000\n",
    "fs = 30000\n",
    "T = (stim_end - stim_start) / fs\n",
    "win_len = 1239\n",
    "dt = win_len / fs"
   ]
  },
  {
   "cell_type": "code",
   "execution_count": 5,
   "metadata": {
    "scrolled": true
   },
   "outputs": [
    {
     "name": "stdout",
     "output_type": "stream",
     "text": [
      "CPU times: user 14 ms, sys: 0 ns, total: 14 ms\n",
      "Wall time: 13.9 ms\n"
     ]
    }
   ],
   "source": [
    "%%time\n",
    "\n",
    "total_frs = total_firing_rates(spikes, stim_start, stim_end)\n",
    "\n",
    "win_starts, win_ends = get_windows(stim_start, stim_end, win_len, win_len)\n",
    "\n",
    "cell_groups = []\n",
    "for ws, we in zip(win_starts, win_ends):\n",
    "    spike_list = []\n",
    "    spikes_in_interval(spikes, ws, we, spike_list)\n",
    "    if spike_list:\n",
    "        cell_groups.append(spike_list_to_cell_group(spike_list, total_frs, dt, 1, T))"
   ]
  },
  {
   "cell_type": "code",
   "execution_count": 33,
   "metadata": {
    "scrolled": false
   },
   "outputs": [
    {
     "name": "stdout",
     "output_type": "stream",
     "text": [
      "CPU times: user 11 ms, sys: 63 µs, total: 11 ms\n",
      "Wall time: 10.9 ms\n"
     ]
    }
   ],
   "source": [
    "%time cell_groups = spikes_to_cell_groups(spikes, stim_start, stim_end, win_len, fs)"
   ]
  },
  {
   "cell_type": "code",
   "execution_count": 34,
   "metadata": {},
   "outputs": [
    {
     "data": {
      "text/plain": [
       "array([[0., 1., 0., ..., 0., 0., 1.],\n",
       "       [1., 0., 0., ..., 0., 1., 0.],\n",
       "       [0., 0., 0., ..., 1., 0., 0.],\n",
       "       ...,\n",
       "       [0., 0., 0., ..., 1., 0., 0.],\n",
       "       [0., 0., 0., ..., 1., 0., 0.],\n",
       "       [0., 0., 0., ..., 1., 0., 0.]])"
      ]
     },
     "execution_count": 34,
     "metadata": {},
     "output_type": "execute_result"
    }
   ],
   "source": [
    "nwin = len(win_starts)\n",
    "ncells = 10\n",
    "cell_groups_to_bin_mat(cell_groups, ncells, nwin)"
   ]
  },
  {
   "cell_type": "code",
   "execution_count": 38,
   "metadata": {},
   "outputs": [
    {
     "data": {
      "text/plain": [
       "'./test.betti'"
      ]
     },
     "execution_count": 38,
     "metadata": {},
     "output_type": "execute_result"
    }
   ],
   "source": [
    "build_perseus_persistent_input(cell_groups, './test.betti')\n",
    "\n",
    "run_perseus('./test.betti')\n",
    "\n",
    "read_perseus_result('./test_betti.txt')\n",
    "\n"
   ]
  },
  {
   "cell_type": "code",
   "execution_count": 52,
   "metadata": {},
   "outputs": [
    {
     "name": "stdout",
     "output_type": "stream",
     "text": [
      "CPU times: user 7.6 ms, sys: 3.9 ms, total: 11.5 ms\n",
      "Wall time: 54.6 ms\n"
     ]
    },
    {
     "data": {
      "text/plain": [
       "[[1239, 1, [1, 0, 0, 0, 0]],\n",
       " [4956, 4, [1, 1, 0, 0, 0]],\n",
       " [7434, 6, [1, 0, 0, 0, 0]],\n",
       " [11151, 9, [1, 1, 0, 0, 0]],\n",
       " [14868, 12, [1, 1, 1, 0, 0]],\n",
       " [16107, 13, [1, 0, 1, 0, 0]],\n",
       " [18585, 15, [1, 0, 2, 0, 0]],\n",
       " [24780, 20, [1, 0, 3, 0, 0]],\n",
       " [30975, 25, [1, 0, 5, 0, 0]],\n",
       " [45843, 37, [1, 0, 6, 0, 0]],\n",
       " [63189, 51, [1, 0, 7, 0, 0]],\n",
       " [66906, 54, [1, 0, 6, 0, 0]],\n",
       " [73101, 59, [1, 1, 6, 0, 0]],\n",
       " [74340, 60, [1, 1, 5, 0, 0]],\n",
       " [75579, 61, [1, 0, 4, 0, 0]],\n",
       " [78057, 63, [1, 0, 5, 0, 0]],\n",
       " [83013, 67, [1, 0, 5, 2, 0]],\n",
       " [97881, 79, [1, 0, 2, 2, 0]],\n",
       " [106554, 86, [1, 0, 1, 4, 0]],\n",
       " [115227, 93, [1, 0, 1, 5, 0]],\n",
       " [121422, 98, [1, 0, 1, 3, 0]]]"
      ]
     },
     "execution_count": 52,
     "metadata": {},
     "output_type": "execute_result"
    }
   ],
   "source": [
    "%time compute_bettis(spikes, stim_start, stim_end, win_len, fs)"
   ]
  },
  {
   "cell_type": "code",
   "execution_count": 47,
   "metadata": {},
   "outputs": [],
   "source": [
    "\n",
    "    "
   ]
  },
  {
   "cell_type": "code",
   "execution_count": 59,
   "metadata": {},
   "outputs": [
    {
     "name": "stdout",
     "output_type": "stream",
     "text": [
      "[   500   1724   2948   4172   5396   6620   7844   9068  10292  11516\n",
      "  12740  13964  15188  16412  17636  18860  20084  21308  22532  23756\n",
      "  24980  26204  27428  28652  29876  31100  32324  33548  34772  35996\n",
      "  37220  38444  39668  40892  42116  43340  44564  45788  47012  48236\n",
      "  49460  50684  51908  53132  54356  55580  56804  58028  59252  60476\n",
      "  61700  62924  64148  65372  66596  67820  69044  70268  71492  72716\n",
      "  73940  75164  76388  77612  78836  80060  81284  82508  83732  84956\n",
      "  86180  87404  88628  89852  91076  92300  93524  94748  95972  97196\n",
      "  98420  99644 100868 102092 103316 104540 105764 106988 108212 109436\n",
      " 110660 111884 113108 114332 115556 116780 118004 119228 120452 121676\n",
      " 122900] [  1738   2962   4186   5410   6634   7858   9082  10306  11530  12754\n",
      "  13978  15202  16426  17650  18874  20098  21322  22546  23770  24994\n",
      "  26218  27442  28666  29890  31114  32338  33562  34786  36010  37234\n",
      "  38458  39682  40906  42130  43354  44578  45802  47026  48250  49474\n",
      "  50698  51922  53146  54370  55594  56818  58042  59266  60490  61714\n",
      "  62938  64162  65386  66610  67834  69058  70282  71506  72730  73954\n",
      "  75178  76402  77626  78850  80074  81298  82522  83746  84970  86194\n",
      "  87418  88642  89866  91090  92314  93538  94762  95986  97210  98434\n",
      "  99658 100882 102106 103330 104554 105778 107002 108226 109450 110674\n",
      " 111898 113122 114346 115570 116794 118018 119242 120466 121690 122914\n",
      " 124138]\n"
     ]
    }
   ],
   "source": [
    "a,b = get_windows(stim_start, stim_end, win_len, win_len-15)\n",
    "print(a, b)"
   ]
  },
  {
   "cell_type": "code",
   "execution_count": null,
   "metadata": {},
   "outputs": [],
   "source": []
  }
 ],
 "metadata": {
  "kernelspec": {
   "display_name": "Python 3",
   "language": "python",
   "name": "python3"
  },
  "language_info": {
   "codemirror_mode": {
    "name": "ipython",
    "version": 3
   },
   "file_extension": ".py",
   "mimetype": "text/x-python",
   "name": "python",
   "nbconvert_exporter": "python",
   "pygments_lexer": "ipython3",
   "version": "3.6.2"
  }
 },
 "nbformat": 4,
 "nbformat_minor": 2
}
