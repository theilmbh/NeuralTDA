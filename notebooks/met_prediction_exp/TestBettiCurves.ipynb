{
 "cells": [
  {
   "cell_type": "code",
   "execution_count": null,
   "metadata": {},
   "outputs": [],
   "source": [
    "from ephys import core, events\n",
    "import numpy as np\n",
    "import neuraltda.topology3 as tp3"
   ]
  },
  {
   "cell_type": "code",
   "execution_count": null,
   "metadata": {},
   "outputs": [],
   "source": [
    "def shuffle_trial_spikes(spikes, stim_start, stim_end):\n",
    "    # trial_spikes is a list of (sample, id) spikes\n",
    "    # for each spike, generate a new sample in range stim_start, stim_end\n",
    "    trial_spikes = []\n",
    "    tp3.spikes_in_interval(spikes, stim_start, stim_end, trial_spikes)\n",
    "    new_spikes_times = []\n",
    "    new_spikes_ids = []\n",
    "    for spike in trial_spikes:\n",
    "        new_sample = np.random.randint(stim_start, high=stim_end+1)\n",
    "        new_spikes_times.append(new_sample)\n",
    "        new_spikes_ids.append(spike[1])\n",
    "    out_spikes = np.vstack((new_spikes_times, new_spikes_ids)).T\n",
    "    out_spikes_ind = np.argsort(out_spikes[:, 0])\n",
    "    \n",
    "    return out_spikes[out_spikes_ind, :]\n",
    "\n",
    "def get_betti_curve(spikes, stim_name, stim_start, stim_end, win_len, fs, thresh, t, dim, betti_curve_dict, times):\n",
    "    betti_nums = tp3.compute_bettis(spikes, stim_start, stim_end, win_len, fs, thresh=4.0)\n",
    "\n",
    "    betti_func = tp3.betti_curve_func(betti_nums, dim, stim_start, stim_end, fs, t_in_seconds=True)\n",
    "    betti_curve = betti_func(t)\n",
    "  \n",
    "    if stim_name not in betti_curve_dict.keys():\n",
    "        betti_curve_dict[stim_name] = [] \n",
    "        times[stim_name] = []\n",
    "    betti_curve_dict[stim_name].append(betti_curve)\n",
    "    times[stim_name].append(t)"
   ]
  },
  {
   "cell_type": "code",
   "execution_count": null,
   "metadata": {},
   "outputs": [],
   "source": [
    "bp = '/home/brad/krista/B1083/P03S03/'\n",
    "kwikfile = '/home/brad/krista/B1083/P03S03/B1083_cat_P03_S03_1.kwik'\n",
    "trials = events.load_trials(bp)\n",
    "spikes = core.load_spikes(bp)\n",
    "clus = core.load_clusters(bp)\n",
    "fs = core.load_fs(bp)\n",
    "\n",
    "gc = list(clus[clus['quality']=='Good']['cluster'])\n",
    "spikes = spikes[spikes['cluster'].isin(gc)]\n",
    "spike_t = np.array(spikes['time_samples']).astype(int)\n",
    "spike_clu = np.array(spikes['cluster']).astype(int)\n",
    "spikes = np.vstack((spike_t, spike_clu)).T\n",
    "spikes.shape\n",
    "\n",
    "stim_name = list(trials['stimulus'])\n",
    "stim_start = list(trials['time_samples'])\n",
    "stim_end = list(trials['stimulus_end'])\n",
    "trials = list(zip(stim_name, stim_start, stim_end))"
   ]
  },
  {
   "cell_type": "code",
   "execution_count": null,
   "metadata": {},
   "outputs": [],
   "source": []
  },
  {
   "cell_type": "code",
   "execution_count": null,
   "metadata": {},
   "outputs": [],
   "source": [
    "import tqdm\n",
    "trial_subset = trials\n",
    "win_len = np.round(0.01 * fs)\n",
    "t = np.linspace(0, 6, 1000)\n",
    "dim = 2\n",
    "thresh = 4.0\n",
    "\n",
    "betti_curves = {}\n",
    "shuffled_betti_curves = {}\n",
    "times = {}\n",
    "shuffled_times = {}\n",
    "for tr in tqdm.tqdm(trial_subset):\n",
    "    \n",
    "    stim_start = tr[1]\n",
    "    stim_end = tr[2]\n",
    "    stim_name = tr[0]\n",
    "\n",
    "    t = np.linspace(0, stim_end-stim_start, 2000) / fs\n",
    "    get_betti_curve(spikes, stim_name, stim_start, stim_end, win_len, fs, thresh, t, dim, betti_curves, times)\n",
    "\n",
    "    shuffled_trial_spikes = shuffle_trial_spikes(spikes, stim_start, stim_end)\n",
    "    get_betti_curve(shuffled_trial_spikes, stim_name, stim_start, stim_end, win_len, fs, thresh, t, dim,shuffled_betti_curves, shuffled_times)\n"
   ]
  },
  {
   "cell_type": "code",
   "execution_count": null,
   "metadata": {
    "scrolled": false
   },
   "outputs": [],
   "source": [
    "import matplotlib.pyplot as plt\n",
    "%matplotlib inline\n",
    "\n",
    "for stim in shuffled_betti_curves.keys():\n",
    "    c = np.vstack(betti_curves[stim])\n",
    "    c = np.mean(c, axis=0)\n",
    "    cs = np.vstack(shuffled_betti_curves[stim])\n",
    "    cs = np.mean(cs, axis=0)\n",
    "    plt.figure()\n",
    "    plt.plot(times[stim][0], c, 'k')\n",
    "    plt.plot(times[stim][0], cs, 'k--')\n",
    "    plt.title(stim)"
   ]
  },
  {
   "cell_type": "code",
   "execution_count": null,
   "metadata": {},
   "outputs": [],
   "source": []
  }
 ],
 "metadata": {
  "kernelspec": {
   "display_name": "Python 3",
   "language": "python",
   "name": "python3"
  },
  "language_info": {
   "codemirror_mode": {
    "name": "ipython",
    "version": 3
   },
   "file_extension": ".py",
   "mimetype": "text/x-python",
   "name": "python",
   "nbconvert_exporter": "python",
   "pygments_lexer": "ipython3",
   "version": "3.6.2"
  }
 },
 "nbformat": 4,
 "nbformat_minor": 2
}
