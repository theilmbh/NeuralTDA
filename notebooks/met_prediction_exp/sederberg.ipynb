{
 "cells": [
  {
   "cell_type": "code",
   "execution_count": 5,
   "metadata": {},
   "outputs": [],
   "source": [
    "import numpy as np\n",
    "import scipy as sp\n",
    "from scipy.integrate import solve_ivp\n",
    "import matplotlib.pyplot as plt\n",
    "import tqdm\n",
    "%matplotlib inline"
   ]
  },
  {
   "cell_type": "code",
   "execution_count": 2,
   "metadata": {},
   "outputs": [],
   "source": [
    "def i_c(t, tk, alpha):\n",
    "    # convert t from units of tau to units of 0.01*tau = 0.01\n",
    "    t /= 0.01\n",
    "    usable_tk = tk[tk<t]\n",
    "    a = 0.5 / 0.01\n",
    "\n",
    "    if usable_tk.size == 0:\n",
    "        current = 0\n",
    "    else:\n",
    "        current = alpha*np.sum(((t-usable_tk)**2 / a**2) * np.exp(-(t-usable_tk) / a))\n",
    "    return current\n",
    "   \n",
    "def g(state):\n",
    "    return 0.5*(1+np.tanh(state-2))\n",
    "\n",
    "def network(t, state, J, c, tk, alpha):\n",
    "    r = 0.5*(1+np.tanh(state - 2))\n",
    "    dstate = np.dot(J, r) + c*i_c(t, tk, alpha) - state\n",
    "    return dstate\n",
    "\n",
    "def get_J(Ne, Ni, ge, gi, sd):\n",
    "    J_e = sd*np.random.randn((Ne+Ni), Ne) + ge\n",
    "    J_i = sd*np.random.randn((Ne+Ni), Ni) + gi\n",
    "    \n",
    "    J = np.hstack((J_e, J_i))\n",
    "    b = (Ne+Ni)**2\n",
    "    zero_entries = np.unravel_index(np.random.choice(b, size = int(0.8*b), replace=False), dims = J.shape)\n",
    "    J[zero_entries] = 0\n",
    "    return J\n",
    "\n",
    "def get_c(Ne, Ni, pct):\n",
    "    c = np.zeros(Ne+Ni)\n",
    "    c[np.random.choice(Ne, int(pct*Ne), replace=False)] = 1\n",
    "    return c.astype(int)\n",
    "\n",
    "def get_tk(freq):\n",
    "    # draw random numbers\n",
    "    tk = np.random.choice(range(1, 5000), size = freq, replace=False)\n",
    "    return tk\n",
    "\n",
    "def run_trial(stim_freq, J, c, alpha, t_eval=None):\n",
    "    tk = get_tk(stim_freq)\n",
    "    network_func = lambda t,state: network(t, state, J, c, tk, alpha)\n",
    "    out = solve_ivp(network_func, [0, 100], np.zeros(J.shape[0]), dense_output=True, rtol=1e-8, atol=1e-9, t_eval=t_eval)\n",
    "    return out, tk"
   ]
  },
  {
   "cell_type": "code",
   "execution_count": 3,
   "metadata": {},
   "outputs": [
    {
     "name": "stderr",
     "output_type": "stream",
     "text": [
      "/home/brad/.conda/envs/neuraltda-4/lib/python3.6/site-packages/ipykernel_launcher.py:27: DeprecationWarning: 'shape' argument should be used instead of 'dims'\n"
     ]
    }
   ],
   "source": [
    "# Network Parameters\n",
    "Ne = 400\n",
    "Ni = 100\n",
    "ge = 0.18\n",
    "gi = -0.72\n",
    "sd = 0.045\n",
    "pct = 0.2\n",
    "alpha = 4\n",
    "\n",
    "# Get connectivity\n",
    "J = get_J(Ne, Ni, ge, gi, sd)\n",
    "c = get_c(Ne, Ni, pct)\n",
    "\n",
    "# # Plot Connectivity\n",
    "# plt.imshow(J)\n",
    "# plt.colorbar()\n"
   ]
  },
  {
   "cell_type": "code",
   "execution_count": null,
   "metadata": {},
   "outputs": [],
   "source": [
    "import tqdm\n",
    "stim_freq = 8\n",
    "t = np.linspace(0, 50, 1000)\n",
    "t_eval = np.arange(0, 50.01, 0.01)\n",
    "\n",
    "\n",
    "n_trial = 800\n",
    "print(t_eval)"
   ]
  },
  {
   "cell_type": "code",
   "execution_count": null,
   "metadata": {},
   "outputs": [],
   "source": [
    "# fitting decoder\n",
    "trial_dat = []\n",
    "for trial in tqdm.tqdm(range(n_trial)):\n",
    "    if trial > n_trial / 2:\n",
    "        stim_freq = 16\n",
    "        alpha = 1\n",
    "    else:\n",
    "        stim_freq = 8\n",
    "        alpha = 2\n",
    "        \n",
    "    out, tk = run_trial(stim_freq, J, c, alpha, t_eval)\n",
    "    res = g(out.sol(t_eval))\n",
    "    \n",
    "    \n",
    "    mean_frs = np.mean(res, axis=1)\n",
    "    sd_frs = np.std(res, axis=1)\n",
    "\n",
    "    # get firing rates at end of trial\n",
    "    fit_point = res[:, -1]\n",
    "    fit_point_z_score = (fit_point - mean_frs) / sd_frs\n",
    "    # remove direct input cells\n",
    "    fit_vals = fit_point[np.abs(1-c)]\n",
    "    fit_vals_z_score = fit_point_z_score[np.abs(1-c)]\n",
    "    trial_dat.append((fit_vals_z_score, fit_vals, (stim_freq-8)/8.))\n",
    "    "
   ]
  },
  {
   "cell_type": "code",
   "execution_count": null,
   "metadata": {
    "scrolled": true
   },
   "outputs": [],
   "source": [
    "trial_dat = []\n",
    "for trial in tqdm.tqdm(range(n_trial)):\n",
    "    if trial > n_trial / 2:\n",
    "        stim_freq = 16\n",
    "        alpha = 1\n",
    "    else:\n",
    "        stim_freq = 8\n",
    "        alpha = 2\n",
    "        \n",
    "    out, tk = run_trial(stim_freq, J, c, alpha, t_eval)\n",
    "    res = g(out.sol(t_eval))"
   ]
  },
  {
   "cell_type": "code",
   "execution_count": null,
   "metadata": {},
   "outputs": [],
   "source": [
    "plt.figure()\n",
    "for s in tk:\n",
    "    plt.axvline(s*0.01)\n",
    "test = plt.plot(t_eval, res.T)"
   ]
  },
  {
   "cell_type": "code",
   "execution_count": null,
   "metadata": {
    "scrolled": false
   },
   "outputs": [],
   "source": [
    "train_trials = trial_dat[:350] + trial_dat[400:750]\n",
    "test_trials = trial_dat[350:400] + trial_dat[750:]"
   ]
  },
  {
   "cell_type": "code",
   "execution_count": null,
   "metadata": {},
   "outputs": [],
   "source": [
    "X = np.vstack([x[0] for x in train_trials])\n",
    "y = np.array([x[2] for x in train_trials])\n",
    "X_test = np.vstack([x[0] for x in test_trials])\n",
    "y_test = np.array([x[2] for x in test_trials])"
   ]
  },
  {
   "cell_type": "code",
   "execution_count": null,
   "metadata": {},
   "outputs": [],
   "source": [
    "from sklearn.svm import LinearSVC\n",
    "\n",
    "clf = LinearSVC()\n",
    "clf.fit(X, y)\n",
    "clf.score(X_test, y_test)"
   ]
  },
  {
   "cell_type": "code",
   "execution_count": null,
   "metadata": {},
   "outputs": [],
   "source": [
    "tk = get_tk(8)\n",
    "alpha = 2\n",
    "i_val = [i_c(t, tk, alpha) for t in t_eval]"
   ]
  },
  {
   "cell_type": "code",
   "execution_count": null,
   "metadata": {},
   "outputs": [],
   "source": [
    "plt.plot(t_eval, i_val)\n",
    "plt.grid()\n"
   ]
  },
  {
   "cell_type": "code",
   "execution_count": 19,
   "metadata": {},
   "outputs": [
    {
     "name": "stderr",
     "output_type": "stream",
     "text": [
      "100%|██████████| 1/1 [00:00<00:00,  1.43it/s]\n"
     ]
    }
   ],
   "source": [
    "#topology\n",
    "t_eval = np.arange(0, 100)\n",
    "trial_dat = []\n",
    "n_trial = 1\n",
    "for trial in tqdm.tqdm(range(n_trial)):\n",
    "    if trial > n_trial / 2:\n",
    "        stim_freq = 16\n",
    "        alpha = 1\n",
    "    else:\n",
    "        stim_freq = 8\n",
    "        alpha = 2\n",
    "        \n",
    "    out, tk = run_trial(stim_freq, J, c, alpha, t_eval)\n",
    "    res = g(out.sol(t_eval))\n",
    "    randmat = np.random.random(res.shape)\n",
    "    spikemat = (randmat <= res).astype(int)\n",
    "    spikemat_nondriven = spikemat[np.logical_not(c), :]"
   ]
  },
  {
   "cell_type": "code",
   "execution_count": 20,
   "metadata": {},
   "outputs": [
    {
     "data": {
      "text/plain": [
       "(0, 50)"
      ]
     },
     "execution_count": 20,
     "metadata": {},
     "output_type": "execute_result"
    },
    {
     "data": {
      "image/png": "[encoded data removed]",
      "text/plain": [
       "<matplotlib.figure.Figure at 0x7fd024297940>"
      ]
     },
     "metadata": {},
     "output_type": "display_data"
    }
   ],
   "source": [
    "plt.figure(figsize=(12, 12))\n",
    "plt.imshow(spikemat_nondriven)\n",
    "plt.xlim([0, 50])"
   ]
  },
  {
   "cell_type": "code",
   "execution_count": 18,
   "metadata": {},
   "outputs": [
    {
     "data": {
      "text/plain": [
       "array([0, 1, 0, 1, 0, 1, 0, 0, 0, 0, 0, 0, 0, 0, 1, 1, 0, 0, 0, 0, 0, 1,\n",
       "       0, 0, 0, 0, 1, 0, 1, 1, 0, 1, 0, 0, 0, 0, 0, 0, 0, 0, 0, 0, 0, 0,\n",
       "       0, 1, 0, 0, 0, 0, 0, 1, 0, 0, 0, 0, 0, 1, 0, 0, 0, 0, 0, 0, 0, 1,\n",
       "       0, 1, 1, 1, 1, 0, 0, 0, 0, 0, 1, 1, 0, 0, 0, 0, 1, 0, 0, 0, 0, 0,\n",
       "       0, 0, 0, 0, 0, 0, 0, 0, 0, 1, 0, 0, 0, 1, 0, 0, 1, 1, 1, 0, 0, 0,\n",
       "       0, 0, 0, 0, 0, 0, 0, 0, 1, 0, 0, 0, 0, 1, 0, 1, 0, 1, 0, 0, 0, 0,\n",
       "       1, 0, 0, 0, 0, 0, 1, 0, 0, 0, 0, 0, 0, 0, 0, 0, 0, 0, 0, 0, 0, 0,\n",
       "       0, 1, 0, 0, 0, 0, 0, 0, 0, 0, 0, 1, 0, 0, 0, 0, 1, 0, 0, 1, 0, 1,\n",
       "       1, 0, 0, 0, 1, 0, 0, 0, 0, 0, 0, 0, 0, 1, 0, 0, 0, 0, 0, 0, 0, 0,\n",
       "       0, 0, 1, 0, 1, 0, 1, 0, 0, 0, 0, 0, 0, 0, 0, 0, 0, 0, 0, 0, 0, 1,\n",
       "       0, 0, 0, 0, 0, 1, 1, 0, 0, 1, 0, 1, 0, 1, 0, 0, 0, 1, 0, 0, 0, 0,\n",
       "       0, 0, 0, 0, 0, 0, 0, 0, 0, 0, 1, 0, 0, 0, 0, 0, 0, 0, 0, 0, 0, 0,\n",
       "       0, 0, 1, 0, 1, 0, 1, 1, 0, 1, 0, 0, 1, 0, 0, 0, 0, 0, 1, 0, 1, 0,\n",
       "       0, 1, 0, 1, 0, 1, 0, 0, 0, 0, 0, 0, 1, 0, 1, 1, 0, 0, 0, 0, 0, 0,\n",
       "       1, 0, 0, 0, 0, 0, 0, 0, 0, 0, 0, 0, 0, 0, 0, 0, 0, 0, 0, 0, 0, 0,\n",
       "       0, 0, 0, 0, 0, 1, 0, 0, 1, 0, 0, 1, 1, 0, 0, 0, 0, 0, 0, 0, 0, 0,\n",
       "       0, 0, 0, 0, 1, 0, 1, 0, 0, 0, 0, 0, 0, 0, 1, 1, 0, 0, 0, 0, 0, 0,\n",
       "       1, 1, 0, 0, 0, 1, 0, 0, 0, 1, 0, 0, 0, 0, 0, 0, 0, 1, 0, 0, 0, 1,\n",
       "       0, 0, 0, 0, 0, 0, 0, 0, 0, 0, 0, 0, 0, 0, 0, 0, 0, 0, 0, 0, 0, 0,\n",
       "       0, 0, 0, 0, 0, 0, 0, 0, 0, 0, 0, 0, 0, 0, 0, 0, 0, 0, 0, 0, 0, 0,\n",
       "       0, 0, 0, 0, 0, 0, 0, 0, 0, 0, 0, 0, 0, 0, 0, 0, 0, 0, 0, 0, 0, 0,\n",
       "       0, 0, 0, 0, 0, 0, 0, 0, 0, 0, 0, 0, 0, 0, 0, 0, 0, 0, 0, 0, 0, 0,\n",
       "       0, 0, 0, 0, 0, 0, 0, 0, 0, 0, 0, 0, 0, 0, 0, 0])"
      ]
     },
     "execution_count": 18,
     "metadata": {},
     "output_type": "execute_result"
    }
   ],
   "source": [
    "c"
   ]
  },
  {
   "cell_type": "code",
   "execution_count": null,
   "metadata": {},
   "outputs": [],
   "source": []
  }
 ],
 "metadata": {
  "kernelspec": {
   "display_name": "Python 3",
   "language": "python",
   "name": "python3"
  },
  "language_info": {
   "codemirror_mode": {
    "name": "ipython",
    "version": 3
   },
   "file_extension": ".py",
   "mimetype": "text/x-python",
   "name": "python",
   "nbconvert_exporter": "python",
   "pygments_lexer": "ipython3",
   "version": "3.6.2"
  }
 },
 "nbformat": 4,
 "nbformat_minor": 2
}
