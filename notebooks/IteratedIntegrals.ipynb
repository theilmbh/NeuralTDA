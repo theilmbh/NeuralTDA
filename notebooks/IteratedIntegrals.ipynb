{
 "cells": [
  {
   "cell_type": "code",
   "execution_count": 4,
   "metadata": {},
   "outputs": [],
   "source": [
    "import numpy as np\n",
    "import matplotlib.pyplot as plt\n",
    "%matplotlib inline"
   ]
  },
  {
   "cell_type": "code",
   "execution_count": 37,
   "metadata": {},
   "outputs": [],
   "source": [
    "# X: time series, Nchan x  NSamp\n",
    "\n",
    "def S(I, X, N):\n",
    "    dt = float(1./N)\n",
    "    if len(I) == 1:\n",
    "        return X[I[0], :] - X[I[0], 0]\n",
    "    else:\n",
    "        prev = S(I[0:-1], X, N)\n",
    "        dgamma = np.gradient(X[I[-1], :])\n",
    "        return np.cumsum(np.multiply(prev, dgamma)*1)\n",
    "    "
   ]
  },
  {
   "cell_type": "code",
   "execution_count": 38,
   "metadata": {},
   "outputs": [
    {
     "name": "stdout",
     "output_type": "stream",
     "text": [
      "(5, 1000)\n"
     ]
    }
   ],
   "source": [
    "t = np.linspace(0, 1, 1000)\n",
    "X = []\n",
    "lags = np.pi*np.array([0, 1./8, 1./4, 3./8, 1./2])\n",
    "for lag in lags:\n",
    "    X.append(np.sin(-2*np.pi*t + lag))\n",
    "X = np.vstack(X)\n",
    "print(X.shape)\n"
   ]
  },
  {
   "cell_type": "code",
   "execution_count": 39,
   "metadata": {},
   "outputs": [
    {
     "data": {
      "text/plain": [
       "<matplotlib.colorbar.Colorbar at 0x7f0022580390>"
      ]
     },
     "execution_count": 39,
     "metadata": {},
     "output_type": "execute_result"
    },
    {
     "data": {
      "image/png": "[encoded data removed]",
      "text/plain": [
       "<matplotlib.figure.Figure at 0x7f002258dac8>"
      ]
     },
     "metadata": {},
     "output_type": "display_data"
    }
   ],
   "source": [
    "Amat = np.zeros((len(lags), len(lags)))\n",
    "for ind1, lag1 in enumerate(lags):\n",
    "    for ind2, lag2 in enumerate(lags):\n",
    "        Sij = S([ind1, ind2], X, 1000)\n",
    "        Sji = S([ind2, ind1], X, 1000)\n",
    "        Aij = (1./2)*(Sij - Sji)[-1]\n",
    "        Amat[ind1, ind2] = Aij\n",
    "plt.imshow(Amat)\n",
    "plt.colorbar()"
   ]
  },
  {
   "cell_type": "code",
   "execution_count": 23,
   "metadata": {},
   "outputs": [
    {
     "data": {
      "text/plain": [
       "-0.0027206811090478757"
      ]
     },
     "execution_count": 23,
     "metadata": {},
     "output_type": "execute_result"
    }
   ],
   "source": [
    "S12 = S([0, 1], X, 1000)\n",
    "S21 = S([1, 0], X, 1000)\n",
    "A12 = (1/2.)*(S12 - S21)\n",
    "A12[-1]"
   ]
  },
  {
   "cell_type": "code",
   "execution_count": 26,
   "metadata": {},
   "outputs": [
    {
     "data": {
      "text/plain": [
       "[<matplotlib.lines.Line2D at 0x7f0022784c88>]"
      ]
     },
     "execution_count": 26,
     "metadata": {},
     "output_type": "execute_result"
    },
    {
     "data": {
      "image/png": "[encoded data removed]",
      "text/plain": [
       "<matplotlib.figure.Figure at 0x7f00227c3400>"
      ]
     },
     "metadata": {},
     "output_type": "display_data"
    }
   ],
   "source": [
    "plt.plot(t, S([0, 1], X, 1000))"
   ]
  },
  {
   "cell_type": "code",
   "execution_count": null,
   "metadata": {},
   "outputs": [],
   "source": []
  }
 ],
 "metadata": {
  "kernelspec": {
   "display_name": "Python 3",
   "language": "python",
   "name": "python3"
  },
  "language_info": {
   "codemirror_mode": {
    "name": "ipython",
    "version": 3
   },
   "file_extension": ".py",
   "mimetype": "text/x-python",
   "name": "python",
   "nbconvert_exporter": "python",
   "pygments_lexer": "ipython3",
   "version": "3.6.2"
  }
 },
 "nbformat": 4,
 "nbformat_minor": 2
}
