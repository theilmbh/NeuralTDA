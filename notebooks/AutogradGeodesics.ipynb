{
 "cells": [
  {
   "cell_type": "code",
   "execution_count": 1,
   "metadata": {},
   "outputs": [],
   "source": [
    "import autograd.numpy as np\n",
    "from autograd import grad, jacobian"
   ]
  },
  {
   "cell_type": "code",
   "execution_count": 11,
   "metadata": {},
   "outputs": [],
   "source": [
    "def surf(pos):\n",
    "    z = np.exp(-pos[0]**2. - pos[1]**2.)\n",
    "    return np.array([pos[0], pos[1], z])"
   ]
  },
  {
   "cell_type": "code",
   "execution_count": 12,
   "metadata": {},
   "outputs": [],
   "source": [
    "jac = jacobian(surf)"
   ]
  },
  {
   "cell_type": "code",
   "execution_count": 14,
   "metadata": {},
   "outputs": [
    {
     "data": {
      "text/plain": [
       "(3, 2)"
      ]
     },
     "execution_count": 14,
     "metadata": {},
     "output_type": "execute_result"
    }
   ],
   "source": [
    "jac(np.array([2.,2.])).shape"
   ]
  },
  {
   "cell_type": "code",
   "execution_count": 44,
   "metadata": {},
   "outputs": [],
   "source": [
    "def volume_form(weights, pos):\n",
    "    f = lambda x: surf(weights, x)\n",
    "    jac = jacobian(f)(pos)\n",
    "    g = np.dot(jac.T, jac)\n",
    "    print(g)\n",
    "    return np.sqrt(np.linalg.det(g))\n",
    "    "
   ]
  },
  {
   "cell_type": "code",
   "execution_count": 46,
   "metadata": {},
   "outputs": [
    {
     "name": "stdout",
     "output_type": "stream",
     "text": [
      "[[1.0548566  0.04571384]\n",
      " [0.04571384 1.03809486]]\n"
     ]
    },
    {
     "data": {
      "text/plain": [
       "1.0454431915187965"
      ]
     },
     "execution_count": 46,
     "metadata": {},
     "output_type": "execute_result"
    }
   ],
   "source": [
    "volume_form(weights, np.array([0.12, 0.1]))"
   ]
  },
  {
   "cell_type": "code",
   "execution_count": 26,
   "metadata": {},
   "outputs": [],
   "source": [
    "def path(coeffs, t, endpoints):\n",
    "    '''OpenString!\n",
    "    '''\n",
    "    order, sz = coeffs.shape\n",
    "    x = endpoints[:, 0] + t*(endpoints[:, 1] - endpoints[:, 0])\n",
    "    for k in range(order):\n",
    "        x = x + coeffs[:, k]*np.sin(2*np.pi*k*t)\n",
    "    return x\n",
    "\n",
    "def embed_path(coeffs, endpoints, tvec):\n",
    "    pt = lambda t: surf(path(coeffs, t, endpoints))\n",
    "    jac = jacobian(pt)\n",
    "    ds = 0.\n",
    "    for t in tvec:\n",
    "        ds = ds + np.sqrt(np.dot(jac(t).T, jac(t)))\n",
    "    return ds"
   ]
  },
  {
   "cell_type": "code",
   "execution_count": 45,
   "metadata": {},
   "outputs": [
    {
     "data": {
      "text/plain": [
       "array([ 2.  , -1.25])"
      ]
     },
     "execution_count": 45,
     "metadata": {},
     "output_type": "execute_result"
    }
   ],
   "source": [
    "coeffs = np.random.randn(2, 10)\n",
    "endpoints = np.array([[3, 1], [-0.5, -2]])\n",
    "path(coeffs, 0.5, endpoints)"
   ]
  },
  {
   "cell_type": "code",
   "execution_count": 46,
   "metadata": {},
   "outputs": [],
   "source": [
    "loss = lambda coeffs: embed_path(coeffs, endpoints, np.linspace(0, 1, 50))\n"
   ]
  },
  {
   "cell_type": "code",
   "execution_count": 47,
   "metadata": {},
   "outputs": [],
   "source": [
    "loss_grad = grad(loss)"
   ]
  },
  {
   "cell_type": "code",
   "execution_count": 48,
   "metadata": {},
   "outputs": [
    {
     "name": "stdout",
     "output_type": "stream",
     "text": [
      "Loss: 168.92421182039993\n",
      "Loss: 126.97015878025019\n",
      "Loss: 126.57536816604025\n",
      "Loss: 126.18057761401838\n",
      "Loss: 125.78578712637477\n",
      "Loss: 125.39099670758318\n",
      "Loss: 124.99620636308111\n",
      "Loss: 124.6014160985616\n",
      "Loss: 124.20662591942623\n",
      "Loss: 123.8118358304598\n"
     ]
    }
   ],
   "source": [
    "for epoch in range(100):\n",
    "    coeffs -= 0.001*loss_grad(coeffs)\n",
    "    if epoch % 10 == 0:\n",
    "        print('Loss: {}'.format(loss(coeffs)))"
   ]
  },
  {
   "cell_type": "code",
   "execution_count": 49,
   "metadata": {},
   "outputs": [],
   "source": [
    "pts = np.zeros((2, 50))\n",
    "for ind, t in enumerate(np.linspace(0, 1, 50)):\n",
    "    pts[:, ind] = path(coeffs, t, endpoints)\n",
    "    "
   ]
  },
  {
   "cell_type": "code",
   "execution_count": 50,
   "metadata": {},
   "outputs": [
    {
     "data": {
      "text/plain": [
       "[<matplotlib.lines.Line2D at 0x7fc39fc8d668>]"
      ]
     },
     "execution_count": 50,
     "metadata": {},
     "output_type": "execute_result"
    },
    {
     "data": {
      "image/png": "[encoded data removed]",
      "text/plain": [
       "<matplotlib.figure.Figure at 0x7fc3a027f6d8>"
      ]
     },
     "metadata": {},
     "output_type": "display_data"
    }
   ],
   "source": [
    "import matplotlib.pyplot as plt\n",
    "%matplotlib inline\n",
    "\n",
    "plt.plot(pts[0, :], pts[1, :])"
   ]
  },
  {
   "cell_type": "code",
   "execution_count": null,
   "metadata": {},
   "outputs": [],
   "source": []
  }
 ],
 "metadata": {
  "kernelspec": {
   "display_name": "Python 3",
   "language": "python",
   "name": "python3"
  },
  "language_info": {
   "codemirror_mode": {
    "name": "ipython",
    "version": 3
   },
   "file_extension": ".py",
   "mimetype": "text/x-python",
   "name": "python",
   "nbconvert_exporter": "python",
   "pygments_lexer": "ipython3",
   "version": "3.6.2"
  }
 },
 "nbformat": 4,
 "nbformat_minor": 2
}
